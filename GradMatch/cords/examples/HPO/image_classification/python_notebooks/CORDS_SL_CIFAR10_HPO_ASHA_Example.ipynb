{
  "cells": [
    {
      "cell_type": "markdown",
      "id": "78600da3",
      "metadata": {
        "id": "78600da3",
        "papermill": {
          "duration": 0.053594,
          "end_time": "2022-02-23T17:02:42.849175",
          "exception": false,
          "start_time": "2022-02-23T17:02:42.795581",
          "status": "completed"
        },
        "tags": []
      },
      "source": [
        "# Subset selection for Hyperparameter tuning\n",
        "\n",
        "In this tutorial, we will look at an example showing how to integrate GradMatchPB-Warm subset selection strategy in typical hyperparameter tuning loop\n",
        "for configuration model training on CIFAR100 dataset with TPE as hyper-parameter search algorithm and ASHA as hyper-parameter scheduler."
      ]
    },
    {
      "cell_type": "markdown",
      "id": "d6d772d5",
      "metadata": {
        "id": "d6d772d5",
        "papermill": {
          "duration": 0.032904,
          "end_time": "2022-02-23T17:02:42.915566",
          "exception": false,
          "start_time": "2022-02-23T17:02:42.882662",
          "status": "completed"
        },
        "tags": []
      },
      "source": [
        "### Cloning CORDS repository"
      ]
    },
    {
      "cell_type": "code",
      "execution_count": null,
      "id": "efe30354",
      "metadata": {
        "colab": {
          "base_uri": "https://localhost:8080/"
        },
        "execution": {
          "iopub.execute_input": "2022-02-23T17:02:42.984445Z",
          "iopub.status.busy": "2022-02-23T17:02:42.983591Z",
          "iopub.status.idle": "2022-02-23T17:02:42.990038Z",
          "shell.execute_reply": "2022-02-23T17:02:42.989064Z"
        },
        "id": "efe30354",
        "outputId": "bb9f8009-1f13-4ce8-cfb3-facafa738a40",
        "papermill": {
          "duration": 0.042793,
          "end_time": "2022-02-23T17:02:42.991746",
          "exception": false,
          "start_time": "2022-02-23T17:02:42.948953",
          "status": "completed"
        },
        "tags": []
      },
      "outputs": [
        {
          "output_type": "stream",
          "name": "stdout",
          "text": [
            "Cloning into 'cords'...\n",
            "remote: Enumerating objects: 4542, done.\u001b[K\n",
            "remote: Counting objects: 100% (3164/3164), done.\u001b[K\n",
            "remote: Compressing objects: 100% (1492/1492), done.\u001b[K\n",
            "remote: Total 4542 (delta 2055), reused 2633 (delta 1631), pack-reused 1378\u001b[K\n",
            "Receiving objects: 100% (4542/4542), 56.03 MiB | 13.94 MiB/s, done.\n",
            "Resolving deltas: 100% (2792/2792), done.\n",
            "/content/cords\n",
            "\u001b[0m\u001b[01;34mbenchmarks\u001b[0m/   \u001b[01;34mdocs\u001b[0m/           README.md      \u001b[01;34mtests\u001b[0m/\n",
            "CITATION.CFF  \u001b[01;34mexamples\u001b[0m/       \u001b[01;34mrequirements\u001b[0m/  train_hpo.py\n",
            "\u001b[01;34mconfigs\u001b[0m/      gen_results.py  run_sl.py      train_sl.py\n",
            "\u001b[01;34mcords\u001b[0m/        LICENSE.txt     setup.py       train_ssl.py\n"
          ]
        }
      ],
      "source": [
        "!git clone https://github.com/decile-team/cords.git\n",
        "%cd cords/\n",
        "%ls"
      ]
    },
    {
      "cell_type": "markdown",
      "id": "3fd30015",
      "metadata": {
        "id": "3fd30015",
        "papermill": {
          "duration": 0.033079,
          "end_time": "2022-02-23T17:02:43.059624",
          "exception": false,
          "start_time": "2022-02-23T17:02:43.026545",
          "status": "completed"
        },
        "tags": []
      },
      "source": [
        "### Install prerequisite libraries of CORDS"
      ]
    },
    {
      "cell_type": "code",
      "execution_count": null,
      "id": "980c5344",
      "metadata": {
        "colab": {
          "base_uri": "https://localhost:8080/"
        },
        "execution": {
          "iopub.execute_input": "2022-02-23T17:02:43.128736Z",
          "iopub.status.busy": "2022-02-23T17:02:43.128218Z",
          "iopub.status.idle": "2022-02-23T17:02:43.133102Z",
          "shell.execute_reply": "2022-02-23T17:02:43.132098Z"
        },
        "id": "980c5344",
        "outputId": "68db5e66-ef8e-414f-f547-0c146d321488",
        "papermill": {
          "duration": 0.041121,
          "end_time": "2022-02-23T17:02:43.134694",
          "exception": false,
          "start_time": "2022-02-23T17:02:43.093573",
          "status": "completed"
        },
        "tags": []
      },
      "outputs": [
        {
          "output_type": "stream",
          "name": "stdout",
          "text": [
            "Collecting dotmap\n",
            "  Downloading dotmap-1.3.26-py3-none-any.whl (11 kB)\n",
            "Installing collected packages: dotmap\n",
            "Successfully installed dotmap-1.3.26\n",
            "Collecting apricot-select\n",
            "  Downloading apricot-select-0.6.1.tar.gz (28 kB)\n",
            "Requirement already satisfied: numpy>=1.14.2 in /usr/local/lib/python3.7/dist-packages (from apricot-select) (1.21.5)\n",
            "Requirement already satisfied: scipy>=1.0.0 in /usr/local/lib/python3.7/dist-packages (from apricot-select) (1.4.1)\n",
            "Requirement already satisfied: numba>=0.43.0 in /usr/local/lib/python3.7/dist-packages (from apricot-select) (0.51.2)\n",
            "Requirement already satisfied: tqdm>=4.24.0 in /usr/local/lib/python3.7/dist-packages (from apricot-select) (4.63.0)\n",
            "Collecting nose\n",
            "  Downloading nose-1.3.7-py3-none-any.whl (154 kB)\n",
            "\u001b[K     |████████████████████████████████| 154 kB 6.4 MB/s \n",
            "\u001b[?25hRequirement already satisfied: llvmlite<0.35,>=0.34.0.dev0 in /usr/local/lib/python3.7/dist-packages (from numba>=0.43.0->apricot-select) (0.34.0)\n",
            "Requirement already satisfied: setuptools in /usr/local/lib/python3.7/dist-packages (from numba>=0.43.0->apricot-select) (57.4.0)\n",
            "Building wheels for collected packages: apricot-select\n",
            "  Building wheel for apricot-select (setup.py) ... \u001b[?25l\u001b[?25hdone\n",
            "  Created wheel for apricot-select: filename=apricot_select-0.6.1-py3-none-any.whl size=48786 sha256=a10e8a6b6b23ce50bbac76da174b437f61a91abb868d8b8d4fe6d0a281701be6\n",
            "  Stored in directory: /root/.cache/pip/wheels/1d/b0/5d/41bab30f23d17864700963dad70bbeda159a409e94f0778f2f\n",
            "Successfully built apricot-select\n",
            "Installing collected packages: nose, apricot-select\n",
            "Successfully installed apricot-select-0.6.1 nose-1.3.7\n",
            "Collecting ray[default]\n",
            "  Downloading ray-1.11.0-cp37-cp37m-manylinux2014_x86_64.whl (52.7 MB)\n",
            "\u001b[K     |████████████████████████████████| 52.7 MB 135 kB/s \n",
            "\u001b[?25hCollecting redis>=3.5.0\n",
            "  Downloading redis-4.2.0-py3-none-any.whl (225 kB)\n",
            "\u001b[K     |████████████████████████████████| 225 kB 79.7 MB/s \n",
            "\u001b[?25hRequirement already satisfied: filelock in /usr/local/lib/python3.7/dist-packages (from ray[default]) (3.6.0)\n",
            "Requirement already satisfied: attrs in /usr/local/lib/python3.7/dist-packages (from ray[default]) (21.4.0)\n",
            "Requirement already satisfied: click>=7.0 in /usr/local/lib/python3.7/dist-packages (from ray[default]) (7.1.2)\n",
            "Requirement already satisfied: msgpack<2.0.0,>=1.0.0 in /usr/local/lib/python3.7/dist-packages (from ray[default]) (1.0.3)\n",
            "Requirement already satisfied: jsonschema in /usr/local/lib/python3.7/dist-packages (from ray[default]) (4.3.3)\n",
            "Requirement already satisfied: numpy>=1.16 in /usr/local/lib/python3.7/dist-packages (from ray[default]) (1.21.5)\n",
            "Collecting grpcio<=1.43.0,>=1.28.1\n",
            "  Downloading grpcio-1.43.0-cp37-cp37m-manylinux_2_17_x86_64.manylinux2014_x86_64.whl (4.1 MB)\n",
            "\u001b[K     |████████████████████████████████| 4.1 MB 29.7 MB/s \n",
            "\u001b[?25hRequirement already satisfied: pyyaml in /usr/local/lib/python3.7/dist-packages (from ray[default]) (3.13)\n",
            "Requirement already satisfied: protobuf>=3.15.3 in /usr/local/lib/python3.7/dist-packages (from ray[default]) (3.17.3)\n",
            "Collecting aiohttp-cors\n",
            "  Downloading aiohttp_cors-0.7.0-py3-none-any.whl (27 kB)\n",
            "Requirement already satisfied: prometheus-client>=0.7.1 in /usr/local/lib/python3.7/dist-packages (from ray[default]) (0.13.1)\n",
            "Requirement already satisfied: smart-open in /usr/local/lib/python3.7/dist-packages (from ray[default]) (5.2.1)\n",
            "Collecting opencensus\n",
            "  Downloading opencensus-0.8.0-py2.py3-none-any.whl (128 kB)\n",
            "\u001b[K     |████████████████████████████████| 128 kB 84.5 MB/s \n",
            "\u001b[?25hCollecting aioredis<2\n",
            "  Downloading aioredis-1.3.1-py3-none-any.whl (65 kB)\n",
            "\u001b[K     |████████████████████████████████| 65 kB 5.2 MB/s \n",
            "\u001b[?25hCollecting aiohttp>=3.7\n",
            "  Downloading aiohttp-3.8.1-cp37-cp37m-manylinux_2_5_x86_64.manylinux1_x86_64.manylinux_2_12_x86_64.manylinux2010_x86_64.whl (1.1 MB)\n",
            "\u001b[K     |████████████████████████████████| 1.1 MB 60.4 MB/s \n",
            "\u001b[?25hRequirement already satisfied: requests in /usr/local/lib/python3.7/dist-packages (from ray[default]) (2.23.0)\n",
            "Collecting py-spy>=0.2.0\n",
            "  Downloading py_spy-0.3.11-py2.py3-none-manylinux_2_5_x86_64.manylinux1_x86_64.whl (3.0 MB)\n",
            "\u001b[K     |████████████████████████████████| 3.0 MB 62.8 MB/s \n",
            "\u001b[?25hCollecting aiosignal\n",
            "  Downloading aiosignal-1.2.0-py3-none-any.whl (8.2 kB)\n",
            "Collecting gpustat>=1.0.0b1\n",
            "  Downloading gpustat-1.0.0b1.tar.gz (82 kB)\n",
            "\u001b[K     |████████████████████████████████| 82 kB 332 kB/s \n",
            "\u001b[?25hCollecting colorful\n",
            "  Downloading colorful-0.5.4-py2.py3-none-any.whl (201 kB)\n",
            "\u001b[K     |████████████████████████████████| 201 kB 84.7 MB/s \n",
            "\u001b[?25hCollecting frozenlist\n",
            "  Downloading frozenlist-1.3.0-cp37-cp37m-manylinux_2_5_x86_64.manylinux1_x86_64.manylinux_2_17_x86_64.manylinux2014_x86_64.whl (144 kB)\n",
            "\u001b[K     |████████████████████████████████| 144 kB 60.6 MB/s \n",
            "\u001b[?25hCollecting async-timeout<5.0,>=4.0.0a3\n",
            "  Downloading async_timeout-4.0.2-py3-none-any.whl (5.8 kB)\n",
            "Collecting yarl<2.0,>=1.0\n",
            "  Downloading yarl-1.7.2-cp37-cp37m-manylinux_2_5_x86_64.manylinux1_x86_64.manylinux_2_12_x86_64.manylinux2010_x86_64.whl (271 kB)\n",
            "\u001b[K     |████████████████████████████████| 271 kB 78.5 MB/s \n",
            "\u001b[?25hRequirement already satisfied: charset-normalizer<3.0,>=2.0 in /usr/local/lib/python3.7/dist-packages (from aiohttp>=3.7->ray[default]) (2.0.12)\n",
            "Collecting multidict<7.0,>=4.5\n",
            "  Downloading multidict-6.0.2-cp37-cp37m-manylinux_2_17_x86_64.manylinux2014_x86_64.whl (94 kB)\n",
            "\u001b[K     |████████████████████████████████| 94 kB 4.8 MB/s \n",
            "\u001b[?25hRequirement already satisfied: typing-extensions>=3.7.4 in /usr/local/lib/python3.7/dist-packages (from aiohttp>=3.7->ray[default]) (3.10.0.2)\n",
            "Collecting asynctest==0.13.0\n",
            "  Downloading asynctest-0.13.0-py3-none-any.whl (26 kB)\n",
            "Collecting hiredis\n",
            "  Downloading hiredis-2.0.0-cp37-cp37m-manylinux2010_x86_64.whl (85 kB)\n",
            "\u001b[K     |████████████████████████████████| 85 kB 5.5 MB/s \n",
            "\u001b[?25hRequirement already satisfied: six>=1.7 in /usr/local/lib/python3.7/dist-packages (from gpustat>=1.0.0b1->ray[default]) (1.15.0)\n",
            "Requirement already satisfied: nvidia-ml-py3>=7.352.0 in /usr/local/lib/python3.7/dist-packages (from gpustat>=1.0.0b1->ray[default]) (7.352.0)\n",
            "Requirement already satisfied: psutil in /usr/local/lib/python3.7/dist-packages (from gpustat>=1.0.0b1->ray[default]) (5.4.8)\n",
            "Collecting blessed>=1.17.1\n",
            "  Downloading blessed-1.19.1-py2.py3-none-any.whl (58 kB)\n",
            "\u001b[K     |████████████████████████████████| 58 kB 7.8 MB/s \n",
            "\u001b[?25hRequirement already satisfied: wcwidth>=0.1.4 in /usr/local/lib/python3.7/dist-packages (from blessed>=1.17.1->gpustat>=1.0.0b1->ray[default]) (0.2.5)\n",
            "Collecting deprecated>=1.2.3\n",
            "  Downloading Deprecated-1.2.13-py2.py3-none-any.whl (9.6 kB)\n",
            "Requirement already satisfied: packaging>=20.4 in /usr/local/lib/python3.7/dist-packages (from redis>=3.5.0->ray[default]) (21.3)\n",
            "Requirement already satisfied: importlib-metadata>=1.0 in /usr/local/lib/python3.7/dist-packages (from redis>=3.5.0->ray[default]) (4.11.3)\n",
            "Requirement already satisfied: wrapt<2,>=1.10 in /usr/local/lib/python3.7/dist-packages (from deprecated>=1.2.3->redis>=3.5.0->ray[default]) (1.14.0)\n",
            "Requirement already satisfied: zipp>=0.5 in /usr/local/lib/python3.7/dist-packages (from importlib-metadata>=1.0->redis>=3.5.0->ray[default]) (3.7.0)\n",
            "Requirement already satisfied: pyparsing!=3.0.5,>=2.0.2 in /usr/local/lib/python3.7/dist-packages (from packaging>=20.4->redis>=3.5.0->ray[default]) (3.0.7)\n",
            "Requirement already satisfied: idna>=2.0 in /usr/local/lib/python3.7/dist-packages (from yarl<2.0,>=1.0->aiohttp>=3.7->ray[default]) (2.10)\n",
            "Requirement already satisfied: pyrsistent!=0.17.0,!=0.17.1,!=0.17.2,>=0.14.0 in /usr/local/lib/python3.7/dist-packages (from jsonschema->ray[default]) (0.18.1)\n",
            "Requirement already satisfied: importlib-resources>=1.4.0 in /usr/local/lib/python3.7/dist-packages (from jsonschema->ray[default]) (5.4.0)\n",
            "Requirement already satisfied: google-api-core<3.0.0,>=1.0.0 in /usr/local/lib/python3.7/dist-packages (from opencensus->ray[default]) (1.26.3)\n",
            "Collecting opencensus-context==0.1.2\n",
            "  Downloading opencensus_context-0.1.2-py2.py3-none-any.whl (4.4 kB)\n",
            "Requirement already satisfied: setuptools>=40.3.0 in /usr/local/lib/python3.7/dist-packages (from google-api-core<3.0.0,>=1.0.0->opencensus->ray[default]) (57.4.0)\n",
            "Requirement already satisfied: pytz in /usr/local/lib/python3.7/dist-packages (from google-api-core<3.0.0,>=1.0.0->opencensus->ray[default]) (2018.9)\n",
            "Requirement already satisfied: googleapis-common-protos<2.0dev,>=1.6.0 in /usr/local/lib/python3.7/dist-packages (from google-api-core<3.0.0,>=1.0.0->opencensus->ray[default]) (1.56.0)\n",
            "Requirement already satisfied: google-auth<2.0dev,>=1.21.1 in /usr/local/lib/python3.7/dist-packages (from google-api-core<3.0.0,>=1.0.0->opencensus->ray[default]) (1.35.0)\n",
            "Requirement already satisfied: pyasn1-modules>=0.2.1 in /usr/local/lib/python3.7/dist-packages (from google-auth<2.0dev,>=1.21.1->google-api-core<3.0.0,>=1.0.0->opencensus->ray[default]) (0.2.8)\n",
            "Requirement already satisfied: rsa<5,>=3.1.4 in /usr/local/lib/python3.7/dist-packages (from google-auth<2.0dev,>=1.21.1->google-api-core<3.0.0,>=1.0.0->opencensus->ray[default]) (4.8)\n",
            "Requirement already satisfied: cachetools<5.0,>=2.0.0 in /usr/local/lib/python3.7/dist-packages (from google-auth<2.0dev,>=1.21.1->google-api-core<3.0.0,>=1.0.0->opencensus->ray[default]) (4.2.4)\n",
            "Requirement already satisfied: pyasn1<0.5.0,>=0.4.6 in /usr/local/lib/python3.7/dist-packages (from pyasn1-modules>=0.2.1->google-auth<2.0dev,>=1.21.1->google-api-core<3.0.0,>=1.0.0->opencensus->ray[default]) (0.4.8)\n",
            "Requirement already satisfied: urllib3!=1.25.0,!=1.25.1,<1.26,>=1.21.1 in /usr/local/lib/python3.7/dist-packages (from requests->ray[default]) (1.24.3)\n",
            "Requirement already satisfied: chardet<4,>=3.0.2 in /usr/local/lib/python3.7/dist-packages (from requests->ray[default]) (3.0.4)\n",
            "Requirement already satisfied: certifi>=2017.4.17 in /usr/local/lib/python3.7/dist-packages (from requests->ray[default]) (2021.10.8)\n",
            "Building wheels for collected packages: gpustat\n",
            "  Building wheel for gpustat (setup.py) ... \u001b[?25l\u001b[?25hdone\n",
            "  Created wheel for gpustat: filename=gpustat-1.0.0b1-py3-none-any.whl size=15979 sha256=5e4d0a197f97c2d387598925bb012992744fad917b4a95bce2b0e00fa13f2378\n",
            "  Stored in directory: /root/.cache/pip/wheels/1a/16/e2/3e2437fba4c4b6a97a97bd96fce5d14e66cff5c4966fb1cc8c\n",
            "Successfully built gpustat\n",
            "Installing collected packages: multidict, frozenlist, yarl, deprecated, asynctest, async-timeout, aiosignal, redis, opencensus-context, hiredis, grpcio, blessed, aiohttp, ray, py-spy, opencensus, gpustat, colorful, aioredis, aiohttp-cors\n",
            "  Attempting uninstall: grpcio\n",
            "    Found existing installation: grpcio 1.44.0\n",
            "    Uninstalling grpcio-1.44.0:\n",
            "      Successfully uninstalled grpcio-1.44.0\n",
            "\u001b[31mERROR: pip's dependency resolver does not currently take into account all the packages that are installed. This behaviour is the source of the following dependency conflicts.\n",
            "tensorflow 2.8.0 requires tf-estimator-nightly==2.8.0.dev2021122109, which is not installed.\u001b[0m\n",
            "Successfully installed aiohttp-3.8.1 aiohttp-cors-0.7.0 aioredis-1.3.1 aiosignal-1.2.0 async-timeout-4.0.2 asynctest-0.13.0 blessed-1.19.1 colorful-0.5.4 deprecated-1.2.13 frozenlist-1.3.0 gpustat-1.0.0b1 grpcio-1.43.0 hiredis-2.0.0 multidict-6.0.2 opencensus-0.8.0 opencensus-context-0.1.2 py-spy-0.3.11 ray-1.11.0 redis-4.2.0 yarl-1.7.2\n",
            "Requirement already satisfied: ray[tune] in /usr/local/lib/python3.7/dist-packages (1.11.0)\n",
            "Requirement already satisfied: msgpack<2.0.0,>=1.0.0 in /usr/local/lib/python3.7/dist-packages (from ray[tune]) (1.0.3)\n",
            "Requirement already satisfied: filelock in /usr/local/lib/python3.7/dist-packages (from ray[tune]) (3.6.0)\n",
            "Requirement already satisfied: numpy>=1.16 in /usr/local/lib/python3.7/dist-packages (from ray[tune]) (1.21.5)\n",
            "Requirement already satisfied: attrs in /usr/local/lib/python3.7/dist-packages (from ray[tune]) (21.4.0)\n",
            "Requirement already satisfied: redis>=3.5.0 in /usr/local/lib/python3.7/dist-packages (from ray[tune]) (4.2.0)\n",
            "Requirement already satisfied: click>=7.0 in /usr/local/lib/python3.7/dist-packages (from ray[tune]) (7.1.2)\n",
            "Requirement already satisfied: jsonschema in /usr/local/lib/python3.7/dist-packages (from ray[tune]) (4.3.3)\n",
            "Requirement already satisfied: protobuf>=3.15.3 in /usr/local/lib/python3.7/dist-packages (from ray[tune]) (3.17.3)\n",
            "Requirement already satisfied: grpcio<=1.43.0,>=1.28.1 in /usr/local/lib/python3.7/dist-packages (from ray[tune]) (1.43.0)\n",
            "Requirement already satisfied: pyyaml in /usr/local/lib/python3.7/dist-packages (from ray[tune]) (3.13)\n",
            "Requirement already satisfied: requests in /usr/local/lib/python3.7/dist-packages (from ray[tune]) (2.23.0)\n",
            "Requirement already satisfied: pandas in /usr/local/lib/python3.7/dist-packages (from ray[tune]) (1.3.5)\n",
            "Requirement already satisfied: tabulate in /usr/local/lib/python3.7/dist-packages (from ray[tune]) (0.8.9)\n",
            "Collecting tensorboardX>=1.9\n",
            "  Downloading tensorboardX-2.5-py2.py3-none-any.whl (125 kB)\n",
            "\u001b[K     |████████████████████████████████| 125 kB 4.3 MB/s \n",
            "\u001b[?25hRequirement already satisfied: six>=1.5.2 in /usr/local/lib/python3.7/dist-packages (from grpcio<=1.43.0,>=1.28.1->ray[tune]) (1.15.0)\n",
            "Requirement already satisfied: typing-extensions in /usr/local/lib/python3.7/dist-packages (from redis>=3.5.0->ray[tune]) (3.10.0.2)\n",
            "Requirement already satisfied: async-timeout>=4.0.2 in /usr/local/lib/python3.7/dist-packages (from redis>=3.5.0->ray[tune]) (4.0.2)\n",
            "Requirement already satisfied: importlib-metadata>=1.0 in /usr/local/lib/python3.7/dist-packages (from redis>=3.5.0->ray[tune]) (4.11.3)\n",
            "Requirement already satisfied: deprecated>=1.2.3 in /usr/local/lib/python3.7/dist-packages (from redis>=3.5.0->ray[tune]) (1.2.13)\n",
            "Requirement already satisfied: packaging>=20.4 in /usr/local/lib/python3.7/dist-packages (from redis>=3.5.0->ray[tune]) (21.3)\n",
            "Requirement already satisfied: wrapt<2,>=1.10 in /usr/local/lib/python3.7/dist-packages (from deprecated>=1.2.3->redis>=3.5.0->ray[tune]) (1.14.0)\n",
            "Requirement already satisfied: zipp>=0.5 in /usr/local/lib/python3.7/dist-packages (from importlib-metadata>=1.0->redis>=3.5.0->ray[tune]) (3.7.0)\n",
            "Requirement already satisfied: pyparsing!=3.0.5,>=2.0.2 in /usr/local/lib/python3.7/dist-packages (from packaging>=20.4->redis>=3.5.0->ray[tune]) (3.0.7)\n",
            "Requirement already satisfied: pyrsistent!=0.17.0,!=0.17.1,!=0.17.2,>=0.14.0 in /usr/local/lib/python3.7/dist-packages (from jsonschema->ray[tune]) (0.18.1)\n",
            "Requirement already satisfied: importlib-resources>=1.4.0 in /usr/local/lib/python3.7/dist-packages (from jsonschema->ray[tune]) (5.4.0)\n",
            "Requirement already satisfied: python-dateutil>=2.7.3 in /usr/local/lib/python3.7/dist-packages (from pandas->ray[tune]) (2.8.2)\n",
            "Requirement already satisfied: pytz>=2017.3 in /usr/local/lib/python3.7/dist-packages (from pandas->ray[tune]) (2018.9)\n",
            "Requirement already satisfied: certifi>=2017.4.17 in /usr/local/lib/python3.7/dist-packages (from requests->ray[tune]) (2021.10.8)\n",
            "Requirement already satisfied: urllib3!=1.25.0,!=1.25.1,<1.26,>=1.21.1 in /usr/local/lib/python3.7/dist-packages (from requests->ray[tune]) (1.24.3)\n",
            "Requirement already satisfied: idna<3,>=2.5 in /usr/local/lib/python3.7/dist-packages (from requests->ray[tune]) (2.10)\n",
            "Requirement already satisfied: chardet<4,>=3.0.2 in /usr/local/lib/python3.7/dist-packages (from requests->ray[tune]) (3.0.4)\n",
            "Installing collected packages: tensorboardX\n",
            "Successfully installed tensorboardX-2.5\n",
            "Collecting datasets\n",
            "  Downloading datasets-2.0.0-py3-none-any.whl (325 kB)\n",
            "\u001b[K     |████████████████████████████████| 325 kB 4.2 MB/s \n",
            "\u001b[?25hRequirement already satisfied: requests>=2.19.0 in /usr/local/lib/python3.7/dist-packages (from datasets) (2.23.0)\n",
            "Requirement already satisfied: tqdm>=4.62.1 in /usr/local/lib/python3.7/dist-packages (from datasets) (4.63.0)\n",
            "Collecting xxhash\n",
            "  Downloading xxhash-3.0.0-cp37-cp37m-manylinux_2_17_x86_64.manylinux2014_x86_64.whl (212 kB)\n",
            "\u001b[K     |████████████████████████████████| 212 kB 67.3 MB/s \n",
            "\u001b[?25hRequirement already satisfied: packaging in /usr/local/lib/python3.7/dist-packages (from datasets) (21.3)\n",
            "Collecting responses<0.19\n",
            "  Downloading responses-0.18.0-py3-none-any.whl (38 kB)\n",
            "Requirement already satisfied: dill in /usr/local/lib/python3.7/dist-packages (from datasets) (0.3.4)\n",
            "Requirement already satisfied: pandas in /usr/local/lib/python3.7/dist-packages (from datasets) (1.3.5)\n",
            "Collecting huggingface-hub<1.0.0,>=0.1.0\n",
            "  Downloading huggingface_hub-0.4.0-py3-none-any.whl (67 kB)\n",
            "\u001b[K     |████████████████████████████████| 67 kB 6.5 MB/s \n",
            "\u001b[?25hRequirement already satisfied: importlib-metadata in /usr/local/lib/python3.7/dist-packages (from datasets) (4.11.3)\n",
            "Requirement already satisfied: numpy>=1.17 in /usr/local/lib/python3.7/dist-packages (from datasets) (1.21.5)\n",
            "Requirement already satisfied: multiprocess in /usr/local/lib/python3.7/dist-packages (from datasets) (0.70.12.2)\n",
            "Collecting fsspec[http]>=2021.05.0\n",
            "  Downloading fsspec-2022.2.0-py3-none-any.whl (134 kB)\n",
            "\u001b[K     |████████████████████████████████| 134 kB 67.4 MB/s \n",
            "\u001b[?25hRequirement already satisfied: aiohttp in /usr/local/lib/python3.7/dist-packages (from datasets) (3.8.1)\n",
            "Requirement already satisfied: pyarrow>=5.0.0 in /usr/local/lib/python3.7/dist-packages (from datasets) (6.0.1)\n",
            "Requirement already satisfied: filelock in /usr/local/lib/python3.7/dist-packages (from huggingface-hub<1.0.0,>=0.1.0->datasets) (3.6.0)\n",
            "Requirement already satisfied: typing-extensions>=3.7.4.3 in /usr/local/lib/python3.7/dist-packages (from huggingface-hub<1.0.0,>=0.1.0->datasets) (3.10.0.2)\n",
            "Requirement already satisfied: pyyaml in /usr/local/lib/python3.7/dist-packages (from huggingface-hub<1.0.0,>=0.1.0->datasets) (3.13)\n",
            "Requirement already satisfied: pyparsing!=3.0.5,>=2.0.2 in /usr/local/lib/python3.7/dist-packages (from packaging->datasets) (3.0.7)\n",
            "Requirement already satisfied: urllib3!=1.25.0,!=1.25.1,<1.26,>=1.21.1 in /usr/local/lib/python3.7/dist-packages (from requests>=2.19.0->datasets) (1.24.3)\n",
            "Requirement already satisfied: certifi>=2017.4.17 in /usr/local/lib/python3.7/dist-packages (from requests>=2.19.0->datasets) (2021.10.8)\n",
            "Requirement already satisfied: chardet<4,>=3.0.2 in /usr/local/lib/python3.7/dist-packages (from requests>=2.19.0->datasets) (3.0.4)\n",
            "Requirement already satisfied: idna<3,>=2.5 in /usr/local/lib/python3.7/dist-packages (from requests>=2.19.0->datasets) (2.10)\n",
            "Collecting urllib3!=1.25.0,!=1.25.1,<1.26,>=1.21.1\n",
            "  Downloading urllib3-1.25.11-py2.py3-none-any.whl (127 kB)\n",
            "\u001b[K     |████████████████████████████████| 127 kB 63.9 MB/s \n",
            "\u001b[?25hRequirement already satisfied: aiosignal>=1.1.2 in /usr/local/lib/python3.7/dist-packages (from aiohttp->datasets) (1.2.0)\n",
            "Requirement already satisfied: multidict<7.0,>=4.5 in /usr/local/lib/python3.7/dist-packages (from aiohttp->datasets) (6.0.2)\n",
            "Requirement already satisfied: async-timeout<5.0,>=4.0.0a3 in /usr/local/lib/python3.7/dist-packages (from aiohttp->datasets) (4.0.2)\n",
            "Requirement already satisfied: frozenlist>=1.1.1 in /usr/local/lib/python3.7/dist-packages (from aiohttp->datasets) (1.3.0)\n",
            "Requirement already satisfied: charset-normalizer<3.0,>=2.0 in /usr/local/lib/python3.7/dist-packages (from aiohttp->datasets) (2.0.12)\n",
            "Requirement already satisfied: attrs>=17.3.0 in /usr/local/lib/python3.7/dist-packages (from aiohttp->datasets) (21.4.0)\n",
            "Requirement already satisfied: asynctest==0.13.0 in /usr/local/lib/python3.7/dist-packages (from aiohttp->datasets) (0.13.0)\n",
            "Requirement already satisfied: yarl<2.0,>=1.0 in /usr/local/lib/python3.7/dist-packages (from aiohttp->datasets) (1.7.2)\n",
            "Requirement already satisfied: zipp>=0.5 in /usr/local/lib/python3.7/dist-packages (from importlib-metadata->datasets) (3.7.0)\n",
            "Requirement already satisfied: pytz>=2017.3 in /usr/local/lib/python3.7/dist-packages (from pandas->datasets) (2018.9)\n",
            "Requirement already satisfied: python-dateutil>=2.7.3 in /usr/local/lib/python3.7/dist-packages (from pandas->datasets) (2.8.2)\n",
            "Requirement already satisfied: six>=1.5 in /usr/local/lib/python3.7/dist-packages (from python-dateutil>=2.7.3->pandas->datasets) (1.15.0)\n",
            "Installing collected packages: urllib3, fsspec, xxhash, responses, huggingface-hub, datasets\n",
            "  Attempting uninstall: urllib3\n",
            "    Found existing installation: urllib3 1.24.3\n",
            "    Uninstalling urllib3-1.24.3:\n",
            "      Successfully uninstalled urllib3-1.24.3\n",
            "\u001b[31mERROR: pip's dependency resolver does not currently take into account all the packages that are installed. This behaviour is the source of the following dependency conflicts.\n",
            "datascience 0.10.6 requires folium==0.2.1, but you have folium 0.8.3 which is incompatible.\u001b[0m\n",
            "Successfully installed datasets-2.0.0 fsspec-2022.2.0 huggingface-hub-0.4.0 responses-0.18.0 urllib3-1.25.11 xxhash-3.0.0\n"
          ]
        }
      ],
      "source": [
        "!pip install dotmap\n",
        "!pip install apricot-select\n",
        "!pip install ray[default]\n",
        "!pip install ray[tune]\n",
        "!pip install datasets"
      ]
    },
    {
      "cell_type": "markdown",
      "id": "75a5a623",
      "metadata": {
        "id": "75a5a623",
        "papermill": {
          "duration": 0.033392,
          "end_time": "2022-02-23T17:02:43.202223",
          "exception": false,
          "start_time": "2022-02-23T17:02:43.168831",
          "status": "completed"
        },
        "tags": []
      },
      "source": [
        "### Import necessary libraries"
      ]
    },
    {
      "cell_type": "code",
      "execution_count": null,
      "id": "64930ccc",
      "metadata": {
        "execution": {
          "iopub.execute_input": "2022-02-23T17:02:43.270795Z",
          "iopub.status.busy": "2022-02-23T17:02:43.270287Z",
          "iopub.status.idle": "2022-02-23T17:02:44.013101Z",
          "shell.execute_reply": "2022-02-23T17:02:44.012536Z"
        },
        "id": "64930ccc",
        "papermill": {
          "duration": 0.781229,
          "end_time": "2022-02-23T17:02:44.016565",
          "exception": false,
          "start_time": "2022-02-23T17:02:43.235336",
          "status": "completed"
        },
        "tags": []
      },
      "outputs": [],
      "source": [
        "import argparse\n",
        "from cords.utils.config_utils import load_config_data\n",
        "from ray.tune.suggest.hyperopt import HyperOptSearch\n",
        "from ray.tune.suggest.bayesopt import BayesOptSearch\n",
        "from ray.tune.suggest.skopt import SkOptSearch\n",
        "from ray.tune.suggest.dragonfly import DragonflySearch\n",
        "from ray.tune.suggest.ax import AxSearch\n",
        "from ray.tune.suggest.bohb import TuneBOHB\n",
        "from ray.tune.suggest.nevergrad import NevergradSearch\n",
        "from ray.tune.suggest.optuna import OptunaSearch\n",
        "from ray.tune.suggest.zoopt import ZOOptSearch\n",
        "from ray.tune.suggest.sigopt import SigOptSearch\n",
        "from ray.tune.suggest.hebo import HEBOSearch\n",
        "from ray.tune.schedulers import AsyncHyperBandScheduler\n",
        "from ray.tune.schedulers import HyperBandScheduler\n",
        "from ray.tune.schedulers.hb_bohb import HyperBandForBOHB\n",
        "from ray import tune"
      ]
    },
    {
      "cell_type": "markdown",
      "id": "bed35e5d",
      "metadata": {
        "id": "bed35e5d",
        "papermill": {
          "duration": 0.034448,
          "end_time": "2022-02-23T17:02:44.102967",
          "exception": false,
          "start_time": "2022-02-23T17:02:44.068519",
          "status": "completed"
        },
        "tags": []
      },
      "source": [
        "### Loading hyperparameter configuration file with predefined arguments:\n",
        "\n",
        "We have a set of predefined configuration files added to CORDS for HPO under cords/configs/HPO/ which can be used directly by loading them as a dotmap object. \n",
        "\n",
        "An example of predefined configuration for Hyper-parameter tuning on CIFAR100 dataset with ASHA as scheduler and TPE as search algorithm can be found below:\n",
        "\n",
        "```Python\n",
        "from ray import tune\n",
        "\n",
        "config = dict(setting= \"hyperparamtuning\",\n",
        "\n",
        "# parameter for subset selection\n",
        "# all settings for subset selection will be fetched from here\n",
        "subset_config = \"configs/SL/config_gradmatchpb-warm_cifar100.py\",\n",
        "\n",
        "# parameters for hyper-parameter tuning\n",
        "# search space for hyper-parameter tuning\n",
        "space = dict(\n",
        "        learning_rate=tune.uniform(0.001, 0.01), \n",
        "        learning_rate1=tune.uniform(0.001, 0.01),\n",
        "        learning_rate2=tune.uniform(0.001, 0.01),\n",
        "        learning_rate3=tune.uniform(0.001, 0.01),\n",
        "        scheduler= tune.choice(['cosine_annealing', 'linear_decay']),\n",
        "        nesterov= tune.choice([True, False]),\n",
        "        gamma= tune.uniform(0.05, 0.5),    \n",
        "        ),\n",
        "\n",
        "# tuning algorithm \n",
        "search_algo = \"TPE\",\n",
        "\n",
        "# number of hyper-parameter set to try\n",
        "num_evals = 27,\n",
        "\n",
        "# metric to be optimized, for 'mean_loss' metric mode should be 'min'\n",
        "metric = \"mean_accuracy\",\n",
        "mode = \"max\",\n",
        "\n",
        "# scheduler to be used (i.e ASHAScheduler)\n",
        "# scheduler terminates trials that perform poorly\n",
        "# learn more here: https://docs.ray.io/en/releases-0.7.1/tune-schedulers.html\n",
        "scheduler = 'hyperband',\n",
        "\n",
        "# where to store logs\n",
        "log_dir = \"RayLogs/\",\n",
        "\n",
        "# resume hyper-parameter tuning from previous log\n",
        "# specify 'name' (i.e main_2021-03-09_18-33-56) below\n",
        "resume = False,\n",
        "\n",
        "# only required if you want to resume from previous checkpoint\n",
        "# it can also be specified if you don't want to resume\n",
        "name = None,\n",
        "\n",
        "# specify resources to be used per trial\n",
        "# i.e {'gpu':1, 'cpu':2}\n",
        "resources = {'gpu':1},\n",
        "\n",
        "# if True, trains model on Full dataset with the best parameter selected.\n",
        "final_train = True\n",
        ")\n",
        "```\n",
        "\n",
        "Please find a detailed documentation explaining the available configuration parameters in the following readthedocs [page]()\n",
        "\n",
        "***Loading the predefined configuration file directly using the load_config_data function in CORDS***"
      ]
    },
    {
      "cell_type": "code",
      "execution_count": null,
      "id": "9a8a2cdc",
      "metadata": {
        "execution": {
          "iopub.execute_input": "2022-02-23T17:02:44.172333Z",
          "iopub.status.busy": "2022-02-23T17:02:44.171889Z",
          "iopub.status.idle": "2022-02-23T17:02:44.179366Z",
          "shell.execute_reply": "2022-02-23T17:02:44.178298Z"
        },
        "id": "9a8a2cdc",
        "papermill": {
          "duration": 0.04472,
          "end_time": "2022-02-23T17:02:44.181059",
          "exception": false,
          "start_time": "2022-02-23T17:02:44.136339",
          "status": "completed"
        },
        "tags": []
      },
      "outputs": [],
      "source": [
        "from cords.utils.config_utils import load_config_data\n",
        "param_tuning_cfg = load_config_data('configs/HPO/config_hyper-param_tuning_cifar100.py')"
      ]
    },
    {
      "cell_type": "markdown",
      "id": "b7bdb9b4",
      "metadata": {
        "id": "b7bdb9b4",
        "papermill": {
          "duration": 0.033601,
          "end_time": "2022-02-23T17:02:44.252663",
          "exception": false,
          "start_time": "2022-02-23T17:02:44.219062",
          "status": "completed"
        },
        "tags": []
      },
      "source": [
        "### Modifying Default SL training loop to include search space parameters as configurable parameters\n",
        "In this example, the search space parameters are layer-wise learning rates, step-size decay, learning rate scheduler, and nesterov momentum boolean indicator. We modify the default pytorch training loop given in train_sl.py to include the hyper-parameter search space parameters in the following manner:\n",
        "\n",
        "```python\n",
        "def optimizer_with_scheduler(self, model):\n",
        "        if self.cfg.optimizer.type == 'sgd':\n",
        "            optimizer = optim.SGD( [\n",
        "                                    {\"params\": model.linear.parameters(), \"lr\": self.cfg.optimizer.lr1},\n",
        "                                    {\"params\": model.layer4.parameters(), \"lr\": self.cfg.optimizer.lr2},\n",
        "                                    {\"params\": model.layer3.parameters(), \"lr\": self.cfg.optimizer.lr2},\n",
        "                                    {\"params\": model.layer2.parameters(), \"lr\": self.cfg.optimizer.lr2},\n",
        "                                    {\"params\": model.layer1.parameters(), \"lr\": self.cfg.optimizer.lr2},\n",
        "                                    {\"params\": model.conv1.parameters(), \"lr\": self.cfg.optimizer.lr3},\n",
        "                                    ],\n",
        "                                    lr=self.cfg.optimizer.lr,\n",
        "                                  momentum=self.cfg.optimizer.momentum,\n",
        "                                  weight_decay=self.cfg.optimizer.weight_decay,\n",
        "                                  nesterov=self.cfg.optimizer.nesterov)\n",
        "        elif self.cfg.optimizer.type == \"adam\":\n",
        "            optimizer = optim.Adam(model.parameters(), lr=self.cfg.optimizer.lr)\n",
        "        elif self.cfg.optimizer.type == \"rmsprop\":\n",
        "            optimizer = optim.RMSprop(model.parameters(), lr=self.cfg.optimizer.lr)\n",
        "\n",
        "        if self.cfg.scheduler.type == 'cosine_annealing':\n",
        "            scheduler = torch.optim.lr_scheduler.CosineAnnealingLR(optimizer,\n",
        "                                                                   T_max=self.cfg.scheduler.T_max)\n",
        "        elif self.cfg.scheduler.type == 'linear_decay':\n",
        "            scheduler = torch.optim.lr_scheduler.StepLR(optimizer, \n",
        "                                                        step_size=self.cfg.scheduler.stepsize, \n",
        "                                                        gamma=self.cfg.scheduler.gamma)\n",
        "        else:\n",
        "            scheduler = None\n",
        "        return optimizer, scheduler\n",
        "```\n",
        "\n",
        "We include the modified default train_sl loop in examples\\HPO\\image_classification\\python_code\\vision_train_sl.py file."
      ]
    },
    {
      "cell_type": "code",
      "source": [
        "%ls"
      ],
      "metadata": {
        "colab": {
          "base_uri": "https://localhost:8080/"
        },
        "id": "K_L9PsJSchf8",
        "outputId": "ef4d22fb-ee84-44f1-8f9a-fc6eed6201af"
      },
      "id": "K_L9PsJSchf8",
      "execution_count": null,
      "outputs": [
        {
          "output_type": "stream",
          "name": "stdout",
          "text": [
            "\u001b[0m\u001b[01;34mbenchmarks\u001b[0m/   \u001b[01;34mdocs\u001b[0m/           README.md      \u001b[01;34mtests\u001b[0m/\n",
            "CITATION.CFF  \u001b[01;34mexamples\u001b[0m/       \u001b[01;34mrequirements\u001b[0m/  train_hpo.py\n",
            "\u001b[01;34mconfigs\u001b[0m/      gen_results.py  run_sl.py      train_sl.py\n",
            "\u001b[01;34mcords\u001b[0m/        LICENSE.txt     setup.py       train_ssl.py\n"
          ]
        }
      ]
    },
    {
      "cell_type": "code",
      "execution_count": null,
      "id": "7020a87e",
      "metadata": {
        "execution": {
          "iopub.execute_input": "2022-02-23T17:02:44.321741Z",
          "iopub.status.busy": "2022-02-23T17:02:44.321334Z",
          "iopub.status.idle": "2022-02-23T17:02:46.588691Z",
          "shell.execute_reply": "2022-02-23T17:02:46.588115Z"
        },
        "id": "7020a87e",
        "papermill": {
          "duration": 2.306274,
          "end_time": "2022-02-23T17:02:46.592175",
          "exception": false,
          "start_time": "2022-02-23T17:02:44.285901",
          "status": "completed"
        },
        "tags": [],
        "colab": {
          "base_uri": "https://localhost:8080/"
        },
        "outputId": "6cc22aa0-cc40-4ddc-fa4b-65e576f6374a"
      },
      "outputs": [
        {
          "output_type": "stream",
          "name": "stderr",
          "text": [
            "/usr/local/lib/python3.7/dist-packages/numba/np/ufunc/parallel.py:363: NumbaWarning: \u001b[1mThe TBB threading layer requires TBB version 2019.5 or later i.e., TBB_INTERFACE_VERSION >= 11005. Found TBB_INTERFACE_VERSION = 9107. The TBB threading layer is disabled.\u001b[0m\n",
            "  warnings.warn(problem)\n"
          ]
        }
      ],
      "source": [
        "from examples.HPO.image_classification.python_code.vision_train_sl import TrainClassifier"
      ]
    },
    {
      "cell_type": "markdown",
      "id": "b2f1a07f",
      "metadata": {
        "id": "b2f1a07f",
        "papermill": {
          "duration": 0.033838,
          "end_time": "2022-02-23T17:02:46.681124",
          "exception": false,
          "start_time": "2022-02-23T17:02:46.647286",
          "status": "completed"
        },
        "tags": []
      },
      "source": [
        "# Instantiating GradMatchPB-Warm arguments required for train_sl.py by loading the corresponding configuration file."
      ]
    },
    {
      "cell_type": "code",
      "execution_count": null,
      "id": "70c57ef7",
      "metadata": {
        "execution": {
          "iopub.execute_input": "2022-02-23T17:02:46.751450Z",
          "iopub.status.busy": "2022-02-23T17:02:46.750874Z",
          "iopub.status.idle": "2022-02-23T17:02:46.761328Z",
          "shell.execute_reply": "2022-02-23T17:02:46.760296Z"
        },
        "id": "70c57ef7",
        "papermill": {
          "duration": 0.047969,
          "end_time": "2022-02-23T17:02:46.763201",
          "exception": false,
          "start_time": "2022-02-23T17:02:46.715232",
          "status": "completed"
        },
        "tags": []
      },
      "outputs": [],
      "source": [
        "train_cfg_file = 'configs/SL/config_gradmatchpb-warm_cifar100.py'\n",
        "train_cfg = load_config_data(train_cfg_file)\n",
        "\n",
        "\"\"\"\n",
        "Note that we have to do following changes to standard training configuration files\n",
        "to get them working for Hyper-parameter tuning.\n",
        "\"\"\"\n",
        "train_cfg.report_tune = True\n",
        "train_cfg.train_args.print_every = 1\n",
        "train_cfg.dss_args.fraction = 0.01\n",
        "train_cfg.dataset.datadir = '/content/data/'\n",
        "\n",
        "#Instantiating the train classifier class with the loaded train_cfg\n",
        "train_class = TrainClassifier(train_cfg)"
      ]
    },
    {
      "cell_type": "markdown",
      "id": "f33c294a",
      "metadata": {
        "id": "f33c294a",
        "papermill": {
          "duration": 0.034094,
          "end_time": "2022-02-23T17:02:46.838637",
          "exception": false,
          "start_time": "2022-02-23T17:02:46.804543",
          "status": "completed"
        },
        "tags": []
      },
      "source": [
        "### Get Hyper-parameter search algorithm \n",
        "\n",
        "In this example, we will be using Tree-structured parzen estimator(TPE) as the hyper-parameter search algorithm. In the hyper-parameter tuning configuration file, the search algorithm option is given as cfg.search_algo."
      ]
    },
    {
      "cell_type": "code",
      "execution_count": null,
      "id": "e46249b3",
      "metadata": {
        "execution": {
          "iopub.execute_input": "2022-02-23T17:02:46.907523Z",
          "iopub.status.busy": "2022-02-23T17:02:46.907003Z",
          "iopub.status.idle": "2022-02-23T17:02:46.932614Z",
          "shell.execute_reply": "2022-02-23T17:02:46.931468Z"
        },
        "id": "e46249b3",
        "papermill": {
          "duration": 0.062563,
          "end_time": "2022-02-23T17:02:46.934611",
          "exception": false,
          "start_time": "2022-02-23T17:02:46.872048",
          "status": "completed"
        },
        "tags": [],
        "outputId": "9024df8d-5dca-4ab8-f17c-e371ca2030fa",
        "colab": {
          "base_uri": "https://localhost:8080/"
        }
      },
      "outputs": [
        {
          "output_type": "stream",
          "name": "stderr",
          "text": [
            "You passed a `space` parameter to <class 'ray.tune.suggest.hyperopt.HyperOptSearch'> that contained unresolved search space definitions. <class 'ray.tune.suggest.hyperopt.HyperOptSearch'> should however be instantiated with fully configured search spaces only. To use Ray Tune's automatic search space conversion, pass the space definition as part of the `config` argument to `tune.run()` instead.\n"
          ]
        }
      ],
      "source": [
        "method = param_tuning_cfg.search_algo\n",
        "#Search space\n",
        "space = param_tuning_cfg.space\n",
        "#Evaluation metric for configuration evaluation\n",
        "metric = param_tuning_cfg.metric\n",
        "#maximum or minimum mode\n",
        "mode = param_tuning_cfg.mode\n",
        "\n",
        "\"\"\"\n",
        "Shows all hyper-parameter search algorithm that work with CORDS. We use ray-tune library for hyper-parameter tuning\n",
        "in CORDS. Hence, all search algorithms given in raytune can be used with CORDS as well.\n",
        "\"\"\"\n",
        "# HyperOptSearch \n",
        "if method == \"hyperopt\" or method == \"TPE\":\n",
        "    search = HyperOptSearch(space, metric, mode)\n",
        "# BayesOptSearch\n",
        "elif method == \"bayesopt\" or method == \"BO\":\n",
        "    search = BayesOptSearch(space, metric = metric, mode = mode)\n",
        "# SkoptSearch\n",
        "elif method == \"skopt\" or method == \"SKBO\":\n",
        "    search = SkOptSearch(space, metric = metric, mode = mode)\n",
        "# DragonflySearch\n",
        "elif method == \"dragonfly\" or method == \"SBO\":\n",
        "    search = DragonflySearch(space, metric = metric, mode = mode)\n",
        "# AxSearch\n",
        "elif method == \"ax\" or method == \"BBO\":\n",
        "    search = AxSearch(space, metric = metric, mode = mode)\n",
        "# TuneBOHB\n",
        "elif method == \"tunebohb\" or method == \"BOHB\":\n",
        "    search = TuneBOHB(space, metric = metric, mode = mode)\n",
        "# NevergradSearch\n",
        "elif method == \"nevergrad\" or method == \"GFO\":\n",
        "    search = NevergradSearch(space, metric = metric, mode = mode)\n",
        "# OptunaSearch\n",
        "elif method == \"optuna\" or method == \"OSA\":\n",
        "    search = OptunaSearch(space, metric = metric, mode = mode)\n",
        "# ZOOptSearch\n",
        "elif method == \"zoopt\" or method == \"ZOO\":\n",
        "    search = ZOOptSearch(space, metric = metric, mode = mode)\n",
        "# SigOptSearch\n",
        "elif method == \"sigopt\":\n",
        "    search = SigOptSearch(space, metric = metric, mode = mode)\n",
        "# HEBOSearch\n",
        "elif method == \"hebo\" or method == \"HEBO\":\n",
        "    search = HEBOSearch(space, metric = metric, mode = mode)\n",
        "else:\n",
        "    search = None\n"
      ]
    },
    {
      "cell_type": "markdown",
      "id": "1b44b905",
      "metadata": {
        "id": "1b44b905",
        "papermill": {
          "duration": 0.034577,
          "end_time": "2022-02-23T17:02:47.019758",
          "exception": false,
          "start_time": "2022-02-23T17:02:46.985181",
          "status": "completed"
        },
        "tags": []
      },
      "source": [
        "### Get Hyper-parameter scheduler\n",
        "\n",
        "In this example, we will be using ASHA as the hyper-parameter scheduler algorithm. In the hyper-parameter tuning configuration file, the scheduler option is given as cfg.scheduler."
      ]
    },
    {
      "cell_type": "code",
      "execution_count": null,
      "id": "6c3f5bf7",
      "metadata": {
        "execution": {
          "iopub.execute_input": "2022-02-23T17:02:47.090917Z",
          "iopub.status.busy": "2022-02-23T17:02:47.090397Z",
          "iopub.status.idle": "2022-02-23T17:02:47.100205Z",
          "shell.execute_reply": "2022-02-23T17:02:47.099212Z"
        },
        "id": "6c3f5bf7",
        "papermill": {
          "duration": 0.047634,
          "end_time": "2022-02-23T17:02:47.102080",
          "exception": false,
          "start_time": "2022-02-23T17:02:47.054446",
          "status": "completed"
        },
        "tags": []
      },
      "outputs": [],
      "source": [
        "method = param_tuning_cfg.scheduler\n",
        "\n",
        "if method == \"ASHA\" or method == \"asha\":\n",
        "    scheduler = AsyncHyperBandScheduler(metric = metric, mode = mode, \n",
        "                                        max_t = train_cfg.train_args.num_epochs)\n",
        "elif method == \"hyperband\" or method == \"HB\":\n",
        "    scheduler = HyperBandScheduler(metric = metric, mode = mode, \n",
        "                max_t = train_cfg.train_args.num_epochs)\n",
        "elif method == \"BOHB\":\n",
        "    scheduler = HyperBandForBOHB(metric = metric, mode = mode)\n",
        "else:\n",
        "    scheduler = None\n",
        "\n",
        "scheduler = scheduler"
      ]
    },
    {
      "cell_type": "markdown",
      "id": "102eaeed",
      "metadata": {
        "id": "102eaeed",
        "papermill": {
          "duration": 0.034619,
          "end_time": "2022-02-23T17:02:47.176788",
          "exception": false,
          "start_time": "2022-02-23T17:02:47.142169",
          "status": "completed"
        },
        "tags": []
      },
      "source": [
        "### Utility function that updates the training configuration parameters with new parameters suggested by search algorithm"
      ]
    },
    {
      "cell_type": "code",
      "execution_count": null,
      "id": "fd3673e2",
      "metadata": {
        "execution": {
          "iopub.execute_input": "2022-02-23T17:02:47.248336Z",
          "iopub.status.busy": "2022-02-23T17:02:47.247816Z",
          "iopub.status.idle": "2022-02-23T17:02:47.261896Z",
          "shell.execute_reply": "2022-02-23T17:02:47.261070Z"
        },
        "id": "fd3673e2",
        "papermill": {
          "duration": 0.052101,
          "end_time": "2022-02-23T17:02:47.263596",
          "exception": false,
          "start_time": "2022-02-23T17:02:47.211495",
          "status": "completed"
        },
        "tags": []
      },
      "outputs": [],
      "source": [
        "def update_parameters(config, new_config):\n",
        "    # a generic function to update parameters\n",
        "    if 'learning_rate' in new_config:\n",
        "        config.optimizer.lr = new_config['learning_rate']\n",
        "    if 'learning_rate1' in new_config:\n",
        "        config.optimizer.lr1 = new_config['learning_rate1']\n",
        "    if 'learning_rate2' in new_config:\n",
        "        config.optimizer.lr2 = new_config['learning_rate2']\n",
        "    if 'learning_rate3' in new_config:\n",
        "        config.optimizer.lr3 = new_config['learning_rate3']\n",
        "    if 'optimizer' in new_config:\n",
        "        config.optimizer.type = new_config['optimizer']\n",
        "    if 'nesterov' in new_config:\n",
        "        config.optimizer.nesterov = new_config['nesterov']\n",
        "    if 'scheduler' in new_config:\n",
        "        config.scheduler.type = new_config['scheduler']\n",
        "    if 'gamma' in new_config:\n",
        "        config.scheduler.gamma = new_config['gamma']\n",
        "    if 'epochs' in new_config:\n",
        "        config.train_args.num_epochs = new_config['epochs']\n",
        "    if 'trn_batch_size' in new_config:\n",
        "        config.dataloader.batch_size = new_config['trn_batch_size']\n",
        "    if 'hidden_size' in new_config:\n",
        "        config.model.hidden_size = new_config['hidden_size']\n",
        "    if 'num_layers' in new_config:\n",
        "        config.model.num_layers = new_config['num_layers']\n",
        "    return config\n"
      ]
    },
    {
      "cell_type": "markdown",
      "id": "74fea978",
      "metadata": {
        "id": "74fea978",
        "papermill": {
          "duration": 0.034909,
          "end_time": "2022-02-23T17:02:47.337455",
          "exception": false,
          "start_time": "2022-02-23T17:02:47.302546",
          "status": "completed"
        },
        "tags": []
      },
      "source": [
        "### Utility function that takes in the search configuration parameters suggested by hyper-parameter search algorithm, update the training configuration file accordingly, and train the model with the new configuration. "
      ]
    },
    {
      "cell_type": "code",
      "execution_count": null,
      "id": "bfe8de8f",
      "metadata": {
        "execution": {
          "iopub.execute_input": "2022-02-23T17:02:47.409384Z",
          "iopub.status.busy": "2022-02-23T17:02:47.408959Z",
          "iopub.status.idle": "2022-02-23T17:02:47.416015Z",
          "shell.execute_reply": "2022-02-23T17:02:47.415012Z"
        },
        "id": "bfe8de8f",
        "papermill": {
          "duration": 0.045247,
          "end_time": "2022-02-23T17:02:47.417611",
          "exception": false,
          "start_time": "2022-02-23T17:02:47.372364",
          "status": "completed"
        },
        "tags": []
      },
      "outputs": [],
      "source": [
        "def param_tune(train_cfg, train_class, config):\n",
        "    #update parameters in config dict\n",
        "    new_config = update_parameters(train_cfg, config)\n",
        "    train_cfg = new_config\n",
        "    # turn on reporting to ray every time\n",
        "    train_cfg.report_tune = True\n",
        "    train_class.train()"
      ]
    },
    {
      "cell_type": "markdown",
      "id": "8db5878c",
      "metadata": {
        "id": "8db5878c",
        "papermill": {
          "duration": 0.034643,
          "end_time": "2022-02-23T17:02:47.488844",
          "exception": false,
          "start_time": "2022-02-23T17:02:47.454201",
          "status": "completed"
        },
        "tags": []
      },
      "source": [
        "### Start Hyper-parameter tuning"
      ]
    },
    {
      "cell_type": "code",
      "execution_count": null,
      "id": "d766bd59",
      "metadata": {
        "execution": {
          "iopub.execute_input": "2022-02-23T17:02:47.561409Z",
          "iopub.status.busy": "2022-02-23T17:02:47.560879Z"
        },
        "id": "d766bd59",
        "papermill": {
          "duration": null,
          "end_time": null,
          "exception": false,
          "start_time": "2022-02-23T17:02:47.523669",
          "status": "running"
        },
        "tags": [],
        "outputId": "b8107dfc-3db8-45e3-99bc-47375993fc9a",
        "colab": {
          "base_uri": "https://localhost:8080/",
          "height": 1000
        }
      },
      "outputs": [
        {
          "output_type": "stream",
          "name": "stderr",
          "text": [
            "2022-03-23 15:56:12,196\tINFO services.py:1414 -- View the Ray dashboard at \u001b[1m\u001b[32mhttp://127.0.0.1:8265\u001b[39m\u001b[22m\n",
            "2022-03-23 15:56:14,314\tWARNING function_runner.py:562 -- Function checkpointing is disabled. This may result in unexpected behavior when using checkpointing features or certain schedulers. To enable, set the train function arguments to be `func(config, checkpoint_dir=None)`.\n",
            "\u001b[2m\u001b[36m(bundle_reservation_check_func pid=379)\u001b[0m /usr/local/lib/python3.7/dist-packages/numba/np/ufunc/parallel.py:363: NumbaWarning: \u001b[1mThe TBB threading layer requires TBB version 2019.5 or later i.e., TBB_INTERFACE_VERSION >= 11005. Found TBB_INTERFACE_VERSION = 9107. The TBB threading layer is disabled.\u001b[0m\n",
            "\u001b[2m\u001b[36m(bundle_reservation_check_func pid=379)\u001b[0m   warnings.warn(problem)\n"
          ]
        },
        {
          "output_type": "display_data",
          "data": {
            "text/plain": [
              "<IPython.core.display.HTML object>"
            ],
            "text/html": [
              "== Status ==<br>Current time: 2022-03-23 15:56:18 (running for 00:00:03.52)<br>Memory usage on this node: 2.3/25.5 GiB<br>Using AsyncHyperBand: num_stopped=0\n",
              "Bracket: Iter 256.000: None | Iter 64.000: None | Iter 16.000: None | Iter 4.000: None | Iter 1.000: None<br>Resources requested: 1.0/4 CPUs, 0.5/1 GPUs, 0.0/14.55 GiB heap, 0.0/7.28 GiB objects (0.0/1.0 accelerator_type:T4)<br>Result logdir: /content/cords/RayLogs/GradMatchPB-Warm/lambda_2022-03-23_15-56-14<br>Number of trials: 1/27 (1 RUNNING)<br><table>\n",
              "<thead>\n",
              "<tr><th>Trial name     </th><th>status  </th><th>loc           </th><th style=\"text-align: right;\">   gamma</th><th style=\"text-align: right;\">  learning_rate</th><th style=\"text-align: right;\">  learning_rate1</th><th style=\"text-align: right;\">  learning_rate2</th><th style=\"text-align: right;\">  learning_rate3</th><th>nesterov  </th><th>scheduler       </th></tr>\n",
              "</thead>\n",
              "<tbody>\n",
              "<tr><td>lambda_c4aab18e</td><td>RUNNING </td><td>172.28.0.2:379</td><td style=\"text-align: right;\">0.118825</td><td style=\"text-align: right;\">     0.00920452</td><td style=\"text-align: right;\">      0.00212929</td><td style=\"text-align: right;\">      0.00973207</td><td style=\"text-align: right;\">      0.00250276</td><td>False     </td><td>cosine_annealing</td></tr>\n",
              "</tbody>\n",
              "</table><br><br>"
            ]
          },
          "metadata": {}
        },
        {
          "output_type": "stream",
          "name": "stdout",
          "text": [
            "\u001b[2m\u001b[36m(<lambda> pid=379)\u001b[0m Downloading https://www.cs.toronto.edu/~kriz/cifar-100-python.tar.gz to /content/data/cifar-100-python.tar.gz\n"
          ]
        },
        {
          "output_type": "stream",
          "name": "stderr",
          "text": [
            "  0%|          | 0/169001437 [00:00<?, ?it/s]\n",
            "  0%|          | 1024/169001437 [00:00<7:56:01, 5917.16it/s]\n",
            "  0%|          | 33792/169001437 [00:00<24:52, 113226.65it/s]\n",
            "  0%|          | 82944/169001437 [00:00<14:41, 191610.21it/s]\n",
            "  0%|          | 214016/169001437 [00:00<06:51, 410562.48it/s]\n",
            "\u001b[2m\u001b[36m(bundle_reservation_check_func pid=377)\u001b[0m /usr/local/lib/python3.7/dist-packages/numba/np/ufunc/parallel.py:363: NumbaWarning: \u001b[1mThe TBB threading layer requires TBB version 2019.5 or later i.e., TBB_INTERFACE_VERSION >= 11005. Found TBB_INTERFACE_VERSION = 9107. The TBB threading layer is disabled.\u001b[0m\n",
            "\u001b[2m\u001b[36m(bundle_reservation_check_func pid=377)\u001b[0m   warnings.warn(problem)\n",
            "  0%|          | 443392/169001437 [00:00<03:47, 741726.16it/s]\n",
            "  1%|          | 902144/169001437 [00:01<02:01, 1387127.48it/s]\n",
            "  1%|          | 1655808/169001437 [00:01<01:01, 2723988.63it/s]\n",
            "  1%|          | 1992704/169001437 [00:01<00:59, 2828611.85it/s]\n",
            "  2%|▏         | 2671616/169001437 [00:01<00:47, 3478348.52it/s]\n",
            "  2%|▏         | 3245056/169001437 [00:01<00:41, 4023426.61it/s]\n",
            "  2%|▏         | 3769344/169001437 [00:01<00:38, 4311789.15it/s]\n",
            "  3%|▎         | 4326400/169001437 [00:01<00:35, 4647115.54it/s]\n",
            "  3%|▎         | 4916224/169001437 [00:01<00:33, 4961093.37it/s]\n",
            "  3%|▎         | 5506048/169001437 [00:01<00:31, 5199222.30it/s]\n"
          ]
        },
        {
          "output_type": "display_data",
          "data": {
            "text/plain": [
              "<IPython.core.display.HTML object>"
            ],
            "text/html": [
              "== Status ==<br>Current time: 2022-03-23 15:56:21 (running for 00:00:06.81)<br>Memory usage on this node: 2.7/25.5 GiB<br>Using AsyncHyperBand: num_stopped=0\n",
              "Bracket: Iter 256.000: None | Iter 64.000: None | Iter 16.000: None | Iter 4.000: None | Iter 1.000: None<br>Resources requested: 2.0/4 CPUs, 1.0/1 GPUs, 0.0/14.55 GiB heap, 0.0/7.28 GiB objects (0.0/1.0 accelerator_type:T4)<br>Result logdir: /content/cords/RayLogs/GradMatchPB-Warm/lambda_2022-03-23_15-56-14<br>Number of trials: 3/27 (1 PENDING, 2 RUNNING)<br><table>\n",
              "<thead>\n",
              "<tr><th>Trial name     </th><th>status  </th><th>loc           </th><th style=\"text-align: right;\">   gamma</th><th style=\"text-align: right;\">  learning_rate</th><th style=\"text-align: right;\">  learning_rate1</th><th style=\"text-align: right;\">  learning_rate2</th><th style=\"text-align: right;\">  learning_rate3</th><th>nesterov  </th><th>scheduler       </th></tr>\n",
              "</thead>\n",
              "<tbody>\n",
              "<tr><td>lambda_c4aab18e</td><td>RUNNING </td><td>172.28.0.2:379</td><td style=\"text-align: right;\">0.118825</td><td style=\"text-align: right;\">     0.00920452</td><td style=\"text-align: right;\">      0.00212929</td><td style=\"text-align: right;\">      0.00973207</td><td style=\"text-align: right;\">      0.00250276</td><td>False     </td><td>cosine_annealing</td></tr>\n",
              "<tr><td>lambda_c6bec4ba</td><td>RUNNING </td><td>172.28.0.2:377</td><td style=\"text-align: right;\">0.202428</td><td style=\"text-align: right;\">     0.00226077</td><td style=\"text-align: right;\">      0.003864  </td><td style=\"text-align: right;\">      0.00544907</td><td style=\"text-align: right;\">      0.0095685 </td><td>False     </td><td>linear_decay    </td></tr>\n",
              "<tr><td>lambda_c6d1faa8</td><td>PENDING </td><td>              </td><td style=\"text-align: right;\">0.459251</td><td style=\"text-align: right;\">     0.00296394</td><td style=\"text-align: right;\">      0.00133386</td><td style=\"text-align: right;\">      0.00282896</td><td style=\"text-align: right;\">      0.00808592</td><td>False     </td><td>linear_decay    </td></tr>\n",
              "</tbody>\n",
              "</table><br><br>"
            ]
          },
          "metadata": {}
        },
        {
          "output_type": "stream",
          "name": "stderr",
          "text": [
            "  4%|▎         | 6095872/169001437 [00:01<00:30, 5366973.02it/s]\n",
            "  4%|▍         | 6725632/169001437 [00:02<00:28, 5636057.73it/s]\n",
            "  4%|▍         | 7341056/169001437 [00:02<00:27, 5785284.51it/s]\n",
            "  5%|▍         | 7996416/169001437 [00:02<00:26, 5982892.78it/s]\n",
            "  5%|▌         | 8668160/169001437 [00:02<00:25, 6189250.90it/s]\n",
            "  6%|▌         | 9356288/169001437 [00:02<00:25, 6373717.33it/s]\n",
            "  6%|▌         | 10061824/169001437 [00:02<00:24, 6575646.92it/s]\n",
            "  6%|▋         | 10781696/169001437 [00:02<00:23, 6742226.60it/s]\n"
          ]
        },
        {
          "output_type": "stream",
          "name": "stdout",
          "text": [
            "\u001b[2m\u001b[36m(<lambda> pid=377)\u001b[0m Downloading https://www.cs.toronto.edu/~kriz/cifar-100-python.tar.gz to /content/data/cifar-100-python.tar.gz\n"
          ]
        },
        {
          "output_type": "stream",
          "name": "stderr",
          "text": [
            "  7%|▋         | 11535360/169001437 [00:02<00:22, 6976648.13it/s]\n",
            "  7%|▋         | 12305408/169001437 [00:02<00:21, 7145981.16it/s]\n",
            "  8%|▊         | 13108224/169001437 [00:03<00:21, 7392751.28it/s]\n",
            "  8%|▊         | 13902848/169001437 [00:03<00:20, 7557491.72it/s]\n",
            "  0%|          | 0/169001437 [00:00<?, ?it/s]\n",
            "  9%|▊         | 14730240/169001437 [00:03<00:19, 7766187.13it/s]\n",
            "  9%|▉         | 15598592/169001437 [00:03<00:19, 8009623.93it/s]\n",
            "  0%|          | 1024/169001437 [00:00<7:46:27, 6038.34it/s]\n",
            " 10%|▉         | 16466944/169001437 [00:03<00:18, 8199725.59it/s]\n",
            "  0%|          | 33792/169001437 [00:00<24:32, 114734.74it/s]\n",
            " 10%|█         | 17400832/169001437 [00:03<00:17, 8476514.83it/s]\n",
            " 11%|█         | 18334720/169001437 [00:03<00:17, 8698242.53it/s]\n",
            "  0%|          | 82944/169001437 [00:00<14:35, 192920.67it/s]\n",
            " 11%|█▏        | 19301376/169001437 [00:03<00:16, 8975224.11it/s]\n",
            " 12%|█▏        | 20284416/169001437 [00:03<00:16, 9183324.79it/s]\n",
            "  0%|          | 214016/169001437 [00:00<06:48, 413014.95it/s]\n",
            " 13%|█▎        | 21316608/169001437 [00:03<00:15, 9466935.71it/s]\n",
            " 13%|█▎        | 22365184/169001437 [00:04<00:15, 9757748.52it/s]\n",
            "  0%|          | 443392/169001437 [00:00<03:47, 739637.66it/s]\n",
            " 14%|█▍        | 23413760/169001437 [00:04<00:14, 9960001.16it/s]\n",
            "  1%|          | 902144/169001437 [00:01<02:00, 1389552.35it/s]\n",
            " 15%|█▍        | 24534016/169001437 [00:04<00:13, 10330291.56it/s]\n",
            "  1%|          | 1672192/169001437 [00:01<01:00, 2769703.24it/s]\n",
            " 15%|█▌        | 25625600/169001437 [00:04<00:13, 10485625.72it/s]\n",
            "  1%|          | 2017280/169001437 [00:01<00:58, 2858624.58it/s]\n",
            " 16%|█▌        | 26805248/169001437 [00:04<00:13, 10866969.39it/s]\n",
            " 17%|█▋        | 27996160/169001437 [00:04<00:12, 11178331.17it/s]\n",
            "  2%|▏         | 2688000/169001437 [00:01<00:47, 3486407.11it/s]\n",
            " 17%|█▋        | 29230080/169001437 [00:04<00:12, 11460807.28it/s]\n",
            "  2%|▏         | 3343360/169001437 [00:01<00:39, 4226186.60it/s]\n",
            " 18%|█▊        | 30508032/169001437 [00:04<00:11, 11803035.01it/s]\n",
            "  2%|▏         | 3818496/169001437 [00:01<00:37, 4357573.13it/s]\n",
            " 19%|█▉        | 31785984/169001437 [00:04<00:11, 12063860.11it/s]\n",
            "  3%|▎         | 4473856/169001437 [00:01<00:33, 4932268.64it/s]\n",
            " 20%|██        | 34498560/169001437 [00:05<00:10, 12796164.51it/s]\n",
            "  3%|▎         | 4998144/169001437 [00:01<00:32, 4987864.81it/s]\n",
            " 21%|██        | 35881984/169001437 [00:05<00:10, 13090131.76it/s]\n",
            "  3%|▎         | 5620736/169001437 [00:01<00:31, 5142389.60it/s]\n",
            " 22%|██▏       | 37323776/169001437 [00:05<00:09, 13451344.76it/s]\n",
            "  4%|▎         | 6259712/169001437 [00:02<00:29, 5460602.83it/s]\n",
            " 23%|██▎       | 38814720/169001437 [00:05<00:09, 13830114.33it/s]\n",
            "  4%|▍         | 6849536/169001437 [00:02<00:29, 5569106.49it/s]\n",
            " 24%|██▍       | 40322048/169001437 [00:05<00:09, 14150923.53it/s]\n",
            "  4%|▍         | 7537664/169001437 [00:02<00:27, 5943401.72it/s]\n",
            " 25%|██▍       | 41878528/169001437 [00:05<00:08, 14558469.01it/s]\n",
            "  5%|▍         | 8193024/169001437 [00:02<00:26, 6111659.43it/s]\n"
          ]
        },
        {
          "output_type": "display_data",
          "data": {
            "text/plain": [
              "<IPython.core.display.HTML object>"
            ],
            "text/html": [
              "== Status ==<br>Current time: 2022-03-23 15:56:25 (running for 00:00:10.39)<br>Memory usage on this node: 2.7/25.5 GiB<br>Using AsyncHyperBand: num_stopped=0\n",
              "Bracket: Iter 256.000: None | Iter 64.000: None | Iter 16.000: None | Iter 4.000: None | Iter 1.000: None<br>Resources requested: 2.0/4 CPUs, 1.0/1 GPUs, 0.0/14.55 GiB heap, 0.0/7.28 GiB objects (0.0/1.0 accelerator_type:T4)<br>Result logdir: /content/cords/RayLogs/GradMatchPB-Warm/lambda_2022-03-23_15-56-14<br>Number of trials: 3/27 (1 PENDING, 2 RUNNING)<br><table>\n",
              "<thead>\n",
              "<tr><th>Trial name     </th><th>status  </th><th>loc           </th><th style=\"text-align: right;\">   gamma</th><th style=\"text-align: right;\">  learning_rate</th><th style=\"text-align: right;\">  learning_rate1</th><th style=\"text-align: right;\">  learning_rate2</th><th style=\"text-align: right;\">  learning_rate3</th><th>nesterov  </th><th>scheduler       </th></tr>\n",
              "</thead>\n",
              "<tbody>\n",
              "<tr><td>lambda_c4aab18e</td><td>RUNNING </td><td>172.28.0.2:379</td><td style=\"text-align: right;\">0.118825</td><td style=\"text-align: right;\">     0.00920452</td><td style=\"text-align: right;\">      0.00212929</td><td style=\"text-align: right;\">      0.00973207</td><td style=\"text-align: right;\">      0.00250276</td><td>False     </td><td>cosine_annealing</td></tr>\n",
              "<tr><td>lambda_c6bec4ba</td><td>RUNNING </td><td>172.28.0.2:377</td><td style=\"text-align: right;\">0.202428</td><td style=\"text-align: right;\">     0.00226077</td><td style=\"text-align: right;\">      0.003864  </td><td style=\"text-align: right;\">      0.00544907</td><td style=\"text-align: right;\">      0.0095685 </td><td>False     </td><td>linear_decay    </td></tr>\n",
              "<tr><td>lambda_c6d1faa8</td><td>PENDING </td><td>              </td><td style=\"text-align: right;\">0.459251</td><td style=\"text-align: right;\">     0.00296394</td><td style=\"text-align: right;\">      0.00133386</td><td style=\"text-align: right;\">      0.00282896</td><td style=\"text-align: right;\">      0.00808592</td><td>False     </td><td>linear_decay    </td></tr>\n",
              "</tbody>\n",
              "</table><br><br>"
            ]
          },
          "metadata": {}
        },
        {
          "output_type": "stream",
          "name": "stderr",
          "text": [
            "\u001b[2m\u001b[36m(<lambda> pid=379)\u001b[0m \r 26%|██▌       | 43533312/169001437 [00:05<00:08, 15119108.69it/s]\n",
            "  5%|▌         | 8897536/169001437 [00:02<00:25, 6347681.90it/s]\n",
            " 27%|██▋       | 45122560/169001437 [00:05<00:08, 15320026.42it/s]\n",
            "  6%|▌         | 9569280/169001437 [00:02<00:24, 6456410.90it/s]\n",
            " 28%|██▊       | 46662656/169001437 [00:05<00:08, 15250777.99it/s]\n",
            "  6%|▌         | 10257408/169001437 [00:02<00:24, 6519048.24it/s]\n",
            " 29%|██▊       | 48219136/169001437 [00:05<00:08, 14975924.51it/s]\n",
            "  7%|▋         | 11043840/169001437 [00:02<00:22, 6907642.50it/s]\n",
            " 30%|██▉       | 49899520/169001437 [00:06<00:07, 15511628.52it/s]\n",
            "  7%|▋         | 11781120/169001437 [00:02<00:22, 7023597.63it/s]\n",
            " 31%|███       | 51823616/169001437 [00:06<00:07, 16583210.38it/s]\n",
            "  7%|▋         | 12584960/169001437 [00:02<00:21, 7324513.66it/s]\n",
            " 32%|███▏      | 53576704/169001437 [00:06<00:06, 16863770.86it/s]\n",
            "  8%|▊         | 13386752/169001437 [00:03<00:20, 7515656.81it/s]\n",
            "  8%|▊         | 14189568/169001437 [00:03<00:20, 7648947.68it/s]\n",
            "  9%|▉         | 15107072/169001437 [00:03<00:19, 8081947.41it/s]\n",
            " 33%|███▎      | 55460864/169001437 [00:06<00:07, 15220589.29it/s]\n",
            "  9%|▉         | 15926272/169001437 [00:03<00:18, 8108996.53it/s]\n",
            " 34%|███▍      | 58164224/169001437 [00:06<00:06, 18330967.42it/s]\n",
            " 10%|▉         | 16876544/169001437 [00:03<00:17, 8500706.17it/s]\n",
            " 36%|███▌      | 60054528/169001437 [00:06<00:05, 18246325.12it/s]\n",
            " 11%|█         | 17810432/169001437 [00:03<00:17, 8727652.81it/s]\n",
            " 37%|███▋      | 61919232/169001437 [00:06<00:06, 16250271.41it/s]\n",
            " 11%|█         | 18777088/169001437 [00:03<00:16, 8933281.56it/s]\n",
            " 38%|███▊      | 64603136/169001437 [00:06<00:05, 19003905.89it/s]\n",
            " 12%|█▏        | 19809280/169001437 [00:03<00:15, 9337658.65it/s]\n",
            " 12%|█▏        | 20744192/169001437 [00:03<00:15, 9323897.40it/s]\n",
            " 39%|███▉      | 66586624/169001437 [00:06<00:06, 16668845.90it/s]\n",
            " 13%|█▎        | 21857280/169001437 [00:03<00:14, 9837520.89it/s]\n",
            " 41%|████      | 68469760/169001437 [00:07<00:05, 17213292.68it/s]\n",
            " 14%|█▎        | 22889472/169001437 [00:04<00:14, 9979204.95it/s]\n",
            " 42%|████▏     | 71042048/169001437 [00:07<00:05, 17109867.94it/s]\n",
            " 14%|█▍        | 23987200/169001437 [00:04<00:14, 10275887.61it/s]\n",
            " 43%|████▎     | 73073664/169001437 [00:07<00:05, 17902199.82it/s]\n",
            " 15%|█▍        | 25166848/169001437 [00:04<00:13, 10698412.23it/s]\n",
            " 44%|████▍     | 74920960/169001437 [00:07<00:05, 18048546.79it/s]\n",
            " 16%|█▌        | 26248192/169001437 [00:04<00:13, 10472649.63it/s]\n",
            " 46%|████▌     | 77235200/169001437 [00:07<00:04, 19438257.40it/s]\n",
            " 16%|█▋        | 27640832/169001437 [00:04<00:12, 11447429.40it/s]\n",
            " 17%|█▋        | 28810240/169001437 [00:04<00:12, 11520082.25it/s]\n",
            " 47%|████▋     | 79222784/169001437 [00:07<00:05, 17457954.07it/s]\n",
            " 18%|█▊        | 30114816/169001437 [00:04<00:11, 11956939.99it/s]\n",
            " 48%|████▊     | 81060864/169001437 [00:07<00:04, 17679336.15it/s]\n",
            " 49%|████▉     | 82920448/169001437 [00:07<00:04, 17887632.44it/s]\n",
            " 19%|█▊        | 31425536/169001437 [00:04<00:11, 12210195.40it/s]\n",
            " 50%|█████     | 84874240/169001437 [00:07<00:04, 18350078.08it/s]\n",
            " 19%|█▉        | 32769024/169001437 [00:04<00:10, 12531645.56it/s]\n",
            " 20%|██        | 34276352/169001437 [00:04<00:10, 13265461.02it/s]\n",
            " 51%|█████▏    | 86736896/169001437 [00:08<00:04, 17448207.06it/s]\n",
            " 21%|██        | 35619840/169001437 [00:05<00:10, 13253718.61it/s]\n",
            " 53%|█████▎    | 88736768/169001437 [00:08<00:04, 18065030.98it/s]\n",
            " 22%|██▏       | 37143552/169001437 [00:05<00:09, 13779762.46it/s]\n",
            " 54%|█████▎    | 90565632/169001437 [00:08<00:04, 16809264.30it/s]\n",
            " 23%|██▎       | 38610944/169001437 [00:05<00:09, 14045006.84it/s]\n",
            " 55%|█████▍    | 92767232/169001437 [00:08<00:04, 17614703.23it/s]\n",
            " 24%|██▍       | 40190976/169001437 [00:05<00:08, 14462807.42it/s]\n",
            " 56%|█████▌    | 94838784/169001437 [00:08<00:04, 18463810.26it/s]\n",
            " 25%|██▍       | 41846784/169001437 [00:05<00:08, 15084986.09it/s]\n",
            " 57%|█████▋    | 96708608/169001437 [00:08<00:03, 18514654.47it/s]\n",
            " 26%|██▌       | 43356160/169001437 [00:05<00:08, 15067312.09it/s]\n",
            " 58%|█████▊    | 98576384/169001437 [00:08<00:04, 17142018.60it/s]\n",
            " 27%|██▋       | 45188096/169001437 [00:05<00:07, 15907837.64it/s]\n",
            " 59%|█████▉    | 100467712/169001437 [00:08<00:03, 17594769.70it/s]\n",
            " 28%|██▊       | 46842880/169001437 [00:05<00:07, 15906066.05it/s]\n",
            " 61%|██████    | 102597632/169001437 [00:08<00:03, 18615582.00it/s]\n",
            " 29%|██▊       | 48433152/169001437 [00:05<00:07, 15848135.79it/s]\n",
            " 30%|██▉       | 50586624/169001437 [00:05<00:06, 17531537.35it/s]\n",
            " 62%|██████▏   | 104482816/169001437 [00:09<00:03, 16343005.88it/s]\n",
            " 31%|███       | 52341760/169001437 [00:06<00:06, 17173362.96it/s]\n",
            " 63%|██████▎   | 106915840/169001437 [00:09<00:03, 18447319.63it/s]\n",
            " 32%|███▏      | 54297600/169001437 [00:06<00:06, 17872648.32it/s]\n",
            " 64%|██████▍   | 108954624/169001437 [00:09<00:03, 18933313.88it/s]\n",
            " 66%|██████▌   | 110903296/169001437 [00:09<00:03, 16721930.84it/s]\n",
            " 33%|███▎      | 56088576/169001437 [00:06<00:07, 16104254.62it/s]\n",
            " 67%|██████▋   | 112944128/169001437 [00:09<00:03, 17679527.13it/s]\n",
            " 34%|███▍      | 58295296/169001437 [00:06<00:06, 17677264.65it/s]\n",
            " 68%|██████▊   | 115328000/169001437 [00:09<00:02, 19342905.43it/s]\n",
            " 36%|███▌      | 60441600/169001437 [00:06<00:05, 18617980.17it/s]\n",
            " 69%|██████▉   | 117329920/169001437 [00:09<00:03, 17101382.50it/s]\n",
            " 37%|███▋      | 62333952/169001437 [00:06<00:06, 16381312.85it/s]\n",
            " 70%|███████   | 119129088/169001437 [00:09<00:02, 17256475.43it/s]\n",
            " 38%|███▊      | 64675840/169001437 [00:06<00:05, 18233368.63it/s]\n",
            " 40%|███▉      | 66847744/169001437 [00:06<00:05, 19032556.32it/s]\n",
            " 72%|███████▏  | 121734144/169001437 [00:10<00:02, 17097975.40it/s]\n",
            " 41%|████      | 68807680/169001437 [00:07<00:05, 16932465.15it/s]\n",
            " 73%|███████▎  | 124049408/169001437 [00:10<00:02, 18616224.86it/s]\n",
            " 42%|████▏     | 70617088/169001437 [00:07<00:05, 17234053.45it/s]\n",
            " 75%|███████▍  | 125974528/169001437 [00:10<00:02, 18559563.17it/s]\n",
            " 76%|███████▌  | 127927296/169001437 [00:10<00:02, 16971299.28it/s]\n",
            " 43%|████▎     | 73155584/169001437 [00:07<00:05, 17513841.65it/s]\n",
            " 77%|███████▋  | 130233344/169001437 [00:10<00:02, 18548070.07it/s]\n",
            " 44%|████▍     | 74974208/169001437 [00:07<00:05, 17539059.35it/s]\n",
            " 45%|████▌     | 76792832/169001437 [00:07<00:05, 17705643.23it/s]\n",
            " 78%|███████▊  | 132149248/169001437 [00:10<00:02, 16498712.60it/s]\n",
            " 47%|████▋     | 79090688/169001437 [00:07<00:04, 19165413.91it/s]\n",
            " 80%|███████▉  | 134382592/169001437 [00:10<00:01, 17919439.55it/s]\n",
            " 48%|████▊     | 81034240/169001437 [00:07<00:05, 17586907.49it/s]\n"
          ]
        },
        {
          "output_type": "display_data",
          "data": {
            "text/plain": [
              "<IPython.core.display.HTML object>"
            ],
            "text/html": [
              "== Status ==<br>Current time: 2022-03-23 15:56:30 (running for 00:00:15.66)<br>Memory usage on this node: 2.7/25.5 GiB<br>Using AsyncHyperBand: num_stopped=0\n",
              "Bracket: Iter 256.000: None | Iter 64.000: None | Iter 16.000: None | Iter 4.000: None | Iter 1.000: None<br>Resources requested: 2.0/4 CPUs, 1.0/1 GPUs, 0.0/14.55 GiB heap, 0.0/7.28 GiB objects (0.0/1.0 accelerator_type:T4)<br>Result logdir: /content/cords/RayLogs/GradMatchPB-Warm/lambda_2022-03-23_15-56-14<br>Number of trials: 3/27 (1 PENDING, 2 RUNNING)<br><table>\n",
              "<thead>\n",
              "<tr><th>Trial name     </th><th>status  </th><th>loc           </th><th style=\"text-align: right;\">   gamma</th><th style=\"text-align: right;\">  learning_rate</th><th style=\"text-align: right;\">  learning_rate1</th><th style=\"text-align: right;\">  learning_rate2</th><th style=\"text-align: right;\">  learning_rate3</th><th>nesterov  </th><th>scheduler       </th></tr>\n",
              "</thead>\n",
              "<tbody>\n",
              "<tr><td>lambda_c4aab18e</td><td>RUNNING </td><td>172.28.0.2:379</td><td style=\"text-align: right;\">0.118825</td><td style=\"text-align: right;\">     0.00920452</td><td style=\"text-align: right;\">      0.00212929</td><td style=\"text-align: right;\">      0.00973207</td><td style=\"text-align: right;\">      0.00250276</td><td>False     </td><td>cosine_annealing</td></tr>\n",
              "<tr><td>lambda_c6bec4ba</td><td>RUNNING </td><td>172.28.0.2:377</td><td style=\"text-align: right;\">0.202428</td><td style=\"text-align: right;\">     0.00226077</td><td style=\"text-align: right;\">      0.003864  </td><td style=\"text-align: right;\">      0.00544907</td><td style=\"text-align: right;\">      0.0095685 </td><td>False     </td><td>linear_decay    </td></tr>\n",
              "<tr><td>lambda_c6d1faa8</td><td>PENDING </td><td>              </td><td style=\"text-align: right;\">0.459251</td><td style=\"text-align: right;\">     0.00296394</td><td style=\"text-align: right;\">      0.00133386</td><td style=\"text-align: right;\">      0.00282896</td><td style=\"text-align: right;\">      0.00808592</td><td>False     </td><td>linear_decay    </td></tr>\n",
              "</tbody>\n",
              "</table><br><br>"
            ]
          },
          "metadata": {}
        },
        {
          "output_type": "stream",
          "name": "stderr",
          "text": [
            "\u001b[2m\u001b[36m(<lambda> pid=379)\u001b[0m \r 81%|████████  | 136479744/169001437 [00:10<00:01, 18425342.82it/s]\n",
            " 49%|████▉     | 82832384/169001437 [00:07<00:04, 17665172.07it/s]\n",
            " 82%|████████▏ | 138380288/169001437 [00:11<00:01, 16523903.73it/s]\n",
            " 50%|█████     | 84729856/169001437 [00:07<00:04, 18029270.41it/s]\n",
            " 83%|████████▎ | 140854272/169001437 [00:11<00:01, 18631572.21it/s]\n",
            " 51%|█████     | 86555648/169001437 [00:07<00:04, 17676239.25it/s]\n",
            " 84%|████████▍ | 142801920/169001437 [00:11<00:01, 18852289.43it/s]\n",
            " 52%|█████▏    | 88622080/169001437 [00:08<00:04, 17745852.82it/s]\n",
            " 54%|█████▎    | 90571776/169001437 [00:08<00:04, 18228514.60it/s]\n",
            " 86%|████████▌ | 144748544/169001437 [00:11<00:01, 16812644.85it/s]\n",
            " 55%|█████▍    | 92439552/169001437 [00:08<00:04, 18201518.80it/s]\n",
            " 87%|████████▋ | 146703360/169001437 [00:11<00:01, 17427376.55it/s]\n",
            " 56%|█████▌    | 94267392/169001437 [00:08<00:04, 17121005.92it/s]\n",
            " 88%|████████▊ | 149079040/169001437 [00:11<00:01, 19123583.58it/s]\n",
            " 57%|█████▋    | 96388096/169001437 [00:08<00:04, 17932957.70it/s]\n",
            " 89%|████████▉ | 151055360/169001437 [00:11<00:01, 17107181.93it/s]\n",
            " 58%|█████▊    | 98354176/169001437 [00:08<00:03, 18207647.92it/s]\n",
            " 90%|█████████ | 152945664/169001437 [00:11<00:00, 17275002.80it/s]\n",
            " 59%|█████▉    | 100254720/169001437 [00:08<00:03, 18406179.63it/s]\n",
            " 92%|█████████▏| 155539456/169001437 [00:11<00:00, 19592125.00it/s]\n",
            " 93%|█████████▎| 157566976/169001437 [00:12<00:00, 17425341.39it/s]\n",
            " 60%|██████    | 102104064/169001437 [00:08<00:04, 16677663.92it/s]\n",
            " 62%|██████▏   | 104563712/169001437 [00:08<00:03, 18813664.28it/s]\n",
            " 94%|█████████▍| 159394816/169001437 [00:12<00:00, 17195929.29it/s]\n",
            " 63%|██████▎   | 106490880/169001437 [00:09<00:03, 18594399.02it/s]\n",
            " 96%|█████████▌| 161776640/169001437 [00:12<00:00, 17404783.69it/s]\n",
            " 64%|██████▍   | 108382208/169001437 [00:09<00:03, 16487175.17it/s]\n",
            " 97%|█████████▋| 163742720/169001437 [00:12<00:00, 17953829.20it/s]\n",
            " 66%|██████▌   | 110920704/169001437 [00:09<00:03, 18810245.02it/s]\n",
            " 98%|█████████▊| 165574656/169001437 [00:12<00:00, 17514888.00it/s]\n",
            " 99%|█████████▉| 167461888/169001437 [00:12<00:00, 16422118.10it/s]\n",
            " 67%|██████▋   | 112877568/169001437 [00:09<00:03, 16807019.77it/s]\n",
            "169001984it [00:12, 13231230.78it/s]                               \n",
            " 68%|██████▊   | 114820096/169001437 [00:09<00:03, 17198975.91it/s]\n",
            " 69%|██████▉   | 117078016/169001437 [00:09<00:02, 18621694.76it/s]\n",
            " 70%|███████   | 119030784/169001437 [00:09<00:02, 17087495.84it/s]\n",
            " 72%|███████▏  | 121062400/169001437 [00:09<00:02, 17636846.83it/s]\n",
            " 73%|███████▎  | 122962944/169001437 [00:10<00:02, 17499707.90it/s]\n"
          ]
        },
        {
          "output_type": "stream",
          "name": "stdout",
          "text": [
            "\u001b[2m\u001b[36m(<lambda> pid=379)\u001b[0m Extracting /content/data/cifar-100-python.tar.gz to /content/data/\n"
          ]
        },
        {
          "output_type": "stream",
          "name": "stderr",
          "text": [
            " 74%|███████▍  | 125043712/169001437 [00:10<00:02, 17131352.92it/s]\n",
            " 75%|███████▌  | 127288320/169001437 [00:10<00:02, 18245268.09it/s]\n",
            " 76%|███████▋  | 129140736/169001437 [00:10<00:02, 17175810.75it/s]\n",
            " 78%|███████▊  | 131154944/169001437 [00:10<00:02, 17338588.23it/s]\n",
            " 79%|███████▉  | 133448704/169001437 [00:10<00:01, 18536068.89it/s]\n",
            " 80%|████████  | 135323648/169001437 [00:10<00:01, 17066313.20it/s]\n",
            " 81%|████████  | 137282560/169001437 [00:10<00:01, 17480450.56it/s]\n",
            " 83%|████████▎ | 139592704/169001437 [00:11<00:01, 16890299.72it/s]\n",
            " 84%|████████▎ | 141328384/169001437 [00:11<00:01, 17009804.53it/s]\n",
            " 85%|████████▍ | 143410176/169001437 [00:11<00:01, 18030142.66it/s]\n",
            " 86%|████████▌ | 145638400/169001437 [00:11<00:01, 16779462.75it/s]\n",
            " 87%|████████▋ | 147358720/169001437 [00:11<00:01, 16875370.14it/s]\n",
            " 89%|████████▉ | 150144000/169001437 [00:11<00:01, 16738665.08it/s]\n",
            " 90%|█████████ | 152913920/169001437 [00:11<00:00, 19417947.65it/s]\n",
            " 92%|█████████▏| 154934272/169001437 [00:11<00:00, 17462872.93it/s]\n",
            " 93%|█████████▎| 156759040/169001437 [00:11<00:00, 17282012.15it/s]\n",
            " 94%|█████████▍| 158827520/169001437 [00:12<00:00, 15722648.73it/s]\n",
            " 96%|█████████▌| 161793024/169001437 [00:12<00:00, 19081062.53it/s]\n",
            " 97%|█████████▋| 163825664/169001437 [00:12<00:00, 19185003.91it/s]\n",
            " 98%|█████████▊| 165832704/169001437 [00:12<00:00, 16926874.19it/s]\n"
          ]
        },
        {
          "output_type": "stream",
          "name": "stdout",
          "text": [
            "\u001b[2m\u001b[36m(<lambda> pid=379)\u001b[0m Files already downloaded and verified\n"
          ]
        },
        {
          "output_type": "stream",
          "name": "stderr",
          "text": [
            "\u001b[2m\u001b[36m(<lambda> pid=377)\u001b[0m \r 99%|█████████▉| 168068096/169001437 [00:12<00:00, 16014226.12it/s]\r169001984it [00:12, 13328577.95it/s]                               \n"
          ]
        },
        {
          "output_type": "display_data",
          "data": {
            "text/plain": [
              "<IPython.core.display.HTML object>"
            ],
            "text/html": [
              "== Status ==<br>Current time: 2022-03-23 15:56:35 (running for 00:00:20.68)<br>Memory usage on this node: 2.7/25.5 GiB<br>Using AsyncHyperBand: num_stopped=0\n",
              "Bracket: Iter 256.000: None | Iter 64.000: None | Iter 16.000: None | Iter 4.000: None | Iter 1.000: None<br>Resources requested: 2.0/4 CPUs, 1.0/1 GPUs, 0.0/14.55 GiB heap, 0.0/7.28 GiB objects (0.0/1.0 accelerator_type:T4)<br>Result logdir: /content/cords/RayLogs/GradMatchPB-Warm/lambda_2022-03-23_15-56-14<br>Number of trials: 3/27 (1 PENDING, 2 RUNNING)<br><table>\n",
              "<thead>\n",
              "<tr><th>Trial name     </th><th>status  </th><th>loc           </th><th style=\"text-align: right;\">   gamma</th><th style=\"text-align: right;\">  learning_rate</th><th style=\"text-align: right;\">  learning_rate1</th><th style=\"text-align: right;\">  learning_rate2</th><th style=\"text-align: right;\">  learning_rate3</th><th>nesterov  </th><th>scheduler       </th></tr>\n",
              "</thead>\n",
              "<tbody>\n",
              "<tr><td>lambda_c4aab18e</td><td>RUNNING </td><td>172.28.0.2:379</td><td style=\"text-align: right;\">0.118825</td><td style=\"text-align: right;\">     0.00920452</td><td style=\"text-align: right;\">      0.00212929</td><td style=\"text-align: right;\">      0.00973207</td><td style=\"text-align: right;\">      0.00250276</td><td>False     </td><td>cosine_annealing</td></tr>\n",
              "<tr><td>lambda_c6bec4ba</td><td>RUNNING </td><td>172.28.0.2:377</td><td style=\"text-align: right;\">0.202428</td><td style=\"text-align: right;\">     0.00226077</td><td style=\"text-align: right;\">      0.003864  </td><td style=\"text-align: right;\">      0.00544907</td><td style=\"text-align: right;\">      0.0095685 </td><td>False     </td><td>linear_decay    </td></tr>\n",
              "<tr><td>lambda_c6d1faa8</td><td>PENDING </td><td>              </td><td style=\"text-align: right;\">0.459251</td><td style=\"text-align: right;\">     0.00296394</td><td style=\"text-align: right;\">      0.00133386</td><td style=\"text-align: right;\">      0.00282896</td><td style=\"text-align: right;\">      0.00808592</td><td>False     </td><td>linear_decay    </td></tr>\n",
              "</tbody>\n",
              "</table><br><br>"
            ]
          },
          "metadata": {}
        },
        {
          "output_type": "stream",
          "name": "stderr",
          "text": [
            "2022-03-23 15:56:35,570\tERROR trial_runner.py:920 -- Trial lambda_c4aab18e: Error processing event.\n",
            "Traceback (most recent call last):\n",
            "  File \"/usr/local/lib/python3.7/dist-packages/ray/tune/trial_runner.py\", line 886, in _process_trial\n",
            "    results = self.trial_executor.fetch_result(trial)\n",
            "  File \"/usr/local/lib/python3.7/dist-packages/ray/tune/ray_trial_executor.py\", line 675, in fetch_result\n",
            "    result = ray.get(trial_future[0], timeout=DEFAULT_GET_TIMEOUT)\n",
            "  File \"/usr/local/lib/python3.7/dist-packages/ray/_private/client_mode_hook.py\", line 105, in wrapper\n",
            "    return func(*args, **kwargs)\n",
            "  File \"/usr/local/lib/python3.7/dist-packages/ray/worker.py\", line 1763, in get\n",
            "    raise value.as_instanceof_cause()\n",
            "ray.exceptions.RayTaskError(TuneError): \u001b[36mray::ImplicitFunc.train()\u001b[39m (pid=379, ip=172.28.0.2, repr=<lambda>)\n",
            "  File \"/usr/local/lib/python3.7/dist-packages/ray/tune/trainable.py\", line 319, in train\n",
            "    result = self.step()\n",
            "  File \"/usr/local/lib/python3.7/dist-packages/ray/tune/function_runner.py\", line 381, in step\n",
            "    self._report_thread_runner_error(block=True)\n",
            "  File \"/usr/local/lib/python3.7/dist-packages/ray/tune/function_runner.py\", line 532, in _report_thread_runner_error\n",
            "    (\"Trial raised an exception. Traceback:\\n{}\".format(err_tb_str)\n",
            "ray.tune.error.TuneError: Trial raised an exception. Traceback:\n",
            "\u001b[36mray::ImplicitFunc.train()\u001b[39m (pid=379, ip=172.28.0.2, repr=<lambda>)\n",
            "  File \"/usr/local/lib/python3.7/dist-packages/ray/tune/function_runner.py\", line 262, in run\n",
            "    self._entrypoint()\n",
            "  File \"/usr/local/lib/python3.7/dist-packages/ray/tune/function_runner.py\", line 331, in entrypoint\n",
            "    self._status_reporter.get_checkpoint())\n",
            "  File \"/usr/local/lib/python3.7/dist-packages/ray/tune/function_runner.py\", line 600, in _trainable_func\n",
            "    output = fn()\n",
            "  File \"<ipython-input-12-61324f099a56>\", line 1, in <lambda>\n",
            "  File \"<ipython-input-11-16ce4a9acfac>\", line 7, in param_tune\n",
            "  File \"/content/cords/examples/HPO/image_classification/python_code/vision_train_sl.py\", line 196, in train\n",
            "    self.cfg.dataset.feature, dataset=self.cfg.dataset)\n",
            "  File \"/content/cords/cords/utils/data/datasets/SL/builder.py\", line 1287, in gen_dataset\n",
            "    transform=cifar100_tst_transform)\n",
            "  File \"/usr/local/lib/python3.7/dist-packages/torchvision/datasets/cifar.py\", line 69, in __init__\n",
            "    raise RuntimeError('Dataset not found or corrupted.' +\n",
            "RuntimeError: Dataset not found or corrupted. You can use download=True to download it\n",
            "\u001b[2m\u001b[36m(<lambda> pid=379)\u001b[0m 2022-03-23 15:56:35,524\tERROR function_runner.py:268 -- Runner Thread raised error.\n",
            "\u001b[2m\u001b[36m(<lambda> pid=379)\u001b[0m Traceback (most recent call last):\n",
            "\u001b[2m\u001b[36m(<lambda> pid=379)\u001b[0m   File \"/usr/local/lib/python3.7/dist-packages/ray/tune/function_runner.py\", line 262, in run\n",
            "\u001b[2m\u001b[36m(<lambda> pid=379)\u001b[0m     self._entrypoint()\n",
            "\u001b[2m\u001b[36m(<lambda> pid=379)\u001b[0m   File \"/usr/local/lib/python3.7/dist-packages/ray/tune/function_runner.py\", line 331, in entrypoint\n",
            "\u001b[2m\u001b[36m(<lambda> pid=379)\u001b[0m     self._status_reporter.get_checkpoint())\n",
            "\u001b[2m\u001b[36m(<lambda> pid=379)\u001b[0m   File \"/usr/local/lib/python3.7/dist-packages/ray/util/tracing/tracing_helper.py\", line 451, in _resume_span\n",
            "\u001b[2m\u001b[36m(<lambda> pid=379)\u001b[0m     return method(self, *_args, **_kwargs)\n",
            "\u001b[2m\u001b[36m(<lambda> pid=379)\u001b[0m   File \"/usr/local/lib/python3.7/dist-packages/ray/tune/function_runner.py\", line 600, in _trainable_func\n",
            "\u001b[2m\u001b[36m(<lambda> pid=379)\u001b[0m     output = fn()\n",
            "\u001b[2m\u001b[36m(<lambda> pid=379)\u001b[0m   File \"<ipython-input-12-61324f099a56>\", line 1, in <lambda>\n",
            "\u001b[2m\u001b[36m(<lambda> pid=379)\u001b[0m   File \"<ipython-input-11-16ce4a9acfac>\", line 7, in param_tune\n",
            "\u001b[2m\u001b[36m(<lambda> pid=379)\u001b[0m   File \"/content/cords/examples/HPO/image_classification/python_code/vision_train_sl.py\", line 196, in train\n",
            "\u001b[2m\u001b[36m(<lambda> pid=379)\u001b[0m     self.cfg.dataset.feature, dataset=self.cfg.dataset)\n",
            "\u001b[2m\u001b[36m(<lambda> pid=379)\u001b[0m   File \"/content/cords/cords/utils/data/datasets/SL/builder.py\", line 1287, in gen_dataset\n",
            "\u001b[2m\u001b[36m(<lambda> pid=379)\u001b[0m     transform=cifar100_tst_transform)\n",
            "\u001b[2m\u001b[36m(<lambda> pid=379)\u001b[0m   File \"/usr/local/lib/python3.7/dist-packages/torchvision/datasets/cifar.py\", line 69, in __init__\n",
            "\u001b[2m\u001b[36m(<lambda> pid=379)\u001b[0m     raise RuntimeError('Dataset not found or corrupted.' +\n",
            "\u001b[2m\u001b[36m(<lambda> pid=379)\u001b[0m RuntimeError: Dataset not found or corrupted. You can use download=True to download it\n",
            "\u001b[2m\u001b[36m(<lambda> pid=379)\u001b[0m Exception in thread Thread-6:\n",
            "\u001b[2m\u001b[36m(<lambda> pid=379)\u001b[0m Traceback (most recent call last):\n",
            "\u001b[2m\u001b[36m(<lambda> pid=379)\u001b[0m   File \"/usr/lib/python3.7/threading.py\", line 926, in _bootstrap_inner\n",
            "\u001b[2m\u001b[36m(<lambda> pid=379)\u001b[0m     self.run()\n",
            "\u001b[2m\u001b[36m(<lambda> pid=379)\u001b[0m   File \"/usr/local/lib/python3.7/dist-packages/ray/tune/function_runner.py\", line 281, in run\n",
            "\u001b[2m\u001b[36m(<lambda> pid=379)\u001b[0m     raise e\n",
            "\u001b[2m\u001b[36m(<lambda> pid=379)\u001b[0m   File \"/usr/local/lib/python3.7/dist-packages/ray/tune/function_runner.py\", line 262, in run\n",
            "\u001b[2m\u001b[36m(<lambda> pid=379)\u001b[0m     self._entrypoint()\n",
            "\u001b[2m\u001b[36m(<lambda> pid=379)\u001b[0m   File \"/usr/local/lib/python3.7/dist-packages/ray/tune/function_runner.py\", line 331, in entrypoint\n",
            "\u001b[2m\u001b[36m(<lambda> pid=379)\u001b[0m     self._status_reporter.get_checkpoint())\n",
            "\u001b[2m\u001b[36m(<lambda> pid=379)\u001b[0m   File \"/usr/local/lib/python3.7/dist-packages/ray/util/tracing/tracing_helper.py\", line 451, in _resume_span\n",
            "\u001b[2m\u001b[36m(<lambda> pid=379)\u001b[0m     return method(self, *_args, **_kwargs)\n",
            "\u001b[2m\u001b[36m(<lambda> pid=379)\u001b[0m   File \"/usr/local/lib/python3.7/dist-packages/ray/tune/function_runner.py\", line 600, in _trainable_func\n",
            "\u001b[2m\u001b[36m(<lambda> pid=379)\u001b[0m     output = fn()\n",
            "\u001b[2m\u001b[36m(<lambda> pid=379)\u001b[0m   File \"<ipython-input-12-61324f099a56>\", line 1, in <lambda>\n",
            "\u001b[2m\u001b[36m(<lambda> pid=379)\u001b[0m   File \"<ipython-input-11-16ce4a9acfac>\", line 7, in param_tune\n",
            "\u001b[2m\u001b[36m(<lambda> pid=379)\u001b[0m   File \"/content/cords/examples/HPO/image_classification/python_code/vision_train_sl.py\", line 196, in train\n",
            "\u001b[2m\u001b[36m(<lambda> pid=379)\u001b[0m     self.cfg.dataset.feature, dataset=self.cfg.dataset)\n",
            "\u001b[2m\u001b[36m(<lambda> pid=379)\u001b[0m   File \"/content/cords/cords/utils/data/datasets/SL/builder.py\", line 1287, in gen_dataset\n",
            "\u001b[2m\u001b[36m(<lambda> pid=379)\u001b[0m     transform=cifar100_tst_transform)\n",
            "\u001b[2m\u001b[36m(<lambda> pid=379)\u001b[0m   File \"/usr/local/lib/python3.7/dist-packages/torchvision/datasets/cifar.py\", line 69, in __init__\n",
            "\u001b[2m\u001b[36m(<lambda> pid=379)\u001b[0m     raise RuntimeError('Dataset not found or corrupted.' +\n",
            "\u001b[2m\u001b[36m(<lambda> pid=379)\u001b[0m RuntimeError: Dataset not found or corrupted. You can use download=True to download it\n",
            "\u001b[2m\u001b[36m(<lambda> pid=379)\u001b[0m \n"
          ]
        },
        {
          "output_type": "stream",
          "name": "stdout",
          "text": [
            "Result for lambda_c4aab18e:\n",
            "  date: 2022-03-23_15-56-18\n",
            "  experiment_id: d70b55a924164fffa92eb820ffae9219\n",
            "  hostname: d0b479f96c87\n",
            "  node_ip: 172.28.0.2\n",
            "  pid: 379\n",
            "  timestamp: 1648050978\n",
            "  trial_id: c4aab18e\n",
            "  \n",
            "\u001b[2m\u001b[36m(<lambda> pid=377)\u001b[0m Extracting /content/data/cifar-100-python.tar.gz to /content/data/\n",
            "\u001b[2m\u001b[36m(<lambda> pid=377)\u001b[0m Files already downloaded and verified\n"
          ]
        },
        {
          "output_type": "stream",
          "name": "stderr",
          "text": [
            "\u001b[2m\u001b[36m(bundle_reservation_check_func pid=378)\u001b[0m /usr/local/lib/python3.7/dist-packages/numba/np/ufunc/parallel.py:363: NumbaWarning: \u001b[1mThe TBB threading layer requires TBB version 2019.5 or later i.e., TBB_INTERFACE_VERSION >= 11005. Found TBB_INTERFACE_VERSION = 9107. The TBB threading layer is disabled.\u001b[0m\n",
            "\u001b[2m\u001b[36m(bundle_reservation_check_func pid=378)\u001b[0m   warnings.warn(problem)\n"
          ]
        },
        {
          "output_type": "display_data",
          "data": {
            "text/plain": [
              "<IPython.core.display.HTML object>"
            ],
            "text/html": [
              "== Status ==<br>Current time: 2022-03-23 15:56:42 (running for 00:00:27.51)<br>Memory usage on this node: 3.2/25.5 GiB<br>Using AsyncHyperBand: num_stopped=0\n",
              "Bracket: Iter 256.000: None | Iter 64.000: None | Iter 16.000: None | Iter 4.000: None | Iter 1.000: None<br>Resources requested: 2.0/4 CPUs, 1.0/1 GPUs, 0.0/14.55 GiB heap, 0.0/7.28 GiB objects (0.0/1.0 accelerator_type:T4)<br>Result logdir: /content/cords/RayLogs/GradMatchPB-Warm/lambda_2022-03-23_15-56-14<br>Number of trials: 4/27 (1 ERROR, 1 PENDING, 2 RUNNING)<br><table>\n",
              "<thead>\n",
              "<tr><th>Trial name     </th><th>status  </th><th>loc           </th><th style=\"text-align: right;\">   gamma</th><th style=\"text-align: right;\">  learning_rate</th><th style=\"text-align: right;\">  learning_rate1</th><th style=\"text-align: right;\">  learning_rate2</th><th style=\"text-align: right;\">  learning_rate3</th><th>nesterov  </th><th>scheduler       </th></tr>\n",
              "</thead>\n",
              "<tbody>\n",
              "<tr><td>lambda_c6bec4ba</td><td>RUNNING </td><td>172.28.0.2:377</td><td style=\"text-align: right;\">0.202428</td><td style=\"text-align: right;\">     0.00226077</td><td style=\"text-align: right;\">      0.003864  </td><td style=\"text-align: right;\">      0.00544907</td><td style=\"text-align: right;\">      0.0095685 </td><td>False     </td><td>linear_decay    </td></tr>\n",
              "<tr><td>lambda_c6d1faa8</td><td>RUNNING </td><td>172.28.0.2:378</td><td style=\"text-align: right;\">0.459251</td><td style=\"text-align: right;\">     0.00296394</td><td style=\"text-align: right;\">      0.00133386</td><td style=\"text-align: right;\">      0.00282896</td><td style=\"text-align: right;\">      0.00808592</td><td>False     </td><td>linear_decay    </td></tr>\n",
              "<tr><td>lambda_d2f23686</td><td>PENDING </td><td>              </td><td style=\"text-align: right;\">0.174301</td><td style=\"text-align: right;\">     0.00667646</td><td style=\"text-align: right;\">      0.00834047</td><td style=\"text-align: right;\">      0.00202991</td><td style=\"text-align: right;\">      0.00478505</td><td>True      </td><td>cosine_annealing</td></tr>\n",
              "<tr><td>lambda_c4aab18e</td><td>ERROR   </td><td>172.28.0.2:379</td><td style=\"text-align: right;\">0.118825</td><td style=\"text-align: right;\">     0.00920452</td><td style=\"text-align: right;\">      0.00212929</td><td style=\"text-align: right;\">      0.00973207</td><td style=\"text-align: right;\">      0.00250276</td><td>False     </td><td>cosine_annealing</td></tr>\n",
              "</tbody>\n",
              "</table><br>Number of errored trials: 1<br><table>\n",
              "<thead>\n",
              "<tr><th>Trial name     </th><th style=\"text-align: right;\">  # failures</th><th>error file                                                                                                                                                                                                                         </th></tr>\n",
              "</thead>\n",
              "<tbody>\n",
              "<tr><td>lambda_c4aab18e</td><td style=\"text-align: right;\">           1</td><td>/content/cords/RayLogs/GradMatchPB-Warm/lambda_2022-03-23_15-56-14/lambda_c4aab18e_1_gamma=0.11882,learning_rate=0.0092045,learning_rate1=0.0021293,learning_rate2=0.0097321,learning_rate3=0.0025028_2022-03-23_15-56-14/error.txt</td></tr>\n",
              "</tbody>\n",
              "</table><br>"
            ]
          },
          "metadata": {}
        },
        {
          "output_type": "stream",
          "name": "stdout",
          "text": [
            "\u001b[2m\u001b[36m(<lambda> pid=378)\u001b[0m Files already downloaded and verified\n",
            "\u001b[2m\u001b[36m(<lambda> pid=378)\u001b[0m Files already downloaded and verified\n"
          ]
        },
        {
          "output_type": "display_data",
          "data": {
            "text/plain": [
              "<IPython.core.display.HTML object>"
            ],
            "text/html": [
              "== Status ==<br>Current time: 2022-03-23 15:56:45 (running for 00:00:30.81)<br>Memory usage on this node: 4.0/25.5 GiB<br>Using AsyncHyperBand: num_stopped=0\n",
              "Bracket: Iter 256.000: None | Iter 64.000: None | Iter 16.000: None | Iter 4.000: None | Iter 1.000: None<br>Resources requested: 2.0/4 CPUs, 1.0/1 GPUs, 0.0/14.55 GiB heap, 0.0/7.28 GiB objects (0.0/1.0 accelerator_type:T4)<br>Result logdir: /content/cords/RayLogs/GradMatchPB-Warm/lambda_2022-03-23_15-56-14<br>Number of trials: 4/27 (1 ERROR, 1 PENDING, 2 RUNNING)<br><table>\n",
              "<thead>\n",
              "<tr><th>Trial name     </th><th>status  </th><th>loc           </th><th style=\"text-align: right;\">   gamma</th><th style=\"text-align: right;\">  learning_rate</th><th style=\"text-align: right;\">  learning_rate1</th><th style=\"text-align: right;\">  learning_rate2</th><th style=\"text-align: right;\">  learning_rate3</th><th>nesterov  </th><th>scheduler       </th></tr>\n",
              "</thead>\n",
              "<tbody>\n",
              "<tr><td>lambda_c6bec4ba</td><td>RUNNING </td><td>172.28.0.2:377</td><td style=\"text-align: right;\">0.202428</td><td style=\"text-align: right;\">     0.00226077</td><td style=\"text-align: right;\">      0.003864  </td><td style=\"text-align: right;\">      0.00544907</td><td style=\"text-align: right;\">      0.0095685 </td><td>False     </td><td>linear_decay    </td></tr>\n",
              "<tr><td>lambda_c6d1faa8</td><td>RUNNING </td><td>172.28.0.2:378</td><td style=\"text-align: right;\">0.459251</td><td style=\"text-align: right;\">     0.00296394</td><td style=\"text-align: right;\">      0.00133386</td><td style=\"text-align: right;\">      0.00282896</td><td style=\"text-align: right;\">      0.00808592</td><td>False     </td><td>linear_decay    </td></tr>\n",
              "<tr><td>lambda_d2f23686</td><td>PENDING </td><td>              </td><td style=\"text-align: right;\">0.174301</td><td style=\"text-align: right;\">     0.00667646</td><td style=\"text-align: right;\">      0.00834047</td><td style=\"text-align: right;\">      0.00202991</td><td style=\"text-align: right;\">      0.00478505</td><td>True      </td><td>cosine_annealing</td></tr>\n",
              "<tr><td>lambda_c4aab18e</td><td>ERROR   </td><td>172.28.0.2:379</td><td style=\"text-align: right;\">0.118825</td><td style=\"text-align: right;\">     0.00920452</td><td style=\"text-align: right;\">      0.00212929</td><td style=\"text-align: right;\">      0.00973207</td><td style=\"text-align: right;\">      0.00250276</td><td>False     </td><td>cosine_annealing</td></tr>\n",
              "</tbody>\n",
              "</table><br>Number of errored trials: 1<br><table>\n",
              "<thead>\n",
              "<tr><th>Trial name     </th><th style=\"text-align: right;\">  # failures</th><th>error file                                                                                                                                                                                                                         </th></tr>\n",
              "</thead>\n",
              "<tbody>\n",
              "<tr><td>lambda_c4aab18e</td><td style=\"text-align: right;\">           1</td><td>/content/cords/RayLogs/GradMatchPB-Warm/lambda_2022-03-23_15-56-14/lambda_c4aab18e_1_gamma=0.11882,learning_rate=0.0092045,learning_rate1=0.0021293,learning_rate2=0.0097321,learning_rate3=0.0025028_2022-03-23_15-56-14/error.txt</td></tr>\n",
              "</tbody>\n",
              "</table><br>"
            ]
          },
          "metadata": {}
        },
        {
          "output_type": "display_data",
          "data": {
            "text/plain": [
              "<IPython.core.display.HTML object>"
            ],
            "text/html": [
              "== Status ==<br>Current time: 2022-03-23 15:56:50 (running for 00:00:36.11)<br>Memory usage on this node: 6.3/25.5 GiB<br>Using AsyncHyperBand: num_stopped=0\n",
              "Bracket: Iter 256.000: None | Iter 64.000: None | Iter 16.000: None | Iter 4.000: None | Iter 1.000: None<br>Resources requested: 2.0/4 CPUs, 1.0/1 GPUs, 0.0/14.55 GiB heap, 0.0/7.28 GiB objects (0.0/1.0 accelerator_type:T4)<br>Result logdir: /content/cords/RayLogs/GradMatchPB-Warm/lambda_2022-03-23_15-56-14<br>Number of trials: 4/27 (1 ERROR, 1 PENDING, 2 RUNNING)<br><table>\n",
              "<thead>\n",
              "<tr><th>Trial name     </th><th>status  </th><th>loc           </th><th style=\"text-align: right;\">   gamma</th><th style=\"text-align: right;\">  learning_rate</th><th style=\"text-align: right;\">  learning_rate1</th><th style=\"text-align: right;\">  learning_rate2</th><th style=\"text-align: right;\">  learning_rate3</th><th>nesterov  </th><th>scheduler       </th></tr>\n",
              "</thead>\n",
              "<tbody>\n",
              "<tr><td>lambda_c6bec4ba</td><td>RUNNING </td><td>172.28.0.2:377</td><td style=\"text-align: right;\">0.202428</td><td style=\"text-align: right;\">     0.00226077</td><td style=\"text-align: right;\">      0.003864  </td><td style=\"text-align: right;\">      0.00544907</td><td style=\"text-align: right;\">      0.0095685 </td><td>False     </td><td>linear_decay    </td></tr>\n",
              "<tr><td>lambda_c6d1faa8</td><td>RUNNING </td><td>172.28.0.2:378</td><td style=\"text-align: right;\">0.459251</td><td style=\"text-align: right;\">     0.00296394</td><td style=\"text-align: right;\">      0.00133386</td><td style=\"text-align: right;\">      0.00282896</td><td style=\"text-align: right;\">      0.00808592</td><td>False     </td><td>linear_decay    </td></tr>\n",
              "<tr><td>lambda_d2f23686</td><td>PENDING </td><td>              </td><td style=\"text-align: right;\">0.174301</td><td style=\"text-align: right;\">     0.00667646</td><td style=\"text-align: right;\">      0.00834047</td><td style=\"text-align: right;\">      0.00202991</td><td style=\"text-align: right;\">      0.00478505</td><td>True      </td><td>cosine_annealing</td></tr>\n",
              "<tr><td>lambda_c4aab18e</td><td>ERROR   </td><td>172.28.0.2:379</td><td style=\"text-align: right;\">0.118825</td><td style=\"text-align: right;\">     0.00920452</td><td style=\"text-align: right;\">      0.00212929</td><td style=\"text-align: right;\">      0.00973207</td><td style=\"text-align: right;\">      0.00250276</td><td>False     </td><td>cosine_annealing</td></tr>\n",
              "</tbody>\n",
              "</table><br>Number of errored trials: 1<br><table>\n",
              "<thead>\n",
              "<tr><th>Trial name     </th><th style=\"text-align: right;\">  # failures</th><th>error file                                                                                                                                                                                                                         </th></tr>\n",
              "</thead>\n",
              "<tbody>\n",
              "<tr><td>lambda_c4aab18e</td><td style=\"text-align: right;\">           1</td><td>/content/cords/RayLogs/GradMatchPB-Warm/lambda_2022-03-23_15-56-14/lambda_c4aab18e_1_gamma=0.11882,learning_rate=0.0092045,learning_rate1=0.0021293,learning_rate2=0.0097321,learning_rate3=0.0025028_2022-03-23_15-56-14/error.txt</td></tr>\n",
              "</tbody>\n",
              "</table><br>"
            ]
          },
          "metadata": {}
        },
        {
          "output_type": "display_data",
          "data": {
            "text/plain": [
              "<IPython.core.display.HTML object>"
            ],
            "text/html": [
              "== Status ==<br>Current time: 2022-03-23 15:56:55 (running for 00:00:41.13)<br>Memory usage on this node: 6.3/25.5 GiB<br>Using AsyncHyperBand: num_stopped=0\n",
              "Bracket: Iter 256.000: None | Iter 64.000: None | Iter 16.000: None | Iter 4.000: None | Iter 1.000: None<br>Resources requested: 2.0/4 CPUs, 1.0/1 GPUs, 0.0/14.55 GiB heap, 0.0/7.28 GiB objects (0.0/1.0 accelerator_type:T4)<br>Result logdir: /content/cords/RayLogs/GradMatchPB-Warm/lambda_2022-03-23_15-56-14<br>Number of trials: 4/27 (1 ERROR, 1 PENDING, 2 RUNNING)<br><table>\n",
              "<thead>\n",
              "<tr><th>Trial name     </th><th>status  </th><th>loc           </th><th style=\"text-align: right;\">   gamma</th><th style=\"text-align: right;\">  learning_rate</th><th style=\"text-align: right;\">  learning_rate1</th><th style=\"text-align: right;\">  learning_rate2</th><th style=\"text-align: right;\">  learning_rate3</th><th>nesterov  </th><th>scheduler       </th></tr>\n",
              "</thead>\n",
              "<tbody>\n",
              "<tr><td>lambda_c6bec4ba</td><td>RUNNING </td><td>172.28.0.2:377</td><td style=\"text-align: right;\">0.202428</td><td style=\"text-align: right;\">     0.00226077</td><td style=\"text-align: right;\">      0.003864  </td><td style=\"text-align: right;\">      0.00544907</td><td style=\"text-align: right;\">      0.0095685 </td><td>False     </td><td>linear_decay    </td></tr>\n",
              "<tr><td>lambda_c6d1faa8</td><td>RUNNING </td><td>172.28.0.2:378</td><td style=\"text-align: right;\">0.459251</td><td style=\"text-align: right;\">     0.00296394</td><td style=\"text-align: right;\">      0.00133386</td><td style=\"text-align: right;\">      0.00282896</td><td style=\"text-align: right;\">      0.00808592</td><td>False     </td><td>linear_decay    </td></tr>\n",
              "<tr><td>lambda_d2f23686</td><td>PENDING </td><td>              </td><td style=\"text-align: right;\">0.174301</td><td style=\"text-align: right;\">     0.00667646</td><td style=\"text-align: right;\">      0.00834047</td><td style=\"text-align: right;\">      0.00202991</td><td style=\"text-align: right;\">      0.00478505</td><td>True      </td><td>cosine_annealing</td></tr>\n",
              "<tr><td>lambda_c4aab18e</td><td>ERROR   </td><td>172.28.0.2:379</td><td style=\"text-align: right;\">0.118825</td><td style=\"text-align: right;\">     0.00920452</td><td style=\"text-align: right;\">      0.00212929</td><td style=\"text-align: right;\">      0.00973207</td><td style=\"text-align: right;\">      0.00250276</td><td>False     </td><td>cosine_annealing</td></tr>\n",
              "</tbody>\n",
              "</table><br>Number of errored trials: 1<br><table>\n",
              "<thead>\n",
              "<tr><th>Trial name     </th><th style=\"text-align: right;\">  # failures</th><th>error file                                                                                                                                                                                                                         </th></tr>\n",
              "</thead>\n",
              "<tbody>\n",
              "<tr><td>lambda_c4aab18e</td><td style=\"text-align: right;\">           1</td><td>/content/cords/RayLogs/GradMatchPB-Warm/lambda_2022-03-23_15-56-14/lambda_c4aab18e_1_gamma=0.11882,learning_rate=0.0092045,learning_rate1=0.0021293,learning_rate2=0.0097321,learning_rate3=0.0025028_2022-03-23_15-56-14/error.txt</td></tr>\n",
              "</tbody>\n",
              "</table><br>"
            ]
          },
          "metadata": {}
        },
        {
          "output_type": "display_data",
          "data": {
            "text/plain": [
              "<IPython.core.display.HTML object>"
            ],
            "text/html": [
              "== Status ==<br>Current time: 2022-03-23 15:57:00 (running for 00:00:46.15)<br>Memory usage on this node: 6.3/25.5 GiB<br>Using AsyncHyperBand: num_stopped=0\n",
              "Bracket: Iter 256.000: None | Iter 64.000: None | Iter 16.000: None | Iter 4.000: None | Iter 1.000: None<br>Resources requested: 2.0/4 CPUs, 1.0/1 GPUs, 0.0/14.55 GiB heap, 0.0/7.28 GiB objects (0.0/1.0 accelerator_type:T4)<br>Result logdir: /content/cords/RayLogs/GradMatchPB-Warm/lambda_2022-03-23_15-56-14<br>Number of trials: 4/27 (1 ERROR, 1 PENDING, 2 RUNNING)<br><table>\n",
              "<thead>\n",
              "<tr><th>Trial name     </th><th>status  </th><th>loc           </th><th style=\"text-align: right;\">   gamma</th><th style=\"text-align: right;\">  learning_rate</th><th style=\"text-align: right;\">  learning_rate1</th><th style=\"text-align: right;\">  learning_rate2</th><th style=\"text-align: right;\">  learning_rate3</th><th>nesterov  </th><th>scheduler       </th></tr>\n",
              "</thead>\n",
              "<tbody>\n",
              "<tr><td>lambda_c6bec4ba</td><td>RUNNING </td><td>172.28.0.2:377</td><td style=\"text-align: right;\">0.202428</td><td style=\"text-align: right;\">     0.00226077</td><td style=\"text-align: right;\">      0.003864  </td><td style=\"text-align: right;\">      0.00544907</td><td style=\"text-align: right;\">      0.0095685 </td><td>False     </td><td>linear_decay    </td></tr>\n",
              "<tr><td>lambda_c6d1faa8</td><td>RUNNING </td><td>172.28.0.2:378</td><td style=\"text-align: right;\">0.459251</td><td style=\"text-align: right;\">     0.00296394</td><td style=\"text-align: right;\">      0.00133386</td><td style=\"text-align: right;\">      0.00282896</td><td style=\"text-align: right;\">      0.00808592</td><td>False     </td><td>linear_decay    </td></tr>\n",
              "<tr><td>lambda_d2f23686</td><td>PENDING </td><td>              </td><td style=\"text-align: right;\">0.174301</td><td style=\"text-align: right;\">     0.00667646</td><td style=\"text-align: right;\">      0.00834047</td><td style=\"text-align: right;\">      0.00202991</td><td style=\"text-align: right;\">      0.00478505</td><td>True      </td><td>cosine_annealing</td></tr>\n",
              "<tr><td>lambda_c4aab18e</td><td>ERROR   </td><td>172.28.0.2:379</td><td style=\"text-align: right;\">0.118825</td><td style=\"text-align: right;\">     0.00920452</td><td style=\"text-align: right;\">      0.00212929</td><td style=\"text-align: right;\">      0.00973207</td><td style=\"text-align: right;\">      0.00250276</td><td>False     </td><td>cosine_annealing</td></tr>\n",
              "</tbody>\n",
              "</table><br>Number of errored trials: 1<br><table>\n",
              "<thead>\n",
              "<tr><th>Trial name     </th><th style=\"text-align: right;\">  # failures</th><th>error file                                                                                                                                                                                                                         </th></tr>\n",
              "</thead>\n",
              "<tbody>\n",
              "<tr><td>lambda_c4aab18e</td><td style=\"text-align: right;\">           1</td><td>/content/cords/RayLogs/GradMatchPB-Warm/lambda_2022-03-23_15-56-14/lambda_c4aab18e_1_gamma=0.11882,learning_rate=0.0092045,learning_rate1=0.0021293,learning_rate2=0.0097321,learning_rate3=0.0025028_2022-03-23_15-56-14/error.txt</td></tr>\n",
              "</tbody>\n",
              "</table><br>"
            ]
          },
          "metadata": {}
        },
        {
          "output_type": "display_data",
          "data": {
            "text/plain": [
              "<IPython.core.display.HTML object>"
            ],
            "text/html": [
              "== Status ==<br>Current time: 2022-03-23 15:57:05 (running for 00:00:51.17)<br>Memory usage on this node: 6.3/25.5 GiB<br>Using AsyncHyperBand: num_stopped=0\n",
              "Bracket: Iter 256.000: None | Iter 64.000: None | Iter 16.000: None | Iter 4.000: None | Iter 1.000: None<br>Resources requested: 2.0/4 CPUs, 1.0/1 GPUs, 0.0/14.55 GiB heap, 0.0/7.28 GiB objects (0.0/1.0 accelerator_type:T4)<br>Result logdir: /content/cords/RayLogs/GradMatchPB-Warm/lambda_2022-03-23_15-56-14<br>Number of trials: 4/27 (1 ERROR, 1 PENDING, 2 RUNNING)<br><table>\n",
              "<thead>\n",
              "<tr><th>Trial name     </th><th>status  </th><th>loc           </th><th style=\"text-align: right;\">   gamma</th><th style=\"text-align: right;\">  learning_rate</th><th style=\"text-align: right;\">  learning_rate1</th><th style=\"text-align: right;\">  learning_rate2</th><th style=\"text-align: right;\">  learning_rate3</th><th>nesterov  </th><th>scheduler       </th></tr>\n",
              "</thead>\n",
              "<tbody>\n",
              "<tr><td>lambda_c6bec4ba</td><td>RUNNING </td><td>172.28.0.2:377</td><td style=\"text-align: right;\">0.202428</td><td style=\"text-align: right;\">     0.00226077</td><td style=\"text-align: right;\">      0.003864  </td><td style=\"text-align: right;\">      0.00544907</td><td style=\"text-align: right;\">      0.0095685 </td><td>False     </td><td>linear_decay    </td></tr>\n",
              "<tr><td>lambda_c6d1faa8</td><td>RUNNING </td><td>172.28.0.2:378</td><td style=\"text-align: right;\">0.459251</td><td style=\"text-align: right;\">     0.00296394</td><td style=\"text-align: right;\">      0.00133386</td><td style=\"text-align: right;\">      0.00282896</td><td style=\"text-align: right;\">      0.00808592</td><td>False     </td><td>linear_decay    </td></tr>\n",
              "<tr><td>lambda_d2f23686</td><td>PENDING </td><td>              </td><td style=\"text-align: right;\">0.174301</td><td style=\"text-align: right;\">     0.00667646</td><td style=\"text-align: right;\">      0.00834047</td><td style=\"text-align: right;\">      0.00202991</td><td style=\"text-align: right;\">      0.00478505</td><td>True      </td><td>cosine_annealing</td></tr>\n",
              "<tr><td>lambda_c4aab18e</td><td>ERROR   </td><td>172.28.0.2:379</td><td style=\"text-align: right;\">0.118825</td><td style=\"text-align: right;\">     0.00920452</td><td style=\"text-align: right;\">      0.00212929</td><td style=\"text-align: right;\">      0.00973207</td><td style=\"text-align: right;\">      0.00250276</td><td>False     </td><td>cosine_annealing</td></tr>\n",
              "</tbody>\n",
              "</table><br>Number of errored trials: 1<br><table>\n",
              "<thead>\n",
              "<tr><th>Trial name     </th><th style=\"text-align: right;\">  # failures</th><th>error file                                                                                                                                                                                                                         </th></tr>\n",
              "</thead>\n",
              "<tbody>\n",
              "<tr><td>lambda_c4aab18e</td><td style=\"text-align: right;\">           1</td><td>/content/cords/RayLogs/GradMatchPB-Warm/lambda_2022-03-23_15-56-14/lambda_c4aab18e_1_gamma=0.11882,learning_rate=0.0092045,learning_rate1=0.0021293,learning_rate2=0.0097321,learning_rate3=0.0025028_2022-03-23_15-56-14/error.txt</td></tr>\n",
              "</tbody>\n",
              "</table><br>"
            ]
          },
          "metadata": {}
        },
        {
          "output_type": "display_data",
          "data": {
            "text/plain": [
              "<IPython.core.display.HTML object>"
            ],
            "text/html": [
              "== Status ==<br>Current time: 2022-03-23 15:57:10 (running for 00:00:56.19)<br>Memory usage on this node: 6.3/25.5 GiB<br>Using AsyncHyperBand: num_stopped=0\n",
              "Bracket: Iter 256.000: None | Iter 64.000: None | Iter 16.000: None | Iter 4.000: None | Iter 1.000: None<br>Resources requested: 2.0/4 CPUs, 1.0/1 GPUs, 0.0/14.55 GiB heap, 0.0/7.28 GiB objects (0.0/1.0 accelerator_type:T4)<br>Result logdir: /content/cords/RayLogs/GradMatchPB-Warm/lambda_2022-03-23_15-56-14<br>Number of trials: 4/27 (1 ERROR, 1 PENDING, 2 RUNNING)<br><table>\n",
              "<thead>\n",
              "<tr><th>Trial name     </th><th>status  </th><th>loc           </th><th style=\"text-align: right;\">   gamma</th><th style=\"text-align: right;\">  learning_rate</th><th style=\"text-align: right;\">  learning_rate1</th><th style=\"text-align: right;\">  learning_rate2</th><th style=\"text-align: right;\">  learning_rate3</th><th>nesterov  </th><th>scheduler       </th></tr>\n",
              "</thead>\n",
              "<tbody>\n",
              "<tr><td>lambda_c6bec4ba</td><td>RUNNING </td><td>172.28.0.2:377</td><td style=\"text-align: right;\">0.202428</td><td style=\"text-align: right;\">     0.00226077</td><td style=\"text-align: right;\">      0.003864  </td><td style=\"text-align: right;\">      0.00544907</td><td style=\"text-align: right;\">      0.0095685 </td><td>False     </td><td>linear_decay    </td></tr>\n",
              "<tr><td>lambda_c6d1faa8</td><td>RUNNING </td><td>172.28.0.2:378</td><td style=\"text-align: right;\">0.459251</td><td style=\"text-align: right;\">     0.00296394</td><td style=\"text-align: right;\">      0.00133386</td><td style=\"text-align: right;\">      0.00282896</td><td style=\"text-align: right;\">      0.00808592</td><td>False     </td><td>linear_decay    </td></tr>\n",
              "<tr><td>lambda_d2f23686</td><td>PENDING </td><td>              </td><td style=\"text-align: right;\">0.174301</td><td style=\"text-align: right;\">     0.00667646</td><td style=\"text-align: right;\">      0.00834047</td><td style=\"text-align: right;\">      0.00202991</td><td style=\"text-align: right;\">      0.00478505</td><td>True      </td><td>cosine_annealing</td></tr>\n",
              "<tr><td>lambda_c4aab18e</td><td>ERROR   </td><td>172.28.0.2:379</td><td style=\"text-align: right;\">0.118825</td><td style=\"text-align: right;\">     0.00920452</td><td style=\"text-align: right;\">      0.00212929</td><td style=\"text-align: right;\">      0.00973207</td><td style=\"text-align: right;\">      0.00250276</td><td>False     </td><td>cosine_annealing</td></tr>\n",
              "</tbody>\n",
              "</table><br>Number of errored trials: 1<br><table>\n",
              "<thead>\n",
              "<tr><th>Trial name     </th><th style=\"text-align: right;\">  # failures</th><th>error file                                                                                                                                                                                                                         </th></tr>\n",
              "</thead>\n",
              "<tbody>\n",
              "<tr><td>lambda_c4aab18e</td><td style=\"text-align: right;\">           1</td><td>/content/cords/RayLogs/GradMatchPB-Warm/lambda_2022-03-23_15-56-14/lambda_c4aab18e_1_gamma=0.11882,learning_rate=0.0092045,learning_rate1=0.0021293,learning_rate2=0.0097321,learning_rate3=0.0025028_2022-03-23_15-56-14/error.txt</td></tr>\n",
              "</tbody>\n",
              "</table><br>"
            ]
          },
          "metadata": {}
        },
        {
          "output_type": "display_data",
          "data": {
            "text/plain": [
              "<IPython.core.display.HTML object>"
            ],
            "text/html": [
              "== Status ==<br>Current time: 2022-03-23 15:57:15 (running for 00:01:01.21)<br>Memory usage on this node: 6.3/25.5 GiB<br>Using AsyncHyperBand: num_stopped=0\n",
              "Bracket: Iter 256.000: None | Iter 64.000: None | Iter 16.000: None | Iter 4.000: None | Iter 1.000: None<br>Resources requested: 2.0/4 CPUs, 1.0/1 GPUs, 0.0/14.55 GiB heap, 0.0/7.28 GiB objects (0.0/1.0 accelerator_type:T4)<br>Result logdir: /content/cords/RayLogs/GradMatchPB-Warm/lambda_2022-03-23_15-56-14<br>Number of trials: 4/27 (1 ERROR, 1 PENDING, 2 RUNNING)<br><table>\n",
              "<thead>\n",
              "<tr><th>Trial name     </th><th>status  </th><th>loc           </th><th style=\"text-align: right;\">   gamma</th><th style=\"text-align: right;\">  learning_rate</th><th style=\"text-align: right;\">  learning_rate1</th><th style=\"text-align: right;\">  learning_rate2</th><th style=\"text-align: right;\">  learning_rate3</th><th>nesterov  </th><th>scheduler       </th></tr>\n",
              "</thead>\n",
              "<tbody>\n",
              "<tr><td>lambda_c6bec4ba</td><td>RUNNING </td><td>172.28.0.2:377</td><td style=\"text-align: right;\">0.202428</td><td style=\"text-align: right;\">     0.00226077</td><td style=\"text-align: right;\">      0.003864  </td><td style=\"text-align: right;\">      0.00544907</td><td style=\"text-align: right;\">      0.0095685 </td><td>False     </td><td>linear_decay    </td></tr>\n",
              "<tr><td>lambda_c6d1faa8</td><td>RUNNING </td><td>172.28.0.2:378</td><td style=\"text-align: right;\">0.459251</td><td style=\"text-align: right;\">     0.00296394</td><td style=\"text-align: right;\">      0.00133386</td><td style=\"text-align: right;\">      0.00282896</td><td style=\"text-align: right;\">      0.00808592</td><td>False     </td><td>linear_decay    </td></tr>\n",
              "<tr><td>lambda_d2f23686</td><td>PENDING </td><td>              </td><td style=\"text-align: right;\">0.174301</td><td style=\"text-align: right;\">     0.00667646</td><td style=\"text-align: right;\">      0.00834047</td><td style=\"text-align: right;\">      0.00202991</td><td style=\"text-align: right;\">      0.00478505</td><td>True      </td><td>cosine_annealing</td></tr>\n",
              "<tr><td>lambda_c4aab18e</td><td>ERROR   </td><td>172.28.0.2:379</td><td style=\"text-align: right;\">0.118825</td><td style=\"text-align: right;\">     0.00920452</td><td style=\"text-align: right;\">      0.00212929</td><td style=\"text-align: right;\">      0.00973207</td><td style=\"text-align: right;\">      0.00250276</td><td>False     </td><td>cosine_annealing</td></tr>\n",
              "</tbody>\n",
              "</table><br>Number of errored trials: 1<br><table>\n",
              "<thead>\n",
              "<tr><th>Trial name     </th><th style=\"text-align: right;\">  # failures</th><th>error file                                                                                                                                                                                                                         </th></tr>\n",
              "</thead>\n",
              "<tbody>\n",
              "<tr><td>lambda_c4aab18e</td><td style=\"text-align: right;\">           1</td><td>/content/cords/RayLogs/GradMatchPB-Warm/lambda_2022-03-23_15-56-14/lambda_c4aab18e_1_gamma=0.11882,learning_rate=0.0092045,learning_rate1=0.0021293,learning_rate2=0.0097321,learning_rate3=0.0025028_2022-03-23_15-56-14/error.txt</td></tr>\n",
              "</tbody>\n",
              "</table><br>"
            ]
          },
          "metadata": {}
        },
        {
          "output_type": "display_data",
          "data": {
            "text/plain": [
              "<IPython.core.display.HTML object>"
            ],
            "text/html": [
              "== Status ==<br>Current time: 2022-03-23 15:57:25 (running for 00:01:11.25)<br>Memory usage on this node: 6.3/25.5 GiB<br>Using AsyncHyperBand: num_stopped=0\n",
              "Bracket: Iter 256.000: None | Iter 64.000: None | Iter 16.000: None | Iter 4.000: None | Iter 1.000: None<br>Resources requested: 2.0/4 CPUs, 1.0/1 GPUs, 0.0/14.55 GiB heap, 0.0/7.28 GiB objects (0.0/1.0 accelerator_type:T4)<br>Result logdir: /content/cords/RayLogs/GradMatchPB-Warm/lambda_2022-03-23_15-56-14<br>Number of trials: 4/27 (1 ERROR, 1 PENDING, 2 RUNNING)<br><table>\n",
              "<thead>\n",
              "<tr><th>Trial name     </th><th>status  </th><th>loc           </th><th style=\"text-align: right;\">   gamma</th><th style=\"text-align: right;\">  learning_rate</th><th style=\"text-align: right;\">  learning_rate1</th><th style=\"text-align: right;\">  learning_rate2</th><th style=\"text-align: right;\">  learning_rate3</th><th>nesterov  </th><th>scheduler       </th></tr>\n",
              "</thead>\n",
              "<tbody>\n",
              "<tr><td>lambda_c6bec4ba</td><td>RUNNING </td><td>172.28.0.2:377</td><td style=\"text-align: right;\">0.202428</td><td style=\"text-align: right;\">     0.00226077</td><td style=\"text-align: right;\">      0.003864  </td><td style=\"text-align: right;\">      0.00544907</td><td style=\"text-align: right;\">      0.0095685 </td><td>False     </td><td>linear_decay    </td></tr>\n",
              "<tr><td>lambda_c6d1faa8</td><td>RUNNING </td><td>172.28.0.2:378</td><td style=\"text-align: right;\">0.459251</td><td style=\"text-align: right;\">     0.00296394</td><td style=\"text-align: right;\">      0.00133386</td><td style=\"text-align: right;\">      0.00282896</td><td style=\"text-align: right;\">      0.00808592</td><td>False     </td><td>linear_decay    </td></tr>\n",
              "<tr><td>lambda_d2f23686</td><td>PENDING </td><td>              </td><td style=\"text-align: right;\">0.174301</td><td style=\"text-align: right;\">     0.00667646</td><td style=\"text-align: right;\">      0.00834047</td><td style=\"text-align: right;\">      0.00202991</td><td style=\"text-align: right;\">      0.00478505</td><td>True      </td><td>cosine_annealing</td></tr>\n",
              "<tr><td>lambda_c4aab18e</td><td>ERROR   </td><td>172.28.0.2:379</td><td style=\"text-align: right;\">0.118825</td><td style=\"text-align: right;\">     0.00920452</td><td style=\"text-align: right;\">      0.00212929</td><td style=\"text-align: right;\">      0.00973207</td><td style=\"text-align: right;\">      0.00250276</td><td>False     </td><td>cosine_annealing</td></tr>\n",
              "</tbody>\n",
              "</table><br>Number of errored trials: 1<br><table>\n",
              "<thead>\n",
              "<tr><th>Trial name     </th><th style=\"text-align: right;\">  # failures</th><th>error file                                                                                                                                                                                                                         </th></tr>\n",
              "</thead>\n",
              "<tbody>\n",
              "<tr><td>lambda_c4aab18e</td><td style=\"text-align: right;\">           1</td><td>/content/cords/RayLogs/GradMatchPB-Warm/lambda_2022-03-23_15-56-14/lambda_c4aab18e_1_gamma=0.11882,learning_rate=0.0092045,learning_rate1=0.0021293,learning_rate2=0.0097321,learning_rate3=0.0025028_2022-03-23_15-56-14/error.txt</td></tr>\n",
              "</tbody>\n",
              "</table><br>"
            ]
          },
          "metadata": {}
        },
        {
          "output_type": "display_data",
          "data": {
            "text/plain": [
              "<IPython.core.display.HTML object>"
            ],
            "text/html": [
              "== Status ==<br>Current time: 2022-03-23 15:57:30 (running for 00:01:16.27)<br>Memory usage on this node: 6.3/25.5 GiB<br>Using AsyncHyperBand: num_stopped=0\n",
              "Bracket: Iter 256.000: None | Iter 64.000: None | Iter 16.000: None | Iter 4.000: None | Iter 1.000: None<br>Resources requested: 2.0/4 CPUs, 1.0/1 GPUs, 0.0/14.55 GiB heap, 0.0/7.28 GiB objects (0.0/1.0 accelerator_type:T4)<br>Result logdir: /content/cords/RayLogs/GradMatchPB-Warm/lambda_2022-03-23_15-56-14<br>Number of trials: 4/27 (1 ERROR, 1 PENDING, 2 RUNNING)<br><table>\n",
              "<thead>\n",
              "<tr><th>Trial name     </th><th>status  </th><th>loc           </th><th style=\"text-align: right;\">   gamma</th><th style=\"text-align: right;\">  learning_rate</th><th style=\"text-align: right;\">  learning_rate1</th><th style=\"text-align: right;\">  learning_rate2</th><th style=\"text-align: right;\">  learning_rate3</th><th>nesterov  </th><th>scheduler       </th></tr>\n",
              "</thead>\n",
              "<tbody>\n",
              "<tr><td>lambda_c6bec4ba</td><td>RUNNING </td><td>172.28.0.2:377</td><td style=\"text-align: right;\">0.202428</td><td style=\"text-align: right;\">     0.00226077</td><td style=\"text-align: right;\">      0.003864  </td><td style=\"text-align: right;\">      0.00544907</td><td style=\"text-align: right;\">      0.0095685 </td><td>False     </td><td>linear_decay    </td></tr>\n",
              "<tr><td>lambda_c6d1faa8</td><td>RUNNING </td><td>172.28.0.2:378</td><td style=\"text-align: right;\">0.459251</td><td style=\"text-align: right;\">     0.00296394</td><td style=\"text-align: right;\">      0.00133386</td><td style=\"text-align: right;\">      0.00282896</td><td style=\"text-align: right;\">      0.00808592</td><td>False     </td><td>linear_decay    </td></tr>\n",
              "<tr><td>lambda_d2f23686</td><td>PENDING </td><td>              </td><td style=\"text-align: right;\">0.174301</td><td style=\"text-align: right;\">     0.00667646</td><td style=\"text-align: right;\">      0.00834047</td><td style=\"text-align: right;\">      0.00202991</td><td style=\"text-align: right;\">      0.00478505</td><td>True      </td><td>cosine_annealing</td></tr>\n",
              "<tr><td>lambda_c4aab18e</td><td>ERROR   </td><td>172.28.0.2:379</td><td style=\"text-align: right;\">0.118825</td><td style=\"text-align: right;\">     0.00920452</td><td style=\"text-align: right;\">      0.00212929</td><td style=\"text-align: right;\">      0.00973207</td><td style=\"text-align: right;\">      0.00250276</td><td>False     </td><td>cosine_annealing</td></tr>\n",
              "</tbody>\n",
              "</table><br>Number of errored trials: 1<br><table>\n",
              "<thead>\n",
              "<tr><th>Trial name     </th><th style=\"text-align: right;\">  # failures</th><th>error file                                                                                                                                                                                                                         </th></tr>\n",
              "</thead>\n",
              "<tbody>\n",
              "<tr><td>lambda_c4aab18e</td><td style=\"text-align: right;\">           1</td><td>/content/cords/RayLogs/GradMatchPB-Warm/lambda_2022-03-23_15-56-14/lambda_c4aab18e_1_gamma=0.11882,learning_rate=0.0092045,learning_rate1=0.0021293,learning_rate2=0.0097321,learning_rate3=0.0025028_2022-03-23_15-56-14/error.txt</td></tr>\n",
              "</tbody>\n",
              "</table><br>"
            ]
          },
          "metadata": {}
        },
        {
          "output_type": "display_data",
          "data": {
            "text/plain": [
              "<IPython.core.display.HTML object>"
            ],
            "text/html": [
              "== Status ==<br>Current time: 2022-03-23 15:57:35 (running for 00:01:21.30)<br>Memory usage on this node: 6.3/25.5 GiB<br>Using AsyncHyperBand: num_stopped=0\n",
              "Bracket: Iter 256.000: None | Iter 64.000: None | Iter 16.000: None | Iter 4.000: None | Iter 1.000: None<br>Resources requested: 2.0/4 CPUs, 1.0/1 GPUs, 0.0/14.55 GiB heap, 0.0/7.28 GiB objects (0.0/1.0 accelerator_type:T4)<br>Result logdir: /content/cords/RayLogs/GradMatchPB-Warm/lambda_2022-03-23_15-56-14<br>Number of trials: 4/27 (1 ERROR, 1 PENDING, 2 RUNNING)<br><table>\n",
              "<thead>\n",
              "<tr><th>Trial name     </th><th>status  </th><th>loc           </th><th style=\"text-align: right;\">   gamma</th><th style=\"text-align: right;\">  learning_rate</th><th style=\"text-align: right;\">  learning_rate1</th><th style=\"text-align: right;\">  learning_rate2</th><th style=\"text-align: right;\">  learning_rate3</th><th>nesterov  </th><th>scheduler       </th></tr>\n",
              "</thead>\n",
              "<tbody>\n",
              "<tr><td>lambda_c6bec4ba</td><td>RUNNING </td><td>172.28.0.2:377</td><td style=\"text-align: right;\">0.202428</td><td style=\"text-align: right;\">     0.00226077</td><td style=\"text-align: right;\">      0.003864  </td><td style=\"text-align: right;\">      0.00544907</td><td style=\"text-align: right;\">      0.0095685 </td><td>False     </td><td>linear_decay    </td></tr>\n",
              "<tr><td>lambda_c6d1faa8</td><td>RUNNING </td><td>172.28.0.2:378</td><td style=\"text-align: right;\">0.459251</td><td style=\"text-align: right;\">     0.00296394</td><td style=\"text-align: right;\">      0.00133386</td><td style=\"text-align: right;\">      0.00282896</td><td style=\"text-align: right;\">      0.00808592</td><td>False     </td><td>linear_decay    </td></tr>\n",
              "<tr><td>lambda_d2f23686</td><td>PENDING </td><td>              </td><td style=\"text-align: right;\">0.174301</td><td style=\"text-align: right;\">     0.00667646</td><td style=\"text-align: right;\">      0.00834047</td><td style=\"text-align: right;\">      0.00202991</td><td style=\"text-align: right;\">      0.00478505</td><td>True      </td><td>cosine_annealing</td></tr>\n",
              "<tr><td>lambda_c4aab18e</td><td>ERROR   </td><td>172.28.0.2:379</td><td style=\"text-align: right;\">0.118825</td><td style=\"text-align: right;\">     0.00920452</td><td style=\"text-align: right;\">      0.00212929</td><td style=\"text-align: right;\">      0.00973207</td><td style=\"text-align: right;\">      0.00250276</td><td>False     </td><td>cosine_annealing</td></tr>\n",
              "</tbody>\n",
              "</table><br>Number of errored trials: 1<br><table>\n",
              "<thead>\n",
              "<tr><th>Trial name     </th><th style=\"text-align: right;\">  # failures</th><th>error file                                                                                                                                                                                                                         </th></tr>\n",
              "</thead>\n",
              "<tbody>\n",
              "<tr><td>lambda_c4aab18e</td><td style=\"text-align: right;\">           1</td><td>/content/cords/RayLogs/GradMatchPB-Warm/lambda_2022-03-23_15-56-14/lambda_c4aab18e_1_gamma=0.11882,learning_rate=0.0092045,learning_rate1=0.0021293,learning_rate2=0.0097321,learning_rate3=0.0025028_2022-03-23_15-56-14/error.txt</td></tr>\n",
              "</tbody>\n",
              "</table><br>"
            ]
          },
          "metadata": {}
        },
        {
          "output_type": "display_data",
          "data": {
            "text/plain": [
              "<IPython.core.display.HTML object>"
            ],
            "text/html": [
              "== Status ==<br>Current time: 2022-03-23 15:57:40 (running for 00:01:26.32)<br>Memory usage on this node: 6.3/25.5 GiB<br>Using AsyncHyperBand: num_stopped=0\n",
              "Bracket: Iter 256.000: None | Iter 64.000: None | Iter 16.000: None | Iter 4.000: None | Iter 1.000: None<br>Resources requested: 2.0/4 CPUs, 1.0/1 GPUs, 0.0/14.55 GiB heap, 0.0/7.28 GiB objects (0.0/1.0 accelerator_type:T4)<br>Result logdir: /content/cords/RayLogs/GradMatchPB-Warm/lambda_2022-03-23_15-56-14<br>Number of trials: 4/27 (1 ERROR, 1 PENDING, 2 RUNNING)<br><table>\n",
              "<thead>\n",
              "<tr><th>Trial name     </th><th>status  </th><th>loc           </th><th style=\"text-align: right;\">   gamma</th><th style=\"text-align: right;\">  learning_rate</th><th style=\"text-align: right;\">  learning_rate1</th><th style=\"text-align: right;\">  learning_rate2</th><th style=\"text-align: right;\">  learning_rate3</th><th>nesterov  </th><th>scheduler       </th></tr>\n",
              "</thead>\n",
              "<tbody>\n",
              "<tr><td>lambda_c6bec4ba</td><td>RUNNING </td><td>172.28.0.2:377</td><td style=\"text-align: right;\">0.202428</td><td style=\"text-align: right;\">     0.00226077</td><td style=\"text-align: right;\">      0.003864  </td><td style=\"text-align: right;\">      0.00544907</td><td style=\"text-align: right;\">      0.0095685 </td><td>False     </td><td>linear_decay    </td></tr>\n",
              "<tr><td>lambda_c6d1faa8</td><td>RUNNING </td><td>172.28.0.2:378</td><td style=\"text-align: right;\">0.459251</td><td style=\"text-align: right;\">     0.00296394</td><td style=\"text-align: right;\">      0.00133386</td><td style=\"text-align: right;\">      0.00282896</td><td style=\"text-align: right;\">      0.00808592</td><td>False     </td><td>linear_decay    </td></tr>\n",
              "<tr><td>lambda_d2f23686</td><td>PENDING </td><td>              </td><td style=\"text-align: right;\">0.174301</td><td style=\"text-align: right;\">     0.00667646</td><td style=\"text-align: right;\">      0.00834047</td><td style=\"text-align: right;\">      0.00202991</td><td style=\"text-align: right;\">      0.00478505</td><td>True      </td><td>cosine_annealing</td></tr>\n",
              "<tr><td>lambda_c4aab18e</td><td>ERROR   </td><td>172.28.0.2:379</td><td style=\"text-align: right;\">0.118825</td><td style=\"text-align: right;\">     0.00920452</td><td style=\"text-align: right;\">      0.00212929</td><td style=\"text-align: right;\">      0.00973207</td><td style=\"text-align: right;\">      0.00250276</td><td>False     </td><td>cosine_annealing</td></tr>\n",
              "</tbody>\n",
              "</table><br>Number of errored trials: 1<br><table>\n",
              "<thead>\n",
              "<tr><th>Trial name     </th><th style=\"text-align: right;\">  # failures</th><th>error file                                                                                                                                                                                                                         </th></tr>\n",
              "</thead>\n",
              "<tbody>\n",
              "<tr><td>lambda_c4aab18e</td><td style=\"text-align: right;\">           1</td><td>/content/cords/RayLogs/GradMatchPB-Warm/lambda_2022-03-23_15-56-14/lambda_c4aab18e_1_gamma=0.11882,learning_rate=0.0092045,learning_rate1=0.0021293,learning_rate2=0.0097321,learning_rate3=0.0025028_2022-03-23_15-56-14/error.txt</td></tr>\n",
              "</tbody>\n",
              "</table><br>"
            ]
          },
          "metadata": {}
        },
        {
          "output_type": "display_data",
          "data": {
            "text/plain": [
              "<IPython.core.display.HTML object>"
            ],
            "text/html": [
              "== Status ==<br>Current time: 2022-03-23 15:57:45 (running for 00:01:31.34)<br>Memory usage on this node: 6.3/25.5 GiB<br>Using AsyncHyperBand: num_stopped=0\n",
              "Bracket: Iter 256.000: None | Iter 64.000: None | Iter 16.000: None | Iter 4.000: None | Iter 1.000: None<br>Resources requested: 2.0/4 CPUs, 1.0/1 GPUs, 0.0/14.55 GiB heap, 0.0/7.28 GiB objects (0.0/1.0 accelerator_type:T4)<br>Result logdir: /content/cords/RayLogs/GradMatchPB-Warm/lambda_2022-03-23_15-56-14<br>Number of trials: 4/27 (1 ERROR, 1 PENDING, 2 RUNNING)<br><table>\n",
              "<thead>\n",
              "<tr><th>Trial name     </th><th>status  </th><th>loc           </th><th style=\"text-align: right;\">   gamma</th><th style=\"text-align: right;\">  learning_rate</th><th style=\"text-align: right;\">  learning_rate1</th><th style=\"text-align: right;\">  learning_rate2</th><th style=\"text-align: right;\">  learning_rate3</th><th>nesterov  </th><th>scheduler       </th></tr>\n",
              "</thead>\n",
              "<tbody>\n",
              "<tr><td>lambda_c6bec4ba</td><td>RUNNING </td><td>172.28.0.2:377</td><td style=\"text-align: right;\">0.202428</td><td style=\"text-align: right;\">     0.00226077</td><td style=\"text-align: right;\">      0.003864  </td><td style=\"text-align: right;\">      0.00544907</td><td style=\"text-align: right;\">      0.0095685 </td><td>False     </td><td>linear_decay    </td></tr>\n",
              "<tr><td>lambda_c6d1faa8</td><td>RUNNING </td><td>172.28.0.2:378</td><td style=\"text-align: right;\">0.459251</td><td style=\"text-align: right;\">     0.00296394</td><td style=\"text-align: right;\">      0.00133386</td><td style=\"text-align: right;\">      0.00282896</td><td style=\"text-align: right;\">      0.00808592</td><td>False     </td><td>linear_decay    </td></tr>\n",
              "<tr><td>lambda_d2f23686</td><td>PENDING </td><td>              </td><td style=\"text-align: right;\">0.174301</td><td style=\"text-align: right;\">     0.00667646</td><td style=\"text-align: right;\">      0.00834047</td><td style=\"text-align: right;\">      0.00202991</td><td style=\"text-align: right;\">      0.00478505</td><td>True      </td><td>cosine_annealing</td></tr>\n",
              "<tr><td>lambda_c4aab18e</td><td>ERROR   </td><td>172.28.0.2:379</td><td style=\"text-align: right;\">0.118825</td><td style=\"text-align: right;\">     0.00920452</td><td style=\"text-align: right;\">      0.00212929</td><td style=\"text-align: right;\">      0.00973207</td><td style=\"text-align: right;\">      0.00250276</td><td>False     </td><td>cosine_annealing</td></tr>\n",
              "</tbody>\n",
              "</table><br>Number of errored trials: 1<br><table>\n",
              "<thead>\n",
              "<tr><th>Trial name     </th><th style=\"text-align: right;\">  # failures</th><th>error file                                                                                                                                                                                                                         </th></tr>\n",
              "</thead>\n",
              "<tbody>\n",
              "<tr><td>lambda_c4aab18e</td><td style=\"text-align: right;\">           1</td><td>/content/cords/RayLogs/GradMatchPB-Warm/lambda_2022-03-23_15-56-14/lambda_c4aab18e_1_gamma=0.11882,learning_rate=0.0092045,learning_rate1=0.0021293,learning_rate2=0.0097321,learning_rate3=0.0025028_2022-03-23_15-56-14/error.txt</td></tr>\n",
              "</tbody>\n",
              "</table><br>"
            ]
          },
          "metadata": {}
        },
        {
          "output_type": "display_data",
          "data": {
            "text/plain": [
              "<IPython.core.display.HTML object>"
            ],
            "text/html": [
              "== Status ==<br>Current time: 2022-03-23 15:57:50 (running for 00:01:36.37)<br>Memory usage on this node: 6.4/25.5 GiB<br>Using AsyncHyperBand: num_stopped=0\n",
              "Bracket: Iter 256.000: None | Iter 64.000: None | Iter 16.000: None | Iter 4.000: None | Iter 1.000: None<br>Resources requested: 2.0/4 CPUs, 1.0/1 GPUs, 0.0/14.55 GiB heap, 0.0/7.28 GiB objects (0.0/1.0 accelerator_type:T4)<br>Result logdir: /content/cords/RayLogs/GradMatchPB-Warm/lambda_2022-03-23_15-56-14<br>Number of trials: 4/27 (1 ERROR, 1 PENDING, 2 RUNNING)<br><table>\n",
              "<thead>\n",
              "<tr><th>Trial name     </th><th>status  </th><th>loc           </th><th style=\"text-align: right;\">   gamma</th><th style=\"text-align: right;\">  learning_rate</th><th style=\"text-align: right;\">  learning_rate1</th><th style=\"text-align: right;\">  learning_rate2</th><th style=\"text-align: right;\">  learning_rate3</th><th>nesterov  </th><th>scheduler       </th></tr>\n",
              "</thead>\n",
              "<tbody>\n",
              "<tr><td>lambda_c6bec4ba</td><td>RUNNING </td><td>172.28.0.2:377</td><td style=\"text-align: right;\">0.202428</td><td style=\"text-align: right;\">     0.00226077</td><td style=\"text-align: right;\">      0.003864  </td><td style=\"text-align: right;\">      0.00544907</td><td style=\"text-align: right;\">      0.0095685 </td><td>False     </td><td>linear_decay    </td></tr>\n",
              "<tr><td>lambda_c6d1faa8</td><td>RUNNING </td><td>172.28.0.2:378</td><td style=\"text-align: right;\">0.459251</td><td style=\"text-align: right;\">     0.00296394</td><td style=\"text-align: right;\">      0.00133386</td><td style=\"text-align: right;\">      0.00282896</td><td style=\"text-align: right;\">      0.00808592</td><td>False     </td><td>linear_decay    </td></tr>\n",
              "<tr><td>lambda_d2f23686</td><td>PENDING </td><td>              </td><td style=\"text-align: right;\">0.174301</td><td style=\"text-align: right;\">     0.00667646</td><td style=\"text-align: right;\">      0.00834047</td><td style=\"text-align: right;\">      0.00202991</td><td style=\"text-align: right;\">      0.00478505</td><td>True      </td><td>cosine_annealing</td></tr>\n",
              "<tr><td>lambda_c4aab18e</td><td>ERROR   </td><td>172.28.0.2:379</td><td style=\"text-align: right;\">0.118825</td><td style=\"text-align: right;\">     0.00920452</td><td style=\"text-align: right;\">      0.00212929</td><td style=\"text-align: right;\">      0.00973207</td><td style=\"text-align: right;\">      0.00250276</td><td>False     </td><td>cosine_annealing</td></tr>\n",
              "</tbody>\n",
              "</table><br>Number of errored trials: 1<br><table>\n",
              "<thead>\n",
              "<tr><th>Trial name     </th><th style=\"text-align: right;\">  # failures</th><th>error file                                                                                                                                                                                                                         </th></tr>\n",
              "</thead>\n",
              "<tbody>\n",
              "<tr><td>lambda_c4aab18e</td><td style=\"text-align: right;\">           1</td><td>/content/cords/RayLogs/GradMatchPB-Warm/lambda_2022-03-23_15-56-14/lambda_c4aab18e_1_gamma=0.11882,learning_rate=0.0092045,learning_rate1=0.0021293,learning_rate2=0.0097321,learning_rate3=0.0025028_2022-03-23_15-56-14/error.txt</td></tr>\n",
              "</tbody>\n",
              "</table><br>"
            ]
          },
          "metadata": {}
        },
        {
          "output_type": "display_data",
          "data": {
            "text/plain": [
              "<IPython.core.display.HTML object>"
            ],
            "text/html": [
              "== Status ==<br>Current time: 2022-03-23 15:57:56 (running for 00:01:41.39)<br>Memory usage on this node: 6.4/25.5 GiB<br>Using AsyncHyperBand: num_stopped=0\n",
              "Bracket: Iter 256.000: None | Iter 64.000: None | Iter 16.000: None | Iter 4.000: None | Iter 1.000: None<br>Resources requested: 2.0/4 CPUs, 1.0/1 GPUs, 0.0/14.55 GiB heap, 0.0/7.28 GiB objects (0.0/1.0 accelerator_type:T4)<br>Result logdir: /content/cords/RayLogs/GradMatchPB-Warm/lambda_2022-03-23_15-56-14<br>Number of trials: 4/27 (1 ERROR, 1 PENDING, 2 RUNNING)<br><table>\n",
              "<thead>\n",
              "<tr><th>Trial name     </th><th>status  </th><th>loc           </th><th style=\"text-align: right;\">   gamma</th><th style=\"text-align: right;\">  learning_rate</th><th style=\"text-align: right;\">  learning_rate1</th><th style=\"text-align: right;\">  learning_rate2</th><th style=\"text-align: right;\">  learning_rate3</th><th>nesterov  </th><th>scheduler       </th></tr>\n",
              "</thead>\n",
              "<tbody>\n",
              "<tr><td>lambda_c6bec4ba</td><td>RUNNING </td><td>172.28.0.2:377</td><td style=\"text-align: right;\">0.202428</td><td style=\"text-align: right;\">     0.00226077</td><td style=\"text-align: right;\">      0.003864  </td><td style=\"text-align: right;\">      0.00544907</td><td style=\"text-align: right;\">      0.0095685 </td><td>False     </td><td>linear_decay    </td></tr>\n",
              "<tr><td>lambda_c6d1faa8</td><td>RUNNING </td><td>172.28.0.2:378</td><td style=\"text-align: right;\">0.459251</td><td style=\"text-align: right;\">     0.00296394</td><td style=\"text-align: right;\">      0.00133386</td><td style=\"text-align: right;\">      0.00282896</td><td style=\"text-align: right;\">      0.00808592</td><td>False     </td><td>linear_decay    </td></tr>\n",
              "<tr><td>lambda_d2f23686</td><td>PENDING </td><td>              </td><td style=\"text-align: right;\">0.174301</td><td style=\"text-align: right;\">     0.00667646</td><td style=\"text-align: right;\">      0.00834047</td><td style=\"text-align: right;\">      0.00202991</td><td style=\"text-align: right;\">      0.00478505</td><td>True      </td><td>cosine_annealing</td></tr>\n",
              "<tr><td>lambda_c4aab18e</td><td>ERROR   </td><td>172.28.0.2:379</td><td style=\"text-align: right;\">0.118825</td><td style=\"text-align: right;\">     0.00920452</td><td style=\"text-align: right;\">      0.00212929</td><td style=\"text-align: right;\">      0.00973207</td><td style=\"text-align: right;\">      0.00250276</td><td>False     </td><td>cosine_annealing</td></tr>\n",
              "</tbody>\n",
              "</table><br>Number of errored trials: 1<br><table>\n",
              "<thead>\n",
              "<tr><th>Trial name     </th><th style=\"text-align: right;\">  # failures</th><th>error file                                                                                                                                                                                                                         </th></tr>\n",
              "</thead>\n",
              "<tbody>\n",
              "<tr><td>lambda_c4aab18e</td><td style=\"text-align: right;\">           1</td><td>/content/cords/RayLogs/GradMatchPB-Warm/lambda_2022-03-23_15-56-14/lambda_c4aab18e_1_gamma=0.11882,learning_rate=0.0092045,learning_rate1=0.0021293,learning_rate2=0.0097321,learning_rate3=0.0025028_2022-03-23_15-56-14/error.txt</td></tr>\n",
              "</tbody>\n",
              "</table><br>"
            ]
          },
          "metadata": {}
        },
        {
          "output_type": "display_data",
          "data": {
            "text/plain": [
              "<IPython.core.display.HTML object>"
            ],
            "text/html": [
              "== Status ==<br>Current time: 2022-03-23 15:58:01 (running for 00:01:46.41)<br>Memory usage on this node: 6.4/25.5 GiB<br>Using AsyncHyperBand: num_stopped=0\n",
              "Bracket: Iter 256.000: None | Iter 64.000: None | Iter 16.000: None | Iter 4.000: None | Iter 1.000: None<br>Resources requested: 2.0/4 CPUs, 1.0/1 GPUs, 0.0/14.55 GiB heap, 0.0/7.28 GiB objects (0.0/1.0 accelerator_type:T4)<br>Result logdir: /content/cords/RayLogs/GradMatchPB-Warm/lambda_2022-03-23_15-56-14<br>Number of trials: 4/27 (1 ERROR, 1 PENDING, 2 RUNNING)<br><table>\n",
              "<thead>\n",
              "<tr><th>Trial name     </th><th>status  </th><th>loc           </th><th style=\"text-align: right;\">   gamma</th><th style=\"text-align: right;\">  learning_rate</th><th style=\"text-align: right;\">  learning_rate1</th><th style=\"text-align: right;\">  learning_rate2</th><th style=\"text-align: right;\">  learning_rate3</th><th>nesterov  </th><th>scheduler       </th></tr>\n",
              "</thead>\n",
              "<tbody>\n",
              "<tr><td>lambda_c6bec4ba</td><td>RUNNING </td><td>172.28.0.2:377</td><td style=\"text-align: right;\">0.202428</td><td style=\"text-align: right;\">     0.00226077</td><td style=\"text-align: right;\">      0.003864  </td><td style=\"text-align: right;\">      0.00544907</td><td style=\"text-align: right;\">      0.0095685 </td><td>False     </td><td>linear_decay    </td></tr>\n",
              "<tr><td>lambda_c6d1faa8</td><td>RUNNING </td><td>172.28.0.2:378</td><td style=\"text-align: right;\">0.459251</td><td style=\"text-align: right;\">     0.00296394</td><td style=\"text-align: right;\">      0.00133386</td><td style=\"text-align: right;\">      0.00282896</td><td style=\"text-align: right;\">      0.00808592</td><td>False     </td><td>linear_decay    </td></tr>\n",
              "<tr><td>lambda_d2f23686</td><td>PENDING </td><td>              </td><td style=\"text-align: right;\">0.174301</td><td style=\"text-align: right;\">     0.00667646</td><td style=\"text-align: right;\">      0.00834047</td><td style=\"text-align: right;\">      0.00202991</td><td style=\"text-align: right;\">      0.00478505</td><td>True      </td><td>cosine_annealing</td></tr>\n",
              "<tr><td>lambda_c4aab18e</td><td>ERROR   </td><td>172.28.0.2:379</td><td style=\"text-align: right;\">0.118825</td><td style=\"text-align: right;\">     0.00920452</td><td style=\"text-align: right;\">      0.00212929</td><td style=\"text-align: right;\">      0.00973207</td><td style=\"text-align: right;\">      0.00250276</td><td>False     </td><td>cosine_annealing</td></tr>\n",
              "</tbody>\n",
              "</table><br>Number of errored trials: 1<br><table>\n",
              "<thead>\n",
              "<tr><th>Trial name     </th><th style=\"text-align: right;\">  # failures</th><th>error file                                                                                                                                                                                                                         </th></tr>\n",
              "</thead>\n",
              "<tbody>\n",
              "<tr><td>lambda_c4aab18e</td><td style=\"text-align: right;\">           1</td><td>/content/cords/RayLogs/GradMatchPB-Warm/lambda_2022-03-23_15-56-14/lambda_c4aab18e_1_gamma=0.11882,learning_rate=0.0092045,learning_rate1=0.0021293,learning_rate2=0.0097321,learning_rate3=0.0025028_2022-03-23_15-56-14/error.txt</td></tr>\n",
              "</tbody>\n",
              "</table><br>"
            ]
          },
          "metadata": {}
        },
        {
          "output_type": "display_data",
          "data": {
            "text/plain": [
              "<IPython.core.display.HTML object>"
            ],
            "text/html": [
              "== Status ==<br>Current time: 2022-03-23 15:58:06 (running for 00:01:51.44)<br>Memory usage on this node: 6.4/25.5 GiB<br>Using AsyncHyperBand: num_stopped=0\n",
              "Bracket: Iter 256.000: None | Iter 64.000: None | Iter 16.000: None | Iter 4.000: None | Iter 1.000: None<br>Resources requested: 2.0/4 CPUs, 1.0/1 GPUs, 0.0/14.55 GiB heap, 0.0/7.28 GiB objects (0.0/1.0 accelerator_type:T4)<br>Result logdir: /content/cords/RayLogs/GradMatchPB-Warm/lambda_2022-03-23_15-56-14<br>Number of trials: 4/27 (1 ERROR, 1 PENDING, 2 RUNNING)<br><table>\n",
              "<thead>\n",
              "<tr><th>Trial name     </th><th>status  </th><th>loc           </th><th style=\"text-align: right;\">   gamma</th><th style=\"text-align: right;\">  learning_rate</th><th style=\"text-align: right;\">  learning_rate1</th><th style=\"text-align: right;\">  learning_rate2</th><th style=\"text-align: right;\">  learning_rate3</th><th>nesterov  </th><th>scheduler       </th></tr>\n",
              "</thead>\n",
              "<tbody>\n",
              "<tr><td>lambda_c6bec4ba</td><td>RUNNING </td><td>172.28.0.2:377</td><td style=\"text-align: right;\">0.202428</td><td style=\"text-align: right;\">     0.00226077</td><td style=\"text-align: right;\">      0.003864  </td><td style=\"text-align: right;\">      0.00544907</td><td style=\"text-align: right;\">      0.0095685 </td><td>False     </td><td>linear_decay    </td></tr>\n",
              "<tr><td>lambda_c6d1faa8</td><td>RUNNING </td><td>172.28.0.2:378</td><td style=\"text-align: right;\">0.459251</td><td style=\"text-align: right;\">     0.00296394</td><td style=\"text-align: right;\">      0.00133386</td><td style=\"text-align: right;\">      0.00282896</td><td style=\"text-align: right;\">      0.00808592</td><td>False     </td><td>linear_decay    </td></tr>\n",
              "<tr><td>lambda_d2f23686</td><td>PENDING </td><td>              </td><td style=\"text-align: right;\">0.174301</td><td style=\"text-align: right;\">     0.00667646</td><td style=\"text-align: right;\">      0.00834047</td><td style=\"text-align: right;\">      0.00202991</td><td style=\"text-align: right;\">      0.00478505</td><td>True      </td><td>cosine_annealing</td></tr>\n",
              "<tr><td>lambda_c4aab18e</td><td>ERROR   </td><td>172.28.0.2:379</td><td style=\"text-align: right;\">0.118825</td><td style=\"text-align: right;\">     0.00920452</td><td style=\"text-align: right;\">      0.00212929</td><td style=\"text-align: right;\">      0.00973207</td><td style=\"text-align: right;\">      0.00250276</td><td>False     </td><td>cosine_annealing</td></tr>\n",
              "</tbody>\n",
              "</table><br>Number of errored trials: 1<br><table>\n",
              "<thead>\n",
              "<tr><th>Trial name     </th><th style=\"text-align: right;\">  # failures</th><th>error file                                                                                                                                                                                                                         </th></tr>\n",
              "</thead>\n",
              "<tbody>\n",
              "<tr><td>lambda_c4aab18e</td><td style=\"text-align: right;\">           1</td><td>/content/cords/RayLogs/GradMatchPB-Warm/lambda_2022-03-23_15-56-14/lambda_c4aab18e_1_gamma=0.11882,learning_rate=0.0092045,learning_rate1=0.0021293,learning_rate2=0.0097321,learning_rate3=0.0025028_2022-03-23_15-56-14/error.txt</td></tr>\n",
              "</tbody>\n",
              "</table><br>"
            ]
          },
          "metadata": {}
        },
        {
          "output_type": "display_data",
          "data": {
            "text/plain": [
              "<IPython.core.display.HTML object>"
            ],
            "text/html": [
              "== Status ==<br>Current time: 2022-03-23 15:58:11 (running for 00:01:56.46)<br>Memory usage on this node: 6.4/25.5 GiB<br>Using AsyncHyperBand: num_stopped=0\n",
              "Bracket: Iter 256.000: None | Iter 64.000: None | Iter 16.000: None | Iter 4.000: None | Iter 1.000: None<br>Resources requested: 2.0/4 CPUs, 1.0/1 GPUs, 0.0/14.55 GiB heap, 0.0/7.28 GiB objects (0.0/1.0 accelerator_type:T4)<br>Result logdir: /content/cords/RayLogs/GradMatchPB-Warm/lambda_2022-03-23_15-56-14<br>Number of trials: 4/27 (1 ERROR, 1 PENDING, 2 RUNNING)<br><table>\n",
              "<thead>\n",
              "<tr><th>Trial name     </th><th>status  </th><th>loc           </th><th style=\"text-align: right;\">   gamma</th><th style=\"text-align: right;\">  learning_rate</th><th style=\"text-align: right;\">  learning_rate1</th><th style=\"text-align: right;\">  learning_rate2</th><th style=\"text-align: right;\">  learning_rate3</th><th>nesterov  </th><th>scheduler       </th></tr>\n",
              "</thead>\n",
              "<tbody>\n",
              "<tr><td>lambda_c6bec4ba</td><td>RUNNING </td><td>172.28.0.2:377</td><td style=\"text-align: right;\">0.202428</td><td style=\"text-align: right;\">     0.00226077</td><td style=\"text-align: right;\">      0.003864  </td><td style=\"text-align: right;\">      0.00544907</td><td style=\"text-align: right;\">      0.0095685 </td><td>False     </td><td>linear_decay    </td></tr>\n",
              "<tr><td>lambda_c6d1faa8</td><td>RUNNING </td><td>172.28.0.2:378</td><td style=\"text-align: right;\">0.459251</td><td style=\"text-align: right;\">     0.00296394</td><td style=\"text-align: right;\">      0.00133386</td><td style=\"text-align: right;\">      0.00282896</td><td style=\"text-align: right;\">      0.00808592</td><td>False     </td><td>linear_decay    </td></tr>\n",
              "<tr><td>lambda_d2f23686</td><td>PENDING </td><td>              </td><td style=\"text-align: right;\">0.174301</td><td style=\"text-align: right;\">     0.00667646</td><td style=\"text-align: right;\">      0.00834047</td><td style=\"text-align: right;\">      0.00202991</td><td style=\"text-align: right;\">      0.00478505</td><td>True      </td><td>cosine_annealing</td></tr>\n",
              "<tr><td>lambda_c4aab18e</td><td>ERROR   </td><td>172.28.0.2:379</td><td style=\"text-align: right;\">0.118825</td><td style=\"text-align: right;\">     0.00920452</td><td style=\"text-align: right;\">      0.00212929</td><td style=\"text-align: right;\">      0.00973207</td><td style=\"text-align: right;\">      0.00250276</td><td>False     </td><td>cosine_annealing</td></tr>\n",
              "</tbody>\n",
              "</table><br>Number of errored trials: 1<br><table>\n",
              "<thead>\n",
              "<tr><th>Trial name     </th><th style=\"text-align: right;\">  # failures</th><th>error file                                                                                                                                                                                                                         </th></tr>\n",
              "</thead>\n",
              "<tbody>\n",
              "<tr><td>lambda_c4aab18e</td><td style=\"text-align: right;\">           1</td><td>/content/cords/RayLogs/GradMatchPB-Warm/lambda_2022-03-23_15-56-14/lambda_c4aab18e_1_gamma=0.11882,learning_rate=0.0092045,learning_rate1=0.0021293,learning_rate2=0.0097321,learning_rate3=0.0025028_2022-03-23_15-56-14/error.txt</td></tr>\n",
              "</tbody>\n",
              "</table><br>"
            ]
          },
          "metadata": {}
        },
        {
          "output_type": "display_data",
          "data": {
            "text/plain": [
              "<IPython.core.display.HTML object>"
            ],
            "text/html": [
              "== Status ==<br>Current time: 2022-03-23 15:58:16 (running for 00:02:01.48)<br>Memory usage on this node: 6.4/25.5 GiB<br>Using AsyncHyperBand: num_stopped=0\n",
              "Bracket: Iter 256.000: None | Iter 64.000: None | Iter 16.000: None | Iter 4.000: None | Iter 1.000: None<br>Resources requested: 2.0/4 CPUs, 1.0/1 GPUs, 0.0/14.55 GiB heap, 0.0/7.28 GiB objects (0.0/1.0 accelerator_type:T4)<br>Result logdir: /content/cords/RayLogs/GradMatchPB-Warm/lambda_2022-03-23_15-56-14<br>Number of trials: 4/27 (1 ERROR, 1 PENDING, 2 RUNNING)<br><table>\n",
              "<thead>\n",
              "<tr><th>Trial name     </th><th>status  </th><th>loc           </th><th style=\"text-align: right;\">   gamma</th><th style=\"text-align: right;\">  learning_rate</th><th style=\"text-align: right;\">  learning_rate1</th><th style=\"text-align: right;\">  learning_rate2</th><th style=\"text-align: right;\">  learning_rate3</th><th>nesterov  </th><th>scheduler       </th></tr>\n",
              "</thead>\n",
              "<tbody>\n",
              "<tr><td>lambda_c6bec4ba</td><td>RUNNING </td><td>172.28.0.2:377</td><td style=\"text-align: right;\">0.202428</td><td style=\"text-align: right;\">     0.00226077</td><td style=\"text-align: right;\">      0.003864  </td><td style=\"text-align: right;\">      0.00544907</td><td style=\"text-align: right;\">      0.0095685 </td><td>False     </td><td>linear_decay    </td></tr>\n",
              "<tr><td>lambda_c6d1faa8</td><td>RUNNING </td><td>172.28.0.2:378</td><td style=\"text-align: right;\">0.459251</td><td style=\"text-align: right;\">     0.00296394</td><td style=\"text-align: right;\">      0.00133386</td><td style=\"text-align: right;\">      0.00282896</td><td style=\"text-align: right;\">      0.00808592</td><td>False     </td><td>linear_decay    </td></tr>\n",
              "<tr><td>lambda_d2f23686</td><td>PENDING </td><td>              </td><td style=\"text-align: right;\">0.174301</td><td style=\"text-align: right;\">     0.00667646</td><td style=\"text-align: right;\">      0.00834047</td><td style=\"text-align: right;\">      0.00202991</td><td style=\"text-align: right;\">      0.00478505</td><td>True      </td><td>cosine_annealing</td></tr>\n",
              "<tr><td>lambda_c4aab18e</td><td>ERROR   </td><td>172.28.0.2:379</td><td style=\"text-align: right;\">0.118825</td><td style=\"text-align: right;\">     0.00920452</td><td style=\"text-align: right;\">      0.00212929</td><td style=\"text-align: right;\">      0.00973207</td><td style=\"text-align: right;\">      0.00250276</td><td>False     </td><td>cosine_annealing</td></tr>\n",
              "</tbody>\n",
              "</table><br>Number of errored trials: 1<br><table>\n",
              "<thead>\n",
              "<tr><th>Trial name     </th><th style=\"text-align: right;\">  # failures</th><th>error file                                                                                                                                                                                                                         </th></tr>\n",
              "</thead>\n",
              "<tbody>\n",
              "<tr><td>lambda_c4aab18e</td><td style=\"text-align: right;\">           1</td><td>/content/cords/RayLogs/GradMatchPB-Warm/lambda_2022-03-23_15-56-14/lambda_c4aab18e_1_gamma=0.11882,learning_rate=0.0092045,learning_rate1=0.0021293,learning_rate2=0.0097321,learning_rate3=0.0025028_2022-03-23_15-56-14/error.txt</td></tr>\n",
              "</tbody>\n",
              "</table><br>"
            ]
          },
          "metadata": {}
        },
        {
          "output_type": "display_data",
          "data": {
            "text/plain": [
              "<IPython.core.display.HTML object>"
            ],
            "text/html": [
              "== Status ==<br>Current time: 2022-03-23 15:58:21 (running for 00:02:06.50)<br>Memory usage on this node: 6.4/25.5 GiB<br>Using AsyncHyperBand: num_stopped=0\n",
              "Bracket: Iter 256.000: None | Iter 64.000: None | Iter 16.000: None | Iter 4.000: None | Iter 1.000: None<br>Resources requested: 2.0/4 CPUs, 1.0/1 GPUs, 0.0/14.55 GiB heap, 0.0/7.28 GiB objects (0.0/1.0 accelerator_type:T4)<br>Result logdir: /content/cords/RayLogs/GradMatchPB-Warm/lambda_2022-03-23_15-56-14<br>Number of trials: 4/27 (1 ERROR, 1 PENDING, 2 RUNNING)<br><table>\n",
              "<thead>\n",
              "<tr><th>Trial name     </th><th>status  </th><th>loc           </th><th style=\"text-align: right;\">   gamma</th><th style=\"text-align: right;\">  learning_rate</th><th style=\"text-align: right;\">  learning_rate1</th><th style=\"text-align: right;\">  learning_rate2</th><th style=\"text-align: right;\">  learning_rate3</th><th>nesterov  </th><th>scheduler       </th></tr>\n",
              "</thead>\n",
              "<tbody>\n",
              "<tr><td>lambda_c6bec4ba</td><td>RUNNING </td><td>172.28.0.2:377</td><td style=\"text-align: right;\">0.202428</td><td style=\"text-align: right;\">     0.00226077</td><td style=\"text-align: right;\">      0.003864  </td><td style=\"text-align: right;\">      0.00544907</td><td style=\"text-align: right;\">      0.0095685 </td><td>False     </td><td>linear_decay    </td></tr>\n",
              "<tr><td>lambda_c6d1faa8</td><td>RUNNING </td><td>172.28.0.2:378</td><td style=\"text-align: right;\">0.459251</td><td style=\"text-align: right;\">     0.00296394</td><td style=\"text-align: right;\">      0.00133386</td><td style=\"text-align: right;\">      0.00282896</td><td style=\"text-align: right;\">      0.00808592</td><td>False     </td><td>linear_decay    </td></tr>\n",
              "<tr><td>lambda_d2f23686</td><td>PENDING </td><td>              </td><td style=\"text-align: right;\">0.174301</td><td style=\"text-align: right;\">     0.00667646</td><td style=\"text-align: right;\">      0.00834047</td><td style=\"text-align: right;\">      0.00202991</td><td style=\"text-align: right;\">      0.00478505</td><td>True      </td><td>cosine_annealing</td></tr>\n",
              "<tr><td>lambda_c4aab18e</td><td>ERROR   </td><td>172.28.0.2:379</td><td style=\"text-align: right;\">0.118825</td><td style=\"text-align: right;\">     0.00920452</td><td style=\"text-align: right;\">      0.00212929</td><td style=\"text-align: right;\">      0.00973207</td><td style=\"text-align: right;\">      0.00250276</td><td>False     </td><td>cosine_annealing</td></tr>\n",
              "</tbody>\n",
              "</table><br>Number of errored trials: 1<br><table>\n",
              "<thead>\n",
              "<tr><th>Trial name     </th><th style=\"text-align: right;\">  # failures</th><th>error file                                                                                                                                                                                                                         </th></tr>\n",
              "</thead>\n",
              "<tbody>\n",
              "<tr><td>lambda_c4aab18e</td><td style=\"text-align: right;\">           1</td><td>/content/cords/RayLogs/GradMatchPB-Warm/lambda_2022-03-23_15-56-14/lambda_c4aab18e_1_gamma=0.11882,learning_rate=0.0092045,learning_rate1=0.0021293,learning_rate2=0.0097321,learning_rate3=0.0025028_2022-03-23_15-56-14/error.txt</td></tr>\n",
              "</tbody>\n",
              "</table><br>"
            ]
          },
          "metadata": {}
        },
        {
          "output_type": "display_data",
          "data": {
            "text/plain": [
              "<IPython.core.display.HTML object>"
            ],
            "text/html": [
              "== Status ==<br>Current time: 2022-03-23 15:58:26 (running for 00:02:11.52)<br>Memory usage on this node: 6.4/25.5 GiB<br>Using AsyncHyperBand: num_stopped=0\n",
              "Bracket: Iter 256.000: None | Iter 64.000: None | Iter 16.000: None | Iter 4.000: None | Iter 1.000: None<br>Resources requested: 2.0/4 CPUs, 1.0/1 GPUs, 0.0/14.55 GiB heap, 0.0/7.28 GiB objects (0.0/1.0 accelerator_type:T4)<br>Result logdir: /content/cords/RayLogs/GradMatchPB-Warm/lambda_2022-03-23_15-56-14<br>Number of trials: 4/27 (1 ERROR, 1 PENDING, 2 RUNNING)<br><table>\n",
              "<thead>\n",
              "<tr><th>Trial name     </th><th>status  </th><th>loc           </th><th style=\"text-align: right;\">   gamma</th><th style=\"text-align: right;\">  learning_rate</th><th style=\"text-align: right;\">  learning_rate1</th><th style=\"text-align: right;\">  learning_rate2</th><th style=\"text-align: right;\">  learning_rate3</th><th>nesterov  </th><th>scheduler       </th></tr>\n",
              "</thead>\n",
              "<tbody>\n",
              "<tr><td>lambda_c6bec4ba</td><td>RUNNING </td><td>172.28.0.2:377</td><td style=\"text-align: right;\">0.202428</td><td style=\"text-align: right;\">     0.00226077</td><td style=\"text-align: right;\">      0.003864  </td><td style=\"text-align: right;\">      0.00544907</td><td style=\"text-align: right;\">      0.0095685 </td><td>False     </td><td>linear_decay    </td></tr>\n",
              "<tr><td>lambda_c6d1faa8</td><td>RUNNING </td><td>172.28.0.2:378</td><td style=\"text-align: right;\">0.459251</td><td style=\"text-align: right;\">     0.00296394</td><td style=\"text-align: right;\">      0.00133386</td><td style=\"text-align: right;\">      0.00282896</td><td style=\"text-align: right;\">      0.00808592</td><td>False     </td><td>linear_decay    </td></tr>\n",
              "<tr><td>lambda_d2f23686</td><td>PENDING </td><td>              </td><td style=\"text-align: right;\">0.174301</td><td style=\"text-align: right;\">     0.00667646</td><td style=\"text-align: right;\">      0.00834047</td><td style=\"text-align: right;\">      0.00202991</td><td style=\"text-align: right;\">      0.00478505</td><td>True      </td><td>cosine_annealing</td></tr>\n",
              "<tr><td>lambda_c4aab18e</td><td>ERROR   </td><td>172.28.0.2:379</td><td style=\"text-align: right;\">0.118825</td><td style=\"text-align: right;\">     0.00920452</td><td style=\"text-align: right;\">      0.00212929</td><td style=\"text-align: right;\">      0.00973207</td><td style=\"text-align: right;\">      0.00250276</td><td>False     </td><td>cosine_annealing</td></tr>\n",
              "</tbody>\n",
              "</table><br>Number of errored trials: 1<br><table>\n",
              "<thead>\n",
              "<tr><th>Trial name     </th><th style=\"text-align: right;\">  # failures</th><th>error file                                                                                                                                                                                                                         </th></tr>\n",
              "</thead>\n",
              "<tbody>\n",
              "<tr><td>lambda_c4aab18e</td><td style=\"text-align: right;\">           1</td><td>/content/cords/RayLogs/GradMatchPB-Warm/lambda_2022-03-23_15-56-14/lambda_c4aab18e_1_gamma=0.11882,learning_rate=0.0092045,learning_rate1=0.0021293,learning_rate2=0.0097321,learning_rate3=0.0025028_2022-03-23_15-56-14/error.txt</td></tr>\n",
              "</tbody>\n",
              "</table><br>"
            ]
          },
          "metadata": {}
        },
        {
          "output_type": "display_data",
          "data": {
            "text/plain": [
              "<IPython.core.display.HTML object>"
            ],
            "text/html": [
              "== Status ==<br>Current time: 2022-03-23 15:58:31 (running for 00:02:16.55)<br>Memory usage on this node: 6.4/25.5 GiB<br>Using AsyncHyperBand: num_stopped=0\n",
              "Bracket: Iter 256.000: None | Iter 64.000: None | Iter 16.000: None | Iter 4.000: None | Iter 1.000: None<br>Resources requested: 2.0/4 CPUs, 1.0/1 GPUs, 0.0/14.55 GiB heap, 0.0/7.28 GiB objects (0.0/1.0 accelerator_type:T4)<br>Result logdir: /content/cords/RayLogs/GradMatchPB-Warm/lambda_2022-03-23_15-56-14<br>Number of trials: 4/27 (1 ERROR, 1 PENDING, 2 RUNNING)<br><table>\n",
              "<thead>\n",
              "<tr><th>Trial name     </th><th>status  </th><th>loc           </th><th style=\"text-align: right;\">   gamma</th><th style=\"text-align: right;\">  learning_rate</th><th style=\"text-align: right;\">  learning_rate1</th><th style=\"text-align: right;\">  learning_rate2</th><th style=\"text-align: right;\">  learning_rate3</th><th>nesterov  </th><th>scheduler       </th></tr>\n",
              "</thead>\n",
              "<tbody>\n",
              "<tr><td>lambda_c6bec4ba</td><td>RUNNING </td><td>172.28.0.2:377</td><td style=\"text-align: right;\">0.202428</td><td style=\"text-align: right;\">     0.00226077</td><td style=\"text-align: right;\">      0.003864  </td><td style=\"text-align: right;\">      0.00544907</td><td style=\"text-align: right;\">      0.0095685 </td><td>False     </td><td>linear_decay    </td></tr>\n",
              "<tr><td>lambda_c6d1faa8</td><td>RUNNING </td><td>172.28.0.2:378</td><td style=\"text-align: right;\">0.459251</td><td style=\"text-align: right;\">     0.00296394</td><td style=\"text-align: right;\">      0.00133386</td><td style=\"text-align: right;\">      0.00282896</td><td style=\"text-align: right;\">      0.00808592</td><td>False     </td><td>linear_decay    </td></tr>\n",
              "<tr><td>lambda_d2f23686</td><td>PENDING </td><td>              </td><td style=\"text-align: right;\">0.174301</td><td style=\"text-align: right;\">     0.00667646</td><td style=\"text-align: right;\">      0.00834047</td><td style=\"text-align: right;\">      0.00202991</td><td style=\"text-align: right;\">      0.00478505</td><td>True      </td><td>cosine_annealing</td></tr>\n",
              "<tr><td>lambda_c4aab18e</td><td>ERROR   </td><td>172.28.0.2:379</td><td style=\"text-align: right;\">0.118825</td><td style=\"text-align: right;\">     0.00920452</td><td style=\"text-align: right;\">      0.00212929</td><td style=\"text-align: right;\">      0.00973207</td><td style=\"text-align: right;\">      0.00250276</td><td>False     </td><td>cosine_annealing</td></tr>\n",
              "</tbody>\n",
              "</table><br>Number of errored trials: 1<br><table>\n",
              "<thead>\n",
              "<tr><th>Trial name     </th><th style=\"text-align: right;\">  # failures</th><th>error file                                                                                                                                                                                                                         </th></tr>\n",
              "</thead>\n",
              "<tbody>\n",
              "<tr><td>lambda_c4aab18e</td><td style=\"text-align: right;\">           1</td><td>/content/cords/RayLogs/GradMatchPB-Warm/lambda_2022-03-23_15-56-14/lambda_c4aab18e_1_gamma=0.11882,learning_rate=0.0092045,learning_rate1=0.0021293,learning_rate2=0.0097321,learning_rate3=0.0025028_2022-03-23_15-56-14/error.txt</td></tr>\n",
              "</tbody>\n",
              "</table><br>"
            ]
          },
          "metadata": {}
        },
        {
          "output_type": "display_data",
          "data": {
            "text/plain": [
              "<IPython.core.display.HTML object>"
            ],
            "text/html": [
              "== Status ==<br>Current time: 2022-03-23 15:58:36 (running for 00:02:21.57)<br>Memory usage on this node: 6.4/25.5 GiB<br>Using AsyncHyperBand: num_stopped=0\n",
              "Bracket: Iter 256.000: None | Iter 64.000: None | Iter 16.000: None | Iter 4.000: None | Iter 1.000: None<br>Resources requested: 2.0/4 CPUs, 1.0/1 GPUs, 0.0/14.55 GiB heap, 0.0/7.28 GiB objects (0.0/1.0 accelerator_type:T4)<br>Result logdir: /content/cords/RayLogs/GradMatchPB-Warm/lambda_2022-03-23_15-56-14<br>Number of trials: 4/27 (1 ERROR, 1 PENDING, 2 RUNNING)<br><table>\n",
              "<thead>\n",
              "<tr><th>Trial name     </th><th>status  </th><th>loc           </th><th style=\"text-align: right;\">   gamma</th><th style=\"text-align: right;\">  learning_rate</th><th style=\"text-align: right;\">  learning_rate1</th><th style=\"text-align: right;\">  learning_rate2</th><th style=\"text-align: right;\">  learning_rate3</th><th>nesterov  </th><th>scheduler       </th></tr>\n",
              "</thead>\n",
              "<tbody>\n",
              "<tr><td>lambda_c6bec4ba</td><td>RUNNING </td><td>172.28.0.2:377</td><td style=\"text-align: right;\">0.202428</td><td style=\"text-align: right;\">     0.00226077</td><td style=\"text-align: right;\">      0.003864  </td><td style=\"text-align: right;\">      0.00544907</td><td style=\"text-align: right;\">      0.0095685 </td><td>False     </td><td>linear_decay    </td></tr>\n",
              "<tr><td>lambda_c6d1faa8</td><td>RUNNING </td><td>172.28.0.2:378</td><td style=\"text-align: right;\">0.459251</td><td style=\"text-align: right;\">     0.00296394</td><td style=\"text-align: right;\">      0.00133386</td><td style=\"text-align: right;\">      0.00282896</td><td style=\"text-align: right;\">      0.00808592</td><td>False     </td><td>linear_decay    </td></tr>\n",
              "<tr><td>lambda_d2f23686</td><td>PENDING </td><td>              </td><td style=\"text-align: right;\">0.174301</td><td style=\"text-align: right;\">     0.00667646</td><td style=\"text-align: right;\">      0.00834047</td><td style=\"text-align: right;\">      0.00202991</td><td style=\"text-align: right;\">      0.00478505</td><td>True      </td><td>cosine_annealing</td></tr>\n",
              "<tr><td>lambda_c4aab18e</td><td>ERROR   </td><td>172.28.0.2:379</td><td style=\"text-align: right;\">0.118825</td><td style=\"text-align: right;\">     0.00920452</td><td style=\"text-align: right;\">      0.00212929</td><td style=\"text-align: right;\">      0.00973207</td><td style=\"text-align: right;\">      0.00250276</td><td>False     </td><td>cosine_annealing</td></tr>\n",
              "</tbody>\n",
              "</table><br>Number of errored trials: 1<br><table>\n",
              "<thead>\n",
              "<tr><th>Trial name     </th><th style=\"text-align: right;\">  # failures</th><th>error file                                                                                                                                                                                                                         </th></tr>\n",
              "</thead>\n",
              "<tbody>\n",
              "<tr><td>lambda_c4aab18e</td><td style=\"text-align: right;\">           1</td><td>/content/cords/RayLogs/GradMatchPB-Warm/lambda_2022-03-23_15-56-14/lambda_c4aab18e_1_gamma=0.11882,learning_rate=0.0092045,learning_rate1=0.0021293,learning_rate2=0.0097321,learning_rate3=0.0025028_2022-03-23_15-56-14/error.txt</td></tr>\n",
              "</tbody>\n",
              "</table><br>"
            ]
          },
          "metadata": {}
        },
        {
          "output_type": "display_data",
          "data": {
            "text/plain": [
              "<IPython.core.display.HTML object>"
            ],
            "text/html": [
              "== Status ==<br>Current time: 2022-03-23 15:58:41 (running for 00:02:26.60)<br>Memory usage on this node: 6.4/25.5 GiB<br>Using AsyncHyperBand: num_stopped=0\n",
              "Bracket: Iter 256.000: None | Iter 64.000: None | Iter 16.000: None | Iter 4.000: None | Iter 1.000: None<br>Resources requested: 2.0/4 CPUs, 1.0/1 GPUs, 0.0/14.55 GiB heap, 0.0/7.28 GiB objects (0.0/1.0 accelerator_type:T4)<br>Result logdir: /content/cords/RayLogs/GradMatchPB-Warm/lambda_2022-03-23_15-56-14<br>Number of trials: 4/27 (1 ERROR, 1 PENDING, 2 RUNNING)<br><table>\n",
              "<thead>\n",
              "<tr><th>Trial name     </th><th>status  </th><th>loc           </th><th style=\"text-align: right;\">   gamma</th><th style=\"text-align: right;\">  learning_rate</th><th style=\"text-align: right;\">  learning_rate1</th><th style=\"text-align: right;\">  learning_rate2</th><th style=\"text-align: right;\">  learning_rate3</th><th>nesterov  </th><th>scheduler       </th></tr>\n",
              "</thead>\n",
              "<tbody>\n",
              "<tr><td>lambda_c6bec4ba</td><td>RUNNING </td><td>172.28.0.2:377</td><td style=\"text-align: right;\">0.202428</td><td style=\"text-align: right;\">     0.00226077</td><td style=\"text-align: right;\">      0.003864  </td><td style=\"text-align: right;\">      0.00544907</td><td style=\"text-align: right;\">      0.0095685 </td><td>False     </td><td>linear_decay    </td></tr>\n",
              "<tr><td>lambda_c6d1faa8</td><td>RUNNING </td><td>172.28.0.2:378</td><td style=\"text-align: right;\">0.459251</td><td style=\"text-align: right;\">     0.00296394</td><td style=\"text-align: right;\">      0.00133386</td><td style=\"text-align: right;\">      0.00282896</td><td style=\"text-align: right;\">      0.00808592</td><td>False     </td><td>linear_decay    </td></tr>\n",
              "<tr><td>lambda_d2f23686</td><td>PENDING </td><td>              </td><td style=\"text-align: right;\">0.174301</td><td style=\"text-align: right;\">     0.00667646</td><td style=\"text-align: right;\">      0.00834047</td><td style=\"text-align: right;\">      0.00202991</td><td style=\"text-align: right;\">      0.00478505</td><td>True      </td><td>cosine_annealing</td></tr>\n",
              "<tr><td>lambda_c4aab18e</td><td>ERROR   </td><td>172.28.0.2:379</td><td style=\"text-align: right;\">0.118825</td><td style=\"text-align: right;\">     0.00920452</td><td style=\"text-align: right;\">      0.00212929</td><td style=\"text-align: right;\">      0.00973207</td><td style=\"text-align: right;\">      0.00250276</td><td>False     </td><td>cosine_annealing</td></tr>\n",
              "</tbody>\n",
              "</table><br>Number of errored trials: 1<br><table>\n",
              "<thead>\n",
              "<tr><th>Trial name     </th><th style=\"text-align: right;\">  # failures</th><th>error file                                                                                                                                                                                                                         </th></tr>\n",
              "</thead>\n",
              "<tbody>\n",
              "<tr><td>lambda_c4aab18e</td><td style=\"text-align: right;\">           1</td><td>/content/cords/RayLogs/GradMatchPB-Warm/lambda_2022-03-23_15-56-14/lambda_c4aab18e_1_gamma=0.11882,learning_rate=0.0092045,learning_rate1=0.0021293,learning_rate2=0.0097321,learning_rate3=0.0025028_2022-03-23_15-56-14/error.txt</td></tr>\n",
              "</tbody>\n",
              "</table><br>"
            ]
          },
          "metadata": {}
        },
        {
          "output_type": "display_data",
          "data": {
            "text/plain": [
              "<IPython.core.display.HTML object>"
            ],
            "text/html": [
              "== Status ==<br>Current time: 2022-03-23 15:58:46 (running for 00:02:31.63)<br>Memory usage on this node: 6.4/25.5 GiB<br>Using AsyncHyperBand: num_stopped=0\n",
              "Bracket: Iter 256.000: None | Iter 64.000: None | Iter 16.000: None | Iter 4.000: None | Iter 1.000: None<br>Resources requested: 2.0/4 CPUs, 1.0/1 GPUs, 0.0/14.55 GiB heap, 0.0/7.28 GiB objects (0.0/1.0 accelerator_type:T4)<br>Result logdir: /content/cords/RayLogs/GradMatchPB-Warm/lambda_2022-03-23_15-56-14<br>Number of trials: 4/27 (1 ERROR, 1 PENDING, 2 RUNNING)<br><table>\n",
              "<thead>\n",
              "<tr><th>Trial name     </th><th>status  </th><th>loc           </th><th style=\"text-align: right;\">   gamma</th><th style=\"text-align: right;\">  learning_rate</th><th style=\"text-align: right;\">  learning_rate1</th><th style=\"text-align: right;\">  learning_rate2</th><th style=\"text-align: right;\">  learning_rate3</th><th>nesterov  </th><th>scheduler       </th></tr>\n",
              "</thead>\n",
              "<tbody>\n",
              "<tr><td>lambda_c6bec4ba</td><td>RUNNING </td><td>172.28.0.2:377</td><td style=\"text-align: right;\">0.202428</td><td style=\"text-align: right;\">     0.00226077</td><td style=\"text-align: right;\">      0.003864  </td><td style=\"text-align: right;\">      0.00544907</td><td style=\"text-align: right;\">      0.0095685 </td><td>False     </td><td>linear_decay    </td></tr>\n",
              "<tr><td>lambda_c6d1faa8</td><td>RUNNING </td><td>172.28.0.2:378</td><td style=\"text-align: right;\">0.459251</td><td style=\"text-align: right;\">     0.00296394</td><td style=\"text-align: right;\">      0.00133386</td><td style=\"text-align: right;\">      0.00282896</td><td style=\"text-align: right;\">      0.00808592</td><td>False     </td><td>linear_decay    </td></tr>\n",
              "<tr><td>lambda_d2f23686</td><td>PENDING </td><td>              </td><td style=\"text-align: right;\">0.174301</td><td style=\"text-align: right;\">     0.00667646</td><td style=\"text-align: right;\">      0.00834047</td><td style=\"text-align: right;\">      0.00202991</td><td style=\"text-align: right;\">      0.00478505</td><td>True      </td><td>cosine_annealing</td></tr>\n",
              "<tr><td>lambda_c4aab18e</td><td>ERROR   </td><td>172.28.0.2:379</td><td style=\"text-align: right;\">0.118825</td><td style=\"text-align: right;\">     0.00920452</td><td style=\"text-align: right;\">      0.00212929</td><td style=\"text-align: right;\">      0.00973207</td><td style=\"text-align: right;\">      0.00250276</td><td>False     </td><td>cosine_annealing</td></tr>\n",
              "</tbody>\n",
              "</table><br>Number of errored trials: 1<br><table>\n",
              "<thead>\n",
              "<tr><th>Trial name     </th><th style=\"text-align: right;\">  # failures</th><th>error file                                                                                                                                                                                                                         </th></tr>\n",
              "</thead>\n",
              "<tbody>\n",
              "<tr><td>lambda_c4aab18e</td><td style=\"text-align: right;\">           1</td><td>/content/cords/RayLogs/GradMatchPB-Warm/lambda_2022-03-23_15-56-14/lambda_c4aab18e_1_gamma=0.11882,learning_rate=0.0092045,learning_rate1=0.0021293,learning_rate2=0.0097321,learning_rate3=0.0025028_2022-03-23_15-56-14/error.txt</td></tr>\n",
              "</tbody>\n",
              "</table><br>"
            ]
          },
          "metadata": {}
        },
        {
          "output_type": "display_data",
          "data": {
            "text/plain": [
              "<IPython.core.display.HTML object>"
            ],
            "text/html": [
              "== Status ==<br>Current time: 2022-03-23 15:58:51 (running for 00:02:36.65)<br>Memory usage on this node: 6.4/25.5 GiB<br>Using AsyncHyperBand: num_stopped=0\n",
              "Bracket: Iter 256.000: None | Iter 64.000: None | Iter 16.000: None | Iter 4.000: None | Iter 1.000: None<br>Resources requested: 2.0/4 CPUs, 1.0/1 GPUs, 0.0/14.55 GiB heap, 0.0/7.28 GiB objects (0.0/1.0 accelerator_type:T4)<br>Result logdir: /content/cords/RayLogs/GradMatchPB-Warm/lambda_2022-03-23_15-56-14<br>Number of trials: 4/27 (1 ERROR, 1 PENDING, 2 RUNNING)<br><table>\n",
              "<thead>\n",
              "<tr><th>Trial name     </th><th>status  </th><th>loc           </th><th style=\"text-align: right;\">   gamma</th><th style=\"text-align: right;\">  learning_rate</th><th style=\"text-align: right;\">  learning_rate1</th><th style=\"text-align: right;\">  learning_rate2</th><th style=\"text-align: right;\">  learning_rate3</th><th>nesterov  </th><th>scheduler       </th></tr>\n",
              "</thead>\n",
              "<tbody>\n",
              "<tr><td>lambda_c6bec4ba</td><td>RUNNING </td><td>172.28.0.2:377</td><td style=\"text-align: right;\">0.202428</td><td style=\"text-align: right;\">     0.00226077</td><td style=\"text-align: right;\">      0.003864  </td><td style=\"text-align: right;\">      0.00544907</td><td style=\"text-align: right;\">      0.0095685 </td><td>False     </td><td>linear_decay    </td></tr>\n",
              "<tr><td>lambda_c6d1faa8</td><td>RUNNING </td><td>172.28.0.2:378</td><td style=\"text-align: right;\">0.459251</td><td style=\"text-align: right;\">     0.00296394</td><td style=\"text-align: right;\">      0.00133386</td><td style=\"text-align: right;\">      0.00282896</td><td style=\"text-align: right;\">      0.00808592</td><td>False     </td><td>linear_decay    </td></tr>\n",
              "<tr><td>lambda_d2f23686</td><td>PENDING </td><td>              </td><td style=\"text-align: right;\">0.174301</td><td style=\"text-align: right;\">     0.00667646</td><td style=\"text-align: right;\">      0.00834047</td><td style=\"text-align: right;\">      0.00202991</td><td style=\"text-align: right;\">      0.00478505</td><td>True      </td><td>cosine_annealing</td></tr>\n",
              "<tr><td>lambda_c4aab18e</td><td>ERROR   </td><td>172.28.0.2:379</td><td style=\"text-align: right;\">0.118825</td><td style=\"text-align: right;\">     0.00920452</td><td style=\"text-align: right;\">      0.00212929</td><td style=\"text-align: right;\">      0.00973207</td><td style=\"text-align: right;\">      0.00250276</td><td>False     </td><td>cosine_annealing</td></tr>\n",
              "</tbody>\n",
              "</table><br>Number of errored trials: 1<br><table>\n",
              "<thead>\n",
              "<tr><th>Trial name     </th><th style=\"text-align: right;\">  # failures</th><th>error file                                                                                                                                                                                                                         </th></tr>\n",
              "</thead>\n",
              "<tbody>\n",
              "<tr><td>lambda_c4aab18e</td><td style=\"text-align: right;\">           1</td><td>/content/cords/RayLogs/GradMatchPB-Warm/lambda_2022-03-23_15-56-14/lambda_c4aab18e_1_gamma=0.11882,learning_rate=0.0092045,learning_rate1=0.0021293,learning_rate2=0.0097321,learning_rate3=0.0025028_2022-03-23_15-56-14/error.txt</td></tr>\n",
              "</tbody>\n",
              "</table><br>"
            ]
          },
          "metadata": {}
        },
        {
          "output_type": "display_data",
          "data": {
            "text/plain": [
              "<IPython.core.display.HTML object>"
            ],
            "text/html": [
              "== Status ==<br>Current time: 2022-03-23 15:58:56 (running for 00:02:41.67)<br>Memory usage on this node: 6.4/25.5 GiB<br>Using AsyncHyperBand: num_stopped=0\n",
              "Bracket: Iter 256.000: None | Iter 64.000: None | Iter 16.000: None | Iter 4.000: None | Iter 1.000: None<br>Resources requested: 2.0/4 CPUs, 1.0/1 GPUs, 0.0/14.55 GiB heap, 0.0/7.28 GiB objects (0.0/1.0 accelerator_type:T4)<br>Result logdir: /content/cords/RayLogs/GradMatchPB-Warm/lambda_2022-03-23_15-56-14<br>Number of trials: 4/27 (1 ERROR, 1 PENDING, 2 RUNNING)<br><table>\n",
              "<thead>\n",
              "<tr><th>Trial name     </th><th>status  </th><th>loc           </th><th style=\"text-align: right;\">   gamma</th><th style=\"text-align: right;\">  learning_rate</th><th style=\"text-align: right;\">  learning_rate1</th><th style=\"text-align: right;\">  learning_rate2</th><th style=\"text-align: right;\">  learning_rate3</th><th>nesterov  </th><th>scheduler       </th></tr>\n",
              "</thead>\n",
              "<tbody>\n",
              "<tr><td>lambda_c6bec4ba</td><td>RUNNING </td><td>172.28.0.2:377</td><td style=\"text-align: right;\">0.202428</td><td style=\"text-align: right;\">     0.00226077</td><td style=\"text-align: right;\">      0.003864  </td><td style=\"text-align: right;\">      0.00544907</td><td style=\"text-align: right;\">      0.0095685 </td><td>False     </td><td>linear_decay    </td></tr>\n",
              "<tr><td>lambda_c6d1faa8</td><td>RUNNING </td><td>172.28.0.2:378</td><td style=\"text-align: right;\">0.459251</td><td style=\"text-align: right;\">     0.00296394</td><td style=\"text-align: right;\">      0.00133386</td><td style=\"text-align: right;\">      0.00282896</td><td style=\"text-align: right;\">      0.00808592</td><td>False     </td><td>linear_decay    </td></tr>\n",
              "<tr><td>lambda_d2f23686</td><td>PENDING </td><td>              </td><td style=\"text-align: right;\">0.174301</td><td style=\"text-align: right;\">     0.00667646</td><td style=\"text-align: right;\">      0.00834047</td><td style=\"text-align: right;\">      0.00202991</td><td style=\"text-align: right;\">      0.00478505</td><td>True      </td><td>cosine_annealing</td></tr>\n",
              "<tr><td>lambda_c4aab18e</td><td>ERROR   </td><td>172.28.0.2:379</td><td style=\"text-align: right;\">0.118825</td><td style=\"text-align: right;\">     0.00920452</td><td style=\"text-align: right;\">      0.00212929</td><td style=\"text-align: right;\">      0.00973207</td><td style=\"text-align: right;\">      0.00250276</td><td>False     </td><td>cosine_annealing</td></tr>\n",
              "</tbody>\n",
              "</table><br>Number of errored trials: 1<br><table>\n",
              "<thead>\n",
              "<tr><th>Trial name     </th><th style=\"text-align: right;\">  # failures</th><th>error file                                                                                                                                                                                                                         </th></tr>\n",
              "</thead>\n",
              "<tbody>\n",
              "<tr><td>lambda_c4aab18e</td><td style=\"text-align: right;\">           1</td><td>/content/cords/RayLogs/GradMatchPB-Warm/lambda_2022-03-23_15-56-14/lambda_c4aab18e_1_gamma=0.11882,learning_rate=0.0092045,learning_rate1=0.0021293,learning_rate2=0.0097321,learning_rate3=0.0025028_2022-03-23_15-56-14/error.txt</td></tr>\n",
              "</tbody>\n",
              "</table><br>"
            ]
          },
          "metadata": {}
        },
        {
          "output_type": "display_data",
          "data": {
            "text/plain": [
              "<IPython.core.display.HTML object>"
            ],
            "text/html": [
              "== Status ==<br>Current time: 2022-03-23 15:59:01 (running for 00:02:46.69)<br>Memory usage on this node: 6.5/25.5 GiB<br>Using AsyncHyperBand: num_stopped=0\n",
              "Bracket: Iter 256.000: None | Iter 64.000: None | Iter 16.000: None | Iter 4.000: None | Iter 1.000: None<br>Resources requested: 2.0/4 CPUs, 1.0/1 GPUs, 0.0/14.55 GiB heap, 0.0/7.28 GiB objects (0.0/1.0 accelerator_type:T4)<br>Result logdir: /content/cords/RayLogs/GradMatchPB-Warm/lambda_2022-03-23_15-56-14<br>Number of trials: 4/27 (1 ERROR, 1 PENDING, 2 RUNNING)<br><table>\n",
              "<thead>\n",
              "<tr><th>Trial name     </th><th>status  </th><th>loc           </th><th style=\"text-align: right;\">   gamma</th><th style=\"text-align: right;\">  learning_rate</th><th style=\"text-align: right;\">  learning_rate1</th><th style=\"text-align: right;\">  learning_rate2</th><th style=\"text-align: right;\">  learning_rate3</th><th>nesterov  </th><th>scheduler       </th></tr>\n",
              "</thead>\n",
              "<tbody>\n",
              "<tr><td>lambda_c6bec4ba</td><td>RUNNING </td><td>172.28.0.2:377</td><td style=\"text-align: right;\">0.202428</td><td style=\"text-align: right;\">     0.00226077</td><td style=\"text-align: right;\">      0.003864  </td><td style=\"text-align: right;\">      0.00544907</td><td style=\"text-align: right;\">      0.0095685 </td><td>False     </td><td>linear_decay    </td></tr>\n",
              "<tr><td>lambda_c6d1faa8</td><td>RUNNING </td><td>172.28.0.2:378</td><td style=\"text-align: right;\">0.459251</td><td style=\"text-align: right;\">     0.00296394</td><td style=\"text-align: right;\">      0.00133386</td><td style=\"text-align: right;\">      0.00282896</td><td style=\"text-align: right;\">      0.00808592</td><td>False     </td><td>linear_decay    </td></tr>\n",
              "<tr><td>lambda_d2f23686</td><td>PENDING </td><td>              </td><td style=\"text-align: right;\">0.174301</td><td style=\"text-align: right;\">     0.00667646</td><td style=\"text-align: right;\">      0.00834047</td><td style=\"text-align: right;\">      0.00202991</td><td style=\"text-align: right;\">      0.00478505</td><td>True      </td><td>cosine_annealing</td></tr>\n",
              "<tr><td>lambda_c4aab18e</td><td>ERROR   </td><td>172.28.0.2:379</td><td style=\"text-align: right;\">0.118825</td><td style=\"text-align: right;\">     0.00920452</td><td style=\"text-align: right;\">      0.00212929</td><td style=\"text-align: right;\">      0.00973207</td><td style=\"text-align: right;\">      0.00250276</td><td>False     </td><td>cosine_annealing</td></tr>\n",
              "</tbody>\n",
              "</table><br>Number of errored trials: 1<br><table>\n",
              "<thead>\n",
              "<tr><th>Trial name     </th><th style=\"text-align: right;\">  # failures</th><th>error file                                                                                                                                                                                                                         </th></tr>\n",
              "</thead>\n",
              "<tbody>\n",
              "<tr><td>lambda_c4aab18e</td><td style=\"text-align: right;\">           1</td><td>/content/cords/RayLogs/GradMatchPB-Warm/lambda_2022-03-23_15-56-14/lambda_c4aab18e_1_gamma=0.11882,learning_rate=0.0092045,learning_rate1=0.0021293,learning_rate2=0.0097321,learning_rate3=0.0025028_2022-03-23_15-56-14/error.txt</td></tr>\n",
              "</tbody>\n",
              "</table><br>"
            ]
          },
          "metadata": {}
        },
        {
          "output_type": "display_data",
          "data": {
            "text/plain": [
              "<IPython.core.display.HTML object>"
            ],
            "text/html": [
              "== Status ==<br>Current time: 2022-03-23 15:59:06 (running for 00:02:51.71)<br>Memory usage on this node: 6.5/25.5 GiB<br>Using AsyncHyperBand: num_stopped=0\n",
              "Bracket: Iter 256.000: None | Iter 64.000: None | Iter 16.000: None | Iter 4.000: None | Iter 1.000: None<br>Resources requested: 2.0/4 CPUs, 1.0/1 GPUs, 0.0/14.55 GiB heap, 0.0/7.28 GiB objects (0.0/1.0 accelerator_type:T4)<br>Result logdir: /content/cords/RayLogs/GradMatchPB-Warm/lambda_2022-03-23_15-56-14<br>Number of trials: 4/27 (1 ERROR, 1 PENDING, 2 RUNNING)<br><table>\n",
              "<thead>\n",
              "<tr><th>Trial name     </th><th>status  </th><th>loc           </th><th style=\"text-align: right;\">   gamma</th><th style=\"text-align: right;\">  learning_rate</th><th style=\"text-align: right;\">  learning_rate1</th><th style=\"text-align: right;\">  learning_rate2</th><th style=\"text-align: right;\">  learning_rate3</th><th>nesterov  </th><th>scheduler       </th></tr>\n",
              "</thead>\n",
              "<tbody>\n",
              "<tr><td>lambda_c6bec4ba</td><td>RUNNING </td><td>172.28.0.2:377</td><td style=\"text-align: right;\">0.202428</td><td style=\"text-align: right;\">     0.00226077</td><td style=\"text-align: right;\">      0.003864  </td><td style=\"text-align: right;\">      0.00544907</td><td style=\"text-align: right;\">      0.0095685 </td><td>False     </td><td>linear_decay    </td></tr>\n",
              "<tr><td>lambda_c6d1faa8</td><td>RUNNING </td><td>172.28.0.2:378</td><td style=\"text-align: right;\">0.459251</td><td style=\"text-align: right;\">     0.00296394</td><td style=\"text-align: right;\">      0.00133386</td><td style=\"text-align: right;\">      0.00282896</td><td style=\"text-align: right;\">      0.00808592</td><td>False     </td><td>linear_decay    </td></tr>\n",
              "<tr><td>lambda_d2f23686</td><td>PENDING </td><td>              </td><td style=\"text-align: right;\">0.174301</td><td style=\"text-align: right;\">     0.00667646</td><td style=\"text-align: right;\">      0.00834047</td><td style=\"text-align: right;\">      0.00202991</td><td style=\"text-align: right;\">      0.00478505</td><td>True      </td><td>cosine_annealing</td></tr>\n",
              "<tr><td>lambda_c4aab18e</td><td>ERROR   </td><td>172.28.0.2:379</td><td style=\"text-align: right;\">0.118825</td><td style=\"text-align: right;\">     0.00920452</td><td style=\"text-align: right;\">      0.00212929</td><td style=\"text-align: right;\">      0.00973207</td><td style=\"text-align: right;\">      0.00250276</td><td>False     </td><td>cosine_annealing</td></tr>\n",
              "</tbody>\n",
              "</table><br>Number of errored trials: 1<br><table>\n",
              "<thead>\n",
              "<tr><th>Trial name     </th><th style=\"text-align: right;\">  # failures</th><th>error file                                                                                                                                                                                                                         </th></tr>\n",
              "</thead>\n",
              "<tbody>\n",
              "<tr><td>lambda_c4aab18e</td><td style=\"text-align: right;\">           1</td><td>/content/cords/RayLogs/GradMatchPB-Warm/lambda_2022-03-23_15-56-14/lambda_c4aab18e_1_gamma=0.11882,learning_rate=0.0092045,learning_rate1=0.0021293,learning_rate2=0.0097321,learning_rate3=0.0025028_2022-03-23_15-56-14/error.txt</td></tr>\n",
              "</tbody>\n",
              "</table><br>"
            ]
          },
          "metadata": {}
        },
        {
          "output_type": "display_data",
          "data": {
            "text/plain": [
              "<IPython.core.display.HTML object>"
            ],
            "text/html": [
              "== Status ==<br>Current time: 2022-03-23 15:59:11 (running for 00:02:56.74)<br>Memory usage on this node: 6.5/25.5 GiB<br>Using AsyncHyperBand: num_stopped=0\n",
              "Bracket: Iter 256.000: None | Iter 64.000: None | Iter 16.000: None | Iter 4.000: None | Iter 1.000: None<br>Resources requested: 2.0/4 CPUs, 1.0/1 GPUs, 0.0/14.55 GiB heap, 0.0/7.28 GiB objects (0.0/1.0 accelerator_type:T4)<br>Result logdir: /content/cords/RayLogs/GradMatchPB-Warm/lambda_2022-03-23_15-56-14<br>Number of trials: 4/27 (1 ERROR, 1 PENDING, 2 RUNNING)<br><table>\n",
              "<thead>\n",
              "<tr><th>Trial name     </th><th>status  </th><th>loc           </th><th style=\"text-align: right;\">   gamma</th><th style=\"text-align: right;\">  learning_rate</th><th style=\"text-align: right;\">  learning_rate1</th><th style=\"text-align: right;\">  learning_rate2</th><th style=\"text-align: right;\">  learning_rate3</th><th>nesterov  </th><th>scheduler       </th></tr>\n",
              "</thead>\n",
              "<tbody>\n",
              "<tr><td>lambda_c6bec4ba</td><td>RUNNING </td><td>172.28.0.2:377</td><td style=\"text-align: right;\">0.202428</td><td style=\"text-align: right;\">     0.00226077</td><td style=\"text-align: right;\">      0.003864  </td><td style=\"text-align: right;\">      0.00544907</td><td style=\"text-align: right;\">      0.0095685 </td><td>False     </td><td>linear_decay    </td></tr>\n",
              "<tr><td>lambda_c6d1faa8</td><td>RUNNING </td><td>172.28.0.2:378</td><td style=\"text-align: right;\">0.459251</td><td style=\"text-align: right;\">     0.00296394</td><td style=\"text-align: right;\">      0.00133386</td><td style=\"text-align: right;\">      0.00282896</td><td style=\"text-align: right;\">      0.00808592</td><td>False     </td><td>linear_decay    </td></tr>\n",
              "<tr><td>lambda_d2f23686</td><td>PENDING </td><td>              </td><td style=\"text-align: right;\">0.174301</td><td style=\"text-align: right;\">     0.00667646</td><td style=\"text-align: right;\">      0.00834047</td><td style=\"text-align: right;\">      0.00202991</td><td style=\"text-align: right;\">      0.00478505</td><td>True      </td><td>cosine_annealing</td></tr>\n",
              "<tr><td>lambda_c4aab18e</td><td>ERROR   </td><td>172.28.0.2:379</td><td style=\"text-align: right;\">0.118825</td><td style=\"text-align: right;\">     0.00920452</td><td style=\"text-align: right;\">      0.00212929</td><td style=\"text-align: right;\">      0.00973207</td><td style=\"text-align: right;\">      0.00250276</td><td>False     </td><td>cosine_annealing</td></tr>\n",
              "</tbody>\n",
              "</table><br>Number of errored trials: 1<br><table>\n",
              "<thead>\n",
              "<tr><th>Trial name     </th><th style=\"text-align: right;\">  # failures</th><th>error file                                                                                                                                                                                                                         </th></tr>\n",
              "</thead>\n",
              "<tbody>\n",
              "<tr><td>lambda_c4aab18e</td><td style=\"text-align: right;\">           1</td><td>/content/cords/RayLogs/GradMatchPB-Warm/lambda_2022-03-23_15-56-14/lambda_c4aab18e_1_gamma=0.11882,learning_rate=0.0092045,learning_rate1=0.0021293,learning_rate2=0.0097321,learning_rate3=0.0025028_2022-03-23_15-56-14/error.txt</td></tr>\n",
              "</tbody>\n",
              "</table><br>"
            ]
          },
          "metadata": {}
        },
        {
          "output_type": "display_data",
          "data": {
            "text/plain": [
              "<IPython.core.display.HTML object>"
            ],
            "text/html": [
              "== Status ==<br>Current time: 2022-03-23 15:59:16 (running for 00:03:01.76)<br>Memory usage on this node: 6.5/25.5 GiB<br>Using AsyncHyperBand: num_stopped=0\n",
              "Bracket: Iter 256.000: None | Iter 64.000: None | Iter 16.000: None | Iter 4.000: None | Iter 1.000: None<br>Resources requested: 2.0/4 CPUs, 1.0/1 GPUs, 0.0/14.55 GiB heap, 0.0/7.28 GiB objects (0.0/1.0 accelerator_type:T4)<br>Result logdir: /content/cords/RayLogs/GradMatchPB-Warm/lambda_2022-03-23_15-56-14<br>Number of trials: 4/27 (1 ERROR, 1 PENDING, 2 RUNNING)<br><table>\n",
              "<thead>\n",
              "<tr><th>Trial name     </th><th>status  </th><th>loc           </th><th style=\"text-align: right;\">   gamma</th><th style=\"text-align: right;\">  learning_rate</th><th style=\"text-align: right;\">  learning_rate1</th><th style=\"text-align: right;\">  learning_rate2</th><th style=\"text-align: right;\">  learning_rate3</th><th>nesterov  </th><th>scheduler       </th></tr>\n",
              "</thead>\n",
              "<tbody>\n",
              "<tr><td>lambda_c6bec4ba</td><td>RUNNING </td><td>172.28.0.2:377</td><td style=\"text-align: right;\">0.202428</td><td style=\"text-align: right;\">     0.00226077</td><td style=\"text-align: right;\">      0.003864  </td><td style=\"text-align: right;\">      0.00544907</td><td style=\"text-align: right;\">      0.0095685 </td><td>False     </td><td>linear_decay    </td></tr>\n",
              "<tr><td>lambda_c6d1faa8</td><td>RUNNING </td><td>172.28.0.2:378</td><td style=\"text-align: right;\">0.459251</td><td style=\"text-align: right;\">     0.00296394</td><td style=\"text-align: right;\">      0.00133386</td><td style=\"text-align: right;\">      0.00282896</td><td style=\"text-align: right;\">      0.00808592</td><td>False     </td><td>linear_decay    </td></tr>\n",
              "<tr><td>lambda_d2f23686</td><td>PENDING </td><td>              </td><td style=\"text-align: right;\">0.174301</td><td style=\"text-align: right;\">     0.00667646</td><td style=\"text-align: right;\">      0.00834047</td><td style=\"text-align: right;\">      0.00202991</td><td style=\"text-align: right;\">      0.00478505</td><td>True      </td><td>cosine_annealing</td></tr>\n",
              "<tr><td>lambda_c4aab18e</td><td>ERROR   </td><td>172.28.0.2:379</td><td style=\"text-align: right;\">0.118825</td><td style=\"text-align: right;\">     0.00920452</td><td style=\"text-align: right;\">      0.00212929</td><td style=\"text-align: right;\">      0.00973207</td><td style=\"text-align: right;\">      0.00250276</td><td>False     </td><td>cosine_annealing</td></tr>\n",
              "</tbody>\n",
              "</table><br>Number of errored trials: 1<br><table>\n",
              "<thead>\n",
              "<tr><th>Trial name     </th><th style=\"text-align: right;\">  # failures</th><th>error file                                                                                                                                                                                                                         </th></tr>\n",
              "</thead>\n",
              "<tbody>\n",
              "<tr><td>lambda_c4aab18e</td><td style=\"text-align: right;\">           1</td><td>/content/cords/RayLogs/GradMatchPB-Warm/lambda_2022-03-23_15-56-14/lambda_c4aab18e_1_gamma=0.11882,learning_rate=0.0092045,learning_rate1=0.0021293,learning_rate2=0.0097321,learning_rate3=0.0025028_2022-03-23_15-56-14/error.txt</td></tr>\n",
              "</tbody>\n",
              "</table><br>"
            ]
          },
          "metadata": {}
        },
        {
          "output_type": "display_data",
          "data": {
            "text/plain": [
              "<IPython.core.display.HTML object>"
            ],
            "text/html": [
              "== Status ==<br>Current time: 2022-03-23 15:59:21 (running for 00:03:06.78)<br>Memory usage on this node: 6.5/25.5 GiB<br>Using AsyncHyperBand: num_stopped=0\n",
              "Bracket: Iter 256.000: None | Iter 64.000: None | Iter 16.000: None | Iter 4.000: None | Iter 1.000: None<br>Resources requested: 2.0/4 CPUs, 1.0/1 GPUs, 0.0/14.55 GiB heap, 0.0/7.28 GiB objects (0.0/1.0 accelerator_type:T4)<br>Result logdir: /content/cords/RayLogs/GradMatchPB-Warm/lambda_2022-03-23_15-56-14<br>Number of trials: 4/27 (1 ERROR, 1 PENDING, 2 RUNNING)<br><table>\n",
              "<thead>\n",
              "<tr><th>Trial name     </th><th>status  </th><th>loc           </th><th style=\"text-align: right;\">   gamma</th><th style=\"text-align: right;\">  learning_rate</th><th style=\"text-align: right;\">  learning_rate1</th><th style=\"text-align: right;\">  learning_rate2</th><th style=\"text-align: right;\">  learning_rate3</th><th>nesterov  </th><th>scheduler       </th></tr>\n",
              "</thead>\n",
              "<tbody>\n",
              "<tr><td>lambda_c6bec4ba</td><td>RUNNING </td><td>172.28.0.2:377</td><td style=\"text-align: right;\">0.202428</td><td style=\"text-align: right;\">     0.00226077</td><td style=\"text-align: right;\">      0.003864  </td><td style=\"text-align: right;\">      0.00544907</td><td style=\"text-align: right;\">      0.0095685 </td><td>False     </td><td>linear_decay    </td></tr>\n",
              "<tr><td>lambda_c6d1faa8</td><td>RUNNING </td><td>172.28.0.2:378</td><td style=\"text-align: right;\">0.459251</td><td style=\"text-align: right;\">     0.00296394</td><td style=\"text-align: right;\">      0.00133386</td><td style=\"text-align: right;\">      0.00282896</td><td style=\"text-align: right;\">      0.00808592</td><td>False     </td><td>linear_decay    </td></tr>\n",
              "<tr><td>lambda_d2f23686</td><td>PENDING </td><td>              </td><td style=\"text-align: right;\">0.174301</td><td style=\"text-align: right;\">     0.00667646</td><td style=\"text-align: right;\">      0.00834047</td><td style=\"text-align: right;\">      0.00202991</td><td style=\"text-align: right;\">      0.00478505</td><td>True      </td><td>cosine_annealing</td></tr>\n",
              "<tr><td>lambda_c4aab18e</td><td>ERROR   </td><td>172.28.0.2:379</td><td style=\"text-align: right;\">0.118825</td><td style=\"text-align: right;\">     0.00920452</td><td style=\"text-align: right;\">      0.00212929</td><td style=\"text-align: right;\">      0.00973207</td><td style=\"text-align: right;\">      0.00250276</td><td>False     </td><td>cosine_annealing</td></tr>\n",
              "</tbody>\n",
              "</table><br>Number of errored trials: 1<br><table>\n",
              "<thead>\n",
              "<tr><th>Trial name     </th><th style=\"text-align: right;\">  # failures</th><th>error file                                                                                                                                                                                                                         </th></tr>\n",
              "</thead>\n",
              "<tbody>\n",
              "<tr><td>lambda_c4aab18e</td><td style=\"text-align: right;\">           1</td><td>/content/cords/RayLogs/GradMatchPB-Warm/lambda_2022-03-23_15-56-14/lambda_c4aab18e_1_gamma=0.11882,learning_rate=0.0092045,learning_rate1=0.0021293,learning_rate2=0.0097321,learning_rate3=0.0025028_2022-03-23_15-56-14/error.txt</td></tr>\n",
              "</tbody>\n",
              "</table><br>"
            ]
          },
          "metadata": {}
        }
      ],
      "source": [
        "param_tune_function = lambda config: param_tune(train_cfg, train_class, config)\n",
        "analysis = tune.run(\n",
        "          param_tune_function,\n",
        "          num_samples=param_tuning_cfg.num_evals,\n",
        "          search_alg=search,\n",
        "          scheduler=scheduler,\n",
        "          resources_per_trial=param_tuning_cfg.resources,\n",
        "          local_dir=param_tuning_cfg.log_dir+train_cfg.dss_args.type+'/',\n",
        "          log_to_file=True,\n",
        "          name=param_tuning_cfg.name,\n",
        "          resume=param_tuning_cfg.resume)"
      ]
    },
    {
      "cell_type": "markdown",
      "id": "65018ff2",
      "metadata": {
        "id": "65018ff2",
        "papermill": {
          "duration": null,
          "end_time": null,
          "exception": null,
          "start_time": null,
          "status": "pending"
        },
        "tags": []
      },
      "source": [
        "### Get best hyper-parameter configuration"
      ]
    },
    {
      "cell_type": "code",
      "execution_count": null,
      "id": "fe3ac0a3",
      "metadata": {
        "id": "fe3ac0a3",
        "papermill": {
          "duration": null,
          "end_time": null,
          "exception": null,
          "start_time": null,
          "status": "pending"
        },
        "tags": []
      },
      "outputs": [],
      "source": [
        "best_config = analysis.get_best_config(metric=param_tuning_cfg.metric, mode=param_tuning_cfg.mode)\n",
        "print(\"Best Config: \", best_config)"
      ]
    }
  ],
  "metadata": {
    "accelerator": "GPU",
    "colab": {
      "collapsed_sections": [],
      "machine_shape": "hm",
      "name": "CORDS_SL_CIFAR10_HPO_ASHA_Example.ipynb",
      "provenance": []
    },
    "kernelspec": {
      "display_name": "Python 3 (ipykernel)",
      "language": "python",
      "name": "python3"
    },
    "language_info": {
      "codemirror_mode": {
        "name": "ipython",
        "version": 3
      },
      "file_extension": ".py",
      "mimetype": "text/x-python",
      "name": "python",
      "nbconvert_exporter": "python",
      "pygments_lexer": "ipython3",
      "version": "3.7.11"
    },
    "papermill": {
      "default_parameters": {},
      "duration": null,
      "end_time": null,
      "environment_variables": {},
      "exception": null,
      "input_path": "CORDS_SL_CIFAR10_HPO_ASHA_Example.ipynb",
      "output_path": "CORDS_SL_CIFAR10_HPO_ASHA_Example_run.ipynb",
      "parameters": {},
      "start_time": "2022-02-23T17:02:41.701414",
      "version": "2.3.4"
    }
  },
  "nbformat": 4,
  "nbformat_minor": 5
}