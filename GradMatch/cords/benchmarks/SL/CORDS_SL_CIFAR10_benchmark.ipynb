{
  "nbformat": 4,
  "nbformat_minor": 0,
  "metadata": {
    "accelerator": "GPU",
    "colab": {
      "name": "CORDS_SL_CIFAR10_benchmark.ipynb",
      "provenance": [],
      "collapsed_sections": [],
      "machine_shape": "hm"
    },
    "kernelspec": {
      "display_name": "Python 3",
      "name": "python3"
    },
    "widgets": {
      "application/vnd.jupyter.widget-state+json": {
        "b7e30bed4a604d55aee695214c552d1a": {
          "model_module": "@jupyter-widgets/controls",
          "model_name": "HBoxModel",
          "model_module_version": "1.5.0",
          "state": {
            "_view_name": "HBoxView",
            "_dom_classes": [],
            "_model_name": "HBoxModel",
            "_view_module": "@jupyter-widgets/controls",
            "_model_module_version": "1.5.0",
            "_view_count": null,
            "_view_module_version": "1.5.0",
            "box_style": "",
            "layout": "IPY_MODEL_ca39051760b04b96b7b0d96a07e2fe40",
            "_model_module": "@jupyter-widgets/controls",
            "children": [
              "IPY_MODEL_6d0ee091fa644ca2ac0c95de372f8256",
              "IPY_MODEL_c8aad48c6668499fad1f1f647fac6709"
            ]
          }
        },
        "ca39051760b04b96b7b0d96a07e2fe40": {
          "model_module": "@jupyter-widgets/base",
          "model_name": "LayoutModel",
          "model_module_version": "1.2.0",
          "state": {
            "_view_name": "LayoutView",
            "grid_template_rows": null,
            "right": null,
            "justify_content": null,
            "_view_module": "@jupyter-widgets/base",
            "overflow": null,
            "_model_module_version": "1.2.0",
            "_view_count": null,
            "flex_flow": null,
            "width": null,
            "min_width": null,
            "border": null,
            "align_items": null,
            "bottom": null,
            "_model_module": "@jupyter-widgets/base",
            "top": null,
            "grid_column": null,
            "overflow_y": null,
            "overflow_x": null,
            "grid_auto_flow": null,
            "grid_area": null,
            "grid_template_columns": null,
            "flex": null,
            "_model_name": "LayoutModel",
            "justify_items": null,
            "grid_row": null,
            "max_height": null,
            "align_content": null,
            "visibility": null,
            "align_self": null,
            "height": null,
            "min_height": null,
            "padding": null,
            "grid_auto_rows": null,
            "grid_gap": null,
            "max_width": null,
            "order": null,
            "_view_module_version": "1.2.0",
            "grid_template_areas": null,
            "object_position": null,
            "object_fit": null,
            "grid_auto_columns": null,
            "margin": null,
            "display": null,
            "left": null
          }
        },
        "6d0ee091fa644ca2ac0c95de372f8256": {
          "model_module": "@jupyter-widgets/controls",
          "model_name": "FloatProgressModel",
          "model_module_version": "1.5.0",
          "state": {
            "_view_name": "ProgressView",
            "style": "IPY_MODEL_2e9d9bb423104d92bb920425a01cb4d7",
            "_dom_classes": [],
            "description": "",
            "_model_name": "FloatProgressModel",
            "bar_style": "success",
            "max": 170498071,
            "_view_module": "@jupyter-widgets/controls",
            "_model_module_version": "1.5.0",
            "value": 170498071,
            "_view_count": null,
            "_view_module_version": "1.5.0",
            "orientation": "horizontal",
            "min": 0,
            "description_tooltip": null,
            "_model_module": "@jupyter-widgets/controls",
            "layout": "IPY_MODEL_ac0e2e0d2deb449cabf7349fb39b263e"
          }
        },
        "c8aad48c6668499fad1f1f647fac6709": {
          "model_module": "@jupyter-widgets/controls",
          "model_name": "HTMLModel",
          "model_module_version": "1.5.0",
          "state": {
            "_view_name": "HTMLView",
            "style": "IPY_MODEL_3a1759adf4f248feb5d2d73c3683da15",
            "_dom_classes": [],
            "description": "",
            "_model_name": "HTMLModel",
            "placeholder": "​",
            "_view_module": "@jupyter-widgets/controls",
            "_model_module_version": "1.5.0",
            "value": " 170499072/? [01:13&lt;00:00, 2318291.41it/s]",
            "_view_count": null,
            "_view_module_version": "1.5.0",
            "description_tooltip": null,
            "_model_module": "@jupyter-widgets/controls",
            "layout": "IPY_MODEL_85a427a913b444219152bad6d1893ba2"
          }
        },
        "2e9d9bb423104d92bb920425a01cb4d7": {
          "model_module": "@jupyter-widgets/controls",
          "model_name": "ProgressStyleModel",
          "model_module_version": "1.5.0",
          "state": {
            "_view_name": "StyleView",
            "_model_name": "ProgressStyleModel",
            "description_width": "initial",
            "_view_module": "@jupyter-widgets/base",
            "_model_module_version": "1.5.0",
            "_view_count": null,
            "_view_module_version": "1.2.0",
            "bar_color": null,
            "_model_module": "@jupyter-widgets/controls"
          }
        },
        "ac0e2e0d2deb449cabf7349fb39b263e": {
          "model_module": "@jupyter-widgets/base",
          "model_name": "LayoutModel",
          "model_module_version": "1.2.0",
          "state": {
            "_view_name": "LayoutView",
            "grid_template_rows": null,
            "right": null,
            "justify_content": null,
            "_view_module": "@jupyter-widgets/base",
            "overflow": null,
            "_model_module_version": "1.2.0",
            "_view_count": null,
            "flex_flow": null,
            "width": null,
            "min_width": null,
            "border": null,
            "align_items": null,
            "bottom": null,
            "_model_module": "@jupyter-widgets/base",
            "top": null,
            "grid_column": null,
            "overflow_y": null,
            "overflow_x": null,
            "grid_auto_flow": null,
            "grid_area": null,
            "grid_template_columns": null,
            "flex": null,
            "_model_name": "LayoutModel",
            "justify_items": null,
            "grid_row": null,
            "max_height": null,
            "align_content": null,
            "visibility": null,
            "align_self": null,
            "height": null,
            "min_height": null,
            "padding": null,
            "grid_auto_rows": null,
            "grid_gap": null,
            "max_width": null,
            "order": null,
            "_view_module_version": "1.2.0",
            "grid_template_areas": null,
            "object_position": null,
            "object_fit": null,
            "grid_auto_columns": null,
            "margin": null,
            "display": null,
            "left": null
          }
        },
        "3a1759adf4f248feb5d2d73c3683da15": {
          "model_module": "@jupyter-widgets/controls",
          "model_name": "DescriptionStyleModel",
          "model_module_version": "1.5.0",
          "state": {
            "_view_name": "StyleView",
            "_model_name": "DescriptionStyleModel",
            "description_width": "",
            "_view_module": "@jupyter-widgets/base",
            "_model_module_version": "1.5.0",
            "_view_count": null,
            "_view_module_version": "1.2.0",
            "_model_module": "@jupyter-widgets/controls"
          }
        },
        "85a427a913b444219152bad6d1893ba2": {
          "model_module": "@jupyter-widgets/base",
          "model_name": "LayoutModel",
          "model_module_version": "1.2.0",
          "state": {
            "_view_name": "LayoutView",
            "grid_template_rows": null,
            "right": null,
            "justify_content": null,
            "_view_module": "@jupyter-widgets/base",
            "overflow": null,
            "_model_module_version": "1.2.0",
            "_view_count": null,
            "flex_flow": null,
            "width": null,
            "min_width": null,
            "border": null,
            "align_items": null,
            "bottom": null,
            "_model_module": "@jupyter-widgets/base",
            "top": null,
            "grid_column": null,
            "overflow_y": null,
            "overflow_x": null,
            "grid_auto_flow": null,
            "grid_area": null,
            "grid_template_columns": null,
            "flex": null,
            "_model_name": "LayoutModel",
            "justify_items": null,
            "grid_row": null,
            "max_height": null,
            "align_content": null,
            "visibility": null,
            "align_self": null,
            "height": null,
            "min_height": null,
            "padding": null,
            "grid_auto_rows": null,
            "grid_gap": null,
            "max_width": null,
            "order": null,
            "_view_module_version": "1.2.0",
            "grid_template_areas": null,
            "object_position": null,
            "object_fit": null,
            "grid_auto_columns": null,
            "margin": null,
            "display": null,
            "left": null
          }
        },
        "022bb04d82de451aaa5cc23fedddcabc": {
          "model_module": "@jupyter-widgets/controls",
          "model_name": "HBoxModel",
          "model_module_version": "1.5.0",
          "state": {
            "_view_name": "HBoxView",
            "_dom_classes": [],
            "_model_name": "HBoxModel",
            "_view_module": "@jupyter-widgets/controls",
            "_model_module_version": "1.5.0",
            "_view_count": null,
            "_view_module_version": "1.5.0",
            "box_style": "",
            "layout": "IPY_MODEL_0dd8a1fbcf1848e4b4512b80d8a126e2",
            "_model_module": "@jupyter-widgets/controls",
            "children": [
              "IPY_MODEL_8389b24801fa4f77966458251f40af6b",
              "IPY_MODEL_03fc97942df8495bb73be18e241029e2",
              "IPY_MODEL_a5099e223d0c4b35b8ad792ace6c809c"
            ]
          }
        },
        "0dd8a1fbcf1848e4b4512b80d8a126e2": {
          "model_module": "@jupyter-widgets/base",
          "model_name": "LayoutModel",
          "model_module_version": "1.2.0",
          "state": {
            "_view_name": "LayoutView",
            "grid_template_rows": null,
            "right": null,
            "justify_content": null,
            "_view_module": "@jupyter-widgets/base",
            "overflow": null,
            "_model_module_version": "1.2.0",
            "_view_count": null,
            "flex_flow": null,
            "width": null,
            "min_width": null,
            "border": null,
            "align_items": null,
            "bottom": null,
            "_model_module": "@jupyter-widgets/base",
            "top": null,
            "grid_column": null,
            "overflow_y": null,
            "overflow_x": null,
            "grid_auto_flow": null,
            "grid_area": null,
            "grid_template_columns": null,
            "flex": null,
            "_model_name": "LayoutModel",
            "justify_items": null,
            "grid_row": null,
            "max_height": null,
            "align_content": null,
            "visibility": null,
            "align_self": null,
            "height": null,
            "min_height": null,
            "padding": null,
            "grid_auto_rows": null,
            "grid_gap": null,
            "max_width": null,
            "order": null,
            "_view_module_version": "1.2.0",
            "grid_template_areas": null,
            "object_position": null,
            "object_fit": null,
            "grid_auto_columns": null,
            "margin": null,
            "display": null,
            "left": null
          }
        },
        "8389b24801fa4f77966458251f40af6b": {
          "model_module": "@jupyter-widgets/controls",
          "model_name": "HTMLModel",
          "model_module_version": "1.5.0",
          "state": {
            "_view_name": "HTMLView",
            "style": "IPY_MODEL_8c52a8b2e1fe47ce9b5731bf465ef4cc",
            "_dom_classes": [],
            "description": "",
            "_model_name": "HTMLModel",
            "placeholder": "​",
            "_view_module": "@jupyter-widgets/controls",
            "_model_module_version": "1.5.0",
            "value": "",
            "_view_count": null,
            "_view_module_version": "1.5.0",
            "description_tooltip": null,
            "_model_module": "@jupyter-widgets/controls",
            "layout": "IPY_MODEL_ec4c75c472a642a88667f48af05b55a9"
          }
        },
        "03fc97942df8495bb73be18e241029e2": {
          "model_module": "@jupyter-widgets/controls",
          "model_name": "FloatProgressModel",
          "model_module_version": "1.5.0",
          "state": {
            "_view_name": "ProgressView",
            "style": "IPY_MODEL_43df4ce1325341f4b488047a4d12747a",
            "_dom_classes": [],
            "description": "",
            "_model_name": "FloatProgressModel",
            "bar_style": "success",
            "max": 170498071,
            "_view_module": "@jupyter-widgets/controls",
            "_model_module_version": "1.5.0",
            "value": 170498071,
            "_view_count": null,
            "_view_module_version": "1.5.0",
            "orientation": "horizontal",
            "min": 0,
            "description_tooltip": null,
            "_model_module": "@jupyter-widgets/controls",
            "layout": "IPY_MODEL_0bcaa11c93094c6c8b4575e85754475b"
          }
        },
        "a5099e223d0c4b35b8ad792ace6c809c": {
          "model_module": "@jupyter-widgets/controls",
          "model_name": "HTMLModel",
          "model_module_version": "1.5.0",
          "state": {
            "_view_name": "HTMLView",
            "style": "IPY_MODEL_f509d08e304f47d097277ef27f640d18",
            "_dom_classes": [],
            "description": "",
            "_model_name": "HTMLModel",
            "placeholder": "​",
            "_view_module": "@jupyter-widgets/controls",
            "_model_module_version": "1.5.0",
            "value": " 170499072/? [00:02&lt;00:00, 70256933.70it/s]",
            "_view_count": null,
            "_view_module_version": "1.5.0",
            "description_tooltip": null,
            "_model_module": "@jupyter-widgets/controls",
            "layout": "IPY_MODEL_8c0d5c11dd4648118116fa94564c5293"
          }
        },
        "8c52a8b2e1fe47ce9b5731bf465ef4cc": {
          "model_module": "@jupyter-widgets/controls",
          "model_name": "DescriptionStyleModel",
          "model_module_version": "1.5.0",
          "state": {
            "_view_name": "StyleView",
            "_model_name": "DescriptionStyleModel",
            "description_width": "",
            "_view_module": "@jupyter-widgets/base",
            "_model_module_version": "1.5.0",
            "_view_count": null,
            "_view_module_version": "1.2.0",
            "_model_module": "@jupyter-widgets/controls"
          }
        },
        "ec4c75c472a642a88667f48af05b55a9": {
          "model_module": "@jupyter-widgets/base",
          "model_name": "LayoutModel",
          "model_module_version": "1.2.0",
          "state": {
            "_view_name": "LayoutView",
            "grid_template_rows": null,
            "right": null,
            "justify_content": null,
            "_view_module": "@jupyter-widgets/base",
            "overflow": null,
            "_model_module_version": "1.2.0",
            "_view_count": null,
            "flex_flow": null,
            "width": null,
            "min_width": null,
            "border": null,
            "align_items": null,
            "bottom": null,
            "_model_module": "@jupyter-widgets/base",
            "top": null,
            "grid_column": null,
            "overflow_y": null,
            "overflow_x": null,
            "grid_auto_flow": null,
            "grid_area": null,
            "grid_template_columns": null,
            "flex": null,
            "_model_name": "LayoutModel",
            "justify_items": null,
            "grid_row": null,
            "max_height": null,
            "align_content": null,
            "visibility": null,
            "align_self": null,
            "height": null,
            "min_height": null,
            "padding": null,
            "grid_auto_rows": null,
            "grid_gap": null,
            "max_width": null,
            "order": null,
            "_view_module_version": "1.2.0",
            "grid_template_areas": null,
            "object_position": null,
            "object_fit": null,
            "grid_auto_columns": null,
            "margin": null,
            "display": null,
            "left": null
          }
        },
        "43df4ce1325341f4b488047a4d12747a": {
          "model_module": "@jupyter-widgets/controls",
          "model_name": "ProgressStyleModel",
          "model_module_version": "1.5.0",
          "state": {
            "_view_name": "StyleView",
            "_model_name": "ProgressStyleModel",
            "description_width": "",
            "_view_module": "@jupyter-widgets/base",
            "_model_module_version": "1.5.0",
            "_view_count": null,
            "_view_module_version": "1.2.0",
            "bar_color": null,
            "_model_module": "@jupyter-widgets/controls"
          }
        },
        "0bcaa11c93094c6c8b4575e85754475b": {
          "model_module": "@jupyter-widgets/base",
          "model_name": "LayoutModel",
          "model_module_version": "1.2.0",
          "state": {
            "_view_name": "LayoutView",
            "grid_template_rows": null,
            "right": null,
            "justify_content": null,
            "_view_module": "@jupyter-widgets/base",
            "overflow": null,
            "_model_module_version": "1.2.0",
            "_view_count": null,
            "flex_flow": null,
            "width": null,
            "min_width": null,
            "border": null,
            "align_items": null,
            "bottom": null,
            "_model_module": "@jupyter-widgets/base",
            "top": null,
            "grid_column": null,
            "overflow_y": null,
            "overflow_x": null,
            "grid_auto_flow": null,
            "grid_area": null,
            "grid_template_columns": null,
            "flex": null,
            "_model_name": "LayoutModel",
            "justify_items": null,
            "grid_row": null,
            "max_height": null,
            "align_content": null,
            "visibility": null,
            "align_self": null,
            "height": null,
            "min_height": null,
            "padding": null,
            "grid_auto_rows": null,
            "grid_gap": null,
            "max_width": null,
            "order": null,
            "_view_module_version": "1.2.0",
            "grid_template_areas": null,
            "object_position": null,
            "object_fit": null,
            "grid_auto_columns": null,
            "margin": null,
            "display": null,
            "left": null
          }
        },
        "f509d08e304f47d097277ef27f640d18": {
          "model_module": "@jupyter-widgets/controls",
          "model_name": "DescriptionStyleModel",
          "model_module_version": "1.5.0",
          "state": {
            "_view_name": "StyleView",
            "_model_name": "DescriptionStyleModel",
            "description_width": "",
            "_view_module": "@jupyter-widgets/base",
            "_model_module_version": "1.5.0",
            "_view_count": null,
            "_view_module_version": "1.2.0",
            "_model_module": "@jupyter-widgets/controls"
          }
        },
        "8c0d5c11dd4648118116fa94564c5293": {
          "model_module": "@jupyter-widgets/base",
          "model_name": "LayoutModel",
          "model_module_version": "1.2.0",
          "state": {
            "_view_name": "LayoutView",
            "grid_template_rows": null,
            "right": null,
            "justify_content": null,
            "_view_module": "@jupyter-widgets/base",
            "overflow": null,
            "_model_module_version": "1.2.0",
            "_view_count": null,
            "flex_flow": null,
            "width": null,
            "min_width": null,
            "border": null,
            "align_items": null,
            "bottom": null,
            "_model_module": "@jupyter-widgets/base",
            "top": null,
            "grid_column": null,
            "overflow_y": null,
            "overflow_x": null,
            "grid_auto_flow": null,
            "grid_area": null,
            "grid_template_columns": null,
            "flex": null,
            "_model_name": "LayoutModel",
            "justify_items": null,
            "grid_row": null,
            "max_height": null,
            "align_content": null,
            "visibility": null,
            "align_self": null,
            "height": null,
            "min_height": null,
            "padding": null,
            "grid_auto_rows": null,
            "grid_gap": null,
            "max_width": null,
            "order": null,
            "_view_module_version": "1.2.0",
            "grid_template_areas": null,
            "object_position": null,
            "object_fit": null,
            "grid_auto_columns": null,
            "margin": null,
            "display": null,
            "left": null
          }
        },
        "33ae982cc04e499a97f36b951065616c": {
          "model_module": "@jupyter-widgets/controls",
          "model_name": "HBoxModel",
          "model_module_version": "1.5.0",
          "state": {
            "_view_name": "HBoxView",
            "_dom_classes": [],
            "_model_name": "HBoxModel",
            "_view_module": "@jupyter-widgets/controls",
            "_model_module_version": "1.5.0",
            "_view_count": null,
            "_view_module_version": "1.5.0",
            "box_style": "",
            "layout": "IPY_MODEL_3249baabe1ce4eb7b244eddf6e5164c3",
            "_model_module": "@jupyter-widgets/controls",
            "children": [
              "IPY_MODEL_6bf0a53e31924d5fba5916e1cec3a965",
              "IPY_MODEL_50459eea24904857831f34cfcab7ab3d",
              "IPY_MODEL_2b8c7605d382410b8d024d85eb9d495f"
            ]
          }
        },
        "3249baabe1ce4eb7b244eddf6e5164c3": {
          "model_module": "@jupyter-widgets/base",
          "model_name": "LayoutModel",
          "model_module_version": "1.2.0",
          "state": {
            "_view_name": "LayoutView",
            "grid_template_rows": null,
            "right": null,
            "justify_content": null,
            "_view_module": "@jupyter-widgets/base",
            "overflow": null,
            "_model_module_version": "1.2.0",
            "_view_count": null,
            "flex_flow": null,
            "width": null,
            "min_width": null,
            "border": null,
            "align_items": null,
            "bottom": null,
            "_model_module": "@jupyter-widgets/base",
            "top": null,
            "grid_column": null,
            "overflow_y": null,
            "overflow_x": null,
            "grid_auto_flow": null,
            "grid_area": null,
            "grid_template_columns": null,
            "flex": null,
            "_model_name": "LayoutModel",
            "justify_items": null,
            "grid_row": null,
            "max_height": null,
            "align_content": null,
            "visibility": null,
            "align_self": null,
            "height": null,
            "min_height": null,
            "padding": null,
            "grid_auto_rows": null,
            "grid_gap": null,
            "max_width": null,
            "order": null,
            "_view_module_version": "1.2.0",
            "grid_template_areas": null,
            "object_position": null,
            "object_fit": null,
            "grid_auto_columns": null,
            "margin": null,
            "display": null,
            "left": null
          }
        },
        "6bf0a53e31924d5fba5916e1cec3a965": {
          "model_module": "@jupyter-widgets/controls",
          "model_name": "HTMLModel",
          "model_module_version": "1.5.0",
          "state": {
            "_view_name": "HTMLView",
            "style": "IPY_MODEL_747ef6429a5345b88a61b2a08db6cb5e",
            "_dom_classes": [],
            "description": "",
            "_model_name": "HTMLModel",
            "placeholder": "​",
            "_view_module": "@jupyter-widgets/controls",
            "_model_module_version": "1.5.0",
            "value": "",
            "_view_count": null,
            "_view_module_version": "1.5.0",
            "description_tooltip": null,
            "_model_module": "@jupyter-widgets/controls",
            "layout": "IPY_MODEL_b1df0c48ae95464086bc940e9cddbfa7"
          }
        },
        "50459eea24904857831f34cfcab7ab3d": {
          "model_module": "@jupyter-widgets/controls",
          "model_name": "FloatProgressModel",
          "model_module_version": "1.5.0",
          "state": {
            "_view_name": "ProgressView",
            "style": "IPY_MODEL_c2dc038280c64a40a7d903a0025a5262",
            "_dom_classes": [],
            "description": "",
            "_model_name": "FloatProgressModel",
            "bar_style": "success",
            "max": 170498071,
            "_view_module": "@jupyter-widgets/controls",
            "_model_module_version": "1.5.0",
            "value": 170498071,
            "_view_count": null,
            "_view_module_version": "1.5.0",
            "orientation": "horizontal",
            "min": 0,
            "description_tooltip": null,
            "_model_module": "@jupyter-widgets/controls",
            "layout": "IPY_MODEL_276aca412bc340d9bc90d8246447ee64"
          }
        },
        "2b8c7605d382410b8d024d85eb9d495f": {
          "model_module": "@jupyter-widgets/controls",
          "model_name": "HTMLModel",
          "model_module_version": "1.5.0",
          "state": {
            "_view_name": "HTMLView",
            "style": "IPY_MODEL_d12d7f34464947ccb1f19143118b7663",
            "_dom_classes": [],
            "description": "",
            "_model_name": "HTMLModel",
            "placeholder": "​",
            "_view_module": "@jupyter-widgets/controls",
            "_model_module_version": "1.5.0",
            "value": " 170499072/? [00:02&lt;00:00, 65661823.92it/s]",
            "_view_count": null,
            "_view_module_version": "1.5.0",
            "description_tooltip": null,
            "_model_module": "@jupyter-widgets/controls",
            "layout": "IPY_MODEL_a0345ad2a59142e884f954e893886296"
          }
        },
        "747ef6429a5345b88a61b2a08db6cb5e": {
          "model_module": "@jupyter-widgets/controls",
          "model_name": "DescriptionStyleModel",
          "model_module_version": "1.5.0",
          "state": {
            "_view_name": "StyleView",
            "_model_name": "DescriptionStyleModel",
            "description_width": "",
            "_view_module": "@jupyter-widgets/base",
            "_model_module_version": "1.5.0",
            "_view_count": null,
            "_view_module_version": "1.2.0",
            "_model_module": "@jupyter-widgets/controls"
          }
        },
        "b1df0c48ae95464086bc940e9cddbfa7": {
          "model_module": "@jupyter-widgets/base",
          "model_name": "LayoutModel",
          "model_module_version": "1.2.0",
          "state": {
            "_view_name": "LayoutView",
            "grid_template_rows": null,
            "right": null,
            "justify_content": null,
            "_view_module": "@jupyter-widgets/base",
            "overflow": null,
            "_model_module_version": "1.2.0",
            "_view_count": null,
            "flex_flow": null,
            "width": null,
            "min_width": null,
            "border": null,
            "align_items": null,
            "bottom": null,
            "_model_module": "@jupyter-widgets/base",
            "top": null,
            "grid_column": null,
            "overflow_y": null,
            "overflow_x": null,
            "grid_auto_flow": null,
            "grid_area": null,
            "grid_template_columns": null,
            "flex": null,
            "_model_name": "LayoutModel",
            "justify_items": null,
            "grid_row": null,
            "max_height": null,
            "align_content": null,
            "visibility": null,
            "align_self": null,
            "height": null,
            "min_height": null,
            "padding": null,
            "grid_auto_rows": null,
            "grid_gap": null,
            "max_width": null,
            "order": null,
            "_view_module_version": "1.2.0",
            "grid_template_areas": null,
            "object_position": null,
            "object_fit": null,
            "grid_auto_columns": null,
            "margin": null,
            "display": null,
            "left": null
          }
        },
        "c2dc038280c64a40a7d903a0025a5262": {
          "model_module": "@jupyter-widgets/controls",
          "model_name": "ProgressStyleModel",
          "model_module_version": "1.5.0",
          "state": {
            "_view_name": "StyleView",
            "_model_name": "ProgressStyleModel",
            "description_width": "",
            "_view_module": "@jupyter-widgets/base",
            "_model_module_version": "1.5.0",
            "_view_count": null,
            "_view_module_version": "1.2.0",
            "bar_color": null,
            "_model_module": "@jupyter-widgets/controls"
          }
        },
        "276aca412bc340d9bc90d8246447ee64": {
          "model_module": "@jupyter-widgets/base",
          "model_name": "LayoutModel",
          "model_module_version": "1.2.0",
          "state": {
            "_view_name": "LayoutView",
            "grid_template_rows": null,
            "right": null,
            "justify_content": null,
            "_view_module": "@jupyter-widgets/base",
            "overflow": null,
            "_model_module_version": "1.2.0",
            "_view_count": null,
            "flex_flow": null,
            "width": null,
            "min_width": null,
            "border": null,
            "align_items": null,
            "bottom": null,
            "_model_module": "@jupyter-widgets/base",
            "top": null,
            "grid_column": null,
            "overflow_y": null,
            "overflow_x": null,
            "grid_auto_flow": null,
            "grid_area": null,
            "grid_template_columns": null,
            "flex": null,
            "_model_name": "LayoutModel",
            "justify_items": null,
            "grid_row": null,
            "max_height": null,
            "align_content": null,
            "visibility": null,
            "align_self": null,
            "height": null,
            "min_height": null,
            "padding": null,
            "grid_auto_rows": null,
            "grid_gap": null,
            "max_width": null,
            "order": null,
            "_view_module_version": "1.2.0",
            "grid_template_areas": null,
            "object_position": null,
            "object_fit": null,
            "grid_auto_columns": null,
            "margin": null,
            "display": null,
            "left": null
          }
        },
        "d12d7f34464947ccb1f19143118b7663": {
          "model_module": "@jupyter-widgets/controls",
          "model_name": "DescriptionStyleModel",
          "model_module_version": "1.5.0",
          "state": {
            "_view_name": "StyleView",
            "_model_name": "DescriptionStyleModel",
            "description_width": "",
            "_view_module": "@jupyter-widgets/base",
            "_model_module_version": "1.5.0",
            "_view_count": null,
            "_view_module_version": "1.2.0",
            "_model_module": "@jupyter-widgets/controls"
          }
        },
        "a0345ad2a59142e884f954e893886296": {
          "model_module": "@jupyter-widgets/base",
          "model_name": "LayoutModel",
          "model_module_version": "1.2.0",
          "state": {
            "_view_name": "LayoutView",
            "grid_template_rows": null,
            "right": null,
            "justify_content": null,
            "_view_module": "@jupyter-widgets/base",
            "overflow": null,
            "_model_module_version": "1.2.0",
            "_view_count": null,
            "flex_flow": null,
            "width": null,
            "min_width": null,
            "border": null,
            "align_items": null,
            "bottom": null,
            "_model_module": "@jupyter-widgets/base",
            "top": null,
            "grid_column": null,
            "overflow_y": null,
            "overflow_x": null,
            "grid_auto_flow": null,
            "grid_area": null,
            "grid_template_columns": null,
            "flex": null,
            "_model_name": "LayoutModel",
            "justify_items": null,
            "grid_row": null,
            "max_height": null,
            "align_content": null,
            "visibility": null,
            "align_self": null,
            "height": null,
            "min_height": null,
            "padding": null,
            "grid_auto_rows": null,
            "grid_gap": null,
            "max_width": null,
            "order": null,
            "_view_module_version": "1.2.0",
            "grid_template_areas": null,
            "object_position": null,
            "object_fit": null,
            "grid_auto_columns": null,
            "margin": null,
            "display": null,
            "left": null
          }
        }
      }
    }
  },
  "cells": [
    {
      "cell_type": "code",
      "metadata": {
        "colab": {
          "base_uri": "https://localhost:8080/"
        },
        "id": "wbgZEZfYXZOF",
        "outputId": "d5c9958d-c1db-401a-e1df-0fafa28d4d2c"
      },
      "source": [
        "from tensorflow.python.client import device_lib\n",
        "device_lib.list_local_devices()"
      ],
      "execution_count": 1,
      "outputs": [
        {
          "output_type": "execute_result",
          "data": {
            "text/plain": [
              "[name: \"/device:CPU:0\"\n",
              " device_type: \"CPU\"\n",
              " memory_limit: 268435456\n",
              " locality {\n",
              " }\n",
              " incarnation: 4843457051295365925\n",
              " xla_global_id: -1, name: \"/device:GPU:0\"\n",
              " device_type: \"GPU\"\n",
              " memory_limit: 16154099712\n",
              " locality {\n",
              "   bus_id: 1\n",
              "   links {\n",
              "   }\n",
              " }\n",
              " incarnation: 6374523455819698548\n",
              " physical_device_desc: \"device: 0, name: Tesla P100-PCIE-16GB, pci bus id: 0000:00:04.0, compute capability: 6.0\"\n",
              " xla_global_id: 416903419]"
            ]
          },
          "metadata": {},
          "execution_count": 1
        }
      ]
    },
    {
      "cell_type": "code",
      "metadata": {
        "colab": {
          "base_uri": "https://localhost:8080/"
        },
        "id": "vguhp80xXfS8",
        "outputId": "b5ece332-922a-45e7-8473-7465660f9be8"
      },
      "source": [
        "from google.colab import drive\n",
        "drive.mount('/content/drive')\n",
        "#%cd /content/drive/My Drive/\n",
        "!git clone https://github.com/decile-team/cords.git\n",
        "%cd cords/\n",
        "%ls"
      ],
      "execution_count": 3,
      "outputs": [
        {
          "output_type": "stream",
          "name": "stdout",
          "text": [
            "Mounted at /content/drive\n",
            "Cloning into 'cords'...\n",
            "remote: Enumerating objects: 3969, done.\u001b[K\n",
            "remote: Counting objects: 100% (2591/2591), done.\u001b[K\n",
            "remote: Compressing objects: 100% (1181/1181), done.\u001b[K\n",
            "remote: Total 3969 (delta 1688), reused 2216 (delta 1372), pack-reused 1378\u001b[K\n",
            "Receiving objects: 100% (3969/3969), 54.63 MiB | 22.89 MiB/s, done.\n",
            "Resolving deltas: 100% (2425/2425), done.\n",
            "/content/cords\n",
            "\u001b[0m\u001b[01;34mbenchmarks\u001b[0m/  \u001b[01;34mdocs\u001b[0m/        README.md      \u001b[01;34mtests\u001b[0m/        train_ssl.py\n",
            "\u001b[01;34mconfigs\u001b[0m/     \u001b[01;34mexamples\u001b[0m/    \u001b[01;34mrequirements\u001b[0m/  train_hpo.py\n",
            "\u001b[01;34mcords\u001b[0m/       LICENSE.txt  setup.py       train_sl.py\n"
          ]
        }
      ]
    },
    {
      "cell_type": "code",
      "metadata": {
        "colab": {
          "base_uri": "https://localhost:8080/"
        },
        "id": "pWTtMvsphAY8",
        "outputId": "a2b88c88-80d1-44b6-883d-e7f5dd72a22a"
      },
      "source": [
        "!pip install apricot-select\n",
        "!pip install ray[tune]\n",
        "!pip install ray[default]\n",
        "!pip install datasets\n",
        "!pip install dotmap"
      ],
      "execution_count": 4,
      "outputs": [
        {
          "output_type": "stream",
          "name": "stdout",
          "text": [
            "Collecting apricot-select\n",
            "  Downloading apricot-select-0.6.1.tar.gz (28 kB)\n",
            "Requirement already satisfied: numpy>=1.14.2 in /usr/local/lib/python3.7/dist-packages (from apricot-select) (1.21.5)\n",
            "Requirement already satisfied: scipy>=1.0.0 in /usr/local/lib/python3.7/dist-packages (from apricot-select) (1.4.1)\n",
            "Requirement already satisfied: numba>=0.43.0 in /usr/local/lib/python3.7/dist-packages (from apricot-select) (0.51.2)\n",
            "Requirement already satisfied: tqdm>=4.24.0 in /usr/local/lib/python3.7/dist-packages (from apricot-select) (4.62.3)\n",
            "Collecting nose\n",
            "  Downloading nose-1.3.7-py3-none-any.whl (154 kB)\n",
            "\u001b[K     |████████████████████████████████| 154 kB 7.4 MB/s \n",
            "\u001b[?25hRequirement already satisfied: llvmlite<0.35,>=0.34.0.dev0 in /usr/local/lib/python3.7/dist-packages (from numba>=0.43.0->apricot-select) (0.34.0)\n",
            "Requirement already satisfied: setuptools in /usr/local/lib/python3.7/dist-packages (from numba>=0.43.0->apricot-select) (57.4.0)\n",
            "Building wheels for collected packages: apricot-select\n",
            "  Building wheel for apricot-select (setup.py) ... \u001b[?25l\u001b[?25hdone\n",
            "  Created wheel for apricot-select: filename=apricot_select-0.6.1-py3-none-any.whl size=48786 sha256=65b2958f558623a7c7d9f70e05b820cb8da291b5d57314735c66af8060e778f3\n",
            "  Stored in directory: /root/.cache/pip/wheels/1d/b0/5d/41bab30f23d17864700963dad70bbeda159a409e94f0778f2f\n",
            "Successfully built apricot-select\n",
            "Installing collected packages: nose, apricot-select\n",
            "Successfully installed apricot-select-0.6.1 nose-1.3.7\n",
            "Collecting ray[tune]\n",
            "  Downloading ray-1.10.0-cp37-cp37m-manylinux2014_x86_64.whl (59.6 MB)\n",
            "\u001b[K     |████████████████████████████████| 59.6 MB 1.6 MB/s \n",
            "\u001b[?25hRequirement already satisfied: msgpack<2.0.0,>=1.0.0 in /usr/local/lib/python3.7/dist-packages (from ray[tune]) (1.0.3)\n",
            "Requirement already satisfied: attrs in /usr/local/lib/python3.7/dist-packages (from ray[tune]) (21.4.0)\n",
            "Requirement already satisfied: pyyaml in /usr/local/lib/python3.7/dist-packages (from ray[tune]) (3.13)\n",
            "Requirement already satisfied: grpcio>=1.28.1 in /usr/local/lib/python3.7/dist-packages (from ray[tune]) (1.43.0)\n",
            "Requirement already satisfied: jsonschema in /usr/local/lib/python3.7/dist-packages (from ray[tune]) (4.3.3)\n",
            "Requirement already satisfied: protobuf>=3.15.3 in /usr/local/lib/python3.7/dist-packages (from ray[tune]) (3.17.3)\n",
            "Requirement already satisfied: filelock in /usr/local/lib/python3.7/dist-packages (from ray[tune]) (3.6.0)\n",
            "Collecting redis>=3.5.0\n",
            "  Downloading redis-4.1.4-py3-none-any.whl (175 kB)\n",
            "\u001b[K     |████████████████████████████████| 175 kB 64.1 MB/s \n",
            "\u001b[?25hRequirement already satisfied: numpy>=1.16 in /usr/local/lib/python3.7/dist-packages (from ray[tune]) (1.21.5)\n",
            "Requirement already satisfied: click>=7.0 in /usr/local/lib/python3.7/dist-packages (from ray[tune]) (7.1.2)\n",
            "Requirement already satisfied: pandas in /usr/local/lib/python3.7/dist-packages (from ray[tune]) (1.3.5)\n",
            "Requirement already satisfied: requests in /usr/local/lib/python3.7/dist-packages (from ray[tune]) (2.23.0)\n",
            "Requirement already satisfied: tabulate in /usr/local/lib/python3.7/dist-packages (from ray[tune]) (0.8.9)\n",
            "Collecting tensorboardX>=1.9\n",
            "  Downloading tensorboardX-2.5-py2.py3-none-any.whl (125 kB)\n",
            "\u001b[K     |████████████████████████████████| 125 kB 56.4 MB/s \n",
            "\u001b[?25hRequirement already satisfied: six>=1.5.2 in /usr/local/lib/python3.7/dist-packages (from grpcio>=1.28.1->ray[tune]) (1.15.0)\n",
            "Requirement already satisfied: importlib-metadata>=1.0 in /usr/local/lib/python3.7/dist-packages (from redis>=3.5.0->ray[tune]) (4.11.1)\n",
            "Collecting deprecated>=1.2.3\n",
            "  Downloading Deprecated-1.2.13-py2.py3-none-any.whl (9.6 kB)\n",
            "Requirement already satisfied: packaging>=20.4 in /usr/local/lib/python3.7/dist-packages (from redis>=3.5.0->ray[tune]) (21.3)\n",
            "Requirement already satisfied: wrapt<2,>=1.10 in /usr/local/lib/python3.7/dist-packages (from deprecated>=1.2.3->redis>=3.5.0->ray[tune]) (1.13.3)\n",
            "Requirement already satisfied: typing-extensions>=3.6.4 in /usr/local/lib/python3.7/dist-packages (from importlib-metadata>=1.0->redis>=3.5.0->ray[tune]) (3.10.0.2)\n",
            "Requirement already satisfied: zipp>=0.5 in /usr/local/lib/python3.7/dist-packages (from importlib-metadata>=1.0->redis>=3.5.0->ray[tune]) (3.7.0)\n",
            "Requirement already satisfied: pyparsing!=3.0.5,>=2.0.2 in /usr/local/lib/python3.7/dist-packages (from packaging>=20.4->redis>=3.5.0->ray[tune]) (3.0.7)\n",
            "Requirement already satisfied: importlib-resources>=1.4.0 in /usr/local/lib/python3.7/dist-packages (from jsonschema->ray[tune]) (5.4.0)\n",
            "Requirement already satisfied: pyrsistent!=0.17.0,!=0.17.1,!=0.17.2,>=0.14.0 in /usr/local/lib/python3.7/dist-packages (from jsonschema->ray[tune]) (0.18.1)\n",
            "Requirement already satisfied: python-dateutil>=2.7.3 in /usr/local/lib/python3.7/dist-packages (from pandas->ray[tune]) (2.8.2)\n",
            "Requirement already satisfied: pytz>=2017.3 in /usr/local/lib/python3.7/dist-packages (from pandas->ray[tune]) (2018.9)\n",
            "Requirement already satisfied: certifi>=2017.4.17 in /usr/local/lib/python3.7/dist-packages (from requests->ray[tune]) (2021.10.8)\n",
            "Requirement already satisfied: chardet<4,>=3.0.2 in /usr/local/lib/python3.7/dist-packages (from requests->ray[tune]) (3.0.4)\n",
            "Requirement already satisfied: idna<3,>=2.5 in /usr/local/lib/python3.7/dist-packages (from requests->ray[tune]) (2.10)\n",
            "Requirement already satisfied: urllib3!=1.25.0,!=1.25.1,<1.26,>=1.21.1 in /usr/local/lib/python3.7/dist-packages (from requests->ray[tune]) (1.24.3)\n",
            "Installing collected packages: deprecated, redis, tensorboardX, ray\n",
            "Successfully installed deprecated-1.2.13 ray-1.10.0 redis-4.1.4 tensorboardX-2.5\n",
            "Requirement already satisfied: ray[default] in /usr/local/lib/python3.7/dist-packages (1.10.0)\n",
            "Requirement already satisfied: msgpack<2.0.0,>=1.0.0 in /usr/local/lib/python3.7/dist-packages (from ray[default]) (1.0.3)\n",
            "Requirement already satisfied: grpcio>=1.28.1 in /usr/local/lib/python3.7/dist-packages (from ray[default]) (1.43.0)\n",
            "Requirement already satisfied: numpy>=1.16 in /usr/local/lib/python3.7/dist-packages (from ray[default]) (1.21.5)\n",
            "Requirement already satisfied: filelock in /usr/local/lib/python3.7/dist-packages (from ray[default]) (3.6.0)\n",
            "Requirement already satisfied: attrs in /usr/local/lib/python3.7/dist-packages (from ray[default]) (21.4.0)\n",
            "Requirement already satisfied: click>=7.0 in /usr/local/lib/python3.7/dist-packages (from ray[default]) (7.1.2)\n",
            "Requirement already satisfied: redis>=3.5.0 in /usr/local/lib/python3.7/dist-packages (from ray[default]) (4.1.4)\n",
            "Requirement already satisfied: protobuf>=3.15.3 in /usr/local/lib/python3.7/dist-packages (from ray[default]) (3.17.3)\n",
            "Requirement already satisfied: pyyaml in /usr/local/lib/python3.7/dist-packages (from ray[default]) (3.13)\n",
            "Requirement already satisfied: jsonschema in /usr/local/lib/python3.7/dist-packages (from ray[default]) (4.3.3)\n",
            "Collecting aiohttp>=3.7\n",
            "  Downloading aiohttp-3.8.1-cp37-cp37m-manylinux_2_5_x86_64.manylinux1_x86_64.manylinux_2_12_x86_64.manylinux2010_x86_64.whl (1.1 MB)\n",
            "\u001b[K     |████████████████████████████████| 1.1 MB 4.9 MB/s \n",
            "\u001b[?25hCollecting aioredis<2\n",
            "  Downloading aioredis-1.3.1-py3-none-any.whl (65 kB)\n",
            "\u001b[K     |████████████████████████████████| 65 kB 3.8 MB/s \n",
            "\u001b[?25hCollecting frozenlist\n",
            "  Downloading frozenlist-1.3.0-cp37-cp37m-manylinux_2_5_x86_64.manylinux1_x86_64.manylinux_2_17_x86_64.manylinux2014_x86_64.whl (144 kB)\n",
            "\u001b[K     |████████████████████████████████| 144 kB 62.4 MB/s \n",
            "\u001b[?25hCollecting aiohttp-cors\n",
            "  Downloading aiohttp_cors-0.7.0-py3-none-any.whl (27 kB)\n",
            "Collecting colorful\n",
            "  Downloading colorful-0.5.4-py2.py3-none-any.whl (201 kB)\n",
            "\u001b[K     |████████████████████████████████| 201 kB 60.8 MB/s \n",
            "\u001b[?25hRequirement already satisfied: requests in /usr/local/lib/python3.7/dist-packages (from ray[default]) (2.23.0)\n",
            "Collecting opencensus\n",
            "  Downloading opencensus-0.8.0-py2.py3-none-any.whl (128 kB)\n",
            "\u001b[K     |████████████████████████████████| 128 kB 46.0 MB/s \n",
            "\u001b[?25hRequirement already satisfied: prometheus-client>=0.7.1 in /usr/local/lib/python3.7/dist-packages (from ray[default]) (0.13.1)\n",
            "Collecting py-spy>=0.2.0\n",
            "  Downloading py_spy-0.3.11-py2.py3-none-manylinux_2_5_x86_64.manylinux1_x86_64.whl (3.0 MB)\n",
            "\u001b[K     |████████████████████████████████| 3.0 MB 43.6 MB/s \n",
            "\u001b[?25hCollecting aiosignal\n",
            "  Downloading aiosignal-1.2.0-py3-none-any.whl (8.2 kB)\n",
            "Requirement already satisfied: smart-open in /usr/local/lib/python3.7/dist-packages (from ray[default]) (5.2.1)\n",
            "Collecting gpustat>=1.0.0b1\n",
            "  Downloading gpustat-1.0.0b1.tar.gz (82 kB)\n",
            "\u001b[K     |████████████████████████████████| 82 kB 273 kB/s \n",
            "\u001b[?25hCollecting asynctest==0.13.0\n",
            "  Downloading asynctest-0.13.0-py3-none-any.whl (26 kB)\n",
            "Collecting yarl<2.0,>=1.0\n",
            "  Downloading yarl-1.7.2-cp37-cp37m-manylinux_2_5_x86_64.manylinux1_x86_64.manylinux_2_12_x86_64.manylinux2010_x86_64.whl (271 kB)\n",
            "\u001b[K     |████████████████████████████████| 271 kB 64.8 MB/s \n",
            "\u001b[?25hCollecting async-timeout<5.0,>=4.0.0a3\n",
            "  Downloading async_timeout-4.0.2-py3-none-any.whl (5.8 kB)\n",
            "Requirement already satisfied: typing-extensions>=3.7.4 in /usr/local/lib/python3.7/dist-packages (from aiohttp>=3.7->ray[default]) (3.10.0.2)\n",
            "Collecting multidict<7.0,>=4.5\n",
            "  Downloading multidict-6.0.2-cp37-cp37m-manylinux_2_17_x86_64.manylinux2014_x86_64.whl (94 kB)\n",
            "\u001b[K     |████████████████████████████████| 94 kB 3.4 MB/s \n",
            "\u001b[?25hRequirement already satisfied: charset-normalizer<3.0,>=2.0 in /usr/local/lib/python3.7/dist-packages (from aiohttp>=3.7->ray[default]) (2.0.12)\n",
            "Collecting hiredis\n",
            "  Downloading hiredis-2.0.0-cp37-cp37m-manylinux2010_x86_64.whl (85 kB)\n",
            "\u001b[K     |████████████████████████████████| 85 kB 4.2 MB/s \n",
            "\u001b[?25hRequirement already satisfied: six>=1.7 in /usr/local/lib/python3.7/dist-packages (from gpustat>=1.0.0b1->ray[default]) (1.15.0)\n",
            "Requirement already satisfied: nvidia-ml-py3>=7.352.0 in /usr/local/lib/python3.7/dist-packages (from gpustat>=1.0.0b1->ray[default]) (7.352.0)\n",
            "Requirement already satisfied: psutil in /usr/local/lib/python3.7/dist-packages (from gpustat>=1.0.0b1->ray[default]) (5.4.8)\n",
            "Collecting blessed>=1.17.1\n",
            "  Downloading blessed-1.19.1-py2.py3-none-any.whl (58 kB)\n",
            "\u001b[K     |████████████████████████████████| 58 kB 5.7 MB/s \n",
            "\u001b[?25hRequirement already satisfied: wcwidth>=0.1.4 in /usr/local/lib/python3.7/dist-packages (from blessed>=1.17.1->gpustat>=1.0.0b1->ray[default]) (0.2.5)\n",
            "Requirement already satisfied: importlib-metadata>=1.0 in /usr/local/lib/python3.7/dist-packages (from redis>=3.5.0->ray[default]) (4.11.1)\n",
            "Requirement already satisfied: deprecated>=1.2.3 in /usr/local/lib/python3.7/dist-packages (from redis>=3.5.0->ray[default]) (1.2.13)\n",
            "Requirement already satisfied: packaging>=20.4 in /usr/local/lib/python3.7/dist-packages (from redis>=3.5.0->ray[default]) (21.3)\n",
            "Requirement already satisfied: wrapt<2,>=1.10 in /usr/local/lib/python3.7/dist-packages (from deprecated>=1.2.3->redis>=3.5.0->ray[default]) (1.13.3)\n",
            "Requirement already satisfied: zipp>=0.5 in /usr/local/lib/python3.7/dist-packages (from importlib-metadata>=1.0->redis>=3.5.0->ray[default]) (3.7.0)\n",
            "Requirement already satisfied: pyparsing!=3.0.5,>=2.0.2 in /usr/local/lib/python3.7/dist-packages (from packaging>=20.4->redis>=3.5.0->ray[default]) (3.0.7)\n",
            "Requirement already satisfied: idna>=2.0 in /usr/local/lib/python3.7/dist-packages (from yarl<2.0,>=1.0->aiohttp>=3.7->ray[default]) (2.10)\n",
            "Requirement already satisfied: importlib-resources>=1.4.0 in /usr/local/lib/python3.7/dist-packages (from jsonschema->ray[default]) (5.4.0)\n",
            "Requirement already satisfied: pyrsistent!=0.17.0,!=0.17.1,!=0.17.2,>=0.14.0 in /usr/local/lib/python3.7/dist-packages (from jsonschema->ray[default]) (0.18.1)\n",
            "Collecting opencensus-context==0.1.2\n",
            "  Downloading opencensus_context-0.1.2-py2.py3-none-any.whl (4.4 kB)\n",
            "Requirement already satisfied: google-api-core<3.0.0,>=1.0.0 in /usr/local/lib/python3.7/dist-packages (from opencensus->ray[default]) (1.26.3)\n",
            "Requirement already satisfied: setuptools>=40.3.0 in /usr/local/lib/python3.7/dist-packages (from google-api-core<3.0.0,>=1.0.0->opencensus->ray[default]) (57.4.0)\n",
            "Requirement already satisfied: googleapis-common-protos<2.0dev,>=1.6.0 in /usr/local/lib/python3.7/dist-packages (from google-api-core<3.0.0,>=1.0.0->opencensus->ray[default]) (1.54.0)\n",
            "Requirement already satisfied: google-auth<2.0dev,>=1.21.1 in /usr/local/lib/python3.7/dist-packages (from google-api-core<3.0.0,>=1.0.0->opencensus->ray[default]) (1.35.0)\n",
            "Requirement already satisfied: pytz in /usr/local/lib/python3.7/dist-packages (from google-api-core<3.0.0,>=1.0.0->opencensus->ray[default]) (2018.9)\n",
            "Requirement already satisfied: rsa<5,>=3.1.4 in /usr/local/lib/python3.7/dist-packages (from google-auth<2.0dev,>=1.21.1->google-api-core<3.0.0,>=1.0.0->opencensus->ray[default]) (4.8)\n",
            "Requirement already satisfied: pyasn1-modules>=0.2.1 in /usr/local/lib/python3.7/dist-packages (from google-auth<2.0dev,>=1.21.1->google-api-core<3.0.0,>=1.0.0->opencensus->ray[default]) (0.2.8)\n",
            "Requirement already satisfied: cachetools<5.0,>=2.0.0 in /usr/local/lib/python3.7/dist-packages (from google-auth<2.0dev,>=1.21.1->google-api-core<3.0.0,>=1.0.0->opencensus->ray[default]) (4.2.4)\n",
            "Requirement already satisfied: pyasn1<0.5.0,>=0.4.6 in /usr/local/lib/python3.7/dist-packages (from pyasn1-modules>=0.2.1->google-auth<2.0dev,>=1.21.1->google-api-core<3.0.0,>=1.0.0->opencensus->ray[default]) (0.4.8)\n",
            "Requirement already satisfied: urllib3!=1.25.0,!=1.25.1,<1.26,>=1.21.1 in /usr/local/lib/python3.7/dist-packages (from requests->ray[default]) (1.24.3)\n",
            "Requirement already satisfied: certifi>=2017.4.17 in /usr/local/lib/python3.7/dist-packages (from requests->ray[default]) (2021.10.8)\n",
            "Requirement already satisfied: chardet<4,>=3.0.2 in /usr/local/lib/python3.7/dist-packages (from requests->ray[default]) (3.0.4)\n",
            "Building wheels for collected packages: gpustat\n",
            "  Building wheel for gpustat (setup.py) ... \u001b[?25l\u001b[?25hdone\n",
            "  Created wheel for gpustat: filename=gpustat-1.0.0b1-py3-none-any.whl size=15979 sha256=968040f62060b2701e846a487def8074b95f398e861917e0dfb3ad2effbb1b5d\n",
            "  Stored in directory: /root/.cache/pip/wheels/1a/16/e2/3e2437fba4c4b6a97a97bd96fce5d14e66cff5c4966fb1cc8c\n",
            "Successfully built gpustat\n",
            "Installing collected packages: multidict, frozenlist, yarl, asynctest, async-timeout, aiosignal, opencensus-context, hiredis, blessed, aiohttp, py-spy, opencensus, gpustat, colorful, aioredis, aiohttp-cors\n",
            "Successfully installed aiohttp-3.8.1 aiohttp-cors-0.7.0 aioredis-1.3.1 aiosignal-1.2.0 async-timeout-4.0.2 asynctest-0.13.0 blessed-1.19.1 colorful-0.5.4 frozenlist-1.3.0 gpustat-1.0.0b1 hiredis-2.0.0 multidict-6.0.2 opencensus-0.8.0 opencensus-context-0.1.2 py-spy-0.3.11 yarl-1.7.2\n",
            "Collecting datasets\n",
            "  Downloading datasets-1.18.3-py3-none-any.whl (311 kB)\n",
            "\u001b[K     |████████████████████████████████| 311 kB 5.0 MB/s \n",
            "\u001b[?25hRequirement already satisfied: numpy>=1.17 in /usr/local/lib/python3.7/dist-packages (from datasets) (1.21.5)\n",
            "Requirement already satisfied: dill in /usr/local/lib/python3.7/dist-packages (from datasets) (0.3.4)\n",
            "Requirement already satisfied: pyarrow!=4.0.0,>=3.0.0 in /usr/local/lib/python3.7/dist-packages (from datasets) (6.0.1)\n",
            "Requirement already satisfied: aiohttp in /usr/local/lib/python3.7/dist-packages (from datasets) (3.8.1)\n",
            "Requirement already satisfied: importlib-metadata in /usr/local/lib/python3.7/dist-packages (from datasets) (4.11.1)\n",
            "Requirement already satisfied: pandas in /usr/local/lib/python3.7/dist-packages (from datasets) (1.3.5)\n",
            "Requirement already satisfied: packaging in /usr/local/lib/python3.7/dist-packages (from datasets) (21.3)\n",
            "Requirement already satisfied: requests>=2.19.0 in /usr/local/lib/python3.7/dist-packages (from datasets) (2.23.0)\n",
            "Requirement already satisfied: tqdm>=4.62.1 in /usr/local/lib/python3.7/dist-packages (from datasets) (4.62.3)\n",
            "Collecting huggingface-hub<1.0.0,>=0.1.0\n",
            "  Downloading huggingface_hub-0.4.0-py3-none-any.whl (67 kB)\n",
            "\u001b[K     |████████████████████████████████| 67 kB 4.9 MB/s \n",
            "\u001b[?25hCollecting fsspec[http]>=2021.05.0\n",
            "  Downloading fsspec-2022.2.0-py3-none-any.whl (134 kB)\n",
            "\u001b[K     |████████████████████████████████| 134 kB 55.2 MB/s \n",
            "\u001b[?25hRequirement already satisfied: multiprocess in /usr/local/lib/python3.7/dist-packages (from datasets) (0.70.12.2)\n",
            "Collecting xxhash\n",
            "  Downloading xxhash-2.0.2-cp37-cp37m-manylinux2010_x86_64.whl (243 kB)\n",
            "\u001b[K     |████████████████████████████████| 243 kB 50.5 MB/s \n",
            "\u001b[?25hRequirement already satisfied: typing-extensions>=3.7.4.3 in /usr/local/lib/python3.7/dist-packages (from huggingface-hub<1.0.0,>=0.1.0->datasets) (3.10.0.2)\n",
            "Requirement already satisfied: filelock in /usr/local/lib/python3.7/dist-packages (from huggingface-hub<1.0.0,>=0.1.0->datasets) (3.6.0)\n",
            "Requirement already satisfied: pyyaml in /usr/local/lib/python3.7/dist-packages (from huggingface-hub<1.0.0,>=0.1.0->datasets) (3.13)\n",
            "Requirement already satisfied: pyparsing!=3.0.5,>=2.0.2 in /usr/local/lib/python3.7/dist-packages (from packaging->datasets) (3.0.7)\n",
            "Requirement already satisfied: certifi>=2017.4.17 in /usr/local/lib/python3.7/dist-packages (from requests>=2.19.0->datasets) (2021.10.8)\n",
            "Requirement already satisfied: idna<3,>=2.5 in /usr/local/lib/python3.7/dist-packages (from requests>=2.19.0->datasets) (2.10)\n",
            "Requirement already satisfied: chardet<4,>=3.0.2 in /usr/local/lib/python3.7/dist-packages (from requests>=2.19.0->datasets) (3.0.4)\n",
            "Requirement already satisfied: urllib3!=1.25.0,!=1.25.1,<1.26,>=1.21.1 in /usr/local/lib/python3.7/dist-packages (from requests>=2.19.0->datasets) (1.24.3)\n",
            "Requirement already satisfied: multidict<7.0,>=4.5 in /usr/local/lib/python3.7/dist-packages (from aiohttp->datasets) (6.0.2)\n",
            "Requirement already satisfied: attrs>=17.3.0 in /usr/local/lib/python3.7/dist-packages (from aiohttp->datasets) (21.4.0)\n",
            "Requirement already satisfied: yarl<2.0,>=1.0 in /usr/local/lib/python3.7/dist-packages (from aiohttp->datasets) (1.7.2)\n",
            "Requirement already satisfied: async-timeout<5.0,>=4.0.0a3 in /usr/local/lib/python3.7/dist-packages (from aiohttp->datasets) (4.0.2)\n",
            "Requirement already satisfied: asynctest==0.13.0 in /usr/local/lib/python3.7/dist-packages (from aiohttp->datasets) (0.13.0)\n",
            "Requirement already satisfied: frozenlist>=1.1.1 in /usr/local/lib/python3.7/dist-packages (from aiohttp->datasets) (1.3.0)\n",
            "Requirement already satisfied: charset-normalizer<3.0,>=2.0 in /usr/local/lib/python3.7/dist-packages (from aiohttp->datasets) (2.0.12)\n",
            "Requirement already satisfied: aiosignal>=1.1.2 in /usr/local/lib/python3.7/dist-packages (from aiohttp->datasets) (1.2.0)\n",
            "Requirement already satisfied: zipp>=0.5 in /usr/local/lib/python3.7/dist-packages (from importlib-metadata->datasets) (3.7.0)\n",
            "Requirement already satisfied: python-dateutil>=2.7.3 in /usr/local/lib/python3.7/dist-packages (from pandas->datasets) (2.8.2)\n",
            "Requirement already satisfied: pytz>=2017.3 in /usr/local/lib/python3.7/dist-packages (from pandas->datasets) (2018.9)\n",
            "Requirement already satisfied: six>=1.5 in /usr/local/lib/python3.7/dist-packages (from python-dateutil>=2.7.3->pandas->datasets) (1.15.0)\n",
            "Installing collected packages: fsspec, xxhash, huggingface-hub, datasets\n",
            "Successfully installed datasets-1.18.3 fsspec-2022.2.0 huggingface-hub-0.4.0 xxhash-2.0.2\n",
            "Collecting dotmap\n",
            "  Downloading dotmap-1.3.26-py3-none-any.whl (11 kB)\n",
            "Installing collected packages: dotmap\n",
            "Successfully installed dotmap-1.3.26\n"
          ]
        }
      ]
    },
    {
      "cell_type": "code",
      "metadata": {
        "colab": {
          "base_uri": "https://localhost:8080/"
        },
        "id": "p4fP1v7SZVYY",
        "outputId": "9a449099-32eb-43d5-8744-3eb35be67a30"
      },
      "source": [
        "from train_sl import TrainClassifier\n",
        "from cords.utils.config_utils import load_config_data"
      ],
      "execution_count": 5,
      "outputs": [
        {
          "output_type": "stream",
          "name": "stderr",
          "text": [
            "/usr/local/lib/python3.7/dist-packages/numba/np/ufunc/parallel.py:363: NumbaWarning: \u001b[1mThe TBB threading layer requires TBB version 2019.5 or later i.e., TBB_INTERFACE_VERSION >= 11005. Found TBB_INTERFACE_VERSION = 9107. The TBB threading layer is disabled.\u001b[0m\n",
            "  warnings.warn(problem)\n"
          ]
        }
      ]
    },
    {
      "cell_type": "code",
      "metadata": {
        "id": "eHSz0hNfpyUW"
      },
      "source": [
        "fraction=0.1\n",
        "dataset_name = 'cifar10'\n",
        "numclasses = 10"
      ],
      "execution_count": 6,
      "outputs": []
    },
    {
      "cell_type": "markdown",
      "metadata": {
        "id": "YGkY67EqqDxW"
      },
      "source": [
        "#CRAIG Training"
      ]
    },
    {
      "cell_type": "code",
      "metadata": {
        "id": "cOBxM9fOqR0v"
      },
      "source": [
        "craig_config_file = \"/content/cords/configs/SL/config_craig_cifar10.py\"\n",
        "cfg = load_config_data(craig_config_file)\n",
        "craig_trn = TrainClassifier(cfg)"
      ],
      "execution_count": null,
      "outputs": []
    },
    {
      "cell_type": "code",
      "metadata": {
        "id": "5TahoaGKwNXa"
      },
      "source": [
        "craig_trn.cfg.train_args.num_epochs = 300\n",
        "craig_trn.cfg.train_args.print_every = 10\n",
        "craig_trn.cfg.train_args.results_dir = \"/content/drive/MyDrive/results/\"\n",
        "craig_trn.cfg.dss_strategy.select_every = 10\n",
        "craig_trn.cfg.dss_strategy.fraction = fraction\n",
        "craig_trn.cfg.model.numclasses = numclasses\n",
        "craig_trn.cfg.dataset.name = dataset_name"
      ],
      "execution_count": null,
      "outputs": []
    },
    {
      "cell_type": "code",
      "metadata": {
        "colab": {
          "base_uri": "https://localhost:8080/"
        },
        "id": "91YwFtqrqRoZ",
        "outputId": "ac16069b-f2e0-40f1-d876-a514f3e084ae"
      },
      "source": [
        "craig_trn.train()"
      ],
      "execution_count": null,
      "outputs": [
        {
          "output_type": "stream",
          "text": [
            "Files already downloaded and verified\n",
            "Files already downloaded and verified\n",
            "Budget, fraction and N: 2250 0.05 45000\n",
            "Epoch: 10 , Validation Loss: 8.22559106349945 , Validation Accuracy: 0.3872 , Test Loss: 16.230228304862976 , Test Accuracy: 0.4009 , Timing: 156.02814841270447\n",
            "Epoch: 20 , Validation Loss: 6.8771421909332275 , Validation Accuracy: 0.5032 , Test Loss: 13.322268962860107 , Test Accuracy: 0.5106 , Timing: 155.91269707679749\n",
            "Epoch: 30 , Validation Loss: 6.379817247390747 , Validation Accuracy: 0.55 , Test Loss: 12.809698343276978 , Test Accuracy: 0.545 , Timing: 156.3889217376709\n",
            "Epoch: 40 , Validation Loss: 5.695663094520569 , Validation Accuracy: 0.5944 , Test Loss: 11.327712178230286 , Test Accuracy: 0.5977 , Timing: 156.3828580379486\n",
            "Epoch: 50 , Validation Loss: 5.513240337371826 , Validation Accuracy: 0.611 , Test Loss: 11.387484312057495 , Test Accuracy: 0.6059 , Timing: 156.00413727760315\n",
            "Epoch: 60 , Validation Loss: 5.528278708457947 , Validation Accuracy: 0.614 , Test Loss: 11.40424120426178 , Test Accuracy: 0.6097 , Timing: 155.80254006385803\n",
            "Epoch: 70 , Validation Loss: 4.98271244764328 , Validation Accuracy: 0.6552 , Test Loss: 9.926681876182556 , Test Accuracy: 0.6646 , Timing: 155.7316870689392\n",
            "Epoch: 80 , Validation Loss: 4.624871015548706 , Validation Accuracy: 0.6706 , Test Loss: 9.28681892156601 , Test Accuracy: 0.6775 , Timing: 155.37144017219543\n",
            "Epoch: 90 , Validation Loss: 5.0788334012031555 , Validation Accuracy: 0.6412 , Test Loss: 9.95500761270523 , Test Accuracy: 0.6512 , Timing: 155.36470556259155\n",
            "Epoch: 100 , Validation Loss: 4.686530828475952 , Validation Accuracy: 0.681 , Test Loss: 9.137327194213867 , Test Accuracy: 0.6925 , Timing: 154.92868661880493\n",
            "Epoch: 110 , Validation Loss: 4.14694356918335 , Validation Accuracy: 0.7132 , Test Loss: 7.906046569347382 , Test Accuracy: 0.733 , Timing: 154.60738062858582\n",
            "Epoch: 120 , Validation Loss: 4.364011168479919 , Validation Accuracy: 0.6978 , Test Loss: 8.737198293209076 , Test Accuracy: 0.6999 , Timing: 155.8776466846466\n",
            "Epoch: 130 , Validation Loss: 4.229244410991669 , Validation Accuracy: 0.7032 , Test Loss: 8.576428592205048 , Test Accuracy: 0.7016 , Timing: 156.69553017616272\n",
            "Epoch: 140 , Validation Loss: 4.9976447224617 , Validation Accuracy: 0.6818 , Test Loss: 10.030437409877777 , Test Accuracy: 0.6949 , Timing: 157.2034831047058\n",
            "Epoch: 150 , Validation Loss: 3.8039106726646423 , Validation Accuracy: 0.7358 , Test Loss: 7.5625081062316895 , Test Accuracy: 0.741 , Timing: 157.04934406280518\n",
            "Epoch: 160 , Validation Loss: 4.225949823856354 , Validation Accuracy: 0.7236 , Test Loss: 8.388088762760162 , Test Accuracy: 0.734 , Timing: 159.13000345230103\n",
            "Epoch: 170 , Validation Loss: 3.8136759400367737 , Validation Accuracy: 0.7364 , Test Loss: 7.561854302883148 , Test Accuracy: 0.7499 , Timing: 158.05029153823853\n",
            "Epoch: 180 , Validation Loss: 3.8882831931114197 , Validation Accuracy: 0.7424 , Test Loss: 7.625988483428955 , Test Accuracy: 0.7515 , Timing: 156.56828618049622\n",
            "Epoch: 190 , Validation Loss: 3.788736641407013 , Validation Accuracy: 0.7466 , Test Loss: 7.924012780189514 , Test Accuracy: 0.7559 , Timing: 156.9014790058136\n",
            "Epoch: 200 , Validation Loss: 3.597835958003998 , Validation Accuracy: 0.773 , Test Loss: 7.17233681678772 , Test Accuracy: 0.779 , Timing: 157.8206169605255\n",
            "Epoch: 210 , Validation Loss: 3.5024627447128296 , Validation Accuracy: 0.7738 , Test Loss: 7.148874819278717 , Test Accuracy: 0.7748 , Timing: 157.8386356830597\n",
            "Epoch: 220 , Validation Loss: 3.170890212059021 , Validation Accuracy: 0.7972 , Test Loss: 6.455990016460419 , Test Accuracy: 0.8074 , Timing: 157.65960121154785\n",
            "Epoch: 230 , Validation Loss: 3.2240466475486755 , Validation Accuracy: 0.7952 , Test Loss: 6.660053849220276 , Test Accuracy: 0.7985 , Timing: 157.42384004592896\n",
            "Epoch: 240 , Validation Loss: 2.8741994500160217 , Validation Accuracy: 0.8168 , Test Loss: 6.185186505317688 , Test Accuracy: 0.816 , Timing: 158.60907578468323\n",
            "Epoch: 250 , Validation Loss: 2.964293122291565 , Validation Accuracy: 0.8108 , Test Loss: 6.23418527841568 , Test Accuracy: 0.8192 , Timing: 157.31077766418457\n",
            "Epoch: 260 , Validation Loss: 2.657232940196991 , Validation Accuracy: 0.8276 , Test Loss: 5.599084347486496 , Test Accuracy: 0.8313 , Timing: 156.74135851860046\n",
            "Epoch: 270 , Validation Loss: 2.5100752115249634 , Validation Accuracy: 0.8346 , Test Loss: 5.393290817737579 , Test Accuracy: 0.8391 , Timing: 157.29063057899475\n",
            "Epoch: 280 , Validation Loss: 2.40007421374321 , Validation Accuracy: 0.8434 , Test Loss: 5.120284825563431 , Test Accuracy: 0.845 , Timing: 157.67050623893738\n",
            "Epoch: 290 , Validation Loss: 2.3336450457572937 , Validation Accuracy: 0.8404 , Test Loss: 4.942861825227737 , Test Accuracy: 0.8469 , Timing: 156.9823658466339\n",
            "Epoch: 300 , Validation Loss: 2.3544439375400543 , Validation Accuracy: 0.8444 , Test Loss: 4.95073539018631 , Test Accuracy: 0.847 , Timing: 158.54105639457703\n",
            "CRAIG Selection Run---------------------------------\n",
            "Final SubsetTrn: 52.39563422091305\n",
            "Validation Loss and Accuracy:  2.3544439375400543 0.845\n",
            "Test Data Loss and Accuracy:  4.95073539018631 0.856\n",
            "-----------------------------------\n",
            "Total time taken by CRAIG = 1.6125832961665258\n"
          ],
          "name": "stdout"
        }
      ]
    },
    {
      "cell_type": "markdown",
      "metadata": {
        "id": "TWMSmTUrqh2e"
      },
      "source": [
        "#CRAIG-Warm Training"
      ]
    },
    {
      "cell_type": "code",
      "metadata": {
        "id": "ukLNcgn2qhmM"
      },
      "source": [
        "craig_warm_config_file = \"/content/cords/configs/SL/config_craig-warm_cifar10.py\"\n",
        "cfg = load_config_data(craig_warm_config_file)\n",
        "craig_warm_trn = TrainClassifier(cfg)"
      ],
      "execution_count": null,
      "outputs": []
    },
    {
      "cell_type": "code",
      "metadata": {
        "id": "_JPv0rHMwPhY"
      },
      "source": [
        "craig_warm_trn.cfg.train_args.num_epochs = 300\n",
        "craig_warm_trn.cfg.train_args.print_every = 10\n",
        "craig_warm_trn.cfg.train_args.results_dir = \"/content/drive/MyDrive/results/\"\n",
        "craig_warm_trn.cfg.dss_strategy.select_every = 10\n",
        "craig_warm_trn.cfg.dss_strategy.fraction = fraction\n",
        "craig_warm_trn.cfg.model.numclasses = numclasses\n",
        "craig_warm_trn.cfg.dataset.name = dataset_name"
      ],
      "execution_count": null,
      "outputs": []
    },
    {
      "cell_type": "code",
      "metadata": {
        "colab": {
          "base_uri": "https://localhost:8080/"
        },
        "id": "fkKQ7P2lq8tz",
        "outputId": "3b7dbcfd-ac6f-45f2-9616-3216d982c5fc"
      },
      "source": [
        "craig_warm_trn.train()"
      ],
      "execution_count": null,
      "outputs": [
        {
          "output_type": "stream",
          "text": [
            "Files already downloaded and verified\n",
            "Files already downloaded and verified\n",
            "Budget, fraction and N: 2250 0.05 45000\n",
            "Epoch: 10 , Validation Loss: 2.3455833792686462 , Validation Accuracy: 0.8386 , Test Loss: 4.715273350477219 , Test Accuracy: 0.8371 , Timing: 1.430511474609375e-06\n",
            "Epoch: 20 , Validation Loss: 2.4088259041309357 , Validation Accuracy: 0.831 , Test Loss: 4.715273350477219 , Test Accuracy: 0.8371 , Timing: 1.1920928955078125e-06\n",
            "Epoch: 30 , Validation Loss: 2.3974516093730927 , Validation Accuracy: 0.833 , Test Loss: 4.715273350477219 , Test Accuracy: 0.8371 , Timing: 7.152557373046875e-07\n",
            "Epoch: 40 , Validation Loss: 2.371005028486252 , Validation Accuracy: 0.8372 , Test Loss: 4.715273350477219 , Test Accuracy: 0.8371 , Timing: 7.152557373046875e-07\n",
            "Epoch: 50 , Validation Loss: 2.287506341934204 , Validation Accuracy: 0.8394 , Test Loss: 4.715273350477219 , Test Accuracy: 0.8371 , Timing: 7.152557373046875e-07\n",
            "Epoch: 60 , Validation Loss: 2.4056013226509094 , Validation Accuracy: 0.832 , Test Loss: 4.715273350477219 , Test Accuracy: 0.8371 , Timing: 7.152557373046875e-07\n",
            "Epoch: 70 , Validation Loss: 2.393272250890732 , Validation Accuracy: 0.8326 , Test Loss: 4.715273350477219 , Test Accuracy: 0.8371 , Timing: 7.152557373046875e-07\n",
            "Epoch: 80 , Validation Loss: 2.342239171266556 , Validation Accuracy: 0.8404 , Test Loss: 4.715273350477219 , Test Accuracy: 0.8371 , Timing: 9.5367431640625e-07\n",
            "Epoch: 90 , Validation Loss: 2.326840341091156 , Validation Accuracy: 0.8384 , Test Loss: 4.715273350477219 , Test Accuracy: 0.8371 , Timing: 9.5367431640625e-07\n",
            "Epoch: 100 , Validation Loss: 2.367115408182144 , Validation Accuracy: 0.836 , Test Loss: 4.715273350477219 , Test Accuracy: 0.8371 , Timing: 9.5367431640625e-07\n",
            "Epoch: 110 , Validation Loss: 2.3914747834205627 , Validation Accuracy: 0.8364 , Test Loss: 4.715273350477219 , Test Accuracy: 0.8371 , Timing: 9.5367431640625e-07\n",
            "Epoch: 120 , Validation Loss: 2.3049516677856445 , Validation Accuracy: 0.8354 , Test Loss: 4.715273350477219 , Test Accuracy: 0.8371 , Timing: 7.152557373046875e-07\n",
            "Epoch: 130 , Validation Loss: 2.330985188484192 , Validation Accuracy: 0.8364 , Test Loss: 4.715273350477219 , Test Accuracy: 0.8371 , Timing: 9.5367431640625e-07\n",
            "Epoch: 140 , Validation Loss: 2.395163059234619 , Validation Accuracy: 0.8376 , Test Loss: 4.715273350477219 , Test Accuracy: 0.8371 , Timing: 9.5367431640625e-07\n",
            "Epoch: 150 , Validation Loss: 2.449842870235443 , Validation Accuracy: 0.8296 , Test Loss: 4.715273350477219 , Test Accuracy: 0.8371 , Timing: 9.5367431640625e-07\n",
            "Epoch: 160 , Validation Loss: 2.3885609209537506 , Validation Accuracy: 0.8326 , Test Loss: 4.715273350477219 , Test Accuracy: 0.8371 , Timing: 7.152557373046875e-07\n",
            "Epoch: 170 , Validation Loss: 2.3114881813526154 , Validation Accuracy: 0.836 , Test Loss: 4.715273350477219 , Test Accuracy: 0.8371 , Timing: 9.5367431640625e-07\n",
            "Epoch: 180 , Validation Loss: 2.379032999277115 , Validation Accuracy: 0.8358 , Test Loss: 4.715273350477219 , Test Accuracy: 0.8371 , Timing: 1.1920928955078125e-06\n",
            "Epoch: 190 , Validation Loss: 2.161343365907669 , Validation Accuracy: 0.8652 , Test Loss: 4.347513884305954 , Test Accuracy: 0.8691 , Timing: 4.087021350860596\n",
            "Epoch: 200 , Validation Loss: 2.1503859758377075 , Validation Accuracy: 0.8662 , Test Loss: 4.294339030981064 , Test Accuracy: 0.8714 , Timing: 4.21219801902771\n",
            "Epoch: 210 , Validation Loss: 2.060476630926132 , Validation Accuracy: 0.8696 , Test Loss: 4.402346163988113 , Test Accuracy: 0.8705 , Timing: 4.084488153457642\n",
            "Epoch: 220 , Validation Loss: 2.014732927083969 , Validation Accuracy: 0.878 , Test Loss: 4.372436136007309 , Test Accuracy: 0.8742 , Timing: 4.107621669769287\n",
            "Epoch: 230 , Validation Loss: 2.0390627682209015 , Validation Accuracy: 0.873 , Test Loss: 4.281283438205719 , Test Accuracy: 0.8755 , Timing: 4.133251428604126\n",
            "Epoch: 240 , Validation Loss: 2.074228584766388 , Validation Accuracy: 0.8762 , Test Loss: 4.306283056735992 , Test Accuracy: 0.8766 , Timing: 4.097338438034058\n",
            "Epoch: 250 , Validation Loss: 1.9651672542095184 , Validation Accuracy: 0.8782 , Test Loss: 4.126285284757614 , Test Accuracy: 0.8764 , Timing: 4.102962493896484\n",
            "Epoch: 260 , Validation Loss: 1.8886335492134094 , Validation Accuracy: 0.88 , Test Loss: 3.965441942214966 , Test Accuracy: 0.8805 , Timing: 4.071459770202637\n",
            "Epoch: 270 , Validation Loss: 1.7965048551559448 , Validation Accuracy: 0.8836 , Test Loss: 3.859103113412857 , Test Accuracy: 0.8846 , Timing: 4.0832037925720215\n",
            "Epoch: 280 , Validation Loss: 1.7309830784797668 , Validation Accuracy: 0.8848 , Test Loss: 3.6975126564502716 , Test Accuracy: 0.8867 , Timing: 4.108129501342773\n",
            "Epoch: 290 , Validation Loss: 1.738946259021759 , Validation Accuracy: 0.8894 , Test Loss: 3.6707791686058044 , Test Accuracy: 0.8902 , Timing: 3.9520864486694336\n",
            "Epoch: 300 , Validation Loss: 1.7193061113357544 , Validation Accuracy: 0.8894 , Test Loss: 3.6107921302318573 , Test Accuracy: 0.8916 , Timing: 3.976562738418579\n",
            "CRAIG-Warm Selection Run---------------------------------\n",
            "Final SubsetTrn: 26.120353144593537\n",
            "Validation Loss and Accuracy:  1.7193061113357544 0.8923333333333333\n",
            "Test Data Loss and Accuracy:  3.6107921302318573 0.901\n",
            "-----------------------------------\n",
            "Total time taken by CRAIG-Warm = 0.8446296735604604\n"
          ],
          "name": "stdout"
        }
      ]
    },
    {
      "cell_type": "markdown",
      "metadata": {
        "id": "5fMppdzPrM9U"
      },
      "source": [
        "#CRAIGPB Training"
      ]
    },
    {
      "cell_type": "code",
      "metadata": {
        "id": "6BN_rK3ZrRep"
      },
      "source": [
        "craigpb_config_file = \"/content/cords/configs/SL/config_craigpb_cifar10.py\"\n",
        "cfg = load_config_data(craigpb_config_file)\n",
        "craigpb_trn = TrainClassifier(cfg)"
      ],
      "execution_count": null,
      "outputs": []
    },
    {
      "cell_type": "code",
      "metadata": {
        "id": "K1MCak6xwSE8"
      },
      "source": [
        "craigpb_trn.cfg.train_args.num_epochs = 300\n",
        "craigpb_trn.cfg.train_args.print_every = 10\n",
        "craigpb_trn.cfg.train_args.results_dir = \"/content/drive/MyDrive/results/\"\n",
        "craigpb_trn.cfg.dss_strategy.select_every = 10\n",
        "craigpb_trn.cfg.dss_strategy.fraction = fraction\n",
        "craigpb_trn.cfg.model.numclasses = numclasses\n",
        "craigpb_trn.cfg.dataset.name = dataset_name"
      ],
      "execution_count": null,
      "outputs": []
    },
    {
      "cell_type": "code",
      "metadata": {
        "colab": {
          "base_uri": "https://localhost:8080/"
        },
        "id": "R4ujQPvzrkvD",
        "outputId": "5f350e4c-ea09-4e39-d5f2-c3d0cb2b3be6"
      },
      "source": [
        "craigpb_trn.train()"
      ],
      "execution_count": null,
      "outputs": [
        {
          "output_type": "stream",
          "text": [
            "Files already downloaded and verified\n",
            "Files already downloaded and verified\n",
            "Budget, fraction and N: 2250 0.05 45000\n",
            "Epoch: 10 , Validation Loss: 8.979738235473633 , Validation Accuracy: 0.363 , Test Loss: 17.502220153808594 , Test Accuracy: 0.3819 , Timing: 58.143962144851685\n",
            "Epoch: 20 , Validation Loss: 6.4586122035980225 , Validation Accuracy: 0.5322 , Test Loss: 13.08100688457489 , Test Accuracy: 0.5226 , Timing: 56.30401563644409\n",
            "Epoch: 30 , Validation Loss: 5.820534825325012 , Validation Accuracy: 0.5944 , Test Loss: 11.685447573661804 , Test Accuracy: 0.5964 , Timing: 55.71608877182007\n",
            "Epoch: 40 , Validation Loss: 5.320859313011169 , Validation Accuracy: 0.629 , Test Loss: 10.832374572753906 , Test Accuracy: 0.6305 , Timing: 55.523844718933105\n",
            "Epoch: 50 , Validation Loss: 4.540077567100525 , Validation Accuracy: 0.6746 , Test Loss: 9.185753405094147 , Test Accuracy: 0.6777 , Timing: 55.97166299819946\n",
            "Epoch: 60 , Validation Loss: 4.869359076023102 , Validation Accuracy: 0.6666 , Test Loss: 10.015413999557495 , Test Accuracy: 0.6713 , Timing: 53.938719749450684\n",
            "Epoch: 70 , Validation Loss: 4.144124329090118 , Validation Accuracy: 0.7174 , Test Loss: 8.492936909198761 , Test Accuracy: 0.7217 , Timing: 53.92473030090332\n",
            "Epoch: 80 , Validation Loss: 3.8043928742408752 , Validation Accuracy: 0.733 , Test Loss: 7.717454195022583 , Test Accuracy: 0.7361 , Timing: 56.543442487716675\n",
            "Epoch: 90 , Validation Loss: 3.889426529407501 , Validation Accuracy: 0.735 , Test Loss: 7.927707731723785 , Test Accuracy: 0.7315 , Timing: 56.1370005607605\n",
            "Epoch: 100 , Validation Loss: 3.7774758338928223 , Validation Accuracy: 0.7356 , Test Loss: 7.442902088165283 , Test Accuracy: 0.7493 , Timing: 54.81211495399475\n",
            "Epoch: 110 , Validation Loss: 3.7100183367729187 , Validation Accuracy: 0.7388 , Test Loss: 7.939749598503113 , Test Accuracy: 0.7403 , Timing: 54.844717502593994\n",
            "Epoch: 120 , Validation Loss: 3.288706064224243 , Validation Accuracy: 0.7744 , Test Loss: 6.543946385383606 , Test Accuracy: 0.7879 , Timing: 55.29912710189819\n",
            "Epoch: 130 , Validation Loss: 3.47846919298172 , Validation Accuracy: 0.7608 , Test Loss: 7.195114314556122 , Test Accuracy: 0.7594 , Timing: 54.82305908203125\n",
            "Epoch: 140 , Validation Loss: 3.146239221096039 , Validation Accuracy: 0.7802 , Test Loss: 6.331034243106842 , Test Accuracy: 0.7903 , Timing: 56.046696186065674\n",
            "Epoch: 150 , Validation Loss: 3.4957409501075745 , Validation Accuracy: 0.7668 , Test Loss: 7.466561853885651 , Test Accuracy: 0.767 , Timing: 55.498366832733154\n",
            "Epoch: 160 , Validation Loss: 3.195312798023224 , Validation Accuracy: 0.7742 , Test Loss: 6.450390636920929 , Test Accuracy: 0.7877 , Timing: 55.46604108810425\n",
            "Epoch: 170 , Validation Loss: 3.3619958758354187 , Validation Accuracy: 0.7766 , Test Loss: 6.958631932735443 , Test Accuracy: 0.7802 , Timing: 55.029030561447144\n",
            "Epoch: 180 , Validation Loss: 3.035562753677368 , Validation Accuracy: 0.8008 , Test Loss: 6.3549724817276 , Test Accuracy: 0.8063 , Timing: 56.450133323669434\n",
            "Epoch: 190 , Validation Loss: 3.2001808285713196 , Validation Accuracy: 0.7966 , Test Loss: 7.126900494098663 , Test Accuracy: 0.7911 , Timing: 54.98564171791077\n",
            "Epoch: 200 , Validation Loss: 3.100327968597412 , Validation Accuracy: 0.8044 , Test Loss: 6.800122618675232 , Test Accuracy: 0.8018 , Timing: 54.942691802978516\n",
            "Epoch: 210 , Validation Loss: 3.047828197479248 , Validation Accuracy: 0.819 , Test Loss: 6.41656756401062 , Test Accuracy: 0.817 , Timing: 55.00844097137451\n",
            "Epoch: 220 , Validation Loss: 2.732877194881439 , Validation Accuracy: 0.8364 , Test Loss: 5.91708368062973 , Test Accuracy: 0.8309 , Timing: 55.02627110481262\n",
            "Epoch: 230 , Validation Loss: 2.6077353954315186 , Validation Accuracy: 0.8324 , Test Loss: 5.542628645896912 , Test Accuracy: 0.8375 , Timing: 57.2654185295105\n",
            "Epoch: 240 , Validation Loss: 2.6875869631767273 , Validation Accuracy: 0.8394 , Test Loss: 5.702393710613251 , Test Accuracy: 0.843 , Timing: 55.93696069717407\n",
            "Epoch: 250 , Validation Loss: 2.6843182742595673 , Validation Accuracy: 0.841 , Test Loss: 5.597309947013855 , Test Accuracy: 0.8465 , Timing: 55.91403388977051\n",
            "Epoch: 260 , Validation Loss: 2.547838509082794 , Validation Accuracy: 0.8518 , Test Loss: 5.075874418020248 , Test Accuracy: 0.8551 , Timing: 55.67590832710266\n",
            "Epoch: 270 , Validation Loss: 2.420476019382477 , Validation Accuracy: 0.8608 , Test Loss: 4.879562854766846 , Test Accuracy: 0.8626 , Timing: 57.09813666343689\n",
            "Epoch: 280 , Validation Loss: 2.3107406198978424 , Validation Accuracy: 0.858 , Test Loss: 4.753492921590805 , Test Accuracy: 0.863 , Timing: 55.378751039505005\n",
            "Epoch: 290 , Validation Loss: 2.251098334789276 , Validation Accuracy: 0.8598 , Test Loss: 4.613833695650101 , Test Accuracy: 0.8666 , Timing: 55.269200563430786\n",
            "Epoch: 300 , Validation Loss: 2.2614961564540863 , Validation Accuracy: 0.8636 , Test Loss: 4.5835597813129425 , Test Accuracy: 0.8674 , Timing: 55.441447257995605\n",
            "CRAIGPB Selection Run---------------------------------\n",
            "Final SubsetTrn: 39.77918039821088\n",
            "Validation Loss and Accuracy:  2.2614961564540863 0.8636\n",
            "Test Data Loss and Accuracy:  4.5835597813129425 0.886\n",
            "-----------------------------------\n",
            "Total time taken by CRAIGPB = 0.7587374369303386\n"
          ],
          "name": "stdout"
        }
      ]
    },
    {
      "cell_type": "markdown",
      "metadata": {
        "id": "G6FqzkQTrM8L"
      },
      "source": [
        "#CRAIGPB-Warm Training"
      ]
    },
    {
      "cell_type": "code",
      "metadata": {
        "id": "jGUyZOHKrMog"
      },
      "source": [
        "craigpb_warm_config_file = \"/content/cords/configs/SL/config_craigpb-warm_cifar10.py\"\n",
        "cfg = load_config_data(craigpb_warm_config_file)\n",
        "craigpb_warm_trn = TrainClassifier(cfg)"
      ],
      "execution_count": null,
      "outputs": []
    },
    {
      "cell_type": "code",
      "metadata": {
        "id": "UkpCcX1MwUZY"
      },
      "source": [
        "craigpb_warm_trn.cfg.train_args.num_epochs = 300\n",
        "craigpb_warm_trn.cfg.train_args.print_every = 10\n",
        "craigpb_warm_trn.cfg.train_args.results_dir = \"/content/drive/MyDrive/results/\"\n",
        "craigpb_warm_trn.cfg.dss_strategy.select_every\"] = 10\n",
        "craigpb_warm_trn.cfg.dss_strategy.fraction = fraction\n",
        "craigpb_warm_trn.cfg.model.numclasses = numclasses\n",
        "craigpb_warm_trn.cfg.dataset.name = dataset_name"
      ],
      "execution_count": null,
      "outputs": []
    },
    {
      "cell_type": "code",
      "metadata": {
        "colab": {
          "base_uri": "https://localhost:8080/"
        },
        "id": "sPOrOxfsrMcr",
        "outputId": "a3904e8e-bcbd-4a1e-dbf3-0abc2698c9a4"
      },
      "source": [
        "craigpb_warm_trn.train()"
      ],
      "execution_count": null,
      "outputs": [
        {
          "output_type": "stream",
          "text": [
            "Files already downloaded and verified\n",
            "Files already downloaded and verified\n",
            "Budget, fraction and N: 2250 0.05 45000\n",
            "Epoch: 10 , Validation Loss: 2.4736618101596832 , Validation Accuracy: 0.8318 , Test Loss: 5.001382082700729 , Test Accuracy: 0.8348 , Timing: 1.6689300537109375e-06\n",
            "Epoch: 20 , Validation Loss: 2.502350687980652 , Validation Accuracy: 0.8244 , Test Loss: 5.001382082700729 , Test Accuracy: 0.8348 , Timing: 7.152557373046875e-07\n",
            "Epoch: 30 , Validation Loss: 2.516992539167404 , Validation Accuracy: 0.8244 , Test Loss: 5.001382082700729 , Test Accuracy: 0.8348 , Timing: 9.5367431640625e-07\n",
            "Epoch: 40 , Validation Loss: 2.52443528175354 , Validation Accuracy: 0.8184 , Test Loss: 5.001382082700729 , Test Accuracy: 0.8348 , Timing: 9.5367431640625e-07\n",
            "Epoch: 50 , Validation Loss: 2.4621024131774902 , Validation Accuracy: 0.8274 , Test Loss: 5.001382082700729 , Test Accuracy: 0.8348 , Timing: 1.1920928955078125e-06\n",
            "Epoch: 60 , Validation Loss: 2.53931587934494 , Validation Accuracy: 0.8248 , Test Loss: 5.001382082700729 , Test Accuracy: 0.8348 , Timing: 9.5367431640625e-07\n",
            "Epoch: 70 , Validation Loss: 2.5300355553627014 , Validation Accuracy: 0.8248 , Test Loss: 5.001382082700729 , Test Accuracy: 0.8348 , Timing: 7.152557373046875e-07\n",
            "Epoch: 80 , Validation Loss: 2.5396519899368286 , Validation Accuracy: 0.8244 , Test Loss: 5.001382082700729 , Test Accuracy: 0.8348 , Timing: 1.1920928955078125e-06\n",
            "Epoch: 90 , Validation Loss: 2.437993884086609 , Validation Accuracy: 0.83 , Test Loss: 5.001382082700729 , Test Accuracy: 0.8348 , Timing: 9.5367431640625e-07\n",
            "Epoch: 100 , Validation Loss: 2.496347099542618 , Validation Accuracy: 0.8286 , Test Loss: 5.001382082700729 , Test Accuracy: 0.8348 , Timing: 9.5367431640625e-07\n",
            "Epoch: 110 , Validation Loss: 2.507199138402939 , Validation Accuracy: 0.8308 , Test Loss: 5.001382082700729 , Test Accuracy: 0.8348 , Timing: 9.5367431640625e-07\n",
            "Epoch: 120 , Validation Loss: 2.4687966406345367 , Validation Accuracy: 0.829 , Test Loss: 5.001382082700729 , Test Accuracy: 0.8348 , Timing: 9.5367431640625e-07\n",
            "Epoch: 130 , Validation Loss: 2.4967629611492157 , Validation Accuracy: 0.8272 , Test Loss: 5.001382082700729 , Test Accuracy: 0.8348 , Timing: 7.152557373046875e-07\n",
            "Epoch: 140 , Validation Loss: 2.5086204409599304 , Validation Accuracy: 0.8298 , Test Loss: 5.001382082700729 , Test Accuracy: 0.8348 , Timing: 9.5367431640625e-07\n",
            "Epoch: 150 , Validation Loss: 2.569856822490692 , Validation Accuracy: 0.8198 , Test Loss: 5.001382082700729 , Test Accuracy: 0.8348 , Timing: 1.1920928955078125e-06\n",
            "Epoch: 160 , Validation Loss: 2.497715502977371 , Validation Accuracy: 0.8288 , Test Loss: 5.001382082700729 , Test Accuracy: 0.8348 , Timing: 1.1920928955078125e-06\n",
            "Epoch: 170 , Validation Loss: 2.4705550372600555 , Validation Accuracy: 0.83 , Test Loss: 5.001382082700729 , Test Accuracy: 0.8348 , Timing: 1.1920928955078125e-06\n",
            "Epoch: 180 , Validation Loss: 2.5221445858478546 , Validation Accuracy: 0.8258 , Test Loss: 5.001382082700729 , Test Accuracy: 0.8348 , Timing: 7.152557373046875e-07\n",
            "Epoch: 190 , Validation Loss: 2.2245468199253082 , Validation Accuracy: 0.8696 , Test Loss: 4.6026458740234375 , Test Accuracy: 0.8698 , Timing: 4.001559734344482\n",
            "Epoch: 200 , Validation Loss: 2.1563157439231873 , Validation Accuracy: 0.8684 , Test Loss: 4.695315927267075 , Test Accuracy: 0.8714 , Timing: 3.986238718032837\n",
            "Epoch: 210 , Validation Loss: 2.243726134300232 , Validation Accuracy: 0.8656 , Test Loss: 4.635786294937134 , Test Accuracy: 0.8694 , Timing: 3.937164306640625\n",
            "Epoch: 220 , Validation Loss: 2.130775600671768 , Validation Accuracy: 0.8708 , Test Loss: 4.636564344167709 , Test Accuracy: 0.8717 , Timing: 3.9127745628356934\n",
            "Epoch: 230 , Validation Loss: 2.1013660430908203 , Validation Accuracy: 0.8776 , Test Loss: 4.338368892669678 , Test Accuracy: 0.8798 , Timing: 4.069295644760132\n",
            "Epoch: 240 , Validation Loss: 2.059311091899872 , Validation Accuracy: 0.8788 , Test Loss: 4.263070970773697 , Test Accuracy: 0.878 , Timing: 4.0097739696502686\n",
            "Epoch: 250 , Validation Loss: 2.0296368300914764 , Validation Accuracy: 0.8822 , Test Loss: 4.258090287446976 , Test Accuracy: 0.8801 , Timing: 4.026307106018066\n",
            "Epoch: 260 , Validation Loss: 1.89212366938591 , Validation Accuracy: 0.8844 , Test Loss: 4.091397255659103 , Test Accuracy: 0.8829 , Timing: 3.986604928970337\n",
            "Epoch: 270 , Validation Loss: 1.8755907714366913 , Validation Accuracy: 0.8798 , Test Loss: 3.8766128420829773 , Test Accuracy: 0.8887 , Timing: 4.027933835983276\n",
            "Epoch: 280 , Validation Loss: 1.7463433146476746 , Validation Accuracy: 0.8902 , Test Loss: 3.7361697256565094 , Test Accuracy: 0.8935 , Timing: 3.9374916553497314\n",
            "Epoch: 290 , Validation Loss: 1.733039230108261 , Validation Accuracy: 0.8936 , Test Loss: 3.55801585316658 , Test Accuracy: 0.8941 , Timing: 3.9303481578826904\n",
            "Epoch: 300 , Validation Loss: 1.755728304386139 , Validation Accuracy: 0.8906 , Test Loss: 3.5661869049072266 , Test Accuracy: 0.8948 , Timing: 3.910736322402954\n",
            "CRAIGPB-Warm Selection Run---------------------------------\n",
            "Final SubsetTrn: 21.1323356567882\n",
            "Validation Loss and Accuracy:  1.755728304386139 0.895\n",
            "Test Data Loss and Accuracy:  3.5661869049072266 0.895\n",
            "-----------------------------------\n",
            "Total time taken by CRAIGPB-Warm = 0.5002793533272213\n"
          ],
          "name": "stdout"
        }
      ]
    },
    {
      "cell_type": "markdown",
      "metadata": {
        "id": "sZNEugY7osMr"
      },
      "source": [
        "#GradMatch Training"
      ]
    },
    {
      "cell_type": "code",
      "metadata": {
        "id": "omTctDpXor4n"
      },
      "source": [
        "gradmatch_config_file = \"/content/cords/configs/SL/config_gradmatch_cifar10.py\"\n",
        "cfg = load_config_data(gradmatch_config_file)\n",
        "gradmatch_trn = TrainClassifier(cfg)"
      ],
      "execution_count": null,
      "outputs": []
    },
    {
      "cell_type": "code",
      "metadata": {
        "id": "OaNV8vvGwDDK"
      },
      "source": [
        "gradmatch_trn.cfg.train_args.num_epochs = 300\n",
        "gradmatch_trn.cfg.train_args.print_every = 10\n",
        "gradmatch_trn.cfg.train_args.results_dir = \"/content/drive/MyDrive/results/\"\n",
        "gradmatch_trn.cfg.dss_strategy.select_every = 10\n",
        "gradmatch_trn.cfg.dss_strategy.fraction = fraction\n",
        "gradmatch_trn.cfg.model.numclasses = numclasses\n",
        "gradmatch_trn.cfg.dataset.name = dataset_name"
      ],
      "execution_count": null,
      "outputs": []
    },
    {
      "cell_type": "code",
      "metadata": {
        "colab": {
          "base_uri": "https://localhost:8080/"
        },
        "id": "hfPqpH2xon13",
        "outputId": "55db8bf9-4301-4391-d7e7-5d87395ad4a7"
      },
      "source": [
        "gradmatch_trn.train()"
      ],
      "execution_count": null,
      "outputs": [
        {
          "output_type": "stream",
          "text": [
            "Files already downloaded and verified\n",
            "Files already downloaded and verified\n",
            "Budget, fraction and N: 2250 0.05 45000\n",
            "6\n",
            "OMP algorithm Subset Selection time is:  52.88153696060181\n",
            "Epoch: 10 , Validation Loss: 7.852511525154114 , Validation Accuracy: 0.416 , Test Loss: 15.771631240844727 , Test Accuracy: 0.4182 , Timing: 56.287412881851196\n",
            "13\n",
            "OMP algorithm Subset Selection time is:  52.76342487335205\n",
            "Epoch: 20 , Validation Loss: 6.080284833908081 , Validation Accuracy: 0.5792 , Test Loss: 11.929204225540161 , Test Accuracy: 0.5749 , Timing: 56.165722131729126\n",
            "Model checkpoint saved at epoch 20\n"
          ],
          "name": "stdout"
        }
      ]
    },
    {
      "cell_type": "markdown",
      "metadata": {
        "id": "TYz7SVHyhK92"
      },
      "source": [
        "#GradMatchPB Training"
      ]
    },
    {
      "cell_type": "code",
      "metadata": {
        "id": "EYLph9V_ZW3f"
      },
      "source": [
        "gradmatchpb_config_file = \"/content/cords/configs/SL/config_gradmatchpb_cifar10.py\"\n",
        "cfg = load_config_data(gradmatchpb_config_file)\n",
        "gradmatchpb_trn = TrainClassifier(cfg)"
      ],
      "execution_count": null,
      "outputs": []
    },
    {
      "cell_type": "code",
      "metadata": {
        "id": "a4z1wT0JvZO9"
      },
      "source": [
        "gradmatchpb_trn.cfg.train_args.num_epochs = 300\n",
        "gradmatchpb_trn.cfg.train_args.print_every = 10\n",
        "gradmatchpb_trn.cfg.train_args.results_dir = \"/content/drive/MyDrive/results/\"\n",
        "gradmatchpb_trn.cfg.dss_strategy.select_every = 10\n",
        "gradmatchpb_trn.cfg.dss_strategy.fraction = fraction\n",
        "gradmatchpb_trn.cfg.model.numclasses = numclasses\n",
        "gradmatchpb_trn.cfg.dataset.name = dataset_name"
      ],
      "execution_count": null,
      "outputs": []
    },
    {
      "cell_type": "code",
      "metadata": {
        "colab": {
          "base_uri": "https://localhost:8080/"
        },
        "id": "ZRtQze0YghNv",
        "outputId": "fb2051f7-9297-40b8-f0a2-29aa907361ca"
      },
      "source": [
        "gradmatchpb_trn.train()"
      ],
      "execution_count": null,
      "outputs": [
        {
          "output_type": "stream",
          "text": [
            "Files already downloaded and verified\n",
            "Files already downloaded and verified\n",
            "Budget, fraction and N: 2250 0.05 45000\n",
            "OMP algorithm Subset Selection time is:  33.714832067489624\n",
            "Epoch: 10 , Validation Loss: 7.712562322616577 , Validation Accuracy: 0.4264 , Test Loss: 14.903666973114014 , Test Accuracy: 0.4454 , Timing: 37.69944143295288\n",
            "OMP algorithm Subset Selection time is:  33.89803409576416\n",
            "Epoch: 20 , Validation Loss: 6.12493097782135 , Validation Accuracy: 0.5636 , Test Loss: 11.925832629203796 , Test Accuracy: 0.5671 , Timing: 37.909223794937134\n",
            "OMP algorithm Subset Selection time is:  33.731874227523804\n",
            "Epoch: 30 , Validation Loss: 5.7394914627075195 , Validation Accuracy: 0.599 , Test Loss: 11.462856769561768 , Test Accuracy: 0.6039 , Timing: 37.76982045173645\n",
            "OMP algorithm Subset Selection time is:  33.60464644432068\n",
            "Epoch: 40 , Validation Loss: 5.16117250919342 , Validation Accuracy: 0.644 , Test Loss: 9.744677245616913 , Test Accuracy: 0.6615 , Timing: 37.59654211997986\n",
            "OMP algorithm Subset Selection time is:  33.53685927391052\n",
            "Epoch: 50 , Validation Loss: 4.846473932266235 , Validation Accuracy: 0.6584 , Test Loss: 10.206324636936188 , Test Accuracy: 0.6424 , Timing: 37.53268265724182\n",
            "OMP algorithm Subset Selection time is:  33.8734769821167\n",
            "Epoch: 60 , Validation Loss: 4.09672224521637 , Validation Accuracy: 0.7144 , Test Loss: 8.206367790699005 , Test Accuracy: 0.7208 , Timing: 37.896193981170654\n",
            "OMP algorithm Subset Selection time is:  33.736963510513306\n",
            "Epoch: 70 , Validation Loss: 4.024983882904053 , Validation Accuracy: 0.72 , Test Loss: 8.32056850194931 , Test Accuracy: 0.7257 , Timing: 37.75920629501343\n",
            "OMP algorithm Subset Selection time is:  33.55587720870972\n",
            "Epoch: 80 , Validation Loss: 3.671865165233612 , Validation Accuracy: 0.7454 , Test Loss: 7.205544590950012 , Test Accuracy: 0.7528 , Timing: 37.54674792289734\n",
            "OMP algorithm Subset Selection time is:  33.61483931541443\n",
            "Epoch: 90 , Validation Loss: 3.4976205229759216 , Validation Accuracy: 0.7546 , Test Loss: 6.874185919761658 , Test Accuracy: 0.7591 , Timing: 37.584036350250244\n",
            "OMP algorithm Subset Selection time is:  33.529746294021606\n",
            "Epoch: 100 , Validation Loss: 3.4967296719551086 , Validation Accuracy: 0.7576 , Test Loss: 6.849070072174072 , Test Accuracy: 0.7698 , Timing: 37.5177845954895\n",
            "OMP algorithm Subset Selection time is:  33.72316813468933\n",
            "Epoch: 110 , Validation Loss: 3.3427390456199646 , Validation Accuracy: 0.759 , Test Loss: 6.583684861660004 , Test Accuracy: 0.7682 , Timing: 37.739187240600586\n",
            "OMP algorithm Subset Selection time is:  33.80028247833252\n",
            "Epoch: 120 , Validation Loss: 2.9685577750205994 , Validation Accuracy: 0.7932 , Test Loss: 5.716055393218994 , Test Accuracy: 0.8019 , Timing: 37.82716512680054\n",
            "OMP algorithm Subset Selection time is:  33.51977729797363\n",
            "Epoch: 130 , Validation Loss: 3.15278822183609 , Validation Accuracy: 0.7844 , Test Loss: 6.059052228927612 , Test Accuracy: 0.7928 , Timing: 37.50854444503784\n",
            "OMP algorithm Subset Selection time is:  33.847476959228516\n",
            "Epoch: 140 , Validation Loss: 2.8948636651039124 , Validation Accuracy: 0.796 , Test Loss: 5.771930277347565 , Test Accuracy: 0.8001 , Timing: 37.8471519947052\n",
            "OMP algorithm Subset Selection time is:  33.52283310890198\n",
            "Epoch: 150 , Validation Loss: 2.905369818210602 , Validation Accuracy: 0.8044 , Test Loss: 5.529846429824829 , Test Accuracy: 0.8125 , Timing: 37.517632722854614\n",
            "OMP algorithm Subset Selection time is:  33.80453372001648\n",
            "Epoch: 160 , Validation Loss: 2.777708798646927 , Validation Accuracy: 0.8106 , Test Loss: 5.683020830154419 , Test Accuracy: 0.8072 , Timing: 37.77695894241333\n",
            "OMP algorithm Subset Selection time is:  33.853989601135254\n",
            "Epoch: 170 , Validation Loss: 2.862427443265915 , Validation Accuracy: 0.8004 , Test Loss: 5.964788198471069 , Test Accuracy: 0.8048 , Timing: 37.8546667098999\n",
            "OMP algorithm Subset Selection time is:  33.852779150009155\n",
            "Epoch: 180 , Validation Loss: 2.578103244304657 , Validation Accuracy: 0.8198 , Test Loss: 5.133106499910355 , Test Accuracy: 0.8306 , Timing: 37.89333462715149\n",
            "OMP algorithm Subset Selection time is:  33.928428411483765\n",
            "Epoch: 190 , Validation Loss: 2.44803586602211 , Validation Accuracy: 0.8244 , Test Loss: 4.779333114624023 , Test Accuracy: 0.8378 , Timing: 37.90293598175049\n",
            "OMP algorithm Subset Selection time is:  33.9565486907959\n",
            "Epoch: 200 , Validation Loss: 2.416010558605194 , Validation Accuracy: 0.8372 , Test Loss: 4.743895381689072 , Test Accuracy: 0.8402 , Timing: 37.981433629989624\n",
            "OMP algorithm Subset Selection time is:  33.852766036987305\n",
            "Epoch: 210 , Validation Loss: 2.3609066903591156 , Validation Accuracy: 0.8434 , Test Loss: 4.611225366592407 , Test Accuracy: 0.8466 , Timing: 37.83213543891907\n",
            "OMP algorithm Subset Selection time is:  33.84523320198059\n",
            "Epoch: 220 , Validation Loss: 2.6337063014507294 , Validation Accuracy: 0.8406 , Test Loss: 5.160901427268982 , Test Accuracy: 0.8458 , Timing: 37.908536434173584\n",
            "OMP algorithm Subset Selection time is:  33.763832330703735\n",
            "Epoch: 230 , Validation Loss: 2.419525682926178 , Validation Accuracy: 0.8476 , Test Loss: 4.899152457714081 , Test Accuracy: 0.847 , Timing: 37.75708556175232\n",
            "OMP algorithm Subset Selection time is:  33.557310342788696\n",
            "Epoch: 240 , Validation Loss: 2.23726749420166 , Validation Accuracy: 0.8578 , Test Loss: 4.809951812028885 , Test Accuracy: 0.859 , Timing: 37.58847165107727\n",
            "OMP algorithm Subset Selection time is:  33.69936513900757\n",
            "Epoch: 250 , Validation Loss: 2.1073412597179413 , Validation Accuracy: 0.8646 , Test Loss: 4.422374069690704 , Test Accuracy: 0.8686 , Timing: 37.71585202217102\n",
            "OMP algorithm Subset Selection time is:  33.78223490715027\n",
            "Epoch: 260 , Validation Loss: 2.051263779401779 , Validation Accuracy: 0.8684 , Test Loss: 4.181815296411514 , Test Accuracy: 0.8751 , Timing: 37.80114412307739\n",
            "OMP algorithm Subset Selection time is:  33.802223682403564\n",
            "Epoch: 270 , Validation Loss: 2.0289380848407745 , Validation Accuracy: 0.8768 , Test Loss: 4.003941744565964 , Test Accuracy: 0.8817 , Timing: 37.80298829078674\n",
            "OMP algorithm Subset Selection time is:  33.75880551338196\n",
            "Epoch: 280 , Validation Loss: 1.9126109182834625 , Validation Accuracy: 0.88 , Test Loss: 3.9201631247997284 , Test Accuracy: 0.8841 , Timing: 37.798808574676514\n",
            "OMP algorithm Subset Selection time is:  33.82117033004761\n",
            "Epoch: 290 , Validation Loss: 1.943807601928711 , Validation Accuracy: 0.8768 , Test Loss: 4.0020946860313416 , Test Accuracy: 0.881 , Timing: 37.81822681427002\n",
            "OMP algorithm Subset Selection time is:  33.909244537353516\n",
            "Epoch: 300 , Validation Loss: 1.9554385542869568 , Validation Accuracy: 0.877 , Test Loss: 3.7900919318199158 , Test Accuracy: 0.8864 , Timing: 37.90798354148865\n",
            "GradMatchPB Selection Run---------------------------------\n",
            "Final SubsetTrn: 31.71550413221121\n",
            "Validation Loss and Accuracy:  1.9554385542869568 0.89\n",
            "Test Data Loss and Accuracy:  3.7900919318199158 0.894\n",
            "-----------------------------------\n",
            "Total time taken by GradMatchPB = 0.6119296599758995\n"
          ],
          "name": "stdout"
        }
      ]
    },
    {
      "cell_type": "markdown",
      "metadata": {
        "id": "arNHutXQklSi"
      },
      "source": [
        "#GradMatchPB-Warm Training\n"
      ]
    },
    {
      "cell_type": "code",
      "metadata": {
        "id": "vPGGWUpDkk8X"
      },
      "source": [
        "gradmatchpb_warm_config_file = \"/content/cords/configs/SL/config_gradmatchpb-warm_cifar10.py\"\n",
        "cfg = load_config_data(gradmatchpb_warm_config_file)\n",
        "gradmatchpb_warm_trn = TrainClassifier(cfg)"
      ],
      "execution_count": null,
      "outputs": []
    },
    {
      "cell_type": "code",
      "metadata": {
        "id": "zPSYkd1Kv8F0"
      },
      "source": [
        "gradmatchpb_warm_trn.cfg.train_args.num_epochs = 600\n",
        "gradmatchpb_warm_trn.cfg.scheduler.T_max = 600\n",
        "gradmatchpb_warm_trn.cfg.train_args.print_every = 10\n",
        "gradmatchpb_warm_trn.cfg.train_args.results_dir = \"/content/drive/MyDrive/research/Extended-Cords/results/\"\n",
        "gradmatchpb_warm_trn.cfg.dss_strategy.select_every = 20\n",
        "gradmatchpb_warm_trn.cfg.dss_strategy.fraction = fraction\n",
        "gradmatchpb_warm_trn.cfg.dss_strategy.kappa = 0.25\n",
        "gradmatchpb_warm_trn.cfg.model.numclasses = numclasses\n",
        "gradmatchpb_warm_trn.cfg.dataset.name = dataset_name"
      ],
      "execution_count": null,
      "outputs": []
    },
    {
      "cell_type": "code",
      "metadata": {
        "colab": {
          "base_uri": "https://localhost:8080/",
          "height": 1000,
          "referenced_widgets": [
            "b7e30bed4a604d55aee695214c552d1a",
            "ca39051760b04b96b7b0d96a07e2fe40",
            "6d0ee091fa644ca2ac0c95de372f8256",
            "c8aad48c6668499fad1f1f647fac6709",
            "2e9d9bb423104d92bb920425a01cb4d7",
            "ac0e2e0d2deb449cabf7349fb39b263e",
            "3a1759adf4f248feb5d2d73c3683da15",
            "85a427a913b444219152bad6d1893ba2"
          ]
        },
        "id": "IFMP0bDbooho",
        "outputId": "2d358a24-72a7-4fb8-8d6d-e2dd6f14dd4f"
      },
      "source": [
        "gradmatchpb_warm_trn.train()"
      ],
      "execution_count": null,
      "outputs": [
        {
          "output_type": "stream",
          "text": [
            "Downloading https://www.cs.toronto.edu/~kriz/cifar-10-python.tar.gz to ../data/cifar-10-python.tar.gz\n"
          ],
          "name": "stdout"
        },
        {
          "output_type": "display_data",
          "data": {
            "application/vnd.jupyter.widget-view+json": {
              "model_id": "b7e30bed4a604d55aee695214c552d1a",
              "version_major": 2,
              "version_minor": 0
            },
            "text/plain": [
              "HBox(children=(FloatProgress(value=0.0, max=170498071.0), HTML(value='')))"
            ]
          },
          "metadata": {
            "tags": []
          }
        },
        {
          "output_type": "stream",
          "text": [
            "\n",
            "Extracting ../data/cifar-10-python.tar.gz to ../data\n",
            "Files already downloaded and verified\n",
            "Budget, fraction and N: 13500 0.3 45000\n",
            "Epoch: 10 , Validation Loss: 2.3470816612243652 , Validation Accuracy: 0.8414 , Test Loss: 4.754980206489563 , Test Accuracy: 0.8423 , Timing: 75.36126685142517\n",
            "Epoch: 20 , Validation Loss: 2.228930741548538 , Validation Accuracy: 0.8572 , Test Loss: 4.398058146238327 , Test Accuracy: 0.8584 , Timing: 75.09517621994019\n",
            "Model checkpoint saved at epoch 20\n",
            "Epoch: 30 , Validation Loss: 1.6964553892612457 , Validation Accuracy: 0.8878 , Test Loss: 3.548308342695236 , Test Accuracy: 0.8846 , Timing: 75.07866334915161\n",
            "Epoch: 40 , Validation Loss: 1.8904868364334106 , Validation Accuracy: 0.8762 , Test Loss: 3.7793397903442383 , Test Accuracy: 0.881 , Timing: 74.52688550949097\n",
            "Model checkpoint saved at epoch 40\n",
            "Epoch: 50 , Validation Loss: 1.9178616404533386 , Validation Accuracy: 0.8738 , Test Loss: 3.6230668425559998 , Test Accuracy: 0.8861 , Timing: 7.152557373046875e-07\n",
            "Epoch: 60 , Validation Loss: 1.8931241929531097 , Validation Accuracy: 0.8758 , Test Loss: 3.6230668425559998 , Test Accuracy: 0.8861 , Timing: 1.1920928955078125e-06\n",
            "Model checkpoint saved at epoch 60\n",
            "Epoch: 70 , Validation Loss: 1.8899392485618591 , Validation Accuracy: 0.8696 , Test Loss: 3.6230668425559998 , Test Accuracy: 0.8861 , Timing: 7.152557373046875e-07\n",
            "Epoch: 80 , Validation Loss: 1.8748932480812073 , Validation Accuracy: 0.8728 , Test Loss: 3.6230668425559998 , Test Accuracy: 0.8861 , Timing: 1.1920928955078125e-06\n",
            "Model checkpoint saved at epoch 80\n",
            "Epoch: 90 , Validation Loss: 1.8943747580051422 , Validation Accuracy: 0.8728 , Test Loss: 3.6230668425559998 , Test Accuracy: 0.8861 , Timing: 1.1920928955078125e-06\n",
            "Epoch: 100 , Validation Loss: 1.8714352548122406 , Validation Accuracy: 0.8748 , Test Loss: 3.6230668425559998 , Test Accuracy: 0.8861 , Timing: 7.152557373046875e-07\n",
            "Model checkpoint saved at epoch 100\n",
            "Epoch: 110 , Validation Loss: 1.8527800142765045 , Validation Accuracy: 0.8746 , Test Loss: 3.6230668425559998 , Test Accuracy: 0.8861 , Timing: 7.152557373046875e-07\n",
            "Epoch: 120 , Validation Loss: 1.8439422845840454 , Validation Accuracy: 0.878 , Test Loss: 3.6230668425559998 , Test Accuracy: 0.8861 , Timing: 7.152557373046875e-07\n",
            "Model checkpoint saved at epoch 120\n",
            "Epoch: 130 , Validation Loss: 1.8266797065734863 , Validation Accuracy: 0.8754 , Test Loss: 3.6230668425559998 , Test Accuracy: 0.8861 , Timing: 7.152557373046875e-07\n",
            "Epoch: 140 , Validation Loss: 1.8380715250968933 , Validation Accuracy: 0.8742 , Test Loss: 3.6230668425559998 , Test Accuracy: 0.8861 , Timing: 7.152557373046875e-07\n",
            "Model checkpoint saved at epoch 140\n",
            "Epoch: 150 , Validation Loss: 1.8838618099689484 , Validation Accuracy: 0.875 , Test Loss: 3.6230668425559998 , Test Accuracy: 0.8861 , Timing: 7.152557373046875e-07\n",
            "Epoch: 160 , Validation Loss: 2.3209260404109955 , Validation Accuracy: 0.8632 , Test Loss: 4.588404208421707 , Test Accuracy: 0.8722 , Timing: 22.782174110412598\n",
            "Model checkpoint saved at epoch 160\n",
            "OMP algorithm Subset Selection time is:  46.674458265304565\n",
            "Epoch: 170 , Validation Loss: 1.9791265726089478 , Validation Accuracy: 0.8812 , Test Loss: 4.124958842992783 , Test Accuracy: 0.8807 , Timing: 22.95568609237671\n",
            "Epoch: 180 , Validation Loss: 2.522971034049988 , Validation Accuracy: 0.8552 , Test Loss: 5.126298934221268 , Test Accuracy: 0.861 , Timing: 22.859618186950684\n",
            "Model checkpoint saved at epoch 180\n",
            "OMP algorithm Subset Selection time is:  47.534459590911865\n",
            "Epoch: 190 , Validation Loss: 2.0814186334609985 , Validation Accuracy: 0.874 , Test Loss: 4.605541229248047 , Test Accuracy: 0.8705 , Timing: 22.844320058822632\n",
            "Epoch: 200 , Validation Loss: 2.1594732105731964 , Validation Accuracy: 0.8808 , Test Loss: 4.3836879432201385 , Test Accuracy: 0.8817 , Timing: 22.956652879714966\n",
            "Model checkpoint saved at epoch 200\n",
            "OMP algorithm Subset Selection time is:  47.130266427993774\n",
            "Epoch: 210 , Validation Loss: 2.122783750295639 , Validation Accuracy: 0.8738 , Test Loss: 4.1264908611774445 , Test Accuracy: 0.8804 , Timing: 22.78233313560486\n",
            "Epoch: 220 , Validation Loss: 1.9823066890239716 , Validation Accuracy: 0.8868 , Test Loss: 4.139932572841644 , Test Accuracy: 0.8859 , Timing: 22.85096764564514\n",
            "Model checkpoint saved at epoch 220\n",
            "OMP algorithm Subset Selection time is:  47.33390283584595\n",
            "Epoch: 230 , Validation Loss: 2.1985838413238525 , Validation Accuracy: 0.8732 , Test Loss: 4.486209899187088 , Test Accuracy: 0.8748 , Timing: 22.71862506866455\n",
            "Epoch: 240 , Validation Loss: 2.378332406282425 , Validation Accuracy: 0.868 , Test Loss: 5.0476363599300385 , Test Accuracy: 0.8663 , Timing: 22.737850427627563\n",
            "Model checkpoint saved at epoch 240\n",
            "OMP algorithm Subset Selection time is:  47.113807916641235\n",
            "Epoch: 250 , Validation Loss: 1.973218321800232 , Validation Accuracy: 0.8878 , Test Loss: 4.04690545797348 , Test Accuracy: 0.8898 , Timing: 22.66645336151123\n",
            "Epoch: 260 , Validation Loss: 2.3247853815555573 , Validation Accuracy: 0.8738 , Test Loss: 4.7432761490345 , Test Accuracy: 0.8729 , Timing: 23.12781262397766\n",
            "Model checkpoint saved at epoch 260\n",
            "OMP algorithm Subset Selection time is:  49.002400398254395\n",
            "Epoch: 270 , Validation Loss: 1.81211519241333 , Validation Accuracy: 0.8914 , Test Loss: 3.599454641342163 , Test Accuracy: 0.8936 , Timing: 22.820623874664307\n",
            "Epoch: 280 , Validation Loss: 1.8751616477966309 , Validation Accuracy: 0.8904 , Test Loss: 3.943790912628174 , Test Accuracy: 0.8924 , Timing: 22.845074892044067\n",
            "Model checkpoint saved at epoch 280\n",
            "OMP algorithm Subset Selection time is:  47.530354022979736\n",
            "Epoch: 290 , Validation Loss: 1.7394129037857056 , Validation Accuracy: 0.8972 , Test Loss: 3.744656652212143 , Test Accuracy: 0.8912 , Timing: 22.83491015434265\n",
            "Epoch: 300 , Validation Loss: 1.9205259382724762 , Validation Accuracy: 0.8898 , Test Loss: 3.9094975292682648 , Test Accuracy: 0.8916 , Timing: 22.74273419380188\n",
            "Model checkpoint saved at epoch 300\n",
            "OMP algorithm Subset Selection time is:  46.89271306991577\n",
            "Epoch: 310 , Validation Loss: 1.8472633361816406 , Validation Accuracy: 0.8946 , Test Loss: 3.7977656722068787 , Test Accuracy: 0.8991 , Timing: 22.70000410079956\n",
            "Epoch: 320 , Validation Loss: 1.8411047160625458 , Validation Accuracy: 0.8954 , Test Loss: 4.057078719139099 , Test Accuracy: 0.8969 , Timing: 22.645209312438965\n",
            "Model checkpoint saved at epoch 320\n",
            "OMP algorithm Subset Selection time is:  47.04412126541138\n",
            "Epoch: 330 , Validation Loss: 2.0439464151859283 , Validation Accuracy: 0.887 , Test Loss: 4.239481568336487 , Test Accuracy: 0.8925 , Timing: 22.643850564956665\n",
            "Epoch: 340 , Validation Loss: 2.0367103219032288 , Validation Accuracy: 0.8874 , Test Loss: 4.044583737850189 , Test Accuracy: 0.8974 , Timing: 22.785813808441162\n",
            "Model checkpoint saved at epoch 340\n",
            "OMP algorithm Subset Selection time is:  46.45172739028931\n",
            "Epoch: 350 , Validation Loss: 1.7366831302642822 , Validation Accuracy: 0.9056 , Test Loss: 3.616526484489441 , Test Accuracy: 0.9065 , Timing: 22.6160249710083\n",
            "Epoch: 360 , Validation Loss: 1.8929428160190582 , Validation Accuracy: 0.8996 , Test Loss: 3.858129769563675 , Test Accuracy: 0.9022 , Timing: 22.62573218345642\n",
            "Model checkpoint saved at epoch 360\n",
            "OMP algorithm Subset Selection time is:  46.96968650817871\n",
            "Epoch: 370 , Validation Loss: 1.70907261967659 , Validation Accuracy: 0.9012 , Test Loss: 3.7654621601104736 , Test Accuracy: 0.9061 , Timing: 22.789390325546265\n",
            "Epoch: 380 , Validation Loss: 1.886141836643219 , Validation Accuracy: 0.9048 , Test Loss: 3.6791814863681793 , Test Accuracy: 0.9072 , Timing: 22.73960256576538\n",
            "Model checkpoint saved at epoch 380\n",
            "OMP algorithm Subset Selection time is:  46.72332239151001\n",
            "Epoch: 390 , Validation Loss: 1.6836881637573242 , Validation Accuracy: 0.9068 , Test Loss: 3.3553829193115234 , Test Accuracy: 0.9146 , Timing: 22.746957063674927\n",
            "Epoch: 400 , Validation Loss: 1.7295004427433014 , Validation Accuracy: 0.911 , Test Loss: 3.431404024362564 , Test Accuracy: 0.9138 , Timing: 22.715570211410522\n",
            "Model checkpoint saved at epoch 400\n",
            "OMP algorithm Subset Selection time is:  46.57139730453491\n",
            "Epoch: 410 , Validation Loss: 1.5817509293556213 , Validation Accuracy: 0.917 , Test Loss: 3.2187828719615936 , Test Accuracy: 0.9194 , Timing: 22.531888008117676\n",
            "Epoch: 420 , Validation Loss: 1.676205962896347 , Validation Accuracy: 0.9142 , Test Loss: 3.4251607954502106 , Test Accuracy: 0.9155 , Timing: 22.512428283691406\n",
            "Model checkpoint saved at epoch 420\n",
            "OMP algorithm Subset Selection time is:  47.28223919868469\n",
            "Epoch: 430 , Validation Loss: 1.4745284467935562 , Validation Accuracy: 0.922 , Test Loss: 3.092536509037018 , Test Accuracy: 0.9219 , Timing: 23.136446952819824\n",
            "Epoch: 440 , Validation Loss: 1.3497163206338882 , Validation Accuracy: 0.933 , Test Loss: 3.0479976534843445 , Test Accuracy: 0.9265 , Timing: 23.327177047729492\n",
            "Model checkpoint saved at epoch 440\n",
            "OMP algorithm Subset Selection time is:  48.175512075424194\n",
            "Epoch: 450 , Validation Loss: 1.3378641158342361 , Validation Accuracy: 0.9304 , Test Loss: 2.936958074569702 , Test Accuracy: 0.927 , Timing: 23.610146045684814\n",
            "Epoch: 460 , Validation Loss: 1.32388836145401 , Validation Accuracy: 0.9354 , Test Loss: 2.739045113325119 , Test Accuracy: 0.9338 , Timing: 23.51994776725769\n",
            "Model checkpoint saved at epoch 460\n",
            "OMP algorithm Subset Selection time is:  47.062816858291626\n",
            "Epoch: 470 , Validation Loss: 1.3230435252189636 , Validation Accuracy: 0.935 , Test Loss: 2.715464264154434 , Test Accuracy: 0.932 , Timing: 23.484280824661255\n",
            "Epoch: 480 , Validation Loss: 1.177571713924408 , Validation Accuracy: 0.9406 , Test Loss: 2.48518930375576 , Test Accuracy: 0.9374 , Timing: 23.53296709060669\n",
            "Model checkpoint saved at epoch 480\n",
            "OMP algorithm Subset Selection time is:  47.130982875823975\n",
            "Epoch: 490 , Validation Loss: 1.275215059518814 , Validation Accuracy: 0.936 , Test Loss: 2.538935348391533 , Test Accuracy: 0.9387 , Timing: 23.545934438705444\n",
            "Epoch: 500 , Validation Loss: 1.1700296252965927 , Validation Accuracy: 0.9426 , Test Loss: 2.4505608677864075 , Test Accuracy: 0.9431 , Timing: 23.54096007347107\n",
            "Model checkpoint saved at epoch 500\n",
            "OMP algorithm Subset Selection time is:  48.00762748718262\n",
            "Epoch: 510 , Validation Loss: 1.2238174676895142 , Validation Accuracy: 0.9382 , Test Loss: 2.36824993789196 , Test Accuracy: 0.9397 , Timing: 23.65177822113037\n",
            "Epoch: 520 , Validation Loss: 1.1107096523046494 , Validation Accuracy: 0.9428 , Test Loss: 2.2989549934864044 , Test Accuracy: 0.9445 , Timing: 23.471436262130737\n",
            "Model checkpoint saved at epoch 520\n",
            "OMP algorithm Subset Selection time is:  47.13709831237793\n",
            "Epoch: 530 , Validation Loss: 1.2121445536613464 , Validation Accuracy: 0.942 , Test Loss: 2.3728232979774475 , Test Accuracy: 0.9429 , Timing: 23.326297283172607\n",
            "Epoch: 540 , Validation Loss: 1.1337722092866898 , Validation Accuracy: 0.945 , Test Loss: 2.3477138727903366 , Test Accuracy: 0.943 , Timing: 23.411752939224243\n",
            "Model checkpoint saved at epoch 540\n",
            "OMP algorithm Subset Selection time is:  46.70048666000366\n",
            "Epoch: 550 , Validation Loss: 1.199003130197525 , Validation Accuracy: 0.9428 , Test Loss: 2.3336877673864365 , Test Accuracy: 0.9444 , Timing: 23.161293983459473\n",
            "Epoch: 560 , Validation Loss: 1.1790490597486496 , Validation Accuracy: 0.9444 , Test Loss: 2.2968317568302155 , Test Accuracy: 0.9441 , Timing: 23.250627517700195\n",
            "Model checkpoint saved at epoch 560\n",
            "OMP algorithm Subset Selection time is:  46.37859487533569\n",
            "Epoch: 570 , Validation Loss: 1.1267403960227966 , Validation Accuracy: 0.9458 , Test Loss: 2.2704545706510544 , Test Accuracy: 0.9439 , Timing: 23.316606760025024\n",
            "Epoch: 580 , Validation Loss: 1.1334453374147415 , Validation Accuracy: 0.9428 , Test Loss: 2.256215587258339 , Test Accuracy: 0.9443 , Timing: 23.433277368545532\n",
            "Model checkpoint saved at epoch 580\n",
            "OMP algorithm Subset Selection time is:  46.210654973983765\n",
            "Epoch: 590 , Validation Loss: 1.0997802317142487 , Validation Accuracy: 0.947 , Test Loss: 2.2847036719322205 , Test Accuracy: 0.9448 , Timing: 23.32814908027649\n",
            "Epoch: 600 , Validation Loss: 1.088540956377983 , Validation Accuracy: 0.945 , Test Loss: 2.284161478281021 , Test Accuracy: 0.9443 , Timing: 23.294610738754272\n",
            "Model checkpoint saved at epoch 600\n",
            "GradMatchPB-Warm Selection Run---------------------------------\n",
            "Final SubsetTrn: 1.8778570458525792\n",
            "Validation Loss and Accuracy:  1.088540956377983 0.947\n",
            "Test Data Loss and Accuracy:  2.284161478281021 0.949\n",
            "-----------------------------------\n",
            "Total time taken by GradMatchPB-Warm = 4.106812496185302\n"
          ],
          "name": "stdout"
        }
      ]
    },
    {
      "cell_type": "markdown",
      "metadata": {
        "id": "sU6KFh7fo42R"
      },
      "source": [
        "#GradMatch-Warm Training"
      ]
    },
    {
      "cell_type": "code",
      "metadata": {
        "id": "jak4UuRQo9aj"
      },
      "source": [
        "gradmatch_warm_config_file = \"/content/cords/configs/SL/config_gradmatch-warm_cifar10.py\"\n",
        "cfg = load_config_data(gradmatch_warm_config_file)\n",
        "gradmatch_warm_trn = TrainClassifier(cfg)"
      ],
      "execution_count": null,
      "outputs": []
    },
    {
      "cell_type": "code",
      "metadata": {
        "id": "rig-zNdlwGKX"
      },
      "source": [
        "gradmatch_warm_trn.cfg.train_args.num_epochs = 300\n",
        "gradmatch_warm_trn.cfg.train_args.print_every = 10\n",
        "gradmatch_warm_trn.cfg.train_args.results_dir = \"/content/drive/MyDrive/results/\"\n",
        "gradmatch_warm_trn.cfg.dss_strategy.select_every = 10\n",
        "gradmatch_warm_trn.cfg.dss_strategy.fraction = fraction\n",
        "gradmatch_warm_trn.cfg.model.numclasses = numclasses\n",
        "gradmatch_warm_trn.cfg.dataset.name = dataset_name"
      ],
      "execution_count": null,
      "outputs": []
    },
    {
      "cell_type": "code",
      "metadata": {
        "colab": {
          "base_uri": "https://localhost:8080/"
        },
        "id": "yJAFoVAPo8_u",
        "outputId": "b87940e8-6757-4994-d2af-6ee218729679"
      },
      "source": [
        "gradmatch_warm_trn.train()"
      ],
      "execution_count": null,
      "outputs": [
        {
          "output_type": "stream",
          "text": [
            "Files already downloaded and verified\n",
            "Files already downloaded and verified\n",
            "Budget, fraction and N: 2250 0.05 45000\n",
            "Epoch: 10 , Validation Loss: 2.6515357196331024 , Validation Accuracy: 0.8256 , Test Loss: 5.325526773929596 , Test Accuracy: 0.8255 , Timing: 1.6689300537109375e-06\n",
            "Epoch: 20 , Validation Loss: 2.714273899793625 , Validation Accuracy: 0.8148 , Test Loss: 5.325526773929596 , Test Accuracy: 0.8255 , Timing: 1.1920928955078125e-06\n",
            "Epoch: 30 , Validation Loss: 2.6775156557559967 , Validation Accuracy: 0.819 , Test Loss: 5.325526773929596 , Test Accuracy: 0.8255 , Timing: 7.152557373046875e-07\n",
            "Epoch: 40 , Validation Loss: 2.6860395073890686 , Validation Accuracy: 0.8236 , Test Loss: 5.325526773929596 , Test Accuracy: 0.8255 , Timing: 7.152557373046875e-07\n",
            "Epoch: 50 , Validation Loss: 2.668013334274292 , Validation Accuracy: 0.8184 , Test Loss: 5.325526773929596 , Test Accuracy: 0.8255 , Timing: 1.1920928955078125e-06\n",
            "Epoch: 60 , Validation Loss: 2.6771969497203827 , Validation Accuracy: 0.8224 , Test Loss: 5.325526773929596 , Test Accuracy: 0.8255 , Timing: 1.1920928955078125e-06\n",
            "Epoch: 70 , Validation Loss: 2.729343146085739 , Validation Accuracy: 0.8134 , Test Loss: 5.325526773929596 , Test Accuracy: 0.8255 , Timing: 7.152557373046875e-07\n",
            "Epoch: 80 , Validation Loss: 2.653514862060547 , Validation Accuracy: 0.8212 , Test Loss: 5.325526773929596 , Test Accuracy: 0.8255 , Timing: 1.1920928955078125e-06\n",
            "Epoch: 90 , Validation Loss: 2.6646511554718018 , Validation Accuracy: 0.8184 , Test Loss: 5.325526773929596 , Test Accuracy: 0.8255 , Timing: 4.76837158203125e-07\n",
            "Epoch: 100 , Validation Loss: 2.6513586938381195 , Validation Accuracy: 0.8244 , Test Loss: 5.325526773929596 , Test Accuracy: 0.8255 , Timing: 9.5367431640625e-07\n",
            "Epoch: 110 , Validation Loss: 2.658201366662979 , Validation Accuracy: 0.8214 , Test Loss: 5.325526773929596 , Test Accuracy: 0.8255 , Timing: 7.152557373046875e-07\n",
            "Epoch: 120 , Validation Loss: 2.623764008283615 , Validation Accuracy: 0.8216 , Test Loss: 5.325526773929596 , Test Accuracy: 0.8255 , Timing: 9.5367431640625e-07\n",
            "Epoch: 130 , Validation Loss: 2.6242696940898895 , Validation Accuracy: 0.8226 , Test Loss: 5.325526773929596 , Test Accuracy: 0.8255 , Timing: 7.152557373046875e-07\n",
            "Epoch: 140 , Validation Loss: 2.6693914234638214 , Validation Accuracy: 0.8236 , Test Loss: 5.325526773929596 , Test Accuracy: 0.8255 , Timing: 7.152557373046875e-07\n",
            "Epoch: 150 , Validation Loss: 2.682931274175644 , Validation Accuracy: 0.8204 , Test Loss: 5.325526773929596 , Test Accuracy: 0.8255 , Timing: 1.1920928955078125e-06\n",
            "Epoch: 160 , Validation Loss: 2.6386576294898987 , Validation Accuracy: 0.8208 , Test Loss: 5.325526773929596 , Test Accuracy: 0.8255 , Timing: 7.152557373046875e-07\n",
            "Epoch: 170 , Validation Loss: 2.6559391021728516 , Validation Accuracy: 0.8198 , Test Loss: 5.325526773929596 , Test Accuracy: 0.8255 , Timing: 9.5367431640625e-07\n",
            "Epoch: 180 , Validation Loss: 2.658332109451294 , Validation Accuracy: 0.8218 , Test Loss: 5.325526773929596 , Test Accuracy: 0.8255 , Timing: 4.76837158203125e-07\n",
            "OMP algorithm Subset Selection time is:  73.10167002677917\n",
            "Epoch: 190 , Validation Loss: 2.1172761023044586 , Validation Accuracy: 0.868 , Test Loss: 4.394198387861252 , Test Accuracy: 0.8725 , Timing: 3.9208078384399414\n",
            "OMP algorithm Subset Selection time is:  73.99319648742676\n",
            "Epoch: 200 , Validation Loss: 2.206208050251007 , Validation Accuracy: 0.8694 , Test Loss: 4.771997451782227 , Test Accuracy: 0.8658 , Timing: 3.909062623977661\n",
            "OMP algorithm Subset Selection time is:  73.74927520751953\n",
            "Epoch: 210 , Validation Loss: 2.117967516183853 , Validation Accuracy: 0.8766 , Test Loss: 4.488758206367493 , Test Accuracy: 0.8769 , Timing: 3.891814947128296\n",
            "OMP algorithm Subset Selection time is:  73.69780564308167\n",
            "Epoch: 220 , Validation Loss: 2.081325262784958 , Validation Accuracy: 0.88 , Test Loss: 4.2675701677799225 , Test Accuracy: 0.8822 , Timing: 3.939026117324829\n",
            "OMP algorithm Subset Selection time is:  73.66004180908203\n",
            "Epoch: 230 , Validation Loss: 2.063292920589447 , Validation Accuracy: 0.881 , Test Loss: 4.202281445264816 , Test Accuracy: 0.8812 , Timing: 3.939662218093872\n",
            "OMP algorithm Subset Selection time is:  73.55374813079834\n",
            "Epoch: 240 , Validation Loss: 1.9368565380573273 , Validation Accuracy: 0.8876 , Test Loss: 4.160048991441727 , Test Accuracy: 0.8838 , Timing: 3.9824154376983643\n",
            "OMP algorithm Subset Selection time is:  73.5658667087555\n",
            "Epoch: 250 , Validation Loss: 1.9405521750450134 , Validation Accuracy: 0.8788 , Test Loss: 4.06204691529274 , Test Accuracy: 0.8842 , Timing: 3.9466211795806885\n",
            "OMP algorithm Subset Selection time is:  73.42981028556824\n",
            "Epoch: 260 , Validation Loss: 1.8537320792675018 , Validation Accuracy: 0.8872 , Test Loss: 3.8807588815689087 , Test Accuracy: 0.8855 , Timing: 3.9429142475128174\n",
            "OMP algorithm Subset Selection time is:  73.41198420524597\n",
            "Epoch: 270 , Validation Loss: 1.835384875535965 , Validation Accuracy: 0.887 , Test Loss: 3.639483332633972 , Test Accuracy: 0.8926 , Timing: 3.9634335041046143\n",
            "OMP algorithm Subset Selection time is:  73.24397349357605\n",
            "Epoch: 280 , Validation Loss: 1.7712591290473938 , Validation Accuracy: 0.8924 , Test Loss: 3.5804433822631836 , Test Accuracy: 0.8973 , Timing: 3.929931402206421\n",
            "OMP algorithm Subset Selection time is:  72.91083788871765\n",
            "Epoch: 290 , Validation Loss: 1.6887988448143005 , Validation Accuracy: 0.894 , Test Loss: 3.468751609325409 , Test Accuracy: 0.8976 , Timing: 3.916745901107788\n",
            "OMP algorithm Subset Selection time is:  73.40356731414795\n",
            "Epoch: 300 , Validation Loss: 1.6625369787216187 , Validation Accuracy: 0.8978 , Test Loss: 3.4386194944381714 , Test Accuracy: 0.9001 , Timing: 3.9267232418060303\n",
            "GradMatch-Warm Selection Run---------------------------------\n",
            "Final SubsetTrn: 27.991803052835166\n",
            "Validation Loss and Accuracy:  1.6625369787216187 0.8993333333333333\n",
            "Test Data Loss and Accuracy:  3.4386194944381714 0.905\n",
            "-----------------------------------\n",
            "Total time taken by GradMatch-Warm = 0.56823716448413\n"
          ],
          "name": "stdout"
        }
      ]
    },
    {
      "cell_type": "markdown",
      "metadata": {
        "id": "9magCyPepJ4W"
      },
      "source": [
        "#GLISTER Training"
      ]
    },
    {
      "cell_type": "code",
      "metadata": {
        "id": "35Q5vfNfpMO2"
      },
      "source": [
        "glister_config_file = \"/content/cords/configs/SL/config_glister_cifar10.py\"\n",
        "cfg = load_config_data(glister_config_file)\n",
        "glister_trn = TrainClassifier(cfg)"
      ],
      "execution_count": null,
      "outputs": []
    },
    {
      "cell_type": "code",
      "metadata": {
        "id": "uxwMgz70wHrs"
      },
      "source": [
        "glister_trn.cfg.train_args.num_epochs = 300\n",
        "glister_trn.cfg.train_args.print_every = 10\n",
        "glister_trn.cfg.train_args.results_dir = \"/content/drive/MyDrive/results/\"\n",
        "glister_trn.cfg.dss_strategy.select_every = 10\n",
        "glister_trn.cfg.dss_strategy.fraction = fraction\n",
        "glister_trn.cfg.model.numclasses = numclasses\n",
        "glister_trn.cfg.dataset.name = dataset_name"
      ],
      "execution_count": null,
      "outputs": []
    },
    {
      "cell_type": "code",
      "metadata": {
        "colab": {
          "base_uri": "https://localhost:8080/"
        },
        "id": "9WdK-4lzplZh",
        "outputId": "65559a4d-162e-45e3-aae5-42364e410978"
      },
      "source": [
        "glister_trn.train()"
      ],
      "execution_count": null,
      "outputs": [
        {
          "output_type": "stream",
          "text": [
            "Files already downloaded and verified\n",
            "Files already downloaded and verified\n",
            "Budget, fraction and N: 2250 0.05 45000\n",
            "Stochastic Greedy GLISTER total time: 5.907782316207886\n",
            "Epoch: 10 , Validation Loss: 8.486977219581604 , Validation Accuracy: 0.337 , Test Loss: 16.18705689907074 , Test Accuracy: 0.3775 , Timing: 39.94571137428284\n",
            "Stochastic Greedy GLISTER total time: 5.929746150970459\n",
            "Epoch: 20 , Validation Loss: 7.516466736793518 , Validation Accuracy: 0.432 , Test Loss: 15.095234274864197 , Test Accuracy: 0.438 , Timing: 39.866435050964355\n",
            "Stochastic Greedy GLISTER total time: 5.827486991882324\n",
            "Epoch: 30 , Validation Loss: 8.092655301094055 , Validation Accuracy: 0.3896 , Test Loss: 15.439567923545837 , Test Accuracy: 0.4138 , Timing: 39.78351378440857\n",
            "Stochastic Greedy GLISTER total time: 5.944715261459351\n",
            "Epoch: 40 , Validation Loss: 7.096652269363403 , Validation Accuracy: 0.488 , Test Loss: 13.933578491210938 , Test Accuracy: 0.4875 , Timing: 40.85072350502014\n",
            "Stochastic Greedy GLISTER total time: 5.953457832336426\n",
            "Epoch: 50 , Validation Loss: 7.611497521400452 , Validation Accuracy: 0.4478 , Test Loss: 14.620029091835022 , Test Accuracy: 0.4686 , Timing: 40.39922761917114\n",
            "Stochastic Greedy GLISTER total time: 5.9702699184417725\n",
            "Epoch: 60 , Validation Loss: 7.07433009147644 , Validation Accuracy: 0.4874 , Test Loss: 13.181248903274536 , Test Accuracy: 0.5252 , Timing: 41.31267857551575\n",
            "Stochastic Greedy GLISTER total time: 6.017207860946655\n",
            "Epoch: 70 , Validation Loss: 6.534768342971802 , Validation Accuracy: 0.533 , Test Loss: 13.174665331840515 , Test Accuracy: 0.5294 , Timing: 40.65524411201477\n",
            "Stochastic Greedy GLISTER total time: 6.044907808303833\n",
            "Epoch: 80 , Validation Loss: 6.476887941360474 , Validation Accuracy: 0.5186 , Test Loss: 12.374998807907104 , Test Accuracy: 0.5515 , Timing: 40.66970491409302\n",
            "Stochastic Greedy GLISTER total time: 6.027592182159424\n",
            "Epoch: 90 , Validation Loss: 6.4669917821884155 , Validation Accuracy: 0.52 , Test Loss: 12.4283766746521 , Test Accuracy: 0.5512 , Timing: 40.89316511154175\n",
            "Stochastic Greedy GLISTER total time: 5.9555583000183105\n",
            "Epoch: 100 , Validation Loss: 6.443507671356201 , Validation Accuracy: 0.5134 , Test Loss: 12.409505367279053 , Test Accuracy: 0.5396 , Timing: 40.60350155830383\n",
            "Stochastic Greedy GLISTER total time: 5.9735143184661865\n",
            "Epoch: 110 , Validation Loss: 6.617721199989319 , Validation Accuracy: 0.506 , Test Loss: 12.723048686981201 , Test Accuracy: 0.5225 , Timing: 40.717469215393066\n",
            "Stochastic Greedy GLISTER total time: 6.038869380950928\n",
            "Epoch: 120 , Validation Loss: 6.478341579437256 , Validation Accuracy: 0.5304 , Test Loss: 12.839786648750305 , Test Accuracy: 0.5501 , Timing: 41.050710678100586\n",
            "Stochastic Greedy GLISTER total time: 6.110969305038452\n",
            "Epoch: 130 , Validation Loss: 6.288836121559143 , Validation Accuracy: 0.5456 , Test Loss: 12.685532450675964 , Test Accuracy: 0.5392 , Timing: 41.36869812011719\n",
            "Stochastic Greedy GLISTER total time: 6.0891664028167725\n",
            "Epoch: 140 , Validation Loss: 7.178420543670654 , Validation Accuracy: 0.511 , Test Loss: 14.031133770942688 , Test Accuracy: 0.5352 , Timing: 41.17349720001221\n",
            "Stochastic Greedy GLISTER total time: 6.078150749206543\n",
            "Epoch: 150 , Validation Loss: 6.875954270362854 , Validation Accuracy: 0.5746 , Test Loss: 14.465534567832947 , Test Accuracy: 0.5656 , Timing: 41.04465460777283\n",
            "Stochastic Greedy GLISTER total time: 6.074952125549316\n",
            "Epoch: 160 , Validation Loss: 7.108255743980408 , Validation Accuracy: 0.5334 , Test Loss: 14.252362608909607 , Test Accuracy: 0.5555 , Timing: 41.03925538063049\n",
            "Stochastic Greedy GLISTER total time: 6.066696405410767\n",
            "Epoch: 170 , Validation Loss: 7.2916165590286255 , Validation Accuracy: 0.5414 , Test Loss: 14.900740265846252 , Test Accuracy: 0.5371 , Timing: 41.417805194854736\n",
            "Stochastic Greedy GLISTER total time: 5.998781681060791\n",
            "Epoch: 180 , Validation Loss: 5.980191230773926 , Validation Accuracy: 0.6094 , Test Loss: 12.740384578704834 , Test Accuracy: 0.6166 , Timing: 40.93953347206116\n",
            "Stochastic Greedy GLISTER total time: 6.04145359992981\n",
            "Epoch: 190 , Validation Loss: 4.928299725055695 , Validation Accuracy: 0.6558 , Test Loss: 10.111332774162292 , Test Accuracy: 0.6549 , Timing: 41.05125403404236\n",
            "Stochastic Greedy GLISTER total time: 5.999459743499756\n",
            "Epoch: 200 , Validation Loss: 5.147852957248688 , Validation Accuracy: 0.644 , Test Loss: 10.017968475818634 , Test Accuracy: 0.6589 , Timing: 40.76623320579529\n",
            "Stochastic Greedy GLISTER total time: 6.045054912567139\n",
            "Epoch: 210 , Validation Loss: 4.660661041736603 , Validation Accuracy: 0.672 , Test Loss: 9.759280443191528 , Test Accuracy: 0.6725 , Timing: 40.849722385406494\n",
            "Stochastic Greedy GLISTER total time: 6.057763576507568\n",
            "Epoch: 220 , Validation Loss: 3.9484193921089172 , Validation Accuracy: 0.7254 , Test Loss: 7.990173161029816 , Test Accuracy: 0.7316 , Timing: 40.97408580780029\n",
            "Stochastic Greedy GLISTER total time: 5.976789474487305\n",
            "Epoch: 230 , Validation Loss: 3.5058732628822327 , Validation Accuracy: 0.7532 , Test Loss: 7.2881463170051575 , Test Accuracy: 0.7521 , Timing: 40.802836656570435\n",
            "Stochastic Greedy GLISTER total time: 6.13783860206604\n",
            "Epoch: 240 , Validation Loss: 3.3261526226997375 , Validation Accuracy: 0.773 , Test Loss: 6.5927242040634155 , Test Accuracy: 0.7804 , Timing: 41.36718702316284\n",
            "Stochastic Greedy GLISTER total time: 5.973834753036499\n",
            "Epoch: 250 , Validation Loss: 3.344315230846405 , Validation Accuracy: 0.774 , Test Loss: 6.941489338874817 , Test Accuracy: 0.7684 , Timing: 40.45236659049988\n",
            "Stochastic Greedy GLISTER total time: 5.976359128952026\n",
            "Epoch: 260 , Validation Loss: 2.9984326362609863 , Validation Accuracy: 0.8034 , Test Loss: 5.767695367336273 , Test Accuracy: 0.8094 , Timing: 40.57905912399292\n",
            "Stochastic Greedy GLISTER total time: 5.930992126464844\n",
            "Epoch: 270 , Validation Loss: 2.6168884932994843 , Validation Accuracy: 0.8218 , Test Loss: 5.3768004179000854 , Test Accuracy: 0.8257 , Timing: 40.36140775680542\n",
            "Stochastic Greedy GLISTER total time: 5.957313299179077\n",
            "Epoch: 280 , Validation Loss: 2.4014911353588104 , Validation Accuracy: 0.8382 , Test Loss: 4.875393748283386 , Test Accuracy: 0.8448 , Timing: 40.19203495979309\n",
            "Stochastic Greedy GLISTER total time: 5.95817232131958\n",
            "Epoch: 290 , Validation Loss: 2.335753381252289 , Validation Accuracy: 0.839 , Test Loss: 4.752666383981705 , Test Accuracy: 0.8439 , Timing: 39.95474624633789\n",
            "Stochastic Greedy GLISTER total time: 5.873464584350586\n",
            "Epoch: 300 , Validation Loss: 2.248130679130554 , Validation Accuracy: 0.8486 , Test Loss: 4.530337542295456 , Test Accuracy: 0.8506 , Timing: 39.91649580001831\n",
            "GLISTER Selection Run---------------------------------\n",
            "Final SubsetTrn: 113.79644057154655\n",
            "Validation Loss and Accuracy:  2.248130679130554 0.851\n",
            "Test Data Loss and Accuracy:  4.530337542295456 0.856\n",
            "-----------------------------------\n",
            "Total time taken by GLISTER = 0.6308154211441676\n"
          ],
          "name": "stdout"
        }
      ]
    },
    {
      "cell_type": "markdown",
      "metadata": {
        "id": "6-iSgiuhpgNX"
      },
      "source": [
        "#GLISTER-Warm Training"
      ]
    },
    {
      "cell_type": "code",
      "metadata": {
        "id": "mN8At0ojpk02"
      },
      "source": [
        "glister_warm_config_file = \"configs/config_full_cifar10.py\"\n",
        "cfg = load_config_data(glister_warm_config_file)\n",
        "glister_warm_trn = TrainClassifier(cfg)"
      ],
      "execution_count": null,
      "outputs": []
    },
    {
      "cell_type": "code",
      "metadata": {
        "id": "5lJMI9Y3wK8Y"
      },
      "source": [
        "glister_warm_trn.cfg.train_args.num_epochs = 300\n",
        "glister_warm_trn.cfg.train_args.print_every = 1\n",
        "glister_warm_trn.cfg.train_args.results_dir = \"/content/drive/MyDrive/results/\"\n",
        "glister_warm_trn.cfg.dss_strategy.select_every = 10\n",
        "glister_warm_trn.cfg.dss_strategy.fraction = fraction\n",
        "glister_warm_trn.cfg.model.numclasses = numclasses\n",
        "glister_warm_trn.cfg.dataset.name = dataset_name"
      ],
      "execution_count": null,
      "outputs": []
    },
    {
      "cell_type": "code",
      "metadata": {
        "colab": {
          "base_uri": "https://localhost:8080/",
          "height": 185,
          "referenced_widgets": [
            "022bb04d82de451aaa5cc23fedddcabc",
            "0dd8a1fbcf1848e4b4512b80d8a126e2",
            "8389b24801fa4f77966458251f40af6b",
            "03fc97942df8495bb73be18e241029e2",
            "a5099e223d0c4b35b8ad792ace6c809c",
            "8c52a8b2e1fe47ce9b5731bf465ef4cc",
            "ec4c75c472a642a88667f48af05b55a9",
            "43df4ce1325341f4b488047a4d12747a",
            "0bcaa11c93094c6c8b4575e85754475b",
            "f509d08e304f47d097277ef27f640d18",
            "8c0d5c11dd4648118116fa94564c5293"
          ]
        },
        "id": "KIF5WRbFpkz5",
        "outputId": "721e370a-6720-4fe2-a5c6-7462e4868cf1"
      },
      "source": [
        "glister_warm_trn.train()"
      ],
      "execution_count": null,
      "outputs": [
        {
          "output_type": "stream",
          "name": "stdout",
          "text": [
            "Downloading https://www.cs.toronto.edu/~kriz/cifar-10-python.tar.gz to ../data/cifar-10-python.tar.gz\n"
          ]
        },
        {
          "output_type": "display_data",
          "data": {
            "application/vnd.jupyter.widget-view+json": {
              "model_id": "022bb04d82de451aaa5cc23fedddcabc",
              "version_minor": 0,
              "version_major": 2
            },
            "text/plain": [
              "  0%|          | 0/170498071 [00:00<?, ?it/s]"
            ]
          },
          "metadata": {}
        },
        {
          "output_type": "stream",
          "name": "stdout",
          "text": [
            "Extracting ../data/cifar-10-python.tar.gz to ../data\n",
            "Files already downloaded and verified\n",
            "Budget, fraction and N: 4500 0.1 45000\n",
            "Epoch: 1 , Validation Loss: 6.656259894371033 , Validation Accuracy: 0.5212 , Test Loss: 12.295382976531982 , Test Accuracy: 0.5475 , Timing: 75.06995582580566\n",
            "Epoch: 2 , Validation Loss: 4.796936631202698 , Validation Accuracy: 0.6616 , Test Loss: 9.909267842769623 , Test Accuracy: 0.6594 , Timing: 75.2524311542511\n",
            "Epoch: 3 , Validation Loss: 3.793327033519745 , Validation Accuracy: 0.731 , Test Loss: 7.765187680721283 , Test Accuracy: 0.7285 , Timing: 75.17186737060547\n",
            "Epoch: 4 , Validation Loss: 3.2405200004577637 , Validation Accuracy: 0.7722 , Test Loss: 6.512700855731964 , Test Accuracy: 0.776 , Timing: 75.2476634979248\n"
          ]
        }
      ]
    },
    {
      "cell_type": "markdown",
      "metadata": {
        "id": "BHfrtnPCrviB"
      },
      "source": [
        "#Random Training"
      ]
    },
    {
      "cell_type": "code",
      "metadata": {
        "id": "41RnNemOrvT3"
      },
      "source": [
        "random_config_file = \"/content/cords/configs/SL/config_random_cifar10.py\"\n",
        "cfg = load_config_data(random_config_file)\n",
        "random_trn = TrainClassifier(cfg)"
      ],
      "execution_count": null,
      "outputs": []
    },
    {
      "cell_type": "code",
      "metadata": {
        "id": "233XKN9twXK4"
      },
      "source": [
        "random_trn.cfg.train_args.num_epochs = 300\n",
        "random_trn.cfg.train_args.print_every = 10\n",
        "random_trn.cfg.train_args.results_dir = \"/content/drive/MyDrive/results/\"\n",
        "random_trn.cfg.dss_strategy.fraction = 0.2\n",
        "random_trn.cfg.model.numclasses = numclasses\n",
        "random_trn.cfg.dataset.name = dataset_name"
      ],
      "execution_count": null,
      "outputs": []
    },
    {
      "cell_type": "code",
      "metadata": {
        "colab": {
          "base_uri": "https://localhost:8080/"
        },
        "id": "bq4fzgzArwJI",
        "outputId": "6be2039d-6d29-4429-bf27-25b2d47cde36"
      },
      "source": [
        "random_trn.train()"
      ],
      "execution_count": null,
      "outputs": [
        {
          "output_type": "stream",
          "text": [
            "Files already downloaded and verified\n",
            "Files already downloaded and verified\n",
            "Budget, fraction and N: 9000 0.2 45000\n",
            "Epoch: 10 , Validation Loss: 4.903356492519379 , Validation Accuracy: 0.6566 , Test Loss: 9.899521946907043 , Test Accuracy: 0.649 , Timing: 15.344720840454102\n",
            "Epoch: 20 , Validation Loss: 3.7004682421684265 , Validation Accuracy: 0.7558 , Test Loss: 7.730573415756226 , Test Accuracy: 0.7577 , Timing: 15.38865876197815\n",
            "Epoch: 30 , Validation Loss: 4.068098247051239 , Validation Accuracy: 0.7576 , Test Loss: 8.657413005828857 , Test Accuracy: 0.7662 , Timing: 15.322469472885132\n",
            "Epoch: 40 , Validation Loss: 3.772157311439514 , Validation Accuracy: 0.7794 , Test Loss: 8.307734429836273 , Test Accuracy: 0.7875 , Timing: 15.291409254074097\n",
            "Epoch: 50 , Validation Loss: 4.27321583032608 , Validation Accuracy: 0.7688 , Test Loss: 9.436511278152466 , Test Accuracy: 0.7689 , Timing: 15.291920900344849\n",
            "Epoch: 60 , Validation Loss: 3.8662250638008118 , Validation Accuracy: 0.8002 , Test Loss: 8.3201504945755 , Test Accuracy: 0.8037 , Timing: 15.255179166793823\n",
            "Epoch: 70 , Validation Loss: 4.096303761005402 , Validation Accuracy: 0.7812 , Test Loss: 8.509043335914612 , Test Accuracy: 0.7972 , Timing: 15.244692087173462\n",
            "Epoch: 80 , Validation Loss: 3.8900299072265625 , Validation Accuracy: 0.8008 , Test Loss: 8.678764939308167 , Test Accuracy: 0.8018 , Timing: 15.26684045791626\n",
            "Epoch: 90 , Validation Loss: 3.9718067049980164 , Validation Accuracy: 0.8016 , Test Loss: 8.93138313293457 , Test Accuracy: 0.8078 , Timing: 15.266136169433594\n",
            "Epoch: 100 , Validation Loss: 4.0711604952812195 , Validation Accuracy: 0.8024 , Test Loss: 8.581990778446198 , Test Accuracy: 0.8039 , Timing: 15.381741285324097\n",
            "Epoch: 110 , Validation Loss: 3.8250837922096252 , Validation Accuracy: 0.8086 , Test Loss: 7.723023891448975 , Test Accuracy: 0.8138 , Timing: 15.215891122817993\n",
            "Epoch: 120 , Validation Loss: 3.9042938351631165 , Validation Accuracy: 0.8118 , Test Loss: 8.433595716953278 , Test Accuracy: 0.8061 , Timing: 15.31599760055542\n",
            "Epoch: 130 , Validation Loss: 4.125229060649872 , Validation Accuracy: 0.8132 , Test Loss: 8.833508670330048 , Test Accuracy: 0.8113 , Timing: 15.298103094100952\n",
            "Epoch: 140 , Validation Loss: 4.011764764785767 , Validation Accuracy: 0.8138 , Test Loss: 7.889060974121094 , Test Accuracy: 0.8168 , Timing: 15.297929525375366\n",
            "Epoch: 150 , Validation Loss: 3.681605339050293 , Validation Accuracy: 0.8186 , Test Loss: 7.6791340708732605 , Test Accuracy: 0.8202 , Timing: 15.336373329162598\n",
            "Epoch: 160 , Validation Loss: 3.347581923007965 , Validation Accuracy: 0.8382 , Test Loss: 6.770426094532013 , Test Accuracy: 0.845 , Timing: 15.252731323242188\n",
            "Epoch: 170 , Validation Loss: 3.2762625217437744 , Validation Accuracy: 0.8436 , Test Loss: 6.440070331096649 , Test Accuracy: 0.853 , Timing: 15.285518407821655\n",
            "Epoch: 180 , Validation Loss: 3.1314823627471924 , Validation Accuracy: 0.8446 , Test Loss: 6.3441160917282104 , Test Accuracy: 0.8473 , Timing: 15.322673797607422\n",
            "Epoch: 190 , Validation Loss: 2.754653573036194 , Validation Accuracy: 0.8586 , Test Loss: 5.438358128070831 , Test Accuracy: 0.8652 , Timing: 15.263790607452393\n",
            "Epoch: 200 , Validation Loss: 2.6630418598651886 , Validation Accuracy: 0.8638 , Test Loss: 5.258035212755203 , Test Accuracy: 0.8654 , Timing: 15.197021007537842\n",
            "Epoch: 210 , Validation Loss: 2.6223022043704987 , Validation Accuracy: 0.863 , Test Loss: 5.109956294298172 , Test Accuracy: 0.8658 , Timing: 15.230461835861206\n",
            "Epoch: 220 , Validation Loss: 2.632882684469223 , Validation Accuracy: 0.8638 , Test Loss: 5.071552217006683 , Test Accuracy: 0.8654 , Timing: 15.344744443893433\n",
            "Epoch: 230 , Validation Loss: 2.5671994984149933 , Validation Accuracy: 0.8646 , Test Loss: 5.049065858125687 , Test Accuracy: 0.8658 , Timing: 15.319248914718628\n",
            "Epoch: 240 , Validation Loss: 2.6022382378578186 , Validation Accuracy: 0.8652 , Test Loss: 5.031916975975037 , Test Accuracy: 0.865 , Timing: 15.278197526931763\n",
            "Epoch: 250 , Validation Loss: 2.6231110394001007 , Validation Accuracy: 0.864 , Test Loss: 5.073750436306 , Test Accuracy: 0.867 , Timing: 15.214686632156372\n",
            "Epoch: 260 , Validation Loss: 2.582562565803528 , Validation Accuracy: 0.8646 , Test Loss: 5.048937767744064 , Test Accuracy: 0.8666 , Timing: 15.23008394241333\n",
            "Epoch: 270 , Validation Loss: 2.5417524576187134 , Validation Accuracy: 0.8648 , Test Loss: 5.0689800679683685 , Test Accuracy: 0.8664 , Timing: 15.255591630935669\n",
            "Epoch: 280 , Validation Loss: 2.6365263164043427 , Validation Accuracy: 0.8638 , Test Loss: 5.048036754131317 , Test Accuracy: 0.8669 , Timing: 15.22679591178894\n",
            "Epoch: 290 , Validation Loss: 2.6453034579753876 , Validation Accuracy: 0.861 , Test Loss: 5.041695237159729 , Test Accuracy: 0.8667 , Timing: 15.152147054672241\n",
            "Epoch: 300 , Validation Loss: 2.6390203833580017 , Validation Accuracy: 0.8612 , Test Loss: 5.05512273311615 , Test Accuracy: 0.8665 , Timing: 15.138819932937622\n",
            "Random Selection Run---------------------------------\n",
            "Final SubsetTrn: 0.7965967006166466\n",
            "Validation Loss and Accuracy:  2.6390203833580017 0.869\n",
            "Test Data Loss and Accuracy:  5.05512273311615 0.877\n",
            "-----------------------------------\n",
            "Total time taken by Random = 1.272812970942921\n"
          ],
          "name": "stdout"
        }
      ]
    },
    {
      "cell_type": "markdown",
      "metadata": {
        "id": "_BSJuwiGVw2Y"
      },
      "source": [
        "#Random Online Training\n"
      ]
    },
    {
      "cell_type": "code",
      "metadata": {
        "id": "Ow5x460WVwp2"
      },
      "source": [
        "randomol_config_file = \"/content/cords/configs/SL/config_randomol_cifar10.py\"\n",
        "cfg = load_config_data(randomol_config_file)\n",
        "randomol_trn = TrainClassifier(cfg)"
      ],
      "execution_count": null,
      "outputs": []
    },
    {
      "cell_type": "code",
      "metadata": {
        "id": "XZsSU5miVwof"
      },
      "source": [
        "randomol_trn.cfg.train_args.num_epochs = 300\n",
        "randomol_trn.cfg.train_args.print_every = 10\n",
        "randomol_trn.cfg.train_args.results_dir = \"/content/drive/MyDrive/results/\"\n",
        "randomol_trn.cfg.dss_strategy.fraction = fraction\n",
        "randomol_trn.cfg.model.numclasses = numclasses\n",
        "randomol_trn.cfg.dataset.name = dataset_name"
      ],
      "execution_count": null,
      "outputs": []
    },
    {
      "cell_type": "code",
      "metadata": {
        "id": "mgWEBixxC6mr",
        "colab": {
          "base_uri": "https://localhost:8080/"
        },
        "outputId": "72eb207c-f6c9-482a-a72b-b027607eeb5f"
      },
      "source": [
        "randomol_trn.train()"
      ],
      "execution_count": null,
      "outputs": [
        {
          "output_type": "stream",
          "text": [
            "Files already downloaded and verified\n",
            "Files already downloaded and verified\n",
            "Budget, fraction and N: 2250 0.05 45000\n",
            "Epoch: 10 , Validation Loss: 9.225229263305664 , Validation Accuracy: 0.3496 , Test Loss: 19.384985208511353 , Test Accuracy: 0.3557 , Timing: 3.8099164962768555\n",
            "Epoch: 20 , Validation Loss: 6.192002296447754 , Validation Accuracy: 0.5508 , Test Loss: 12.45578134059906 , Test Accuracy: 0.5478 , Timing: 3.7576472759246826\n",
            "Epoch: 30 , Validation Loss: 5.410368204116821 , Validation Accuracy: 0.6044 , Test Loss: 10.675525665283203 , Test Accuracy: 0.6182 , Timing: 3.78764009475708\n",
            "Epoch: 40 , Validation Loss: 4.657541513442993 , Validation Accuracy: 0.667 , Test Loss: 9.3198943734169 , Test Accuracy: 0.6751 , Timing: 3.8410000801086426\n",
            "Epoch: 50 , Validation Loss: 3.9960261583328247 , Validation Accuracy: 0.7154 , Test Loss: 7.730282723903656 , Test Accuracy: 0.7293 , Timing: 3.831062078475952\n",
            "Epoch: 60 , Validation Loss: 3.6049383878707886 , Validation Accuracy: 0.7366 , Test Loss: 6.936310112476349 , Test Accuracy: 0.759 , Timing: 3.7921361923217773\n",
            "Epoch: 70 , Validation Loss: 3.4910486936569214 , Validation Accuracy: 0.7526 , Test Loss: 7.193361401557922 , Test Accuracy: 0.7505 , Timing: 3.7674269676208496\n",
            "Epoch: 80 , Validation Loss: 3.0682849287986755 , Validation Accuracy: 0.7824 , Test Loss: 6.149410367012024 , Test Accuracy: 0.7903 , Timing: 3.8044886589050293\n",
            "Epoch: 90 , Validation Loss: 2.993626356124878 , Validation Accuracy: 0.7894 , Test Loss: 6.004704177379608 , Test Accuracy: 0.7979 , Timing: 3.8692920207977295\n",
            "Epoch: 100 , Validation Loss: 2.8620132207870483 , Validation Accuracy: 0.8002 , Test Loss: 5.657415688037872 , Test Accuracy: 0.811 , Timing: 3.7729580402374268\n",
            "Epoch: 110 , Validation Loss: 3.298271656036377 , Validation Accuracy: 0.7784 , Test Loss: 6.602037847042084 , Test Accuracy: 0.7837 , Timing: 3.794468641281128\n",
            "Epoch: 120 , Validation Loss: 2.6593074798583984 , Validation Accuracy: 0.8244 , Test Loss: 5.3380981385707855 , Test Accuracy: 0.8212 , Timing: 3.907766103744507\n",
            "Epoch: 130 , Validation Loss: 2.407558798789978 , Validation Accuracy: 0.8284 , Test Loss: 4.7954815328121185 , Test Accuracy: 0.8319 , Timing: 3.8182215690612793\n",
            "Epoch: 140 , Validation Loss: 2.5205732882022858 , Validation Accuracy: 0.8228 , Test Loss: 4.891252011060715 , Test Accuracy: 0.8294 , Timing: 3.736013174057007\n",
            "Epoch: 150 , Validation Loss: 2.219865471124649 , Validation Accuracy: 0.8502 , Test Loss: 4.331903636455536 , Test Accuracy: 0.853 , Timing: 3.7814180850982666\n",
            "Epoch: 160 , Validation Loss: 2.1926675736904144 , Validation Accuracy: 0.8456 , Test Loss: 4.329777866601944 , Test Accuracy: 0.8595 , Timing: 3.799344301223755\n",
            "Epoch: 170 , Validation Loss: 2.00572207570076 , Validation Accuracy: 0.8638 , Test Loss: 4.097749084234238 , Test Accuracy: 0.8562 , Timing: 3.831303119659424\n",
            "Epoch: 180 , Validation Loss: 2.0066962242126465 , Validation Accuracy: 0.8646 , Test Loss: 3.794794589281082 , Test Accuracy: 0.8708 , Timing: 3.7672200202941895\n",
            "Epoch: 190 , Validation Loss: 1.838449627161026 , Validation Accuracy: 0.8756 , Test Loss: 3.8381304144859314 , Test Accuracy: 0.8734 , Timing: 3.7954859733581543\n",
            "Epoch: 200 , Validation Loss: 1.7392052710056305 , Validation Accuracy: 0.8804 , Test Loss: 3.483918309211731 , Test Accuracy: 0.8837 , Timing: 3.7870707511901855\n",
            "Epoch: 210 , Validation Loss: 1.687499076128006 , Validation Accuracy: 0.8792 , Test Loss: 3.442337155342102 , Test Accuracy: 0.8875 , Timing: 3.863952159881592\n",
            "Epoch: 220 , Validation Loss: 1.6810142397880554 , Validation Accuracy: 0.8878 , Test Loss: 3.4245056211948395 , Test Accuracy: 0.8854 , Timing: 3.826878309249878\n",
            "Epoch: 230 , Validation Loss: 1.638627678155899 , Validation Accuracy: 0.8906 , Test Loss: 3.2133190631866455 , Test Accuracy: 0.8927 , Timing: 3.78824782371521\n",
            "Epoch: 240 , Validation Loss: 1.5399956703186035 , Validation Accuracy: 0.896 , Test Loss: 3.1149315536022186 , Test Accuracy: 0.8984 , Timing: 3.849896192550659\n",
            "Epoch: 250 , Validation Loss: 1.464727908372879 , Validation Accuracy: 0.9012 , Test Loss: 2.9310837388038635 , Test Accuracy: 0.9036 , Timing: 3.8512654304504395\n",
            "Epoch: 260 , Validation Loss: 1.4725350439548492 , Validation Accuracy: 0.902 , Test Loss: 2.9117943048477173 , Test Accuracy: 0.9033 , Timing: 3.8542113304138184\n",
            "Epoch: 270 , Validation Loss: 1.4495851695537567 , Validation Accuracy: 0.9022 , Test Loss: 2.9226472675800323 , Test Accuracy: 0.9034 , Timing: 3.8120152950286865\n",
            "Epoch: 280 , Validation Loss: 1.3842445313930511 , Validation Accuracy: 0.9044 , Test Loss: 2.879596084356308 , Test Accuracy: 0.9057 , Timing: 3.8191075325012207\n",
            "Epoch: 290 , Validation Loss: 1.4432983100414276 , Validation Accuracy: 0.9006 , Test Loss: 2.8979870676994324 , Test Accuracy: 0.9066 , Timing: 3.8169240951538086\n",
            "Epoch: 300 , Validation Loss: 1.426867038011551 , Validation Accuracy: 0.9048 , Test Loss: 2.8521361500024796 , Test Accuracy: 0.9081 , Timing: 3.8229024410247803\n",
            "Random-Online Selection Run---------------------------------\n",
            "Final SubsetTrn: 17.992785988375545\n",
            "Validation Loss and Accuracy:  1.426867038011551 0.908\n",
            "Test Data Loss and Accuracy:  2.8521361500024796 0.912\n",
            "-----------------------------------\n",
            "Total time taken by Random-Online = 0.31759421633349527\n"
          ],
          "name": "stdout"
        }
      ]
    },
    {
      "cell_type": "markdown",
      "metadata": {
        "id": "pfwsMRlB5eHo"
      },
      "source": [
        "#Full data Training\n"
      ]
    },
    {
      "cell_type": "code",
      "metadata": {
        "id": "1rxgxoet5eHo"
      },
      "source": [
        "full_config_file = \"/content/cords/configs/SL/config_full_cifar10.py\"\n",
        "cfg = load_config_data(full_config_file)\n",
        "full_trn = TrainClassifier(cfg)"
      ],
      "execution_count": 7,
      "outputs": []
    },
    {
      "cell_type": "code",
      "metadata": {
        "id": "7XG3tCws5eHo"
      },
      "source": [
        "full_trn.cfg.train_args.num_epochs = 300\n",
        "full_trn.cfg.train_args.print_every = 10\n",
        "full_trn.cfg.train_args.results_dir = \"/content/drive/MyDrive/results/\"\n",
        "full_trn.cfg.model.numclasses = numclasses\n",
        "full_trn.cfg.dataset.name = dataset_name"
      ],
      "execution_count": 8,
      "outputs": []
    },
    {
      "cell_type": "code",
      "metadata": {
        "colab": {
          "base_uri": "https://localhost:8080/",
          "height": 1000,
          "referenced_widgets": [
            "33ae982cc04e499a97f36b951065616c",
            "3249baabe1ce4eb7b244eddf6e5164c3",
            "6bf0a53e31924d5fba5916e1cec3a965",
            "50459eea24904857831f34cfcab7ab3d",
            "2b8c7605d382410b8d024d85eb9d495f",
            "747ef6429a5345b88a61b2a08db6cb5e",
            "b1df0c48ae95464086bc940e9cddbfa7",
            "c2dc038280c64a40a7d903a0025a5262",
            "276aca412bc340d9bc90d8246447ee64",
            "d12d7f34464947ccb1f19143118b7663",
            "a0345ad2a59142e884f954e893886296"
          ]
        },
        "outputId": "8636a960-4a36-43c9-8f71-84f73fc86704",
        "id": "tKNDg6DF5eHo"
      },
      "source": [
        "full_trn.train()"
      ],
      "execution_count": 9,
      "outputs": [
        {
          "output_type": "stream",
          "name": "stdout",
          "text": [
            "[02/22 22:33:54] train_sl INFO: DotMap(setting='SL', is_reg=False, dataset=DotMap(name='cifar10', datadir='../data', feature='dss', type='image'), dataloader=DotMap(shuffle=True, batch_size=20, pin_memory=True), model=DotMap(architecture='ResNet18', type='pre-defined', numclasses=10), ckpt=DotMap(is_load=False, is_save=True, dir='results/', save_every=20), loss=DotMap(type='CrossEntropyLoss', use_sigmoid=False), optimizer=DotMap(type='sgd', momentum=0.9, lr=0.01, weight_decay=0.0005, nesterov=False), scheduler=DotMap(type='cosine_annealing', T_max=300), dss_args=DotMap(type='Full'), train_args=DotMap(num_epochs=300, device='cuda', print_every=10, results_dir='/content/drive/MyDrive/results/', print_args=['val_loss', 'val_acc', 'tst_loss', 'tst_acc', 'time'], return_args=[]))\n",
            "Downloading https://www.cs.toronto.edu/~kriz/cifar-10-python.tar.gz to ../data/cifar-10-python.tar.gz\n"
          ]
        },
        {
          "output_type": "display_data",
          "data": {
            "application/vnd.jupyter.widget-view+json": {
              "model_id": "33ae982cc04e499a97f36b951065616c",
              "version_minor": 0,
              "version_major": 2
            },
            "text/plain": [
              "  0%|          | 0/170498071 [00:00<?, ?it/s]"
            ]
          },
          "metadata": {}
        },
        {
          "output_type": "stream",
          "name": "stdout",
          "text": [
            "Extracting ../data/cifar-10-python.tar.gz to ../data\n",
            "Files already downloaded and verified\n",
            "[02/22 22:46:10] train_sl INFO: Epoch: 10 , Validation Loss: 0.46018128634989264 , Validation Accuracy: 0.8428 , Test Loss: 0.4498852126300335 , Test Accuracy: 0.8471 , Timing: 71.09060955047607\n",
            "[02/22 22:58:05] train_sl INFO: Epoch: 20 , Validation Loss: 0.41242416517436503 , Validation Accuracy: 0.8588 , Test Loss: 0.4042964420393109 , Test Accuracy: 0.862 , Timing: 70.63536882400513\n",
            "[02/22 22:58:06] train_sl INFO: Model checkpoint saved at epoch: 20\n",
            "[02/22 23:09:57] train_sl INFO: Epoch: 30 , Validation Loss: 0.35617223528027536 , Validation Accuracy: 0.8814 , Test Loss: 0.33897044133767484 , Test Accuracy: 0.8849 , Timing: 70.34906888008118\n",
            "[02/22 23:21:48] train_sl INFO: Epoch: 40 , Validation Loss: 0.35344658740609886 , Validation Accuracy: 0.8836 , Test Loss: 0.3573780539613217 , Test Accuracy: 0.8839 , Timing: 70.27217411994934\n",
            "[02/22 23:21:49] train_sl INFO: Model checkpoint saved at epoch: 40\n",
            "[02/22 23:33:40] train_sl INFO: Epoch: 50 , Validation Loss: 0.3346670252904296 , Validation Accuracy: 0.8848 , Test Loss: 0.3541459998749196 , Test Accuracy: 0.8834 , Timing: 70.20083737373352\n",
            "[02/22 23:45:30] train_sl INFO: Epoch: 60 , Validation Loss: 0.34982228104025126 , Validation Accuracy: 0.8826 , Test Loss: 0.3532907600402832 , Test Accuracy: 0.8844 , Timing: 70.16225385665894\n",
            "[02/22 23:45:31] train_sl INFO: Model checkpoint saved at epoch: 60\n",
            "[02/22 23:57:21] train_sl INFO: Epoch: 70 , Validation Loss: 0.3050001594889909 , Validation Accuracy: 0.8984 , Test Loss: 0.31520869008358565 , Test Accuracy: 0.8958 , Timing: 69.94522285461426\n",
            "[02/23 00:09:11] train_sl INFO: Epoch: 80 , Validation Loss: 0.3160619833469391 , Validation Accuracy: 0.895 , Test Loss: 0.3076882598400116 , Test Accuracy: 0.8996 , Timing: 70.03721213340759\n",
            "[02/23 00:09:11] train_sl INFO: Model checkpoint saved at epoch: 80\n",
            "[02/23 00:21:00] train_sl INFO: Epoch: 90 , Validation Loss: 0.2935108539015055 , Validation Accuracy: 0.9024 , Test Loss: 0.27828615420125424 , Test Accuracy: 0.9065 , Timing: 70.07853484153748\n",
            "[02/23 00:32:55] train_sl INFO: Epoch: 100 , Validation Loss: 0.31934030099213123 , Validation Accuracy: 0.8956 , Test Loss: 0.32880676875635984 , Test Accuracy: 0.8931 , Timing: 70.66484785079956\n",
            "[02/23 00:32:56] train_sl INFO: Model checkpoint saved at epoch: 100\n",
            "[02/23 00:44:54] train_sl INFO: Epoch: 110 , Validation Loss: 0.30808906952291726 , Validation Accuracy: 0.8972 , Test Loss: 0.29978348387777803 , Test Accuracy: 0.9057 , Timing: 70.31782650947571\n",
            "[02/23 00:56:47] train_sl INFO: Epoch: 120 , Validation Loss: 0.2745857536420226 , Validation Accuracy: 0.9082 , Test Loss: 0.2768234853208996 , Test Accuracy: 0.9118 , Timing: 70.36545419692993\n",
            "[02/23 00:56:47] train_sl INFO: Model checkpoint saved at epoch: 120\n",
            "[02/23 01:08:40] train_sl INFO: Epoch: 130 , Validation Loss: 0.2798986839838326 , Validation Accuracy: 0.9088 , Test Loss: 0.27006991861388085 , Test Accuracy: 0.9126 , Timing: 70.4614520072937\n",
            "[02/23 01:20:32] train_sl INFO: Epoch: 140 , Validation Loss: 0.2723538293335587 , Validation Accuracy: 0.914 , Test Loss: 0.2648165529454127 , Test Accuracy: 0.9143 , Timing: 70.26400899887085\n",
            "[02/23 01:20:33] train_sl INFO: Model checkpoint saved at epoch: 140\n",
            "[02/23 01:32:24] train_sl INFO: Epoch: 150 , Validation Loss: 0.2768263508155942 , Validation Accuracy: 0.91 , Test Loss: 0.27807804066222164 , Test Accuracy: 0.9131 , Timing: 70.34056043624878\n",
            "[02/23 01:44:15] train_sl INFO: Epoch: 160 , Validation Loss: 0.3098700076751411 , Validation Accuracy: 0.9034 , Test Loss: 0.29787756335549054 , Test Accuracy: 0.9081 , Timing: 70.20480370521545\n",
            "[02/23 01:44:15] train_sl INFO: Model checkpoint saved at epoch: 160\n",
            "[02/23 01:56:08] train_sl INFO: Epoch: 170 , Validation Loss: 0.25584198552183807 , Validation Accuracy: 0.9176 , Test Loss: 0.27231471240287647 , Test Accuracy: 0.9195 , Timing: 70.25087666511536\n",
            "[02/23 02:08:02] train_sl INFO: Epoch: 180 , Validation Loss: 0.2671513934675604 , Validation Accuracy: 0.918 , Test Loss: 0.2681986746666953 , Test Accuracy: 0.9226 , Timing: 70.84272527694702\n",
            "[02/23 02:08:02] train_sl INFO: Model checkpoint saved at epoch: 180\n",
            "[02/23 02:20:00] train_sl INFO: Epoch: 190 , Validation Loss: 0.3012544407397509 , Validation Accuracy: 0.9088 , Test Loss: 0.30550364274764436 , Test Accuracy: 0.9138 , Timing: 71.11317086219788\n",
            "[02/23 02:31:58] train_sl INFO: Epoch: 200 , Validation Loss: 0.266085287924856 , Validation Accuracy: 0.9182 , Test Loss: 0.25593702294991816 , Test Accuracy: 0.9252 , Timing: 70.81898784637451\n",
            "[02/23 02:31:58] train_sl INFO: Model checkpoint saved at epoch: 200\n",
            "[02/23 02:43:57] train_sl INFO: Epoch: 210 , Validation Loss: 0.25086748085450383 , Validation Accuracy: 0.9294 , Test Loss: 0.26240526705549566 , Test Accuracy: 0.9296 , Timing: 70.73590517044067\n",
            "[02/23 02:55:55] train_sl INFO: Epoch: 220 , Validation Loss: 0.2595012662736699 , Validation Accuracy: 0.928 , Test Loss: 0.2638078385852277 , Test Accuracy: 0.9283 , Timing: 70.9628005027771\n",
            "[02/23 02:55:55] train_sl INFO: Model checkpoint saved at epoch: 220\n",
            "[02/23 03:07:53] train_sl INFO: Epoch: 230 , Validation Loss: 0.23941585252061487 , Validation Accuracy: 0.9324 , Test Loss: 0.24276154825696722 , Test Accuracy: 0.9371 , Timing: 71.0098979473114\n",
            "[02/23 03:19:51] train_sl INFO: Epoch: 240 , Validation Loss: 0.21812654834613204 , Validation Accuracy: 0.942 , Test Loss: 0.24297555449791253 , Test Accuracy: 0.9394 , Timing: 70.90234112739563\n",
            "[02/23 03:19:52] train_sl INFO: Model checkpoint saved at epoch: 240\n",
            "[02/23 03:31:51] train_sl INFO: Epoch: 250 , Validation Loss: 0.19810948471911252 , Validation Accuracy: 0.954 , Test Loss: 0.2246752083582105 , Test Accuracy: 0.9448 , Timing: 70.95955777168274\n",
            "[02/23 03:43:53] train_sl INFO: Epoch: 260 , Validation Loss: 0.19909287234465592 , Validation Accuracy: 0.9522 , Test Loss: 0.19942617069277913 , Test Accuracy: 0.9516 , Timing: 71.31544089317322\n",
            "[02/23 03:43:53] train_sl INFO: Model checkpoint saved at epoch: 260\n",
            "[02/23 03:55:52] train_sl INFO: Epoch: 270 , Validation Loss: 0.19477253490546717 , Validation Accuracy: 0.9538 , Test Loss: 0.19130570757132956 , Test Accuracy: 0.9535 , Timing: 71.23069071769714\n",
            "[02/23 04:07:51] train_sl INFO: Epoch: 280 , Validation Loss: 0.17554865195369349 , Validation Accuracy: 0.9568 , Test Loss: 0.19280328384251333 , Test Accuracy: 0.9534 , Timing: 70.83455109596252\n",
            "[02/23 04:07:51] train_sl INFO: Model checkpoint saved at epoch: 280\n",
            "[02/23 04:19:48] train_sl INFO: Epoch: 290 , Validation Loss: 0.18014049835968762 , Validation Accuracy: 0.9548 , Test Loss: 0.18738409764692188 , Test Accuracy: 0.9545 , Timing: 70.80438089370728\n",
            "[02/23 04:31:45] train_sl INFO: Epoch: 300 , Validation Loss: 0.17561735305329784 , Validation Accuracy: 0.9568 , Test Loss: 0.1865371045905631 , Test Accuracy: 0.9543 , Timing: 70.78451228141785\n",
            "[02/23 04:31:46] train_sl INFO: Model checkpoint saved at epoch: 300\n",
            "[02/23 04:31:46] train_sl INFO: Full Selection Run---------------------------------\n",
            "[02/23 04:31:46] train_sl INFO: Final SubsetTrn: 0.001826\n",
            "[02/23 04:31:46] train_sl INFO: Validation Loss: 0.18 , Validation Accuracy: 0.96\n",
            "[02/23 04:31:46] train_sl INFO: Test Loss: 0.19, Test Accuracy: 0.95\n",
            "[02/23 04:31:46] train_sl INFO: ---------------------------------------------------------------------\n",
            "[02/23 04:31:46] train_sl INFO: Full\n",
            "[02/23 04:31:46] train_sl INFO: ---------------------------------------------------------------------\n",
            "[02/23 04:31:46] train_sl INFO: Validation Accuracy,  , 0.8428 , 0.8588 , 0.8814 , 0.8836 , 0.8848 , 0.8826 , 0.8984 , 0.895 , 0.9024 , 0.8956 , 0.8972 , 0.9082 , 0.9088 , 0.914 , 0.91 , 0.9034 , 0.9176 , 0.918 , 0.9088 , 0.9182 , 0.9294 , 0.928 , 0.9324 , 0.942 , 0.954 , 0.9522 , 0.9538 , 0.9568 , 0.9548 , 0.9568\n",
            "[02/23 04:31:46] train_sl INFO: Test Accuracy,  , 0.8471 , 0.862 , 0.8849 , 0.8839 , 0.8834 , 0.8844 , 0.8958 , 0.8996 , 0.9065 , 0.8931 , 0.9057 , 0.9118 , 0.9126 , 0.9143 , 0.9131 , 0.9081 , 0.9195 , 0.9226 , 0.9138 , 0.9252 , 0.9296 , 0.9283 , 0.9371 , 0.9394 , 0.9448 , 0.9516 , 0.9535 , 0.9534 , 0.9545 , 0.9543\n",
            "[02/23 04:31:46] train_sl INFO: [72.33611035346985, 71.72004866600037, 72.13374018669128, 71.27063417434692, 70.33360934257507, 70.25902915000916, 70.37746667861938, 70.32732915878296, 70.74927282333374, 71.09060955047607, 70.50467324256897, 70.51851558685303, 70.55914545059204, 70.31406044960022, 71.10667586326599, 70.72838711738586, 71.00196123123169, 70.72857356071472, 70.61253499984741, 70.63536882400513, 70.46507096290588, 70.21020841598511, 70.22701358795166, 70.26419758796692, 70.22405982017517, 70.15421772003174, 70.25758290290833, 70.32402801513672, 70.28649187088013, 70.34906888008118, 70.18895626068115, 70.30536103248596, 70.1646876335144, 70.17410349845886, 70.32726001739502, 70.29834222793579, 70.24741816520691, 70.25811862945557, 70.19847130775452, 70.27217411994934, 70.27182936668396, 70.2245454788208, 70.39811968803406, 70.20587086677551, 70.18308472633362, 70.18903923034668, 70.36935234069824, 70.18176507949829, 70.2547173500061, 70.20083737373352, 70.23891043663025, 70.29166150093079, 70.13936018943787, 70.1511960029602, 70.25172400474548, 70.12250113487244, 70.13217568397522, 70.18654751777649, 70.14246487617493, 70.16225385665894, 70.2322325706482, 70.37144827842712, 70.0990993976593, 70.3233413696289, 70.12933373451233, 70.1534366607666, 70.15046763420105, 70.15968108177185, 70.14097905158997, 69.94522285461426, 70.1691324710846, 70.12317895889282, 70.05164170265198, 70.1549665927887, 70.03070974349976, 70.21317219734192, 70.0583598613739, 69.87483501434326, 70.07641339302063, 70.03721213340759, 70.0949375629425, 69.97405862808228, 69.83369636535645, 69.9873251914978, 70.01401925086975, 70.09747195243835, 70.06786346435547, 69.95209956169128, 70.22267889976501, 70.07853484153748, 70.15581035614014, 71.95499992370605, 70.76101541519165, 70.68792939186096, 70.59171915054321, 70.4434335231781, 70.6379144191742, 70.51787424087524, 70.60920977592468, 70.66484785079956, 71.46934056282043, 71.50190424919128, 71.49988985061646, 71.55330204963684, 70.64438080787659, 70.50726103782654, 70.51672506332397, 70.58577489852905, 70.44999098777771, 70.31782650947571, 70.47940516471863, 70.450612783432, 70.43021512031555, 70.4533441066742, 70.4658887386322, 70.60421299934387, 70.3744158744812, 70.52791738510132, 70.48222279548645, 70.36545419692993, 70.35887336730957, 70.32416844367981, 70.36202645301819, 70.41656422615051, 70.35412359237671, 70.2232928276062, 70.41196060180664, 70.36810779571533, 70.59468913078308, 70.4614520072937, 70.37742733955383, 70.3469250202179, 70.85867094993591, 70.64202833175659, 70.4177463054657, 70.29903483390808, 70.26168203353882, 70.36858677864075, 70.28797149658203, 70.26400899887085, 70.30465626716614, 70.407306432724, 70.31754207611084, 70.25308203697205, 70.06839275360107, 70.07638216018677, 70.43587827682495, 70.35565304756165, 70.32999086380005, 70.34056043624878, 70.35434818267822, 70.2090072631836, 70.15736365318298, 70.20660758018494, 70.18321871757507, 70.20064616203308, 70.29324102401733, 70.17431378364563, 70.11717367172241, 70.20480370521545, 70.32437133789062, 70.33224964141846, 70.22088861465454, 70.36320996284485, 70.42363595962524, 70.49419713020325, 70.47668027877808, 70.32093048095703, 70.34325885772705, 70.25087666511536, 70.21899747848511, 70.4222047328949, 70.10929870605469, 70.18688583374023, 70.20096135139465, 70.40327858924866, 70.53445529937744, 71.55536198616028, 70.71321368217468, 70.84272527694702, 71.08185005187988, 70.97444176673889, 70.92649984359741, 70.95787978172302, 70.81287884712219, 70.75286626815796, 70.86973881721497, 70.86534118652344, 70.85482120513916, 71.11317086219788, 70.90685510635376, 70.93264269828796, 70.87068128585815, 70.92875504493713, 70.9680962562561, 71.00441527366638, 71.04868483543396, 71.02967047691345, 71.06976461410522, 70.81898784637451, 71.11959052085876, 71.0000524520874, 71.14669513702393, 71.00724768638611, 70.95083212852478, 70.93049645423889, 70.94159126281738, 70.88515520095825, 70.97304844856262, 70.73590517044067, 70.98167443275452, 71.1554114818573, 70.87278914451599, 71.00459790229797, 70.90556716918945, 70.80436611175537, 70.78754878044128, 70.84861946105957, 70.77741074562073, 70.9628005027771, 70.95659494400024, 70.91774797439575, 70.86847138404846, 70.7859411239624, 70.97336912155151, 70.78823590278625, 70.7820131778717, 71.06138134002686, 71.00913143157959, 71.0098979473114, 70.94948315620422, 71.08710861206055, 70.92239594459534, 70.93118286132812, 70.91047716140747, 70.89873552322388, 70.99303221702576, 70.95883584022522, 70.89538979530334, 70.90234112739563, 70.89027857780457, 70.96242833137512, 71.02794289588928, 71.26628613471985, 71.09736943244934, 71.15565347671509, 71.01491951942444, 70.9692029953003, 70.99744582176208, 70.95955777168274, 71.56018805503845, 71.16551899909973, 71.37622046470642, 71.71103549003601, 71.11841177940369, 71.22517395019531, 71.27308344841003, 71.1275897026062, 71.2305703163147, 71.31544089317322, 71.33323431015015, 71.02077007293701, 70.8513343334198, 70.92154002189636, 71.06971096992493, 70.94054079055786, 70.74110150337219, 70.98356032371521, 71.09768319129944, 71.23069071769714, 71.04154896736145, 71.02447485923767, 71.06378412246704, 71.11311149597168, 70.99005770683289, 71.05568838119507, 71.05538725852966, 70.83903741836548, 70.81623935699463, 70.83455109596252, 70.77616953849792, 70.83613085746765, 70.84625816345215, 70.87921142578125, 70.9683210849762, 70.99114298820496, 70.80822277069092, 70.70591473579407, 70.86318707466125, 70.80438089370728, 70.87998485565186, 71.02313184738159, 71.03100514411926, 70.70503425598145, 70.77639293670654, 70.76135969161987, 70.74298763275146, 70.74218249320984, 70.80303907394409, 70.78451228141785]\n",
            "[02/23 04:31:46] train_sl INFO: Total time taken by Full = 21188.4303 \n"
          ]
        }
      ]
    }
  ]
}