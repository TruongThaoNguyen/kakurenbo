{
  "cells": [
    {
      "cell_type": "markdown",
      "metadata": {
        "id": "kFDegt9Xh5XS"
      },
      "source": [
        "# Subset selection for Hyperparameter tuning\n",
        "\n",
        "In this tutorial, we will look at an example showing how to integrate GradMatchPB-Warm subset selection strategy in typical hyperparameter tuning loop\n",
        "for configuration model training on CIFAR100 dataset with TPE as hyper-parameter search algorithm and ASHA as hyper-parameter scheduler."
      ]
    },
    {
      "cell_type": "markdown",
      "metadata": {
        "id": "nRBrJb8I_vUv"
      },
      "source": [
        "### Cloning CORDS repository"
      ]
    },
    {
      "cell_type": "code",
      "execution_count": 2,
      "metadata": {
        "colab": {
          "base_uri": "https://localhost:8080/"
        },
        "id": "x35Mfc-RnKkX",
        "outputId": "9791e069-9fbc-4814-d501-bade4c724d99"
      },
      "outputs": [
        {
          "output_type": "stream",
          "name": "stdout",
          "text": [
            "Cloning into 'cords'...\n",
            "remote: Enumerating objects: 5140, done.\u001b[K\n",
            "remote: Counting objects: 100% (455/455), done.\u001b[K\n",
            "remote: Compressing objects: 100% (191/191), done.\u001b[K\n",
            "remote: Total 5140 (delta 337), reused 327 (delta 256), pack-reused 4685\u001b[K\n",
            "Receiving objects: 100% (5140/5140), 58.47 MiB | 23.96 MiB/s, done.\n",
            "Resolving deltas: 100% (3188/3188), done.\n",
            "/content/cords\n",
            "\u001b[0m\u001b[01;34mbenchmarks\u001b[0m/   \u001b[01;34mexamples\u001b[0m/      \u001b[01;34mrequirements\u001b[0m/  train_ssl.py\n",
            "CITATION.CFF  gradio_hpo.py  setup.py       transformers_train_sl.py\n",
            "\u001b[01;34mconfigs\u001b[0m/      gradio_sl.py   \u001b[01;34mtests\u001b[0m/         \u001b[01;34mtutorial\u001b[0m/\n",
            "\u001b[01;34mcords\u001b[0m/        LICENSE.txt    train_hpo.py\n",
            "\u001b[01;34mdocs\u001b[0m/         README.md      train_sl.py\n"
          ]
        }
      ],
      "source": [
        "!git clone https://github.com/decile-team/cords.git\n",
        "%cd cords/\n",
        "%ls"
      ]
    },
    {
      "cell_type": "markdown",
      "metadata": {
        "id": "gAA3K0cVnyd9"
      },
      "source": [
        "### Install prerequisite libraries of CORDS"
      ]
    },
    {
      "cell_type": "code",
      "execution_count": 3,
      "metadata": {
        "colab": {
          "base_uri": "https://localhost:8080/",
          "height": 1000
        },
        "id": "UAr0EGqUdwpE",
        "outputId": "e3ec3a23-9a56-4f84-a844-c9b04dae15b0"
      },
      "outputs": [
        {
          "output_type": "stream",
          "name": "stdout",
          "text": [
            "Looking in indexes: https://pypi.org/simple, https://us-python.pkg.dev/colab-wheels/public/simple/\n",
            "Collecting dotmap\n",
            "  Downloading dotmap-1.3.30-py3-none-any.whl (11 kB)\n",
            "Installing collected packages: dotmap\n",
            "Successfully installed dotmap-1.3.30\n",
            "Looking in indexes: https://pypi.org/simple, https://us-python.pkg.dev/colab-wheels/public/simple/\n",
            "Collecting apricot-select\n",
            "  Downloading apricot-select-0.6.1.tar.gz (28 kB)\n",
            "  Preparing metadata (setup.py) ... \u001b[?25l\u001b[?25hdone\n",
            "Requirement already satisfied: numpy>=1.14.2 in /usr/local/lib/python3.8/dist-packages (from apricot-select) (1.21.6)\n",
            "Requirement already satisfied: scipy>=1.0.0 in /usr/local/lib/python3.8/dist-packages (from apricot-select) (1.7.3)\n",
            "Requirement already satisfied: numba>=0.43.0 in /usr/local/lib/python3.8/dist-packages (from apricot-select) (0.56.4)\n",
            "Requirement already satisfied: tqdm>=4.24.0 in /usr/local/lib/python3.8/dist-packages (from apricot-select) (4.64.1)\n",
            "Collecting nose\n",
            "  Downloading nose-1.3.7-py3-none-any.whl (154 kB)\n",
            "\u001b[2K     \u001b[90m━━━━━━━━━━━━━━━━━━━━━━━━━━━━━━━━━━━━━━━\u001b[0m \u001b[32m154.7/154.7 KB\u001b[0m \u001b[31m6.8 MB/s\u001b[0m eta \u001b[36m0:00:00\u001b[0m\n",
            "\u001b[?25hRequirement already satisfied: llvmlite<0.40,>=0.39.0dev0 in /usr/local/lib/python3.8/dist-packages (from numba>=0.43.0->apricot-select) (0.39.1)\n",
            "Requirement already satisfied: setuptools in /usr/local/lib/python3.8/dist-packages (from numba>=0.43.0->apricot-select) (57.4.0)\n",
            "Requirement already satisfied: importlib-metadata in /usr/local/lib/python3.8/dist-packages (from numba>=0.43.0->apricot-select) (6.0.0)\n",
            "Requirement already satisfied: zipp>=0.5 in /usr/local/lib/python3.8/dist-packages (from importlib-metadata->numba>=0.43.0->apricot-select) (3.12.0)\n",
            "Building wheels for collected packages: apricot-select\n",
            "  Building wheel for apricot-select (setup.py) ... \u001b[?25l\u001b[?25hdone\n",
            "  Created wheel for apricot-select: filename=apricot_select-0.6.1-py3-none-any.whl size=48786 sha256=f17c811a7acf0ac53fb6de4c23cf2e912de4388a9a4f541938b0fbea38e5ec04\n",
            "  Stored in directory: /root/.cache/pip/wheels/31/9d/60/56b3035d46924261240d200e1b3e99094ad23f2223a6d58b49\n",
            "Successfully built apricot-select\n",
            "Installing collected packages: nose, apricot-select\n",
            "Successfully installed apricot-select-0.6.1 nose-1.3.7\n",
            "Looking in indexes: https://pypi.org/simple, https://us-python.pkg.dev/colab-wheels/public/simple/\n",
            "Collecting ray[default]\n",
            "  Downloading ray-2.2.0-cp38-cp38-manylinux2014_x86_64.whl (57.4 MB)\n",
            "\u001b[2K     \u001b[90m━━━━━━━━━━━━━━━━━━━━━━━━━━━━━━━━━━━━━━━━\u001b[0m \u001b[32m57.4/57.4 MB\u001b[0m \u001b[31m30.9 MB/s\u001b[0m eta \u001b[36m0:00:00\u001b[0m\n",
            "\u001b[?25hRequirement already satisfied: msgpack<2.0.0,>=1.0.0 in /usr/local/lib/python3.8/dist-packages (from ray[default]) (1.0.4)\n",
            "Collecting virtualenv>=20.0.24\n",
            "  Downloading virtualenv-20.19.0-py3-none-any.whl (8.7 MB)\n",
            "\u001b[2K     \u001b[90m━━━━━━━━━━━━━━━━━━━━━━━━━━━━━━━━━━━━━━━━\u001b[0m \u001b[32m8.7/8.7 MB\u001b[0m \u001b[31m83.5 MB/s\u001b[0m eta \u001b[36m0:00:00\u001b[0m\n",
            "\u001b[?25hRequirement already satisfied: aiosignal in /usr/local/lib/python3.8/dist-packages (from ray[default]) (1.3.1)\n",
            "Requirement already satisfied: requests in /usr/local/lib/python3.8/dist-packages (from ray[default]) (2.25.1)\n",
            "Requirement already satisfied: grpcio>=1.32.0 in /usr/local/lib/python3.8/dist-packages (from ray[default]) (1.51.1)\n",
            "Requirement already satisfied: protobuf!=3.19.5,>=3.15.3 in /usr/local/lib/python3.8/dist-packages (from ray[default]) (3.19.6)\n",
            "Requirement already satisfied: jsonschema in /usr/local/lib/python3.8/dist-packages (from ray[default]) (4.3.3)\n",
            "Requirement already satisfied: filelock in /usr/local/lib/python3.8/dist-packages (from ray[default]) (3.9.0)\n",
            "Requirement already satisfied: click>=7.0 in /usr/local/lib/python3.8/dist-packages (from ray[default]) (7.1.2)\n",
            "Requirement already satisfied: pyyaml in /usr/local/lib/python3.8/dist-packages (from ray[default]) (6.0)\n",
            "Requirement already satisfied: numpy>=1.16 in /usr/local/lib/python3.8/dist-packages (from ray[default]) (1.21.6)\n",
            "Requirement already satisfied: attrs in /usr/local/lib/python3.8/dist-packages (from ray[default]) (22.2.0)\n",
            "Requirement already satisfied: frozenlist in /usr/local/lib/python3.8/dist-packages (from ray[default]) (1.3.3)\n",
            "Collecting opencensus\n",
            "  Downloading opencensus-0.11.1-py2.py3-none-any.whl (128 kB)\n",
            "\u001b[2K     \u001b[90m━━━━━━━━━━━━━━━━━━━━━━━━━━━━━━━━━━━━━━\u001b[0m \u001b[32m128.2/128.2 KB\u001b[0m \u001b[31m17.5 MB/s\u001b[0m eta \u001b[36m0:00:00\u001b[0m\n",
            "\u001b[?25hRequirement already satisfied: aiohttp>=3.7 in /usr/local/lib/python3.8/dist-packages (from ray[default]) (3.8.3)\n",
            "Requirement already satisfied: pydantic in /usr/local/lib/python3.8/dist-packages (from ray[default]) (1.10.4)\n",
            "Collecting py-spy>=0.2.0\n",
            "  Downloading py_spy-0.3.14-py2.py3-none-manylinux_2_5_x86_64.manylinux1_x86_64.whl (3.0 MB)\n",
            "\u001b[2K     \u001b[90m━━━━━━━━━━━━━━━━━━━━━━━━━━━━━━━━━━━━━━━━\u001b[0m \u001b[32m3.0/3.0 MB\u001b[0m \u001b[31m84.0 MB/s\u001b[0m eta \u001b[36m0:00:00\u001b[0m\n",
            "\u001b[?25hCollecting prometheus-client<0.14.0,>=0.7.1\n",
            "  Downloading prometheus_client-0.13.1-py3-none-any.whl (57 kB)\n",
            "\u001b[2K     \u001b[90m━━━━━━━━━━━━━━━━━━━━━━━━━━━━━━━━━━━━━━━━\u001b[0m \u001b[32m57.1/57.1 KB\u001b[0m \u001b[31m8.5 MB/s\u001b[0m eta \u001b[36m0:00:00\u001b[0m\n",
            "\u001b[?25hCollecting aiohttp-cors\n",
            "  Downloading aiohttp_cors-0.7.0-py3-none-any.whl (27 kB)\n",
            "Collecting colorful\n",
            "  Downloading colorful-0.5.5-py2.py3-none-any.whl (201 kB)\n",
            "\u001b[2K     \u001b[90m━━━━━━━━━━━━━━━━━━━━━━━━━━━━━━━━━━━━━━\u001b[0m \u001b[32m201.4/201.4 KB\u001b[0m \u001b[31m26.7 MB/s\u001b[0m eta \u001b[36m0:00:00\u001b[0m\n",
            "\u001b[?25hCollecting gpustat>=1.0.0\n",
            "  Downloading gpustat-1.0.0.tar.gz (90 kB)\n",
            "\u001b[2K     \u001b[90m━━━━━━━━━━━━━━━━━━━━━━━━━━━━━━━━━━━━━━━━\u001b[0m \u001b[32m90.5/90.5 KB\u001b[0m \u001b[31m11.8 MB/s\u001b[0m eta \u001b[36m0:00:00\u001b[0m\n",
            "\u001b[?25h  Preparing metadata (setup.py) ... \u001b[?25l\u001b[?25hdone\n",
            "Requirement already satisfied: smart-open in /usr/local/lib/python3.8/dist-packages (from ray[default]) (6.3.0)\n",
            "Requirement already satisfied: yarl<2.0,>=1.0 in /usr/local/lib/python3.8/dist-packages (from aiohttp>=3.7->ray[default]) (1.8.2)\n",
            "Requirement already satisfied: multidict<7.0,>=4.5 in /usr/local/lib/python3.8/dist-packages (from aiohttp>=3.7->ray[default]) (6.0.4)\n",
            "Requirement already satisfied: async-timeout<5.0,>=4.0.0a3 in /usr/local/lib/python3.8/dist-packages (from aiohttp>=3.7->ray[default]) (4.0.2)\n",
            "Requirement already satisfied: charset-normalizer<3.0,>=2.0 in /usr/local/lib/python3.8/dist-packages (from aiohttp>=3.7->ray[default]) (2.1.1)\n",
            "Requirement already satisfied: six>=1.7 in /usr/local/lib/python3.8/dist-packages (from gpustat>=1.0.0->ray[default]) (1.15.0)\n",
            "Collecting nvidia-ml-py<=11.495.46,>=11.450.129\n",
            "  Downloading nvidia_ml_py-11.495.46-py3-none-any.whl (25 kB)\n",
            "Collecting psutil>=5.6.0\n",
            "  Downloading psutil-5.9.4-cp36-abi3-manylinux_2_12_x86_64.manylinux2010_x86_64.manylinux_2_17_x86_64.manylinux2014_x86_64.whl (280 kB)\n",
            "\u001b[2K     \u001b[90m━━━━━━━━━━━━━━━━━━━━━━━━━━━━━━━━━━━━━━\u001b[0m \u001b[32m280.2/280.2 KB\u001b[0m \u001b[31m33.9 MB/s\u001b[0m eta \u001b[36m0:00:00\u001b[0m\n",
            "\u001b[?25hCollecting blessed>=1.17.1\n",
            "  Downloading blessed-1.20.0-py2.py3-none-any.whl (58 kB)\n",
            "\u001b[2K     \u001b[90m━━━━━━━━━━━━━━━━━━━━━━━━━━━━━━━━━━━━━━━━\u001b[0m \u001b[32m58.4/58.4 KB\u001b[0m \u001b[31m8.5 MB/s\u001b[0m eta \u001b[36m0:00:00\u001b[0m\n",
            "\u001b[?25hRequirement already satisfied: platformdirs<4,>=2.4 in /usr/local/lib/python3.8/dist-packages (from virtualenv>=20.0.24->ray[default]) (2.6.2)\n",
            "Collecting distlib<1,>=0.3.6\n",
            "  Downloading distlib-0.3.6-py2.py3-none-any.whl (468 kB)\n",
            "\u001b[2K     \u001b[90m━━━━━━━━━━━━━━━━━━━━━━━━━━━━━━━━━━━━━━\u001b[0m \u001b[32m468.5/468.5 KB\u001b[0m \u001b[31m42.8 MB/s\u001b[0m eta \u001b[36m0:00:00\u001b[0m\n",
            "\u001b[?25hRequirement already satisfied: pyrsistent!=0.17.0,!=0.17.1,!=0.17.2,>=0.14.0 in /usr/local/lib/python3.8/dist-packages (from jsonschema->ray[default]) (0.19.3)\n",
            "Requirement already satisfied: importlib-resources>=1.4.0 in /usr/local/lib/python3.8/dist-packages (from jsonschema->ray[default]) (5.10.2)\n",
            "Collecting opencensus-context>=0.1.3\n",
            "  Downloading opencensus_context-0.1.3-py2.py3-none-any.whl (5.1 kB)\n",
            "Requirement already satisfied: google-api-core<3.0.0,>=1.0.0 in /usr/local/lib/python3.8/dist-packages (from opencensus->ray[default]) (2.11.0)\n",
            "Requirement already satisfied: typing-extensions>=4.2.0 in /usr/local/lib/python3.8/dist-packages (from pydantic->ray[default]) (4.4.0)\n",
            "Requirement already satisfied: chardet<5,>=3.0.2 in /usr/local/lib/python3.8/dist-packages (from requests->ray[default]) (4.0.0)\n",
            "Requirement already satisfied: urllib3<1.27,>=1.21.1 in /usr/local/lib/python3.8/dist-packages (from requests->ray[default]) (1.24.3)\n",
            "Requirement already satisfied: certifi>=2017.4.17 in /usr/local/lib/python3.8/dist-packages (from requests->ray[default]) (2022.12.7)\n",
            "Requirement already satisfied: idna<3,>=2.5 in /usr/local/lib/python3.8/dist-packages (from requests->ray[default]) (2.10)\n",
            "Requirement already satisfied: wcwidth>=0.1.4 in /usr/local/lib/python3.8/dist-packages (from blessed>=1.17.1->gpustat>=1.0.0->ray[default]) (0.2.6)\n",
            "Requirement already satisfied: google-auth<3.0dev,>=2.14.1 in /usr/local/lib/python3.8/dist-packages (from google-api-core<3.0.0,>=1.0.0->opencensus->ray[default]) (2.16.0)\n",
            "Requirement already satisfied: googleapis-common-protos<2.0dev,>=1.56.2 in /usr/local/lib/python3.8/dist-packages (from google-api-core<3.0.0,>=1.0.0->opencensus->ray[default]) (1.58.0)\n",
            "Requirement already satisfied: zipp>=3.1.0 in /usr/local/lib/python3.8/dist-packages (from importlib-resources>=1.4.0->jsonschema->ray[default]) (3.12.0)\n",
            "Requirement already satisfied: pyasn1-modules>=0.2.1 in /usr/local/lib/python3.8/dist-packages (from google-auth<3.0dev,>=2.14.1->google-api-core<3.0.0,>=1.0.0->opencensus->ray[default]) (0.2.8)\n",
            "Requirement already satisfied: rsa<5,>=3.1.4 in /usr/local/lib/python3.8/dist-packages (from google-auth<3.0dev,>=2.14.1->google-api-core<3.0.0,>=1.0.0->opencensus->ray[default]) (4.9)\n",
            "Requirement already satisfied: cachetools<6.0,>=2.0.0 in /usr/local/lib/python3.8/dist-packages (from google-auth<3.0dev,>=2.14.1->google-api-core<3.0.0,>=1.0.0->opencensus->ray[default]) (5.3.0)\n",
            "Requirement already satisfied: pyasn1<0.5.0,>=0.4.6 in /usr/local/lib/python3.8/dist-packages (from pyasn1-modules>=0.2.1->google-auth<3.0dev,>=2.14.1->google-api-core<3.0.0,>=1.0.0->opencensus->ray[default]) (0.4.8)\n",
            "Building wheels for collected packages: gpustat\n",
            "  Building wheel for gpustat (setup.py) ... \u001b[?25l\u001b[?25hdone\n",
            "  Created wheel for gpustat: filename=gpustat-1.0.0-py3-none-any.whl size=19887 sha256=12ede84388af264d17ba41b0de02aebb03af8931d2da7003b1f7465610e710b7\n",
            "  Stored in directory: /root/.cache/pip/wheels/1b/ed/14/0d513c962b25da841c42022cb5847c2ef835902c8563b8fb01\n",
            "Successfully built gpustat\n",
            "Installing collected packages: py-spy, opencensus-context, nvidia-ml-py, distlib, colorful, virtualenv, psutil, prometheus-client, blessed, gpustat, ray, aiohttp-cors, opencensus\n",
            "  Attempting uninstall: psutil\n",
            "    Found existing installation: psutil 5.4.8\n",
            "    Uninstalling psutil-5.4.8:\n",
            "      Successfully uninstalled psutil-5.4.8\n",
            "  Attempting uninstall: prometheus-client\n",
            "    Found existing installation: prometheus-client 0.16.0\n",
            "    Uninstalling prometheus-client-0.16.0:\n",
            "      Successfully uninstalled prometheus-client-0.16.0\n",
            "Successfully installed aiohttp-cors-0.7.0 blessed-1.20.0 colorful-0.5.5 distlib-0.3.6 gpustat-1.0.0 nvidia-ml-py-11.495.46 opencensus-0.11.1 opencensus-context-0.1.3 prometheus-client-0.13.1 psutil-5.9.4 py-spy-0.3.14 ray-2.2.0 virtualenv-20.19.0\n"
          ]
        },
        {
          "output_type": "display_data",
          "data": {
            "application/vnd.colab-display-data+json": {
              "pip_warning": {
                "packages": [
                  "psutil"
                ]
              }
            }
          },
          "metadata": {}
        },
        {
          "output_type": "stream",
          "name": "stdout",
          "text": [
            "Looking in indexes: https://pypi.org/simple, https://us-python.pkg.dev/colab-wheels/public/simple/\n",
            "Requirement already satisfied: ray[tune] in /usr/local/lib/python3.8/dist-packages (2.2.0)\n",
            "Requirement already satisfied: grpcio>=1.32.0 in /usr/local/lib/python3.8/dist-packages (from ray[tune]) (1.51.1)\n",
            "Requirement already satisfied: jsonschema in /usr/local/lib/python3.8/dist-packages (from ray[tune]) (4.3.3)\n",
            "Requirement already satisfied: frozenlist in /usr/local/lib/python3.8/dist-packages (from ray[tune]) (1.3.3)\n",
            "Requirement already satisfied: msgpack<2.0.0,>=1.0.0 in /usr/local/lib/python3.8/dist-packages (from ray[tune]) (1.0.4)\n",
            "Requirement already satisfied: click>=7.0 in /usr/local/lib/python3.8/dist-packages (from ray[tune]) (7.1.2)\n",
            "Requirement already satisfied: numpy>=1.16 in /usr/local/lib/python3.8/dist-packages (from ray[tune]) (1.21.6)\n",
            "Requirement already satisfied: filelock in /usr/local/lib/python3.8/dist-packages (from ray[tune]) (3.9.0)\n",
            "Requirement already satisfied: requests in /usr/local/lib/python3.8/dist-packages (from ray[tune]) (2.25.1)\n",
            "Requirement already satisfied: aiosignal in /usr/local/lib/python3.8/dist-packages (from ray[tune]) (1.3.1)\n",
            "Requirement already satisfied: protobuf!=3.19.5,>=3.15.3 in /usr/local/lib/python3.8/dist-packages (from ray[tune]) (3.19.6)\n",
            "Requirement already satisfied: virtualenv>=20.0.24 in /usr/local/lib/python3.8/dist-packages (from ray[tune]) (20.19.0)\n",
            "Requirement already satisfied: pyyaml in /usr/local/lib/python3.8/dist-packages (from ray[tune]) (6.0)\n",
            "Requirement already satisfied: attrs in /usr/local/lib/python3.8/dist-packages (from ray[tune]) (22.2.0)\n",
            "Requirement already satisfied: pandas in /usr/local/lib/python3.8/dist-packages (from ray[tune]) (1.3.5)\n",
            "Requirement already satisfied: tabulate in /usr/local/lib/python3.8/dist-packages (from ray[tune]) (0.8.10)\n",
            "Collecting tensorboardX>=1.9\n",
            "  Downloading tensorboardX-2.5.1-py2.py3-none-any.whl (125 kB)\n",
            "\u001b[2K     \u001b[90m━━━━━━━━━━━━━━━━━━━━━━━━━━━━━━━━━━━━━━━\u001b[0m \u001b[32m125.4/125.4 KB\u001b[0m \u001b[31m4.1 MB/s\u001b[0m eta \u001b[36m0:00:00\u001b[0m\n",
            "\u001b[?25hRequirement already satisfied: platformdirs<4,>=2.4 in /usr/local/lib/python3.8/dist-packages (from virtualenv>=20.0.24->ray[tune]) (2.6.2)\n",
            "Requirement already satisfied: distlib<1,>=0.3.6 in /usr/local/lib/python3.8/dist-packages (from virtualenv>=20.0.24->ray[tune]) (0.3.6)\n",
            "Requirement already satisfied: importlib-resources>=1.4.0 in /usr/local/lib/python3.8/dist-packages (from jsonschema->ray[tune]) (5.10.2)\n",
            "Requirement already satisfied: pyrsistent!=0.17.0,!=0.17.1,!=0.17.2,>=0.14.0 in /usr/local/lib/python3.8/dist-packages (from jsonschema->ray[tune]) (0.19.3)\n",
            "Requirement already satisfied: python-dateutil>=2.7.3 in /usr/local/lib/python3.8/dist-packages (from pandas->ray[tune]) (2.8.2)\n",
            "Requirement already satisfied: pytz>=2017.3 in /usr/local/lib/python3.8/dist-packages (from pandas->ray[tune]) (2022.7.1)\n",
            "Requirement already satisfied: chardet<5,>=3.0.2 in /usr/local/lib/python3.8/dist-packages (from requests->ray[tune]) (4.0.0)\n",
            "Requirement already satisfied: certifi>=2017.4.17 in /usr/local/lib/python3.8/dist-packages (from requests->ray[tune]) (2022.12.7)\n",
            "Requirement already satisfied: urllib3<1.27,>=1.21.1 in /usr/local/lib/python3.8/dist-packages (from requests->ray[tune]) (1.24.3)\n",
            "Requirement already satisfied: idna<3,>=2.5 in /usr/local/lib/python3.8/dist-packages (from requests->ray[tune]) (2.10)\n",
            "Requirement already satisfied: zipp>=3.1.0 in /usr/local/lib/python3.8/dist-packages (from importlib-resources>=1.4.0->jsonschema->ray[tune]) (3.12.0)\n",
            "Requirement already satisfied: six>=1.5 in /usr/local/lib/python3.8/dist-packages (from python-dateutil>=2.7.3->pandas->ray[tune]) (1.15.0)\n",
            "Installing collected packages: tensorboardX\n",
            "Successfully installed tensorboardX-2.5.1\n",
            "Looking in indexes: https://pypi.org/simple, https://us-python.pkg.dev/colab-wheels/public/simple/\n",
            "Collecting datasets\n",
            "  Downloading datasets-2.9.0-py3-none-any.whl (462 kB)\n",
            "\u001b[2K     \u001b[90m━━━━━━━━━━━━━━━━━━━━━━━━━━━━━━━━━━━━━━━\u001b[0m \u001b[32m462.8/462.8 KB\u001b[0m \u001b[31m9.8 MB/s\u001b[0m eta \u001b[36m0:00:00\u001b[0m\n",
            "\u001b[?25hRequirement already satisfied: fsspec[http]>=2021.11.1 in /usr/local/lib/python3.8/dist-packages (from datasets) (2023.1.0)\n",
            "Requirement already satisfied: pyyaml>=5.1 in /usr/local/lib/python3.8/dist-packages (from datasets) (6.0)\n",
            "Collecting huggingface-hub<1.0.0,>=0.2.0\n",
            "  Downloading huggingface_hub-0.12.0-py3-none-any.whl (190 kB)\n",
            "\u001b[2K     \u001b[90m━━━━━━━━━━━━━━━━━━━━━━━━━━━━━━━━━━━━━━\u001b[0m \u001b[32m190.3/190.3 KB\u001b[0m \u001b[31m22.1 MB/s\u001b[0m eta \u001b[36m0:00:00\u001b[0m\n",
            "\u001b[?25hRequirement already satisfied: numpy>=1.17 in /usr/local/lib/python3.8/dist-packages (from datasets) (1.21.6)\n",
            "Collecting responses<0.19\n",
            "  Downloading responses-0.18.0-py3-none-any.whl (38 kB)\n",
            "Requirement already satisfied: pandas in /usr/local/lib/python3.8/dist-packages (from datasets) (1.3.5)\n",
            "Requirement already satisfied: requests>=2.19.0 in /usr/local/lib/python3.8/dist-packages (from datasets) (2.25.1)\n",
            "Requirement already satisfied: tqdm>=4.62.1 in /usr/local/lib/python3.8/dist-packages (from datasets) (4.64.1)\n",
            "Requirement already satisfied: dill<0.3.7 in /usr/local/lib/python3.8/dist-packages (from datasets) (0.3.6)\n",
            "Requirement already satisfied: pyarrow>=6.0.0 in /usr/local/lib/python3.8/dist-packages (from datasets) (9.0.0)\n",
            "Requirement already satisfied: aiohttp in /usr/local/lib/python3.8/dist-packages (from datasets) (3.8.3)\n",
            "Requirement already satisfied: packaging in /usr/local/lib/python3.8/dist-packages (from datasets) (23.0)\n",
            "Collecting xxhash\n",
            "  Downloading xxhash-3.2.0-cp38-cp38-manylinux_2_17_x86_64.manylinux2014_x86_64.whl (213 kB)\n",
            "\u001b[2K     \u001b[90m━━━━━━━━━━━━━━━━━━━━━━━━━━━━━━━━━━━━━━\u001b[0m \u001b[32m213.0/213.0 KB\u001b[0m \u001b[31m27.2 MB/s\u001b[0m eta \u001b[36m0:00:00\u001b[0m\n",
            "\u001b[?25hCollecting multiprocess\n",
            "  Downloading multiprocess-0.70.14-py38-none-any.whl (132 kB)\n",
            "\u001b[2K     \u001b[90m━━━━━━━━━━━━━━━━━━━━━━━━━━━━━━━━━━━━━━\u001b[0m \u001b[32m132.0/132.0 KB\u001b[0m \u001b[31m18.6 MB/s\u001b[0m eta \u001b[36m0:00:00\u001b[0m\n",
            "\u001b[?25hRequirement already satisfied: multidict<7.0,>=4.5 in /usr/local/lib/python3.8/dist-packages (from aiohttp->datasets) (6.0.4)\n",
            "Requirement already satisfied: aiosignal>=1.1.2 in /usr/local/lib/python3.8/dist-packages (from aiohttp->datasets) (1.3.1)\n",
            "Requirement already satisfied: charset-normalizer<3.0,>=2.0 in /usr/local/lib/python3.8/dist-packages (from aiohttp->datasets) (2.1.1)\n",
            "Requirement already satisfied: attrs>=17.3.0 in /usr/local/lib/python3.8/dist-packages (from aiohttp->datasets) (22.2.0)\n",
            "Requirement already satisfied: frozenlist>=1.1.1 in /usr/local/lib/python3.8/dist-packages (from aiohttp->datasets) (1.3.3)\n",
            "Requirement already satisfied: async-timeout<5.0,>=4.0.0a3 in /usr/local/lib/python3.8/dist-packages (from aiohttp->datasets) (4.0.2)\n",
            "Requirement already satisfied: yarl<2.0,>=1.0 in /usr/local/lib/python3.8/dist-packages (from aiohttp->datasets) (1.8.2)\n",
            "Requirement already satisfied: filelock in /usr/local/lib/python3.8/dist-packages (from huggingface-hub<1.0.0,>=0.2.0->datasets) (3.9.0)\n",
            "Requirement already satisfied: typing-extensions>=3.7.4.3 in /usr/local/lib/python3.8/dist-packages (from huggingface-hub<1.0.0,>=0.2.0->datasets) (4.4.0)\n",
            "Requirement already satisfied: idna<3,>=2.5 in /usr/local/lib/python3.8/dist-packages (from requests>=2.19.0->datasets) (2.10)\n",
            "Requirement already satisfied: chardet<5,>=3.0.2 in /usr/local/lib/python3.8/dist-packages (from requests>=2.19.0->datasets) (4.0.0)\n",
            "Requirement already satisfied: urllib3<1.27,>=1.21.1 in /usr/local/lib/python3.8/dist-packages (from requests>=2.19.0->datasets) (1.24.3)\n",
            "Requirement already satisfied: certifi>=2017.4.17 in /usr/local/lib/python3.8/dist-packages (from requests>=2.19.0->datasets) (2022.12.7)\n",
            "Collecting urllib3<1.27,>=1.21.1\n",
            "  Downloading urllib3-1.26.14-py2.py3-none-any.whl (140 kB)\n",
            "\u001b[2K     \u001b[90m━━━━━━━━━━━━━━━━━━━━━━━━━━━━━━━━━━━━━━\u001b[0m \u001b[32m140.6/140.6 KB\u001b[0m \u001b[31m20.8 MB/s\u001b[0m eta \u001b[36m0:00:00\u001b[0m\n",
            "\u001b[?25hRequirement already satisfied: python-dateutil>=2.7.3 in /usr/local/lib/python3.8/dist-packages (from pandas->datasets) (2.8.2)\n",
            "Requirement already satisfied: pytz>=2017.3 in /usr/local/lib/python3.8/dist-packages (from pandas->datasets) (2022.7.1)\n",
            "Requirement already satisfied: six>=1.5 in /usr/local/lib/python3.8/dist-packages (from python-dateutil>=2.7.3->pandas->datasets) (1.15.0)\n",
            "Installing collected packages: xxhash, urllib3, multiprocess, responses, huggingface-hub, datasets\n",
            "  Attempting uninstall: urllib3\n",
            "    Found existing installation: urllib3 1.24.3\n",
            "    Uninstalling urllib3-1.24.3:\n",
            "      Successfully uninstalled urllib3-1.24.3\n",
            "Successfully installed datasets-2.9.0 huggingface-hub-0.12.0 multiprocess-0.70.14 responses-0.18.0 urllib3-1.26.14 xxhash-3.2.0\n",
            "Looking in indexes: https://pypi.org/simple, https://us-python.pkg.dev/colab-wheels/public/simple/\n",
            "Collecting transformers\n",
            "  Downloading transformers-4.26.0-py3-none-any.whl (6.3 MB)\n",
            "\u001b[2K     \u001b[90m━━━━━━━━━━━━━━━━━━━━━━━━━━━━━━━━━━━━━━━━\u001b[0m \u001b[32m6.3/6.3 MB\u001b[0m \u001b[31m54.1 MB/s\u001b[0m eta \u001b[36m0:00:00\u001b[0m\n",
            "\u001b[?25hRequirement already satisfied: regex!=2019.12.17 in /usr/local/lib/python3.8/dist-packages (from transformers) (2022.6.2)\n",
            "Requirement already satisfied: filelock in /usr/local/lib/python3.8/dist-packages (from transformers) (3.9.0)\n",
            "Requirement already satisfied: packaging>=20.0 in /usr/local/lib/python3.8/dist-packages (from transformers) (23.0)\n",
            "Requirement already satisfied: pyyaml>=5.1 in /usr/local/lib/python3.8/dist-packages (from transformers) (6.0)\n",
            "Requirement already satisfied: huggingface-hub<1.0,>=0.11.0 in /usr/local/lib/python3.8/dist-packages (from transformers) (0.12.0)\n",
            "Requirement already satisfied: tqdm>=4.27 in /usr/local/lib/python3.8/dist-packages (from transformers) (4.64.1)\n",
            "Requirement already satisfied: numpy>=1.17 in /usr/local/lib/python3.8/dist-packages (from transformers) (1.21.6)\n",
            "Requirement already satisfied: requests in /usr/local/lib/python3.8/dist-packages (from transformers) (2.25.1)\n",
            "Collecting tokenizers!=0.11.3,<0.14,>=0.11.1\n",
            "  Downloading tokenizers-0.13.2-cp38-cp38-manylinux_2_17_x86_64.manylinux2014_x86_64.whl (7.6 MB)\n",
            "\u001b[2K     \u001b[90m━━━━━━━━━━━━━━━━━━━━━━━━━━━━━━━━━━━━━━━━\u001b[0m \u001b[32m7.6/7.6 MB\u001b[0m \u001b[31m102.6 MB/s\u001b[0m eta \u001b[36m0:00:00\u001b[0m\n",
            "\u001b[?25hRequirement already satisfied: typing-extensions>=3.7.4.3 in /usr/local/lib/python3.8/dist-packages (from huggingface-hub<1.0,>=0.11.0->transformers) (4.4.0)\n",
            "Requirement already satisfied: idna<3,>=2.5 in /usr/local/lib/python3.8/dist-packages (from requests->transformers) (2.10)\n",
            "Requirement already satisfied: certifi>=2017.4.17 in /usr/local/lib/python3.8/dist-packages (from requests->transformers) (2022.12.7)\n",
            "Requirement already satisfied: urllib3<1.27,>=1.21.1 in /usr/local/lib/python3.8/dist-packages (from requests->transformers) (1.26.14)\n",
            "Requirement already satisfied: chardet<5,>=3.0.2 in /usr/local/lib/python3.8/dist-packages (from requests->transformers) (4.0.0)\n",
            "Installing collected packages: tokenizers, transformers\n",
            "Successfully installed tokenizers-0.13.2 transformers-4.26.0\n",
            "Looking in indexes: https://pypi.org/simple, https://us-python.pkg.dev/colab-wheels/public/simple/\n",
            "Collecting sentence-transformers\n",
            "  Downloading sentence-transformers-2.2.2.tar.gz (85 kB)\n",
            "\u001b[2K     \u001b[90m━━━━━━━━━━━━━━━━━━━━━━━━━━━━━━━━━━━━━━━━\u001b[0m \u001b[32m86.0/86.0 KB\u001b[0m \u001b[31m3.6 MB/s\u001b[0m eta \u001b[36m0:00:00\u001b[0m\n",
            "\u001b[?25h  Preparing metadata (setup.py) ... \u001b[?25l\u001b[?25hdone\n",
            "Requirement already satisfied: transformers<5.0.0,>=4.6.0 in /usr/local/lib/python3.8/dist-packages (from sentence-transformers) (4.26.0)\n",
            "Requirement already satisfied: tqdm in /usr/local/lib/python3.8/dist-packages (from sentence-transformers) (4.64.1)\n",
            "Requirement already satisfied: torch>=1.6.0 in /usr/local/lib/python3.8/dist-packages (from sentence-transformers) (1.13.1+cu116)\n",
            "Requirement already satisfied: torchvision in /usr/local/lib/python3.8/dist-packages (from sentence-transformers) (0.14.1+cu116)\n",
            "Requirement already satisfied: numpy in /usr/local/lib/python3.8/dist-packages (from sentence-transformers) (1.21.6)\n",
            "Requirement already satisfied: scikit-learn in /usr/local/lib/python3.8/dist-packages (from sentence-transformers) (1.0.2)\n",
            "Requirement already satisfied: scipy in /usr/local/lib/python3.8/dist-packages (from sentence-transformers) (1.7.3)\n",
            "Requirement already satisfied: nltk in /usr/local/lib/python3.8/dist-packages (from sentence-transformers) (3.7)\n",
            "Collecting sentencepiece\n",
            "  Downloading sentencepiece-0.1.97-cp38-cp38-manylinux_2_17_x86_64.manylinux2014_x86_64.whl (1.3 MB)\n",
            "\u001b[2K     \u001b[90m━━━━━━━━━━━━━━━━━━━━━━━━━━━━━━━━━━━━━━━━\u001b[0m \u001b[32m1.3/1.3 MB\u001b[0m \u001b[31m25.3 MB/s\u001b[0m eta \u001b[36m0:00:00\u001b[0m\n",
            "\u001b[?25hRequirement already satisfied: huggingface-hub>=0.4.0 in /usr/local/lib/python3.8/dist-packages (from sentence-transformers) (0.12.0)\n",
            "Requirement already satisfied: packaging>=20.9 in /usr/local/lib/python3.8/dist-packages (from huggingface-hub>=0.4.0->sentence-transformers) (23.0)\n",
            "Requirement already satisfied: pyyaml>=5.1 in /usr/local/lib/python3.8/dist-packages (from huggingface-hub>=0.4.0->sentence-transformers) (6.0)\n",
            "Requirement already satisfied: filelock in /usr/local/lib/python3.8/dist-packages (from huggingface-hub>=0.4.0->sentence-transformers) (3.9.0)\n",
            "Requirement already satisfied: requests in /usr/local/lib/python3.8/dist-packages (from huggingface-hub>=0.4.0->sentence-transformers) (2.25.1)\n",
            "Requirement already satisfied: typing-extensions>=3.7.4.3 in /usr/local/lib/python3.8/dist-packages (from huggingface-hub>=0.4.0->sentence-transformers) (4.4.0)\n",
            "Requirement already satisfied: regex!=2019.12.17 in /usr/local/lib/python3.8/dist-packages (from transformers<5.0.0,>=4.6.0->sentence-transformers) (2022.6.2)\n",
            "Requirement already satisfied: tokenizers!=0.11.3,<0.14,>=0.11.1 in /usr/local/lib/python3.8/dist-packages (from transformers<5.0.0,>=4.6.0->sentence-transformers) (0.13.2)\n",
            "Requirement already satisfied: joblib in /usr/local/lib/python3.8/dist-packages (from nltk->sentence-transformers) (1.2.0)\n",
            "Requirement already satisfied: click in /usr/local/lib/python3.8/dist-packages (from nltk->sentence-transformers) (7.1.2)\n",
            "Requirement already satisfied: threadpoolctl>=2.0.0 in /usr/local/lib/python3.8/dist-packages (from scikit-learn->sentence-transformers) (3.1.0)\n",
            "Requirement already satisfied: pillow!=8.3.*,>=5.3.0 in /usr/local/lib/python3.8/dist-packages (from torchvision->sentence-transformers) (7.1.2)\n",
            "Requirement already satisfied: idna<3,>=2.5 in /usr/local/lib/python3.8/dist-packages (from requests->huggingface-hub>=0.4.0->sentence-transformers) (2.10)\n",
            "Requirement already satisfied: chardet<5,>=3.0.2 in /usr/local/lib/python3.8/dist-packages (from requests->huggingface-hub>=0.4.0->sentence-transformers) (4.0.0)\n",
            "Requirement already satisfied: certifi>=2017.4.17 in /usr/local/lib/python3.8/dist-packages (from requests->huggingface-hub>=0.4.0->sentence-transformers) (2022.12.7)\n",
            "Requirement already satisfied: urllib3<1.27,>=1.21.1 in /usr/local/lib/python3.8/dist-packages (from requests->huggingface-hub>=0.4.0->sentence-transformers) (1.26.14)\n",
            "Building wheels for collected packages: sentence-transformers\n",
            "  Building wheel for sentence-transformers (setup.py) ... \u001b[?25l\u001b[?25hdone\n",
            "  Created wheel for sentence-transformers: filename=sentence_transformers-2.2.2-py3-none-any.whl size=125938 sha256=d45495f9a17bee105f8d9dd82283256829490168ffdb7ce8342325590401de43\n",
            "  Stored in directory: /root/.cache/pip/wheels/5e/6f/8c/d88aec621f3f542d26fac0342bef5e693335d125f4e54aeffe\n",
            "Successfully built sentence-transformers\n",
            "Installing collected packages: sentencepiece, sentence-transformers\n",
            "Successfully installed sentence-transformers-2.2.2 sentencepiece-0.1.97\n",
            "Looking in indexes: https://pypi.org/simple, https://us-python.pkg.dev/colab-wheels/public/simple/\n",
            "Requirement already satisfied: scikit-learn in /usr/local/lib/python3.8/dist-packages (1.0.2)\n",
            "Requirement already satisfied: numpy>=1.14.6 in /usr/local/lib/python3.8/dist-packages (from scikit-learn) (1.21.6)\n",
            "Requirement already satisfied: scipy>=1.1.0 in /usr/local/lib/python3.8/dist-packages (from scikit-learn) (1.7.3)\n",
            "Requirement already satisfied: threadpoolctl>=2.0.0 in /usr/local/lib/python3.8/dist-packages (from scikit-learn) (3.1.0)\n",
            "Requirement already satisfied: joblib>=0.11 in /usr/local/lib/python3.8/dist-packages (from scikit-learn) (1.2.0)\n",
            "Looking in indexes: https://pypi.org/simple, https://us-python.pkg.dev/colab-wheels/public/simple/\n",
            "Collecting wandb\n",
            "  Downloading wandb-0.13.10-py3-none-any.whl (2.0 MB)\n",
            "\u001b[2K     \u001b[90m━━━━━━━━━━━━━━━━━━━━━━━━━━━━━━━━━━━━━━━━\u001b[0m \u001b[32m2.0/2.0 MB\u001b[0m \u001b[31m26.6 MB/s\u001b[0m eta \u001b[36m0:00:00\u001b[0m\n",
            "\u001b[?25hRequirement already satisfied: Click!=8.0.0,>=7.0 in /usr/local/lib/python3.8/dist-packages (from wandb) (7.1.2)\n",
            "Requirement already satisfied: psutil>=5.0.0 in /usr/local/lib/python3.8/dist-packages (from wandb) (5.9.4)\n",
            "Requirement already satisfied: requests<3,>=2.0.0 in /usr/local/lib/python3.8/dist-packages (from wandb) (2.25.1)\n",
            "Collecting sentry-sdk>=1.0.0\n",
            "  Downloading sentry_sdk-1.15.0-py2.py3-none-any.whl (181 kB)\n",
            "\u001b[2K     \u001b[90m━━━━━━━━━━━━━━━━━━━━━━━━━━━━━━━━━━━━━━\u001b[0m \u001b[32m181.3/181.3 KB\u001b[0m \u001b[31m23.8 MB/s\u001b[0m eta \u001b[36m0:00:00\u001b[0m\n",
            "\u001b[?25hRequirement already satisfied: protobuf!=4.21.0,<5,>=3.12.0 in /usr/local/lib/python3.8/dist-packages (from wandb) (3.19.6)\n",
            "Collecting pathtools\n",
            "  Downloading pathtools-0.1.2.tar.gz (11 kB)\n",
            "  Preparing metadata (setup.py) ... \u001b[?25l\u001b[?25hdone\n",
            "Collecting docker-pycreds>=0.4.0\n",
            "  Downloading docker_pycreds-0.4.0-py2.py3-none-any.whl (9.0 kB)\n",
            "Collecting setproctitle\n",
            "  Downloading setproctitle-1.3.2-cp38-cp38-manylinux_2_5_x86_64.manylinux1_x86_64.manylinux_2_17_x86_64.manylinux2014_x86_64.whl (31 kB)\n",
            "Requirement already satisfied: setuptools in /usr/local/lib/python3.8/dist-packages (from wandb) (57.4.0)\n",
            "Requirement already satisfied: appdirs>=1.4.3 in /usr/local/lib/python3.8/dist-packages (from wandb) (1.4.4)\n",
            "Requirement already satisfied: typing-extensions in /usr/local/lib/python3.8/dist-packages (from wandb) (4.4.0)\n",
            "Requirement already satisfied: PyYAML in /usr/local/lib/python3.8/dist-packages (from wandb) (6.0)\n",
            "Collecting GitPython>=1.0.0\n",
            "  Downloading GitPython-3.1.30-py3-none-any.whl (184 kB)\n",
            "\u001b[2K     \u001b[90m━━━━━━━━━━━━━━━━━━━━━━━━━━━━━━━━━━━━━━\u001b[0m \u001b[32m184.0/184.0 KB\u001b[0m \u001b[31m22.9 MB/s\u001b[0m eta \u001b[36m0:00:00\u001b[0m\n",
            "\u001b[?25hRequirement already satisfied: six>=1.4.0 in /usr/local/lib/python3.8/dist-packages (from docker-pycreds>=0.4.0->wandb) (1.15.0)\n",
            "Collecting gitdb<5,>=4.0.1\n",
            "  Downloading gitdb-4.0.10-py3-none-any.whl (62 kB)\n",
            "\u001b[2K     \u001b[90m━━━━━━━━━━━━━━━━━━━━━━━━━━━━━━━━━━━━━━━━\u001b[0m \u001b[32m62.7/62.7 KB\u001b[0m \u001b[31m8.9 MB/s\u001b[0m eta \u001b[36m0:00:00\u001b[0m\n",
            "\u001b[?25hRequirement already satisfied: certifi>=2017.4.17 in /usr/local/lib/python3.8/dist-packages (from requests<3,>=2.0.0->wandb) (2022.12.7)\n",
            "Requirement already satisfied: chardet<5,>=3.0.2 in /usr/local/lib/python3.8/dist-packages (from requests<3,>=2.0.0->wandb) (4.0.0)\n",
            "Requirement already satisfied: idna<3,>=2.5 in /usr/local/lib/python3.8/dist-packages (from requests<3,>=2.0.0->wandb) (2.10)\n",
            "Requirement already satisfied: urllib3<1.27,>=1.21.1 in /usr/local/lib/python3.8/dist-packages (from requests<3,>=2.0.0->wandb) (1.26.14)\n",
            "Collecting smmap<6,>=3.0.1\n",
            "  Downloading smmap-5.0.0-py3-none-any.whl (24 kB)\n",
            "Building wheels for collected packages: pathtools\n",
            "  Building wheel for pathtools (setup.py) ... \u001b[?25l\u001b[?25hdone\n",
            "  Created wheel for pathtools: filename=pathtools-0.1.2-py3-none-any.whl size=8806 sha256=4b820f6a7d4f5c5eb2908c6fa6c2b07bca2cc8129bd185b9c7081975fa3836fe\n",
            "  Stored in directory: /root/.cache/pip/wheels/4c/8e/7e/72fbc243e1aeecae64a96875432e70d4e92f3d2d18123be004\n",
            "Successfully built pathtools\n",
            "Installing collected packages: pathtools, smmap, setproctitle, sentry-sdk, docker-pycreds, gitdb, GitPython, wandb\n",
            "Successfully installed GitPython-3.1.30 docker-pycreds-0.4.0 gitdb-4.0.10 pathtools-0.1.2 sentry-sdk-1.15.0 setproctitle-1.3.2 smmap-5.0.0 wandb-0.13.10\n"
          ]
        }
      ],
      "source": [
        "!pip install dotmap\n",
        "!pip install apricot-select\n",
        "!pip install ray[default]\n",
        "!pip install ray[tune]\n",
        "!pip install datasets\n",
        "!pip install transformers\n",
        "!pip install sentence-transformers\n",
        "!pip install scikit-learn\n",
        "!pip install wandb"
      ]
    },
    {
      "cell_type": "markdown",
      "metadata": {
        "id": "hGPvq3LZDoNl"
      },
      "source": [
        "# Install Submodlib"
      ]
    },
    {
      "cell_type": "code",
      "execution_count": 4,
      "metadata": {
        "colab": {
          "base_uri": "https://localhost:8080/"
        },
        "id": "ARGprtqmDnys",
        "outputId": "d340c2f5-ce3e-454f-a19f-b0e1f6d97ec4"
      },
      "outputs": [
        {
          "output_type": "stream",
          "name": "stdout",
          "text": [
            "/content\n",
            "Cloning into 'submodlib'...\n",
            "remote: Enumerating objects: 2563, done.\u001b[K\n",
            "remote: Counting objects: 100% (4/4), done.\u001b[K\n",
            "remote: Compressing objects: 100% (4/4), done.\u001b[K\n",
            "remote: Total 2563 (delta 0), reused 0 (delta 0), pack-reused 2559\u001b[K\n",
            "Receiving objects: 100% (2563/2563), 30.56 MiB | 28.19 MiB/s, done.\n",
            "Resolving deltas: 100% (1909/1909), done.\n",
            "/content/submodlib\n",
            "Looking in indexes: https://pypi.org/simple, https://us-python.pkg.dev/colab-wheels/public/simple/\n",
            "Processing /content/submodlib\n",
            "  Installing build dependencies ... \u001b[?25l\u001b[?25hdone\n",
            "  Getting requirements to build wheel ... \u001b[?25l\u001b[?25hdone\n",
            "  Preparing metadata (pyproject.toml) ... \u001b[?25l\u001b[?25hdone\n",
            "Requirement already satisfied: scipy in /usr/local/lib/python3.8/dist-packages (from submodlib==1.1.5) (1.7.3)\n",
            "Requirement already satisfied: numba in /usr/local/lib/python3.8/dist-packages (from submodlib==1.1.5) (0.56.4)\n",
            "Collecting sklearn\n",
            "  Downloading sklearn-0.0.post1.tar.gz (3.6 kB)\n",
            "  Preparing metadata (setup.py) ... \u001b[?25l\u001b[?25hdone\n",
            "Collecting numpy==1.20.1\n",
            "  Downloading numpy-1.20.1-cp38-cp38-manylinux2010_x86_64.whl (15.4 MB)\n",
            "\u001b[2K     \u001b[90m━━━━━━━━━━━━━━━━━━━━━━━━━━━━━━━━━━━━━━━━\u001b[0m \u001b[32m15.4/15.4 MB\u001b[0m \u001b[31m88.2 MB/s\u001b[0m eta \u001b[36m0:00:00\u001b[0m\n",
            "\u001b[?25hRequirement already satisfied: setuptools in /usr/local/lib/python3.8/dist-packages (from numba->submodlib==1.1.5) (57.4.0)\n",
            "Requirement already satisfied: importlib-metadata in /usr/local/lib/python3.8/dist-packages (from numba->submodlib==1.1.5) (6.0.0)\n",
            "Requirement already satisfied: llvmlite<0.40,>=0.39.0dev0 in /usr/local/lib/python3.8/dist-packages (from numba->submodlib==1.1.5) (0.39.1)\n",
            "Requirement already satisfied: zipp>=0.5 in /usr/local/lib/python3.8/dist-packages (from importlib-metadata->numba->submodlib==1.1.5) (3.12.0)\n",
            "Building wheels for collected packages: submodlib, sklearn\n",
            "  Building wheel for submodlib (pyproject.toml) ... \u001b[?25l\u001b[?25hdone\n",
            "  Created wheel for submodlib: filename=submodlib-1.1.5-cp38-cp38-linux_x86_64.whl size=523302 sha256=89c1b0efc049b7f2ce4aa7a55960be68697f366d3ab3fdecbf83237ba7dc4d2f\n",
            "  Stored in directory: /tmp/pip-ephem-wheel-cache-nf9ibwqy/wheels/fd/7d/9b/2f261fe9459159cc1d6a3d049b17f6871ef9f89e0d7da9966d\n",
            "  Building wheel for sklearn (setup.py) ... \u001b[?25l\u001b[?25hdone\n",
            "  Created wheel for sklearn: filename=sklearn-0.0.post1-py3-none-any.whl size=2344 sha256=216359b27e33e060675f01a604121b88e9c8b47899bfbca725ebb4eb1e9bc5da\n",
            "  Stored in directory: /root/.cache/pip/wheels/14/25/f7/1cc0956978ae479e75140219088deb7a36f60459df242b1a72\n",
            "Successfully built submodlib sklearn\n",
            "Installing collected packages: sklearn, numpy, submodlib\n",
            "  Attempting uninstall: numpy\n",
            "    Found existing installation: numpy 1.21.6\n",
            "    Uninstalling numpy-1.21.6:\n",
            "      Successfully uninstalled numpy-1.21.6\n",
            "\u001b[31mERROR: pip's dependency resolver does not currently take into account all the packages that are installed. This behaviour is the source of the following dependency conflicts.\n",
            "cmdstanpy 1.1.0 requires numpy>=1.21, but you have numpy 1.20.1 which is incompatible.\u001b[0m\u001b[31m\n",
            "\u001b[0mSuccessfully installed numpy-1.20.1 sklearn-0.0.post1 submodlib-1.1.5\n",
            "/content/cords\n"
          ]
        }
      ],
      "source": [
        "%cd ..\n",
        "!git clone https://github.com/decile-team/submodlib.git\n",
        "%cd submodlib\n",
        "!pip install .\n",
        "%cd ../cords"
      ]
    },
    {
      "cell_type": "code",
      "source": [
        "!pip install ax-platform sqlalchemy"
      ],
      "metadata": {
        "colab": {
          "base_uri": "https://localhost:8080/"
        },
        "id": "c9uX4EgkLojB",
        "outputId": "35d8ece0-d9e2-477a-bd4e-8c9d17bed386"
      },
      "execution_count": 33,
      "outputs": [
        {
          "output_type": "stream",
          "name": "stdout",
          "text": [
            "Looking in indexes: https://pypi.org/simple, https://us-python.pkg.dev/colab-wheels/public/simple/\n",
            "Collecting ax-platform\n",
            "  Downloading ax_platform-0.2.10-py3-none-any.whl (1.1 MB)\n",
            "\u001b[2K     \u001b[90m━━━━━━━━━━━━━━━━━━━━━━━━━━━━━━━━━━━━━━━━\u001b[0m \u001b[32m1.1/1.1 MB\u001b[0m \u001b[31m17.1 MB/s\u001b[0m eta \u001b[36m0:00:00\u001b[0m\n",
            "\u001b[?25hRequirement already satisfied: sqlalchemy in /usr/local/lib/python3.8/dist-packages (1.4.46)\n",
            "Collecting botorch==0.8.0\n",
            "  Downloading botorch-0.8.0-py3-none-any.whl (481 kB)\n",
            "\u001b[2K     \u001b[90m━━━━━━━━━━━━━━━━━━━━━━━━━━━━━━━━━━━━━━\u001b[0m \u001b[32m481.8/481.8 KB\u001b[0m \u001b[31m45.6 MB/s\u001b[0m eta \u001b[36m0:00:00\u001b[0m\n",
            "\u001b[?25hRequirement already satisfied: pandas in /usr/local/lib/python3.8/dist-packages (from ax-platform) (1.3.5)\n",
            "Requirement already satisfied: scikit-learn in /usr/local/lib/python3.8/dist-packages (from ax-platform) (1.0.2)\n",
            "Requirement already satisfied: jinja2 in /usr/local/lib/python3.8/dist-packages (from ax-platform) (2.11.3)\n",
            "Requirement already satisfied: scipy in /usr/local/lib/python3.8/dist-packages (from ax-platform) (1.7.3)\n",
            "Requirement already satisfied: typeguard in /usr/local/lib/python3.8/dist-packages (from ax-platform) (2.7.1)\n",
            "Requirement already satisfied: plotly in /usr/local/lib/python3.8/dist-packages (from ax-platform) (5.5.0)\n",
            "Requirement already satisfied: ipywidgets<8.0.0 in /usr/local/lib/python3.8/dist-packages (from ax-platform) (7.7.1)\n",
            "Collecting linear-operator==0.2.0\n",
            "  Downloading linear_operator-0.2.0-py3-none-any.whl (152 kB)\n",
            "\u001b[2K     \u001b[90m━━━━━━━━━━━━━━━━━━━━━━━━━━━━━━━━━━━━━━\u001b[0m \u001b[32m153.0/153.0 KB\u001b[0m \u001b[31m22.0 MB/s\u001b[0m eta \u001b[36m0:00:00\u001b[0m\n",
            "\u001b[?25hRequirement already satisfied: torch>=1.11 in /usr/local/lib/python3.8/dist-packages (from botorch==0.8.0->ax-platform) (1.13.1+cu116)\n",
            "Requirement already satisfied: multipledispatch in /usr/local/lib/python3.8/dist-packages (from botorch==0.8.0->ax-platform) (0.6.0)\n",
            "Collecting pyro-ppl>=1.8.2\n",
            "  Downloading pyro_ppl-1.8.4-py3-none-any.whl (730 kB)\n",
            "\u001b[2K     \u001b[90m━━━━━━━━━━━━━━━━━━━━━━━━━━━━━━━━━━━━━━\u001b[0m \u001b[32m730.7/730.7 KB\u001b[0m \u001b[31m60.7 MB/s\u001b[0m eta \u001b[36m0:00:00\u001b[0m\n",
            "\u001b[?25hCollecting gpytorch==1.9.0\n",
            "  Downloading gpytorch-1.9.0-py3-none-any.whl (245 kB)\n",
            "\u001b[2K     \u001b[90m━━━━━━━━━━━━━━━━━━━━━━━━━━━━━━━━━━━━━━\u001b[0m \u001b[32m245.8/245.8 KB\u001b[0m \u001b[31m29.8 MB/s\u001b[0m eta \u001b[36m0:00:00\u001b[0m\n",
            "\u001b[?25hRequirement already satisfied: greenlet!=0.4.17 in /usr/local/lib/python3.8/dist-packages (from sqlalchemy) (2.0.2)\n",
            "Requirement already satisfied: ipykernel>=4.5.1 in /usr/local/lib/python3.8/dist-packages (from ipywidgets<8.0.0->ax-platform) (5.3.4)\n",
            "Requirement already satisfied: ipython-genutils~=0.2.0 in /usr/local/lib/python3.8/dist-packages (from ipywidgets<8.0.0->ax-platform) (0.2.0)\n",
            "Requirement already satisfied: traitlets>=4.3.1 in /usr/local/lib/python3.8/dist-packages (from ipywidgets<8.0.0->ax-platform) (5.7.1)\n",
            "Requirement already satisfied: ipython>=4.0.0 in /usr/local/lib/python3.8/dist-packages (from ipywidgets<8.0.0->ax-platform) (7.9.0)\n",
            "Requirement already satisfied: widgetsnbextension~=3.6.0 in /usr/local/lib/python3.8/dist-packages (from ipywidgets<8.0.0->ax-platform) (3.6.1)\n",
            "Requirement already satisfied: jupyterlab-widgets>=1.0.0 in /usr/local/lib/python3.8/dist-packages (from ipywidgets<8.0.0->ax-platform) (3.0.5)\n",
            "Requirement already satisfied: MarkupSafe>=0.23 in /usr/local/lib/python3.8/dist-packages (from jinja2->ax-platform) (2.0.1)\n",
            "Requirement already satisfied: pytz>=2017.3 in /usr/local/lib/python3.8/dist-packages (from pandas->ax-platform) (2022.7.1)\n",
            "Requirement already satisfied: python-dateutil>=2.7.3 in /usr/local/lib/python3.8/dist-packages (from pandas->ax-platform) (2.8.2)\n",
            "Requirement already satisfied: numpy>=1.17.3 in /usr/local/lib/python3.8/dist-packages (from pandas->ax-platform) (1.20.1)\n",
            "Requirement already satisfied: tenacity>=6.2.0 in /usr/local/lib/python3.8/dist-packages (from plotly->ax-platform) (8.1.0)\n",
            "Requirement already satisfied: six in /usr/local/lib/python3.8/dist-packages (from plotly->ax-platform) (1.15.0)\n",
            "Requirement already satisfied: threadpoolctl>=2.0.0 in /usr/local/lib/python3.8/dist-packages (from scikit-learn->ax-platform) (3.1.0)\n",
            "Requirement already satisfied: joblib>=0.11 in /usr/local/lib/python3.8/dist-packages (from scikit-learn->ax-platform) (1.2.0)\n",
            "Requirement already satisfied: tornado>=4.2 in /usr/local/lib/python3.8/dist-packages (from ipykernel>=4.5.1->ipywidgets<8.0.0->ax-platform) (6.0.4)\n",
            "Requirement already satisfied: jupyter-client in /usr/local/lib/python3.8/dist-packages (from ipykernel>=4.5.1->ipywidgets<8.0.0->ax-platform) (6.1.12)\n",
            "Requirement already satisfied: setuptools>=18.5 in /usr/local/lib/python3.8/dist-packages (from ipython>=4.0.0->ipywidgets<8.0.0->ax-platform) (57.4.0)\n",
            "Requirement already satisfied: pygments in /usr/local/lib/python3.8/dist-packages (from ipython>=4.0.0->ipywidgets<8.0.0->ax-platform) (2.6.1)\n",
            "Requirement already satisfied: backcall in /usr/local/lib/python3.8/dist-packages (from ipython>=4.0.0->ipywidgets<8.0.0->ax-platform) (0.2.0)\n",
            "Requirement already satisfied: prompt-toolkit<2.1.0,>=2.0.0 in /usr/local/lib/python3.8/dist-packages (from ipython>=4.0.0->ipywidgets<8.0.0->ax-platform) (2.0.10)\n",
            "Requirement already satisfied: pickleshare in /usr/local/lib/python3.8/dist-packages (from ipython>=4.0.0->ipywidgets<8.0.0->ax-platform) (0.7.5)\n",
            "Collecting jedi>=0.10\n",
            "  Downloading jedi-0.18.2-py2.py3-none-any.whl (1.6 MB)\n",
            "\u001b[2K     \u001b[90m━━━━━━━━━━━━━━━━━━━━━━━━━━━━━━━━━━━━━━━━\u001b[0m \u001b[32m1.6/1.6 MB\u001b[0m \u001b[31m67.0 MB/s\u001b[0m eta \u001b[36m0:00:00\u001b[0m\n",
            "\u001b[?25hRequirement already satisfied: pexpect in /usr/local/lib/python3.8/dist-packages (from ipython>=4.0.0->ipywidgets<8.0.0->ax-platform) (4.8.0)\n",
            "Requirement already satisfied: decorator in /usr/local/lib/python3.8/dist-packages (from ipython>=4.0.0->ipywidgets<8.0.0->ax-platform) (4.4.2)\n",
            "Requirement already satisfied: tqdm>=4.36 in /usr/local/lib/python3.8/dist-packages (from pyro-ppl>=1.8.2->botorch==0.8.0->ax-platform) (4.64.1)\n",
            "Requirement already satisfied: opt-einsum>=2.3.2 in /usr/local/lib/python3.8/dist-packages (from pyro-ppl>=1.8.2->botorch==0.8.0->ax-platform) (3.3.0)\n",
            "Collecting pyro-api>=0.1.1\n",
            "  Downloading pyro_api-0.1.2-py3-none-any.whl (11 kB)\n",
            "Requirement already satisfied: typing-extensions in /usr/local/lib/python3.8/dist-packages (from torch>=1.11->botorch==0.8.0->ax-platform) (4.4.0)\n",
            "Requirement already satisfied: notebook>=4.4.1 in /usr/local/lib/python3.8/dist-packages (from widgetsnbextension~=3.6.0->ipywidgets<8.0.0->ax-platform) (5.7.16)\n",
            "Requirement already satisfied: parso<0.9.0,>=0.8.0 in /usr/local/lib/python3.8/dist-packages (from jedi>=0.10->ipython>=4.0.0->ipywidgets<8.0.0->ax-platform) (0.8.3)\n",
            "Requirement already satisfied: nbconvert<6.0 in /usr/local/lib/python3.8/dist-packages (from notebook>=4.4.1->widgetsnbextension~=3.6.0->ipywidgets<8.0.0->ax-platform) (5.6.1)\n",
            "Requirement already satisfied: pyzmq>=17 in /usr/local/lib/python3.8/dist-packages (from notebook>=4.4.1->widgetsnbextension~=3.6.0->ipywidgets<8.0.0->ax-platform) (23.2.1)\n",
            "Requirement already satisfied: jupyter-core>=4.4.0 in /usr/local/lib/python3.8/dist-packages (from notebook>=4.4.1->widgetsnbextension~=3.6.0->ipywidgets<8.0.0->ax-platform) (5.2.0)\n",
            "Requirement already satisfied: nbformat in /usr/local/lib/python3.8/dist-packages (from notebook>=4.4.1->widgetsnbextension~=3.6.0->ipywidgets<8.0.0->ax-platform) (5.7.3)\n",
            "Requirement already satisfied: Send2Trash in /usr/local/lib/python3.8/dist-packages (from notebook>=4.4.1->widgetsnbextension~=3.6.0->ipywidgets<8.0.0->ax-platform) (1.8.0)\n",
            "Requirement already satisfied: terminado>=0.8.1 in /usr/local/lib/python3.8/dist-packages (from notebook>=4.4.1->widgetsnbextension~=3.6.0->ipywidgets<8.0.0->ax-platform) (0.13.3)\n",
            "Requirement already satisfied: prometheus-client in /usr/local/lib/python3.8/dist-packages (from notebook>=4.4.1->widgetsnbextension~=3.6.0->ipywidgets<8.0.0->ax-platform) (0.13.1)\n",
            "Requirement already satisfied: wcwidth in /usr/local/lib/python3.8/dist-packages (from prompt-toolkit<2.1.0,>=2.0.0->ipython>=4.0.0->ipywidgets<8.0.0->ax-platform) (0.2.6)\n",
            "Requirement already satisfied: ptyprocess>=0.5 in /usr/local/lib/python3.8/dist-packages (from pexpect->ipython>=4.0.0->ipywidgets<8.0.0->ax-platform) (0.7.0)\n",
            "Requirement already satisfied: platformdirs>=2.5 in /usr/local/lib/python3.8/dist-packages (from jupyter-core>=4.4.0->notebook>=4.4.1->widgetsnbextension~=3.6.0->ipywidgets<8.0.0->ax-platform) (2.6.2)\n",
            "Requirement already satisfied: testpath in /usr/local/lib/python3.8/dist-packages (from nbconvert<6.0->notebook>=4.4.1->widgetsnbextension~=3.6.0->ipywidgets<8.0.0->ax-platform) (0.6.0)\n",
            "Requirement already satisfied: entrypoints>=0.2.2 in /usr/local/lib/python3.8/dist-packages (from nbconvert<6.0->notebook>=4.4.1->widgetsnbextension~=3.6.0->ipywidgets<8.0.0->ax-platform) (0.4)\n",
            "Requirement already satisfied: bleach in /usr/local/lib/python3.8/dist-packages (from nbconvert<6.0->notebook>=4.4.1->widgetsnbextension~=3.6.0->ipywidgets<8.0.0->ax-platform) (6.0.0)\n",
            "Requirement already satisfied: defusedxml in /usr/local/lib/python3.8/dist-packages (from nbconvert<6.0->notebook>=4.4.1->widgetsnbextension~=3.6.0->ipywidgets<8.0.0->ax-platform) (0.7.1)\n",
            "Requirement already satisfied: pandocfilters>=1.4.1 in /usr/local/lib/python3.8/dist-packages (from nbconvert<6.0->notebook>=4.4.1->widgetsnbextension~=3.6.0->ipywidgets<8.0.0->ax-platform) (1.5.0)\n",
            "Requirement already satisfied: mistune<2,>=0.8.1 in /usr/local/lib/python3.8/dist-packages (from nbconvert<6.0->notebook>=4.4.1->widgetsnbextension~=3.6.0->ipywidgets<8.0.0->ax-platform) (0.8.4)\n",
            "Requirement already satisfied: fastjsonschema in /usr/local/lib/python3.8/dist-packages (from nbformat->notebook>=4.4.1->widgetsnbextension~=3.6.0->ipywidgets<8.0.0->ax-platform) (2.16.2)\n",
            "Requirement already satisfied: jsonschema>=2.6 in /usr/local/lib/python3.8/dist-packages (from nbformat->notebook>=4.4.1->widgetsnbextension~=3.6.0->ipywidgets<8.0.0->ax-platform) (4.3.3)\n",
            "Requirement already satisfied: attrs>=17.4.0 in /usr/local/lib/python3.8/dist-packages (from jsonschema>=2.6->nbformat->notebook>=4.4.1->widgetsnbextension~=3.6.0->ipywidgets<8.0.0->ax-platform) (22.2.0)\n",
            "Requirement already satisfied: pyrsistent!=0.17.0,!=0.17.1,!=0.17.2,>=0.14.0 in /usr/local/lib/python3.8/dist-packages (from jsonschema>=2.6->nbformat->notebook>=4.4.1->widgetsnbextension~=3.6.0->ipywidgets<8.0.0->ax-platform) (0.19.3)\n",
            "Requirement already satisfied: importlib-resources>=1.4.0 in /usr/local/lib/python3.8/dist-packages (from jsonschema>=2.6->nbformat->notebook>=4.4.1->widgetsnbextension~=3.6.0->ipywidgets<8.0.0->ax-platform) (5.10.2)\n",
            "Requirement already satisfied: webencodings in /usr/local/lib/python3.8/dist-packages (from bleach->nbconvert<6.0->notebook>=4.4.1->widgetsnbextension~=3.6.0->ipywidgets<8.0.0->ax-platform) (0.5.1)\n",
            "Requirement already satisfied: zipp>=3.1.0 in /usr/local/lib/python3.8/dist-packages (from importlib-resources>=1.4.0->jsonschema>=2.6->nbformat->notebook>=4.4.1->widgetsnbextension~=3.6.0->ipywidgets<8.0.0->ax-platform) (3.12.0)\n",
            "Installing collected packages: pyro-api, jedi, pyro-ppl, linear-operator, gpytorch, botorch, ax-platform\n",
            "Successfully installed ax-platform-0.2.10 botorch-0.8.0 gpytorch-1.9.0 jedi-0.18.2 linear-operator-0.2.0 pyro-api-0.1.2 pyro-ppl-1.8.4\n"
          ]
        }
      ]
    },
    {
      "cell_type": "code",
      "source": [
        "!pip install dragonfly-opt"
      ],
      "metadata": {
        "colab": {
          "base_uri": "https://localhost:8080/"
        },
        "id": "7YXidX5sMTun",
        "outputId": "c7029caf-8a56-43d6-9529-869d55e47500"
      },
      "execution_count": 47,
      "outputs": [
        {
          "output_type": "stream",
          "name": "stdout",
          "text": [
            "Looking in indexes: https://pypi.org/simple, https://us-python.pkg.dev/colab-wheels/public/simple/\n",
            "Collecting dragonfly-opt\n",
            "  Downloading dragonfly-opt-0.1.7.tar.gz (252 kB)\n",
            "\u001b[2K     \u001b[90m━━━━━━━━━━━━━━━━━━━━━━━━━━━━━━━━━━━━━━━\u001b[0m \u001b[32m253.0/253.0 KB\u001b[0m \u001b[31m6.5 MB/s\u001b[0m eta \u001b[36m0:00:00\u001b[0m\n",
            "\u001b[?25h  Preparing metadata (setup.py) ... \u001b[?25l\u001b[?25hdone\n",
            "Requirement already satisfied: future in /usr/local/lib/python3.8/dist-packages (from dragonfly-opt) (0.16.0)\n",
            "Requirement already satisfied: numpy in /usr/local/lib/python3.8/dist-packages (from dragonfly-opt) (1.20.1)\n",
            "Requirement already satisfied: scipy in /usr/local/lib/python3.8/dist-packages (from dragonfly-opt) (1.7.3)\n",
            "Requirement already satisfied: six in /usr/local/lib/python3.8/dist-packages (from dragonfly-opt) (1.15.0)\n",
            "Building wheels for collected packages: dragonfly-opt\n",
            "  Building wheel for dragonfly-opt (setup.py) ... \u001b[?25l\u001b[?25hdone\n",
            "  Created wheel for dragonfly-opt: filename=dragonfly_opt-0.1.7-cp38-cp38-linux_x86_64.whl size=419964 sha256=9373c11657f2445707104087e333dfb3ae891c017681905aa14658b220406af5\n",
            "  Stored in directory: /root/.cache/pip/wheels/f0/c3/41/09455a3380a6e7f6d1d9e6a734e5314185a31fdea5669ac034\n",
            "Successfully built dragonfly-opt\n",
            "Installing collected packages: dragonfly-opt\n",
            "Successfully installed dragonfly-opt-0.1.7\n"
          ]
        }
      ]
    },
    {
      "cell_type": "markdown",
      "metadata": {
        "id": "HmmlHhg_k0mB"
      },
      "source": [
        "# Copying glove embeddings from drive"
      ]
    },
    {
      "cell_type": "code",
      "execution_count": 38,
      "metadata": {
        "colab": {
          "base_uri": "https://localhost:8080/"
        },
        "id": "4o2gmR8ikUCB",
        "outputId": "664e0801-2ef7-4ca2-9bc2-f089ec5b5b03"
      },
      "outputs": [
        {
          "output_type": "stream",
          "name": "stdout",
          "text": [
            "Drive already mounted at /content/drive; to attempt to forcibly remount, call drive.mount(\"/content/drive\", force_remount=True).\n"
          ]
        }
      ],
      "source": [
        "from google.colab import drive\n",
        "drive.mount('/content/drive')"
      ]
    },
    {
      "cell_type": "code",
      "execution_count": 39,
      "metadata": {
        "id": "xAAaj16Vr-Rb",
        "colab": {
          "base_uri": "https://localhost:8080/"
        },
        "outputId": "3ddecd60-43ec-4d11-861f-ef505578ce63"
      },
      "outputs": [
        {
          "output_type": "stream",
          "name": "stdout",
          "text": [
            "mkdir: cannot create directory ‘/content/data/’: File exists\n"
          ]
        }
      ],
      "source": [
        "%mkdir /content/data/"
      ]
    },
    {
      "cell_type": "code",
      "execution_count": 40,
      "metadata": {
        "id": "E8M8ZqdKuXWF",
        "colab": {
          "base_uri": "https://localhost:8080/"
        },
        "outputId": "43063e20-4324-40de-b258-c72c236e4784"
      },
      "outputs": [
        {
          "output_type": "stream",
          "name": "stdout",
          "text": [
            "mkdir: cannot create directory ‘/content/data/glove.6B’: File exists\n"
          ]
        }
      ],
      "source": [
        "%mkdir /content/data/glove.6B"
      ]
    },
    {
      "cell_type": "code",
      "execution_count": 41,
      "metadata": {
        "id": "1KHTFoSZkcl8"
      },
      "outputs": [],
      "source": [
        "%cp /content/drive/MyDrive/glove.6B.300d.txt /content/data/glove.6B/\n",
        "%cp -r /content/drive/MyDrive/data/* /content/data/"
      ]
    },
    {
      "cell_type": "markdown",
      "metadata": {
        "id": "gzyCsbnJn3_L"
      },
      "source": [
        "### Import necessary libraries"
      ]
    },
    {
      "cell_type": "code",
      "execution_count": 42,
      "metadata": {
        "id": "eTCjdwOJNKAV"
      },
      "outputs": [],
      "source": [
        "import argparse\n",
        "from cords.utils.config_utils import load_config_data\n",
        "from ray.tune.suggest.hyperopt import HyperOptSearch\n",
        "from ray.tune.suggest.bayesopt import BayesOptSearch\n",
        "from ray.tune.suggest.skopt import SkOptSearch\n",
        "from ray.tune.suggest.dragonfly import DragonflySearch\n",
        "from ray.tune.suggest.ax import AxSearch\n",
        "from ray.tune.suggest.bohb import TuneBOHB\n",
        "from ray.tune.suggest.nevergrad import NevergradSearch\n",
        "from ray.tune.suggest.optuna import OptunaSearch\n",
        "from ray.tune.suggest.zoopt import ZOOptSearch\n",
        "from ray.tune.suggest.sigopt import SigOptSearch\n",
        "from ray.tune.suggest.hebo import HEBOSearch\n",
        "from ray.tune.schedulers import AsyncHyperBandScheduler\n",
        "from ray.tune.schedulers import HyperBandScheduler\n",
        "from ray.tune.schedulers.hb_bohb import HyperBandForBOHB\n",
        "from ray import tune\n",
        "from functools import partial"
      ]
    },
    {
      "cell_type": "markdown",
      "metadata": {
        "id": "xdgARYmvNxwM"
      },
      "source": [
        "### Loading hyperparameter configuration file with predefined arguments:\n",
        "\n",
        "We have a set of predefined configuration files added to CORDS for HPO under cords/configs/HPO/ which can be used directly by loading them as a dotmap object. \n",
        "\n",
        "An example of predefined configuration for Hyper-parameter tuning on TREC6 dataset with ASHA as scheduler and TPE as search algorithm can be found below:\n",
        "\n",
        "```Python\n",
        "from ray import tune\n",
        "\n",
        "config = dict(setting= \"hyperparamtuning\",\n",
        "\n",
        "# parameter for subset selection\n",
        "# all settings for subset selection will be fetched from here\n",
        "subset_config = \"configs/SL/config_milo_glove_trec6.py\",\n",
        "\n",
        "# parameters for hyper-parameter tuning\n",
        "# search space for hyper-parameter tuning\n",
        "space = dict(learning_rate=tune.uniform(0.001, 0.1), \n",
        "        # optimizer= tune.choice(['sgd', 'adam']),\n",
        "        hidden_size = tune.choice([64, 128, 256]),\n",
        "        trn_batch_size= tune.choice([16, 32, 64]),\n",
        "        num_layers = tune.choice([1, 2])\n",
        "        ),\n",
        "\n",
        "# tuning algorithm \n",
        "search_algo = \"TPE\",\n",
        "\n",
        "# number of hyper-parameter set to try\n",
        "num_evals = 54,\n",
        "\n",
        "# metric to be optimized, for 'mean_loss' metric mode should be 'min'\n",
        "metric = \"mean_accuracy\",\n",
        "mode = \"max\",\n",
        "\n",
        "# scheduler to be used (i.e ASHAScheduler)\n",
        "# scheduler terminates trials that perform poorly\n",
        "# learn more here: https://docs.ray.io/en/releases-0.7.1/tune-schedulers.html\n",
        "# scheduler = 'hyperband',\n",
        "scheduler = 'ASHA',\n",
        "\n",
        "# where to store logs\n",
        "log_dir = \"RayLogs/\",\n",
        "\n",
        "# resume hyper-parameter tuning from previous log\n",
        "# specify 'name' (i.e main_2021-03-09_18-33-56) below\n",
        "resume = False,\n",
        "\n",
        "# only required if you want to resume from previous checkpoint\n",
        "# it can also be specified if you don't want to resume\n",
        "name = None,\n",
        "\n",
        "# specify resources to be used per trial\n",
        "# i.e {'gpu':1, 'cpu':2}\n",
        "# resources = {'gpu':1, 'cpu':2},\n",
        "resources = {'gpu':0.5, 'cpu':1},\n",
        "\n",
        "# if True, trains model on Full dataset with the best parameter selected.\n",
        "final_train = True,\n",
        "\n",
        "final_train_type = 'full' # full, gmpb\n",
        ")\n",
        "```\n",
        "\n",
        "Please find a detailed documentation explaining the available configuration parameters in the following readthedocs [page]()\n",
        "\n",
        "***Loading the predefined configuration file directly using the load_config_data function in CORDS***"
      ]
    },
    {
      "cell_type": "code",
      "execution_count": 60,
      "metadata": {
        "id": "vozeGsg3CenF"
      },
      "outputs": [],
      "source": [
        "from cords.utils.config_utils import load_config_data\n",
        "param_tuning_cfg = load_config_data('/content/cords/configs/HPO/config_hyper-param_tuning_trec6.py')"
      ]
    },
    {
      "cell_type": "code",
      "execution_count": 61,
      "metadata": {
        "id": "VKrh9ScbdkzO"
      },
      "outputs": [],
      "source": [
        "from train_sl import TrainClassifier"
      ]
    },
    {
      "cell_type": "markdown",
      "metadata": {
        "id": "htuwbUF1n_vE"
      },
      "source": [
        "# Instantiating MILO arguments required for train_sl.py by loading the corresponding configuration file.\n",
        "Modifying the necessay arguments for single model training"
      ]
    },
    {
      "cell_type": "code",
      "execution_count": 62,
      "metadata": {
        "id": "mjHq6D-7p-nq"
      },
      "outputs": [],
      "source": [
        "train_cfg_file = '/content/cords/configs/SL/config_milo_glove_trec6.py'\n",
        "train_cfg = load_config_data(train_cfg_file)\n",
        "train_cfg.dataset.weight_path = '/content/data/glove.6B/'\n",
        "train_cfg.model.weight_path = '/content/data/glove.6B/'\n",
        "train_cfg.dataset.datadir = '/content/data/'\n",
        "train_cfg.dss_args.global_order_file='/content/data/trec6_all-distilroberta-v1_cossim_disp_min_pc_0.01_global_order.pkl'\n",
        "train_cfg.dss_args.gc_stochastic_subsets_file = '/content/data/trec6_all-distilroberta-v1_cossim_gc_pc_0.01_0.1_stochastic_subsets.pkl'\n",
        "\"\"\"\n",
        "Note that we have to do following changes to standard training configuration files\n",
        "to get them working for Hyper-parameter tuning.\n",
        "\"\"\"\n",
        "train_cfg.report_tune = True\n",
        "train_cfg.train_args.print_every = 1\n",
        "\n",
        "#Instantiating the train classifier class with the loaded train_cfg\n",
        "train_class = TrainClassifier(train_cfg)"
      ]
    },
    {
      "cell_type": "markdown",
      "metadata": {
        "id": "UHH8xGywg6x5"
      },
      "source": [
        "### Get Hyper-parameter search algorithm \n",
        "\n",
        "In this example, we will be using Tree-structured parzen estimator(TPE) as the hyper-parameter search algorithm. In the hyper-parameter tuning configuration file, the search algorithm option is given as cfg.search_algo."
      ]
    },
    {
      "cell_type": "code",
      "execution_count": 63,
      "metadata": {
        "id": "SoKFg3_ChrMt",
        "colab": {
          "base_uri": "https://localhost:8080/"
        },
        "outputId": "3b1efb49-e41d-405b-f78e-9c986f08bf8c"
      },
      "outputs": [
        {
          "output_type": "stream",
          "name": "stderr",
          "text": [
            "2023-02-08 13:46:42,590\tWARNING hyperopt_search.py:192 -- You passed a `space` parameter to <class 'ray.tune.search.hyperopt.hyperopt_search.HyperOptSearch'> that contained unresolved search space definitions. <class 'ray.tune.search.hyperopt.hyperopt_search.HyperOptSearch'> should however be instantiated with fully configured search spaces only. To use Ray Tune's automatic search space conversion, pass the space definition as part of the `param_space` argument to `tune.Tuner()` instead.\n"
          ]
        }
      ],
      "source": [
        "method = param_tuning_cfg.search_algo\n",
        "#Search space\n",
        "space = param_tuning_cfg.space\n",
        "#Evaluation metric for configuration evaluation\n",
        "metric = param_tuning_cfg.metric\n",
        "#maximum or minimum mode\n",
        "mode = param_tuning_cfg.mode\n",
        "\n",
        "\"\"\"\n",
        "Shows all hyper-parameter search algorithm that work with CORDS. We use ray-tune library for hyper-parameter tuning\n",
        "in CORDS. Hence, all search algorithms given in raytune can be used with CORDS as well.\n",
        "\"\"\"\n",
        "# HyperOptSearch \n",
        "if method == \"hyperopt\" or method == \"TPE\":\n",
        "    search = HyperOptSearch(space, metric, mode)\n",
        "# BayesOptSearch\n",
        "elif method == \"bayesopt\" or method == \"BO\":\n",
        "    search = BayesOptSearch(space, metric = metric, mode = mode)\n",
        "# SkoptSearch\n",
        "elif method == \"skopt\" or method == \"SKBO\":\n",
        "    search = SkOptSearch(space, metric = metric, mode = mode)\n",
        "# DragonflySearch\n",
        "elif method == \"dragonfly\" or method == \"SBO\":\n",
        "    search = DragonflySearch(space, metric = metric, mode = mode)\n",
        "# AxSearch\n",
        "elif method == \"ax\" or method == \"BBO\":\n",
        "    search = AxSearch(space, metric = metric, mode = mode)\n",
        "# TuneBOHB\n",
        "elif method == \"tunebohb\" or method == \"BOHB\":\n",
        "    search = TuneBOHB(space, metric = metric, mode = mode)\n",
        "# NevergradSearch\n",
        "elif method == \"nevergrad\" or method == \"GFO\":\n",
        "    search = NevergradSearch(space, metric = metric, mode = mode)\n",
        "# OptunaSearch\n",
        "elif method == \"optuna\" or method == \"OSA\":\n",
        "    search = OptunaSearch(space, metric = metric, mode = mode)\n",
        "# ZOOptSearch\n",
        "elif method == \"zoopt\" or method == \"ZOO\":\n",
        "    search = ZOOptSearch(space, metric = metric, mode = mode)\n",
        "# SigOptSearch\n",
        "elif method == \"sigopt\":\n",
        "    search = SigOptSearch(space, metric = metric, mode = mode)\n",
        "# HEBOSearch\n",
        "elif method == \"hebo\" or method == \"HEBO\":\n",
        "    search = HEBOSearch(space, metric = metric, mode = mode)\n",
        "else:\n",
        "    search = None\n"
      ]
    },
    {
      "cell_type": "markdown",
      "metadata": {
        "id": "QC2pBy4RngM_"
      },
      "source": [
        "### Get Hyper-parameter scheduler\n",
        "\n",
        "In this example, we will be using ASHA as the hyper-parameter scheduler algorithm. In the hyper-parameter tuning configuration file, the scheduler option is given as cfg.scheduler."
      ]
    },
    {
      "cell_type": "code",
      "execution_count": 64,
      "metadata": {
        "id": "GxBRqdlWnfaT"
      },
      "outputs": [],
      "source": [
        "method = param_tuning_cfg.scheduler\n",
        "\n",
        "if method == \"ASHA\" or method == \"asha\":\n",
        "    scheduler = AsyncHyperBandScheduler(metric = metric, mode = mode, \n",
        "                                        max_t = train_cfg.train_args.num_epochs)\n",
        "elif method == \"hyperband\" or method == \"HB\":\n",
        "    scheduler = HyperBandScheduler(metric = metric, mode = mode, \n",
        "                max_t = train_cfg.train_args.num_epochs)\n",
        "elif method == \"BOHB\":\n",
        "    scheduler = HyperBandForBOHB(metric = metric, mode = mode)\n",
        "else:\n",
        "    scheduler = None\n",
        "\n",
        "scheduler = scheduler"
      ]
    },
    {
      "cell_type": "markdown",
      "metadata": {
        "id": "iiWcnKDns1MC"
      },
      "source": [
        "### Utility function that updates the training configuration parameters with new parameters suggested by search algorithm"
      ]
    },
    {
      "cell_type": "code",
      "execution_count": 65,
      "metadata": {
        "id": "8f6fJf3Dsyqu"
      },
      "outputs": [],
      "source": [
        "def update_parameters(config, new_config):\n",
        "    # a generic function to update parameters\n",
        "    if 'learning_rate' in new_config:\n",
        "        config.optimizer.lr = new_config['learning_rate']\n",
        "    if 'learning_rate1' in new_config:\n",
        "        config.optimizer.lr1 = new_config['learning_rate1']\n",
        "    if 'learning_rate2' in new_config:\n",
        "        config.optimizer.lr2 = new_config['learning_rate2']\n",
        "    if 'learning_rate3' in new_config:\n",
        "        config.optimizer.lr3 = new_config['learning_rate3']\n",
        "    if 'optimizer' in new_config:\n",
        "        config.optimizer.type = new_config['optimizer']\n",
        "    if 'nesterov' in new_config:\n",
        "        config.optimizer.nesterov = new_config['nesterov']\n",
        "    if 'scheduler' in new_config:\n",
        "        config.scheduler.type = new_config['scheduler']\n",
        "    if 'gamma' in new_config:\n",
        "        config.scheduler.gamma = new_config['gamma']\n",
        "    if 'epochs' in new_config:\n",
        "        config.train_args.num_epochs = new_config['epochs']\n",
        "    if 'trn_batch_size' in new_config:\n",
        "        config.dataloader.batch_size = new_config['trn_batch_size']\n",
        "    if 'hidden_size' in new_config:\n",
        "        config.model.hidden_size = new_config['hidden_size']\n",
        "    if 'num_layers' in new_config:\n",
        "        config.model.num_layers = new_config['num_layers']\n",
        "    return config\n"
      ]
    },
    {
      "cell_type": "markdown",
      "metadata": {
        "id": "pHjupGiitRF_"
      },
      "source": [
        "### Utility function that takes in the search configuration parameters suggested by hyper-parameter search algorithm, update the training configuration file accordingly, and train the model with the new configuration. "
      ]
    },
    {
      "cell_type": "code",
      "execution_count": 66,
      "metadata": {
        "id": "tcyfqFKrtQhP"
      },
      "outputs": [],
      "source": [
        "def param_tune(config, train_cfg=None):\n",
        "    #update parameters in config dict\n",
        "    new_config = update_parameters(train_cfg, config)\n",
        "    train_cfg = new_config\n",
        "    # turn on reporting to ray every time\n",
        "    train_cfg.report_tune = True\n",
        "    train_class.cfg = new_config\n",
        "    train_class.train()\n"
      ]
    },
    {
      "cell_type": "markdown",
      "metadata": {
        "id": "mGf7aLfguRk1"
      },
      "source": [
        "### Start Hyper-parameter tuning"
      ]
    },
    {
      "cell_type": "code",
      "execution_count": 67,
      "metadata": {
        "colab": {
          "base_uri": "https://localhost:8080/",
          "height": 1000
        },
        "id": "Jf8EOTO5uREQ",
        "outputId": "f1b257e1-4c93-4abf-99d0-0add8164a469"
      },
      "outputs": [
        {
          "output_type": "display_data",
          "data": {
            "text/plain": [
              "<IPython.core.display.HTML object>"
            ],
            "text/html": [
              "<div class=\"tuneStatus\">\n",
              "  <div style=\"display: flex;flex-direction: row\">\n",
              "    <div style=\"display: flex;flex-direction: column;\">\n",
              "      <h3>Tune Status</h3>\n",
              "      <table>\n",
              "<tbody>\n",
              "<tr><td>Current time:</td><td>2023-02-08 13:55:44</td></tr>\n",
              "<tr><td>Running for: </td><td>00:08:58.17        </td></tr>\n",
              "<tr><td>Memory:      </td><td>6.5/83.5 GiB       </td></tr>\n",
              "</tbody>\n",
              "</table>\n",
              "    </div>\n",
              "    <div class=\"vDivider\"></div>\n",
              "    <div class=\"systemInfo\">\n",
              "      <h3>System Info</h3>\n",
              "      Using AsyncHyperBand: num_stopped=27<br>Bracket: Iter 16.000: 0.7311926605504587 | Iter 4.000: 0.463302752293578 | Iter 1.000: 0.24036697247706423<br>Resources requested: 0/12 CPUs, 0/1 GPUs, 0.0/49.88 GiB heap, 0.0/24.94 GiB objects\n",
              "    </div>\n",
              "    \n",
              "  </div>\n",
              "  <div class=\"hDivider\"></div>\n",
              "  <div class=\"trialStatus\">\n",
              "    <h3>Trial Status</h3>\n",
              "    <table>\n",
              "<thead>\n",
              "<tr><th>Trial name         </th><th>status    </th><th>loc              </th><th style=\"text-align: right;\">  hidden_size</th><th style=\"text-align: right;\">  learning_rate</th><th style=\"text-align: right;\">  num_layers</th><th style=\"text-align: right;\">  trn_batch_size</th><th style=\"text-align: right;\">     acc</th><th style=\"text-align: right;\">  iter</th><th style=\"text-align: right;\">  total time (s)</th></tr>\n",
              "</thead>\n",
              "<tbody>\n",
              "<tr><td>param_tune_9e45796d</td><td>TERMINATED</td><td>172.28.0.12:35464</td><td style=\"text-align: right;\">           64</td><td style=\"text-align: right;\">     0.0430776 </td><td style=\"text-align: right;\">           1</td><td style=\"text-align: right;\">              16</td><td style=\"text-align: right;\">0.572477</td><td style=\"text-align: right;\">    20</td><td style=\"text-align: right;\">         47.5704</td></tr>\n",
              "<tr><td>param_tune_ed057ba3</td><td>TERMINATED</td><td>172.28.0.12:35658</td><td style=\"text-align: right;\">          256</td><td style=\"text-align: right;\">     0.0229476 </td><td style=\"text-align: right;\">           2</td><td style=\"text-align: right;\">              32</td><td style=\"text-align: right;\">0.238532</td><td style=\"text-align: right;\">     1</td><td style=\"text-align: right;\">         28.5817</td></tr>\n",
              "<tr><td>param_tune_7147bac1</td><td>TERMINATED</td><td>172.28.0.12:35999</td><td style=\"text-align: right;\">          256</td><td style=\"text-align: right;\">     0.0939714 </td><td style=\"text-align: right;\">           2</td><td style=\"text-align: right;\">              16</td><td style=\"text-align: right;\">0.170642</td><td style=\"text-align: right;\">     1</td><td style=\"text-align: right;\">         28.8639</td></tr>\n",
              "<tr><td>param_tune_23fd6dd4</td><td>TERMINATED</td><td>172.28.0.12:36202</td><td style=\"text-align: right;\">          128</td><td style=\"text-align: right;\">     0.0145301 </td><td style=\"text-align: right;\">           1</td><td style=\"text-align: right;\">              16</td><td style=\"text-align: right;\">0.244037</td><td style=\"text-align: right;\">     1</td><td style=\"text-align: right;\">         28.5301</td></tr>\n",
              "<tr><td>param_tune_4687319b</td><td>TERMINATED</td><td>172.28.0.12:36482</td><td style=\"text-align: right;\">           64</td><td style=\"text-align: right;\">     0.0525897 </td><td style=\"text-align: right;\">           1</td><td style=\"text-align: right;\">              32</td><td style=\"text-align: right;\">0.223853</td><td style=\"text-align: right;\">     1</td><td style=\"text-align: right;\">         28.0294</td></tr>\n",
              "<tr><td>param_tune_f9a03c6c</td><td>TERMINATED</td><td>172.28.0.12:36685</td><td style=\"text-align: right;\">          256</td><td style=\"text-align: right;\">     0.00813972</td><td style=\"text-align: right;\">           1</td><td style=\"text-align: right;\">              16</td><td style=\"text-align: right;\">0.788991</td><td style=\"text-align: right;\">    20</td><td style=\"text-align: right;\">         41.9361</td></tr>\n",
              "<tr><td>param_tune_65509966</td><td>TERMINATED</td><td>172.28.0.12:36970</td><td style=\"text-align: right;\">           64</td><td style=\"text-align: right;\">     0.0291872 </td><td style=\"text-align: right;\">           2</td><td style=\"text-align: right;\">              32</td><td style=\"text-align: right;\">0.222018</td><td style=\"text-align: right;\">     1</td><td style=\"text-align: right;\">         26.5046</td></tr>\n",
              "<tr><td>param_tune_067346ab</td><td>TERMINATED</td><td>172.28.0.12:37246</td><td style=\"text-align: right;\">          256</td><td style=\"text-align: right;\">     0.0985268 </td><td style=\"text-align: right;\">           1</td><td style=\"text-align: right;\">              32</td><td style=\"text-align: right;\">0.238532</td><td style=\"text-align: right;\">     1</td><td style=\"text-align: right;\">         26.7673</td></tr>\n",
              "<tr><td>param_tune_2e116cc8</td><td>TERMINATED</td><td>172.28.0.12:37461</td><td style=\"text-align: right;\">          128</td><td style=\"text-align: right;\">     0.0951147 </td><td style=\"text-align: right;\">           1</td><td style=\"text-align: right;\">              32</td><td style=\"text-align: right;\">0.168807</td><td style=\"text-align: right;\">     1</td><td style=\"text-align: right;\">         27.1196</td></tr>\n",
              "<tr><td>param_tune_f2dc9ecc</td><td>TERMINATED</td><td>172.28.0.12:37731</td><td style=\"text-align: right;\">          256</td><td style=\"text-align: right;\">     0.0685885 </td><td style=\"text-align: right;\">           1</td><td style=\"text-align: right;\">              32</td><td style=\"text-align: right;\">0.12844 </td><td style=\"text-align: right;\">     1</td><td style=\"text-align: right;\">         27.0888</td></tr>\n",
              "<tr><td>param_tune_167f2747</td><td>TERMINATED</td><td>172.28.0.12:37951</td><td style=\"text-align: right;\">           64</td><td style=\"text-align: right;\">     0.042049  </td><td style=\"text-align: right;\">           1</td><td style=\"text-align: right;\">              32</td><td style=\"text-align: right;\">0.223853</td><td style=\"text-align: right;\">     1</td><td style=\"text-align: right;\">         26.5848</td></tr>\n",
              "<tr><td>param_tune_ac6c72be</td><td>TERMINATED</td><td>172.28.0.12:38206</td><td style=\"text-align: right;\">          256</td><td style=\"text-align: right;\">     0.0461655 </td><td style=\"text-align: right;\">           2</td><td style=\"text-align: right;\">              16</td><td style=\"text-align: right;\">0.223853</td><td style=\"text-align: right;\">     1</td><td style=\"text-align: right;\">         27.9606</td></tr>\n",
              "<tr><td>param_tune_054dafad</td><td>TERMINATED</td><td>172.28.0.12:38430</td><td style=\"text-align: right;\">          256</td><td style=\"text-align: right;\">     0.0618306 </td><td style=\"text-align: right;\">           1</td><td style=\"text-align: right;\">              64</td><td style=\"text-align: right;\">0.238532</td><td style=\"text-align: right;\">     1</td><td style=\"text-align: right;\">         26.6705</td></tr>\n",
              "<tr><td>param_tune_c16c5f1a</td><td>TERMINATED</td><td>172.28.0.12:38692</td><td style=\"text-align: right;\">          128</td><td style=\"text-align: right;\">     0.0762564 </td><td style=\"text-align: right;\">           2</td><td style=\"text-align: right;\">              64</td><td style=\"text-align: right;\">0.222018</td><td style=\"text-align: right;\">     1</td><td style=\"text-align: right;\">         27.1126</td></tr>\n",
              "<tr><td>param_tune_3692baaa</td><td>TERMINATED</td><td>172.28.0.12:38910</td><td style=\"text-align: right;\">          128</td><td style=\"text-align: right;\">     0.0276022 </td><td style=\"text-align: right;\">           1</td><td style=\"text-align: right;\">              64</td><td style=\"text-align: right;\">0.220183</td><td style=\"text-align: right;\">     1</td><td style=\"text-align: right;\">         27.0981</td></tr>\n",
              "<tr><td>param_tune_a97f1e02</td><td>TERMINATED</td><td>172.28.0.12:39167</td><td style=\"text-align: right;\">          256</td><td style=\"text-align: right;\">     0.0662088 </td><td style=\"text-align: right;\">           1</td><td style=\"text-align: right;\">              16</td><td style=\"text-align: right;\">0.220183</td><td style=\"text-align: right;\">     1</td><td style=\"text-align: right;\">         27.429 </td></tr>\n",
              "<tr><td>param_tune_96c15dce</td><td>TERMINATED</td><td>172.28.0.12:39391</td><td style=\"text-align: right;\">           64</td><td style=\"text-align: right;\">     0.0211712 </td><td style=\"text-align: right;\">           1</td><td style=\"text-align: right;\">              64</td><td style=\"text-align: right;\">0.223853</td><td style=\"text-align: right;\">     1</td><td style=\"text-align: right;\">         26.4096</td></tr>\n",
              "<tr><td>param_tune_fb7f1eb5</td><td>TERMINATED</td><td>172.28.0.12:39647</td><td style=\"text-align: right;\">           64</td><td style=\"text-align: right;\">     0.0420155 </td><td style=\"text-align: right;\">           2</td><td style=\"text-align: right;\">              32</td><td style=\"text-align: right;\">0.242202</td><td style=\"text-align: right;\">     4</td><td style=\"text-align: right;\">         27.912 </td></tr>\n",
              "<tr><td>param_tune_149d151a</td><td>TERMINATED</td><td>172.28.0.12:39867</td><td style=\"text-align: right;\">          128</td><td style=\"text-align: right;\">     0.0672629 </td><td style=\"text-align: right;\">           2</td><td style=\"text-align: right;\">              32</td><td style=\"text-align: right;\">0.442202</td><td style=\"text-align: right;\">     4</td><td style=\"text-align: right;\">         28.6468</td></tr>\n",
              "<tr><td>param_tune_b49be9ce</td><td>TERMINATED</td><td>172.28.0.12:40130</td><td style=\"text-align: right;\">           64</td><td style=\"text-align: right;\">     0.0164652 </td><td style=\"text-align: right;\">           2</td><td style=\"text-align: right;\">              32</td><td style=\"text-align: right;\">0.223853</td><td style=\"text-align: right;\">     1</td><td style=\"text-align: right;\">         27.3512</td></tr>\n",
              "<tr><td>param_tune_239d4109</td><td>TERMINATED</td><td>172.28.0.12:40358</td><td style=\"text-align: right;\">           64</td><td style=\"text-align: right;\">     0.00717721</td><td style=\"text-align: right;\">           1</td><td style=\"text-align: right;\">              16</td><td style=\"text-align: right;\">0.214679</td><td style=\"text-align: right;\">     1</td><td style=\"text-align: right;\">         28.024 </td></tr>\n",
              "<tr><td>param_tune_c9683e59</td><td>TERMINATED</td><td>172.28.0.12:40614</td><td style=\"text-align: right;\">           64</td><td style=\"text-align: right;\">     0.00129203</td><td style=\"text-align: right;\">           1</td><td style=\"text-align: right;\">              16</td><td style=\"text-align: right;\">0.216514</td><td style=\"text-align: right;\">     1</td><td style=\"text-align: right;\">         27.3839</td></tr>\n",
              "<tr><td>param_tune_d490cf02</td><td>TERMINATED</td><td>172.28.0.12:40842</td><td style=\"text-align: right;\">          256</td><td style=\"text-align: right;\">     0.00266622</td><td style=\"text-align: right;\">           1</td><td style=\"text-align: right;\">              16</td><td style=\"text-align: right;\">0.361468</td><td style=\"text-align: right;\">     4</td><td style=\"text-align: right;\">         29.845 </td></tr>\n",
              "<tr><td>param_tune_f48fa3b9</td><td>TERMINATED</td><td>172.28.0.12:41107</td><td style=\"text-align: right;\">          256</td><td style=\"text-align: right;\">     0.0835815 </td><td style=\"text-align: right;\">           1</td><td style=\"text-align: right;\">              16</td><td style=\"text-align: right;\">0.355963</td><td style=\"text-align: right;\">     4</td><td style=\"text-align: right;\">         29.7092</td></tr>\n",
              "<tr><td>param_tune_f21f3dc0</td><td>TERMINATED</td><td>172.28.0.12:41339</td><td style=\"text-align: right;\">           64</td><td style=\"text-align: right;\">     0.0347655 </td><td style=\"text-align: right;\">           1</td><td style=\"text-align: right;\">              16</td><td style=\"text-align: right;\">0.315596</td><td style=\"text-align: right;\">     4</td><td style=\"text-align: right;\">         30.3058</td></tr>\n",
              "<tr><td>param_tune_90e839fb</td><td>TERMINATED</td><td>172.28.0.12:41611</td><td style=\"text-align: right;\">          256</td><td style=\"text-align: right;\">     0.0568723 </td><td style=\"text-align: right;\">           1</td><td style=\"text-align: right;\">              16</td><td style=\"text-align: right;\">0.222018</td><td style=\"text-align: right;\">     1</td><td style=\"text-align: right;\">         26.9358</td></tr>\n",
              "<tr><td>param_tune_f6217c81</td><td>TERMINATED</td><td>172.28.0.12:41841</td><td style=\"text-align: right;\">           64</td><td style=\"text-align: right;\">     0.035911  </td><td style=\"text-align: right;\">           1</td><td style=\"text-align: right;\">              16</td><td style=\"text-align: right;\">0.12844 </td><td style=\"text-align: right;\">     1</td><td style=\"text-align: right;\">         27.5153</td></tr>\n",
              "</tbody>\n",
              "</table>\n",
              "  </div>\n",
              "</div>\n",
              "<style>\n",
              ".tuneStatus {\n",
              "  color: var(--jp-ui-font-color1);\n",
              "}\n",
              ".tuneStatus .systemInfo {\n",
              "  display: flex;\n",
              "  flex-direction: column;\n",
              "}\n",
              ".tuneStatus td {\n",
              "  white-space: nowrap;\n",
              "}\n",
              ".tuneStatus .trialStatus {\n",
              "  display: flex;\n",
              "  flex-direction: column;\n",
              "}\n",
              ".tuneStatus h3 {\n",
              "  font-weight: bold;\n",
              "}\n",
              ".tuneStatus .hDivider {\n",
              "  border-bottom-width: var(--jp-border-width);\n",
              "  border-bottom-color: var(--jp-border-color0);\n",
              "  border-bottom-style: solid;\n",
              "}\n",
              ".tuneStatus .vDivider {\n",
              "  border-left-width: var(--jp-border-width);\n",
              "  border-left-color: var(--jp-border-color0);\n",
              "  border-left-style: solid;\n",
              "  margin: 0.5em 1em 0.5em 1em;\n",
              "}\n",
              "</style>\n"
            ]
          },
          "metadata": {}
        },
        {
          "output_type": "stream",
          "name": "stderr",
          "text": [
            "\u001b[2m\u001b[36m(func pid=35464)\u001b[0m WARNING:datasets.builder:Found cached dataset trec (/root/.cache/huggingface/datasets/trec/default/2.0.0/f2469cab1b5fceec7249fda55360dfdbd92a7a5b545e91ea0f78ad108ffac1c2)\n",
            "100%|██████████| 2/2 [00:00<00:00, 577.89it/s]\n",
            "\u001b[2m\u001b[36m(func pid=35658)\u001b[0m WARNING:datasets.builder:Found cached dataset trec (/root/.cache/huggingface/datasets/trec/default/2.0.0/f2469cab1b5fceec7249fda55360dfdbd92a7a5b545e91ea0f78ad108ffac1c2)\n",
            "100%|██████████| 2/2 [00:00<00:00, 597.91it/s]\n"
          ]
        },
        {
          "output_type": "display_data",
          "data": {
            "text/plain": [
              "<IPython.core.display.HTML object>"
            ],
            "text/html": [
              "<div class=\"trialProgress\">\n",
              "  <h3>Trial Progress</h3>\n",
              "  <table>\n",
              "<thead>\n",
              "<tr><th>Trial name         </th><th>date               </th><th>done  </th><th>episodes_total  </th><th>experiment_id                   </th><th>hostname    </th><th style=\"text-align: right;\">  iterations_since_restore</th><th style=\"text-align: right;\">  mean_accuracy</th><th>node_ip    </th><th style=\"text-align: right;\">  pid</th><th style=\"text-align: right;\">  time_since_restore</th><th style=\"text-align: right;\">  time_this_iter_s</th><th style=\"text-align: right;\">  time_total_s</th><th style=\"text-align: right;\">  timestamp</th><th style=\"text-align: right;\">  timesteps_since_restore</th><th>timesteps_total  </th><th style=\"text-align: right;\">  training_iteration</th><th>trial_id  </th><th style=\"text-align: right;\">  warmup_time</th></tr>\n",
              "</thead>\n",
              "<tbody>\n",
              "<tr><td>param_tune_054dafad</td><td>2023-02-08_13-51-17</td><td>True  </td><td>                </td><td>415135ba04bb482aaf57263a5c510a6b</td><td>2e6c9a135542</td><td style=\"text-align: right;\">                         1</td><td style=\"text-align: right;\">       0.238532</td><td>172.28.0.12</td><td style=\"text-align: right;\">38430</td><td style=\"text-align: right;\">             26.6705</td><td style=\"text-align: right;\">         26.6705  </td><td style=\"text-align: right;\">       26.6705</td><td style=\"text-align: right;\"> 1675864277</td><td style=\"text-align: right;\">                        0</td><td>                 </td><td style=\"text-align: right;\">                   1</td><td>054dafad  </td><td style=\"text-align: right;\">   0.0036025 </td></tr>\n",
              "<tr><td>param_tune_067346ab</td><td>2023-02-08_13-49-49</td><td>True  </td><td>                </td><td>2008fa235c3e4c88a08e2d612aa9e96e</td><td>2e6c9a135542</td><td style=\"text-align: right;\">                         1</td><td style=\"text-align: right;\">       0.238532</td><td>172.28.0.12</td><td style=\"text-align: right;\">37246</td><td style=\"text-align: right;\">             26.7673</td><td style=\"text-align: right;\">         26.7673  </td><td style=\"text-align: right;\">       26.7673</td><td style=\"text-align: right;\"> 1675864189</td><td style=\"text-align: right;\">                        0</td><td>                 </td><td style=\"text-align: right;\">                   1</td><td>067346ab  </td><td style=\"text-align: right;\">   0.00383067</td></tr>\n",
              "<tr><td>param_tune_149d151a</td><td>2023-02-08_13-53-10</td><td>True  </td><td>                </td><td>3c657400486043108499c2e7f00b9805</td><td>2e6c9a135542</td><td style=\"text-align: right;\">                         4</td><td style=\"text-align: right;\">       0.442202</td><td>172.28.0.12</td><td style=\"text-align: right;\">39867</td><td style=\"text-align: right;\">             28.6468</td><td style=\"text-align: right;\">          0.40358 </td><td style=\"text-align: right;\">       28.6468</td><td style=\"text-align: right;\"> 1675864390</td><td style=\"text-align: right;\">                        0</td><td>                 </td><td style=\"text-align: right;\">                   4</td><td>149d151a  </td><td style=\"text-align: right;\">   0.0039618 </td></tr>\n",
              "<tr><td>param_tune_167f2747</td><td>2023-02-08_13-50-40</td><td>True  </td><td>                </td><td>61de95a5a2fd4e3d87af6c429adc66a8</td><td>2e6c9a135542</td><td style=\"text-align: right;\">                         1</td><td style=\"text-align: right;\">       0.223853</td><td>172.28.0.12</td><td style=\"text-align: right;\">37951</td><td style=\"text-align: right;\">             26.5848</td><td style=\"text-align: right;\">         26.5848  </td><td style=\"text-align: right;\">       26.5848</td><td style=\"text-align: right;\"> 1675864240</td><td style=\"text-align: right;\">                        0</td><td>                 </td><td style=\"text-align: right;\">                   1</td><td>167f2747  </td><td style=\"text-align: right;\">   0.00375867</td></tr>\n",
              "<tr><td>param_tune_239d4109</td><td>2023-02-08_13-53-48</td><td>True  </td><td>                </td><td>b12b676b84fe42c682c00ed830aa002c</td><td>2e6c9a135542</td><td style=\"text-align: right;\">                         1</td><td style=\"text-align: right;\">       0.214679</td><td>172.28.0.12</td><td style=\"text-align: right;\">40358</td><td style=\"text-align: right;\">             28.024 </td><td style=\"text-align: right;\">         28.024   </td><td style=\"text-align: right;\">       28.024 </td><td style=\"text-align: right;\"> 1675864428</td><td style=\"text-align: right;\">                        0</td><td>                 </td><td style=\"text-align: right;\">                   1</td><td>239d4109  </td><td style=\"text-align: right;\">   0.00381017</td></tr>\n",
              "<tr><td>param_tune_23fd6dd4</td><td>2023-02-08_13-48-21</td><td>True  </td><td>                </td><td>68aa3fc4474d4b84ae11d714601185e6</td><td>2e6c9a135542</td><td style=\"text-align: right;\">                         1</td><td style=\"text-align: right;\">       0.244037</td><td>172.28.0.12</td><td style=\"text-align: right;\">36202</td><td style=\"text-align: right;\">             28.5301</td><td style=\"text-align: right;\">         28.5301  </td><td style=\"text-align: right;\">       28.5301</td><td style=\"text-align: right;\"> 1675864101</td><td style=\"text-align: right;\">                        0</td><td>                 </td><td style=\"text-align: right;\">                   1</td><td>23fd6dd4  </td><td style=\"text-align: right;\">   0.00403857</td></tr>\n",
              "<tr><td>param_tune_2e116cc8</td><td>2023-02-08_13-50-02</td><td>True  </td><td>                </td><td>6be536dc3afc43838d6047f6471f09b6</td><td>2e6c9a135542</td><td style=\"text-align: right;\">                         1</td><td style=\"text-align: right;\">       0.168807</td><td>172.28.0.12</td><td style=\"text-align: right;\">37461</td><td style=\"text-align: right;\">             27.1196</td><td style=\"text-align: right;\">         27.1196  </td><td style=\"text-align: right;\">       27.1196</td><td style=\"text-align: right;\"> 1675864202</td><td style=\"text-align: right;\">                        0</td><td>                 </td><td style=\"text-align: right;\">                   1</td><td>2e116cc8  </td><td style=\"text-align: right;\">   0.00369   </td></tr>\n",
              "<tr><td>param_tune_3692baaa</td><td>2023-02-08_13-51-55</td><td>True  </td><td>                </td><td>15b0c9da066e4e74b9187ec35d69c588</td><td>2e6c9a135542</td><td style=\"text-align: right;\">                         1</td><td style=\"text-align: right;\">       0.220183</td><td>172.28.0.12</td><td style=\"text-align: right;\">38910</td><td style=\"text-align: right;\">             27.0981</td><td style=\"text-align: right;\">         27.0981  </td><td style=\"text-align: right;\">       27.0981</td><td style=\"text-align: right;\"> 1675864315</td><td style=\"text-align: right;\">                        0</td><td>                 </td><td style=\"text-align: right;\">                   1</td><td>3692baaa  </td><td style=\"text-align: right;\">   0.00372529</td></tr>\n",
              "<tr><td>param_tune_4687319b</td><td>2023-02-08_13-48-49</td><td>True  </td><td>                </td><td>845c7027dcdd479ba5e659c9cd2af57f</td><td>2e6c9a135542</td><td style=\"text-align: right;\">                         1</td><td style=\"text-align: right;\">       0.223853</td><td>172.28.0.12</td><td style=\"text-align: right;\">36482</td><td style=\"text-align: right;\">             28.0294</td><td style=\"text-align: right;\">         28.0294  </td><td style=\"text-align: right;\">       28.0294</td><td style=\"text-align: right;\"> 1675864129</td><td style=\"text-align: right;\">                        0</td><td>                 </td><td style=\"text-align: right;\">                   1</td><td>4687319b  </td><td style=\"text-align: right;\">   0.00376701</td></tr>\n",
              "<tr><td>param_tune_65509966</td><td>2023-02-08_13-49-25</td><td>True  </td><td>                </td><td>7a5a2faca0da4a458d57c322754ae0b9</td><td>2e6c9a135542</td><td style=\"text-align: right;\">                         1</td><td style=\"text-align: right;\">       0.222018</td><td>172.28.0.12</td><td style=\"text-align: right;\">36970</td><td style=\"text-align: right;\">             26.5046</td><td style=\"text-align: right;\">         26.5046  </td><td style=\"text-align: right;\">       26.5046</td><td style=\"text-align: right;\"> 1675864165</td><td style=\"text-align: right;\">                        0</td><td>                 </td><td style=\"text-align: right;\">                   1</td><td>65509966  </td><td style=\"text-align: right;\">   0.00374651</td></tr>\n",
              "<tr><td>param_tune_7147bac1</td><td>2023-02-08_13-48-11</td><td>True  </td><td>                </td><td>c7c64f7caa1c41f19608675b6290bd03</td><td>2e6c9a135542</td><td style=\"text-align: right;\">                         1</td><td style=\"text-align: right;\">       0.170642</td><td>172.28.0.12</td><td style=\"text-align: right;\">35999</td><td style=\"text-align: right;\">             28.8639</td><td style=\"text-align: right;\">         28.8639  </td><td style=\"text-align: right;\">       28.8639</td><td style=\"text-align: right;\"> 1675864091</td><td style=\"text-align: right;\">                        0</td><td>                 </td><td style=\"text-align: right;\">                   1</td><td>7147bac1  </td><td style=\"text-align: right;\">   0.00347066</td></tr>\n",
              "<tr><td>param_tune_90e839fb</td><td>2023-02-08_13-55-28</td><td>True  </td><td>                </td><td>e49efebe2d624017a392a8080ca970f9</td><td>2e6c9a135542</td><td style=\"text-align: right;\">                         1</td><td style=\"text-align: right;\">       0.222018</td><td>172.28.0.12</td><td style=\"text-align: right;\">41611</td><td style=\"text-align: right;\">             26.9358</td><td style=\"text-align: right;\">         26.9358  </td><td style=\"text-align: right;\">       26.9358</td><td style=\"text-align: right;\"> 1675864528</td><td style=\"text-align: right;\">                        0</td><td>                 </td><td style=\"text-align: right;\">                   1</td><td>90e839fb  </td><td style=\"text-align: right;\">   0.00386572</td></tr>\n",
              "<tr><td>param_tune_96c15dce</td><td>2023-02-08_13-52-31</td><td>True  </td><td>                </td><td>9fdbecf0d2bc4a3aa781c90daa09c9fe</td><td>2e6c9a135542</td><td style=\"text-align: right;\">                         1</td><td style=\"text-align: right;\">       0.223853</td><td>172.28.0.12</td><td style=\"text-align: right;\">39391</td><td style=\"text-align: right;\">             26.4096</td><td style=\"text-align: right;\">         26.4096  </td><td style=\"text-align: right;\">       26.4096</td><td style=\"text-align: right;\"> 1675864351</td><td style=\"text-align: right;\">                        0</td><td>                 </td><td style=\"text-align: right;\">                   1</td><td>96c15dce  </td><td style=\"text-align: right;\">   0.00390124</td></tr>\n",
              "<tr><td>param_tune_9e45796d</td><td>2023-02-08_13-47-43</td><td>True  </td><td>                </td><td>2833d1c9ff524c7b832542d2b74d43a2</td><td>2e6c9a135542</td><td style=\"text-align: right;\">                        20</td><td style=\"text-align: right;\">       0.572477</td><td>172.28.0.12</td><td style=\"text-align: right;\">35464</td><td style=\"text-align: right;\">             47.5704</td><td style=\"text-align: right;\">          6.81641 </td><td style=\"text-align: right;\">       47.5704</td><td style=\"text-align: right;\"> 1675864063</td><td style=\"text-align: right;\">                        0</td><td>                 </td><td style=\"text-align: right;\">                  20</td><td>9e45796d  </td><td style=\"text-align: right;\">   0.00362682</td></tr>\n",
              "<tr><td>param_tune_a97f1e02</td><td>2023-02-08_13-52-18</td><td>True  </td><td>                </td><td>9e23275efbce4f5395a4168317a9f104</td><td>2e6c9a135542</td><td style=\"text-align: right;\">                         1</td><td style=\"text-align: right;\">       0.220183</td><td>172.28.0.12</td><td style=\"text-align: right;\">39167</td><td style=\"text-align: right;\">             27.429 </td><td style=\"text-align: right;\">         27.429   </td><td style=\"text-align: right;\">       27.429 </td><td style=\"text-align: right;\"> 1675864338</td><td style=\"text-align: right;\">                        0</td><td>                 </td><td style=\"text-align: right;\">                   1</td><td>a97f1e02  </td><td style=\"text-align: right;\">   0.00403523</td></tr>\n",
              "<tr><td>param_tune_ac6c72be</td><td>2023-02-08_13-51-03</td><td>True  </td><td>                </td><td>0ae7c2df8374477ba646740aa12b5420</td><td>2e6c9a135542</td><td style=\"text-align: right;\">                         1</td><td style=\"text-align: right;\">       0.223853</td><td>172.28.0.12</td><td style=\"text-align: right;\">38206</td><td style=\"text-align: right;\">             27.9606</td><td style=\"text-align: right;\">         27.9606  </td><td style=\"text-align: right;\">       27.9606</td><td style=\"text-align: right;\"> 1675864263</td><td style=\"text-align: right;\">                        0</td><td>                 </td><td style=\"text-align: right;\">                   1</td><td>ac6c72be  </td><td style=\"text-align: right;\">   0.00381327</td></tr>\n",
              "<tr><td>param_tune_b49be9ce</td><td>2023-02-08_13-53-33</td><td>True  </td><td>                </td><td>49270009a2684e5188e84e222bb4e713</td><td>2e6c9a135542</td><td style=\"text-align: right;\">                         1</td><td style=\"text-align: right;\">       0.223853</td><td>172.28.0.12</td><td style=\"text-align: right;\">40130</td><td style=\"text-align: right;\">             27.3512</td><td style=\"text-align: right;\">         27.3512  </td><td style=\"text-align: right;\">       27.3512</td><td style=\"text-align: right;\"> 1675864413</td><td style=\"text-align: right;\">                        0</td><td>                 </td><td style=\"text-align: right;\">                   1</td><td>b49be9ce  </td><td style=\"text-align: right;\">   0.00379372</td></tr>\n",
              "<tr><td>param_tune_c16c5f1a</td><td>2023-02-08_13-51-41</td><td>True  </td><td>                </td><td>94c21acdcaf345b0a5f0d7dc17b6572f</td><td>2e6c9a135542</td><td style=\"text-align: right;\">                         1</td><td style=\"text-align: right;\">       0.222018</td><td>172.28.0.12</td><td style=\"text-align: right;\">38692</td><td style=\"text-align: right;\">             27.1126</td><td style=\"text-align: right;\">         27.1126  </td><td style=\"text-align: right;\">       27.1126</td><td style=\"text-align: right;\"> 1675864301</td><td style=\"text-align: right;\">                        0</td><td>                 </td><td style=\"text-align: right;\">                   1</td><td>c16c5f1a  </td><td style=\"text-align: right;\">   0.00433087</td></tr>\n",
              "<tr><td>param_tune_c9683e59</td><td>2023-02-08_13-54-10</td><td>True  </td><td>                </td><td>82b88fca8aa84b89932cfa29e3a9f097</td><td>2e6c9a135542</td><td style=\"text-align: right;\">                         1</td><td style=\"text-align: right;\">       0.216514</td><td>172.28.0.12</td><td style=\"text-align: right;\">40614</td><td style=\"text-align: right;\">             27.3839</td><td style=\"text-align: right;\">         27.3839  </td><td style=\"text-align: right;\">       27.3839</td><td style=\"text-align: right;\"> 1675864450</td><td style=\"text-align: right;\">                        0</td><td>                 </td><td style=\"text-align: right;\">                   1</td><td>c9683e59  </td><td style=\"text-align: right;\">   0.0433996 </td></tr>\n",
              "<tr><td>param_tune_d490cf02</td><td>2023-02-08_13-54-27</td><td>True  </td><td>                </td><td>c1b56e98338c42c0a820afed292404ad</td><td>2e6c9a135542</td><td style=\"text-align: right;\">                         4</td><td style=\"text-align: right;\">       0.361468</td><td>172.28.0.12</td><td style=\"text-align: right;\">40842</td><td style=\"text-align: right;\">             29.845 </td><td style=\"text-align: right;\">          0.700963</td><td style=\"text-align: right;\">       29.845 </td><td style=\"text-align: right;\"> 1675864467</td><td style=\"text-align: right;\">                        0</td><td>                 </td><td style=\"text-align: right;\">                   4</td><td>d490cf02  </td><td style=\"text-align: right;\">   0.00381231</td></tr>\n",
              "<tr><td>param_tune_ed057ba3</td><td>2023-02-08_13-47-33</td><td>True  </td><td>                </td><td>dd23d17454f44e9e872c2e93a78a2ee0</td><td>2e6c9a135542</td><td style=\"text-align: right;\">                         1</td><td style=\"text-align: right;\">       0.238532</td><td>172.28.0.12</td><td style=\"text-align: right;\">35658</td><td style=\"text-align: right;\">             28.5817</td><td style=\"text-align: right;\">         28.5817  </td><td style=\"text-align: right;\">       28.5817</td><td style=\"text-align: right;\"> 1675864053</td><td style=\"text-align: right;\">                        0</td><td>                 </td><td style=\"text-align: right;\">                   1</td><td>ed057ba3  </td><td style=\"text-align: right;\">   0.0038085 </td></tr>\n",
              "<tr><td>param_tune_f21f3dc0</td><td>2023-02-08_13-55-07</td><td>True  </td><td>                </td><td>f3894d1049e7465ebe2b46db3752f5cf</td><td>2e6c9a135542</td><td style=\"text-align: right;\">                         4</td><td style=\"text-align: right;\">       0.315596</td><td>172.28.0.12</td><td style=\"text-align: right;\">41339</td><td style=\"text-align: right;\">             30.3058</td><td style=\"text-align: right;\">          0.671886</td><td style=\"text-align: right;\">       30.3058</td><td style=\"text-align: right;\"> 1675864507</td><td style=\"text-align: right;\">                        0</td><td>                 </td><td style=\"text-align: right;\">                   4</td><td>f21f3dc0  </td><td style=\"text-align: right;\">   0.00381851</td></tr>\n",
              "<tr><td>param_tune_f2dc9ecc</td><td>2023-02-08_13-50-26</td><td>True  </td><td>                </td><td>467f2d6463bb4d5b8ccb6f6e355f94b0</td><td>2e6c9a135542</td><td style=\"text-align: right;\">                         1</td><td style=\"text-align: right;\">       0.12844 </td><td>172.28.0.12</td><td style=\"text-align: right;\">37731</td><td style=\"text-align: right;\">             27.0888</td><td style=\"text-align: right;\">         27.0888  </td><td style=\"text-align: right;\">       27.0888</td><td style=\"text-align: right;\"> 1675864226</td><td style=\"text-align: right;\">                        0</td><td>                 </td><td style=\"text-align: right;\">                   1</td><td>f2dc9ecc  </td><td style=\"text-align: right;\">   0.00398088</td></tr>\n",
              "<tr><td>param_tune_f48fa3b9</td><td>2023-02-08_13-54-51</td><td>True  </td><td>                </td><td>1930844d53bb4b80875f07143d0d27e5</td><td>2e6c9a135542</td><td style=\"text-align: right;\">                         4</td><td style=\"text-align: right;\">       0.355963</td><td>172.28.0.12</td><td style=\"text-align: right;\">41107</td><td style=\"text-align: right;\">             29.7092</td><td style=\"text-align: right;\">          0.982282</td><td style=\"text-align: right;\">       29.7092</td><td style=\"text-align: right;\"> 1675864491</td><td style=\"text-align: right;\">                        0</td><td>                 </td><td style=\"text-align: right;\">                   4</td><td>f48fa3b9  </td><td style=\"text-align: right;\">   0.00376892</td></tr>\n",
              "<tr><td>param_tune_f6217c81</td><td>2023-02-08_13-55-44</td><td>True  </td><td>                </td><td>ae159be833aa4a99a2ce034f13dbac79</td><td>2e6c9a135542</td><td style=\"text-align: right;\">                         1</td><td style=\"text-align: right;\">       0.12844 </td><td>172.28.0.12</td><td style=\"text-align: right;\">41841</td><td style=\"text-align: right;\">             27.5153</td><td style=\"text-align: right;\">         27.5153  </td><td style=\"text-align: right;\">       27.5153</td><td style=\"text-align: right;\"> 1675864544</td><td style=\"text-align: right;\">                        0</td><td>                 </td><td style=\"text-align: right;\">                   1</td><td>f6217c81  </td><td style=\"text-align: right;\">   0.00395131</td></tr>\n",
              "<tr><td>param_tune_f9a03c6c</td><td>2023-02-08_13-49-12</td><td>True  </td><td>                </td><td>bcbcdbfb2eea4e8db17fb5aa45567570</td><td>2e6c9a135542</td><td style=\"text-align: right;\">                        20</td><td style=\"text-align: right;\">       0.788991</td><td>172.28.0.12</td><td style=\"text-align: right;\">36685</td><td style=\"text-align: right;\">             41.9361</td><td style=\"text-align: right;\">          0.709734</td><td style=\"text-align: right;\">       41.9361</td><td style=\"text-align: right;\"> 1675864152</td><td style=\"text-align: right;\">                        0</td><td>                 </td><td style=\"text-align: right;\">                  20</td><td>f9a03c6c  </td><td style=\"text-align: right;\">   0.00391459</td></tr>\n",
              "<tr><td>param_tune_fb7f1eb5</td><td>2023-02-08_13-52-56</td><td>True  </td><td>                </td><td>7213dc26b5d44bef8e98d15b93d99ae2</td><td>2e6c9a135542</td><td style=\"text-align: right;\">                         4</td><td style=\"text-align: right;\">       0.242202</td><td>172.28.0.12</td><td style=\"text-align: right;\">39647</td><td style=\"text-align: right;\">             27.912 </td><td style=\"text-align: right;\">          0.394337</td><td style=\"text-align: right;\">       27.912 </td><td style=\"text-align: right;\"> 1675864376</td><td style=\"text-align: right;\">                        0</td><td>                 </td><td style=\"text-align: right;\">                   4</td><td>fb7f1eb5  </td><td style=\"text-align: right;\">   0.0037117 </td></tr>\n",
              "</tbody>\n",
              "</table>\n",
              "</div>\n",
              "<style>\n",
              ".trialProgress {\n",
              "  display: flex;\n",
              "  flex-direction: column;\n",
              "  color: var(--jp-ui-font-color1);\n",
              "}\n",
              ".trialProgress h3 {\n",
              "  font-weight: bold;\n",
              "}\n",
              ".trialProgress td {\n",
              "  white-space: nowrap;\n",
              "}\n",
              "</style>\n"
            ]
          },
          "metadata": {}
        },
        {
          "output_type": "stream",
          "name": "stdout",
          "text": [
            "\u001b[2m\u001b[36m(func pid=35464)\u001b[0m Epoch: 2, requires subset selection. \n",
            "\u001b[2m\u001b[36m(func pid=35464)\u001b[0m Epoch: 3, requires subset selection. \n",
            "\u001b[2m\u001b[36m(func pid=35464)\u001b[0m Epoch: 2, requires subset selection. \n",
            "\u001b[2m\u001b[36m(func pid=35464)\u001b[0m Epoch: 3, requires subset selection. \n",
            "\u001b[2m\u001b[36m(func pid=35464)\u001b[0m Epoch: 4, requires subset selection. \n",
            "\u001b[2m\u001b[36m(func pid=35464)\u001b[0m Epoch: 5, requires subset selection. \n",
            "\u001b[2m\u001b[36m(func pid=35464)\u001b[0m Epoch: 6, requires subset selection. \n",
            "\u001b[2m\u001b[36m(func pid=35464)\u001b[0m Epoch: 7, requires subset selection. \n",
            "\u001b[2m\u001b[36m(func pid=35464)\u001b[0m Epoch: 8, requires subset selection. \n",
            "\u001b[2m\u001b[36m(func pid=35464)\u001b[0m Epoch: 9, requires subset selection. \n",
            "\u001b[2m\u001b[36m(func pid=35464)\u001b[0m Epoch: 10, requires subset selection. \n",
            "\u001b[2m\u001b[36m(func pid=35464)\u001b[0m Epoch: 11, requires subset selection. \n",
            "\u001b[2m\u001b[36m(func pid=35464)\u001b[0m Epoch: 12, requires subset selection. \n",
            "\u001b[2m\u001b[36m(func pid=35464)\u001b[0m Epoch: 13, requires subset selection. \n",
            "\u001b[2m\u001b[36m(func pid=35464)\u001b[0m Epoch: 14, requires subset selection. \n",
            "\u001b[2m\u001b[36m(func pid=35464)\u001b[0m Epoch: 15, requires subset selection. \n"
          ]
        },
        {
          "output_type": "stream",
          "name": "stderr",
          "text": [
            "\u001b[2m\u001b[36m(func pid=35999)\u001b[0m WARNING:datasets.builder:Found cached dataset trec (/root/.cache/huggingface/datasets/trec/default/2.0.0/f2469cab1b5fceec7249fda55360dfdbd92a7a5b545e91ea0f78ad108ffac1c2)\n",
            "100%|██████████| 2/2 [00:00<00:00, 634.30it/s]\n",
            "\u001b[2m\u001b[36m(func pid=36202)\u001b[0m WARNING:datasets.builder:Found cached dataset trec (/root/.cache/huggingface/datasets/trec/default/2.0.0/f2469cab1b5fceec7249fda55360dfdbd92a7a5b545e91ea0f78ad108ffac1c2)\n",
            "100%|██████████| 2/2 [00:00<00:00, 602.15it/s]\n",
            "\u001b[2m\u001b[36m(func pid=36482)\u001b[0m WARNING:datasets.builder:Found cached dataset trec (/root/.cache/huggingface/datasets/trec/default/2.0.0/f2469cab1b5fceec7249fda55360dfdbd92a7a5b545e91ea0f78ad108ffac1c2)\n",
            "100%|██████████| 2/2 [00:00<00:00, 584.98it/s]\n",
            "\u001b[2m\u001b[36m(func pid=36685)\u001b[0m WARNING:datasets.builder:Found cached dataset trec (/root/.cache/huggingface/datasets/trec/default/2.0.0/f2469cab1b5fceec7249fda55360dfdbd92a7a5b545e91ea0f78ad108ffac1c2)\n",
            "100%|██████████| 2/2 [00:00<00:00, 598.20it/s]\n"
          ]
        },
        {
          "output_type": "stream",
          "name": "stdout",
          "text": [
            "\u001b[2m\u001b[36m(func pid=36685)\u001b[0m Epoch: 2, requires subset selection. \n"
          ]
        },
        {
          "output_type": "stream",
          "name": "stderr",
          "text": [
            "\u001b[2m\u001b[36m(func pid=36970)\u001b[0m WARNING:datasets.builder:Found cached dataset trec (/root/.cache/huggingface/datasets/trec/default/2.0.0/f2469cab1b5fceec7249fda55360dfdbd92a7a5b545e91ea0f78ad108ffac1c2)\n",
            "\u001b[2m\u001b[36m(func pid=36970)\u001b[0m \r  0%|          | 0/2 [00:00<?, ?it/s]\r100%|██████████| 2/2 [00:00<00:00, 637.92it/s]\n"
          ]
        },
        {
          "output_type": "stream",
          "name": "stdout",
          "text": [
            "\u001b[2m\u001b[36m(func pid=36685)\u001b[0m Epoch: 3, requires subset selection. \n",
            "\u001b[2m\u001b[36m(func pid=36685)\u001b[0m Epoch: 2, requires subset selection. \n",
            "\u001b[2m\u001b[36m(func pid=36685)\u001b[0m Epoch: 3, requires subset selection. \n",
            "\u001b[2m\u001b[36m(func pid=36685)\u001b[0m Epoch: 4, requires subset selection. \n",
            "\u001b[2m\u001b[36m(func pid=36685)\u001b[0m Epoch: 5, requires subset selection. \n",
            "\u001b[2m\u001b[36m(func pid=36685)\u001b[0m Epoch: 6, requires subset selection. \n",
            "\u001b[2m\u001b[36m(func pid=36685)\u001b[0m Epoch: 7, requires subset selection. \n",
            "\u001b[2m\u001b[36m(func pid=36685)\u001b[0m Epoch: 8, requires subset selection. \n",
            "\u001b[2m\u001b[36m(func pid=36685)\u001b[0m Epoch: 9, requires subset selection. \n",
            "\u001b[2m\u001b[36m(func pid=36685)\u001b[0m Epoch: 10, requires subset selection. \n",
            "\u001b[2m\u001b[36m(func pid=36685)\u001b[0m Epoch: 11, requires subset selection. \n",
            "\u001b[2m\u001b[36m(func pid=36685)\u001b[0m Epoch: 12, requires subset selection. \n",
            "\u001b[2m\u001b[36m(func pid=36685)\u001b[0m Epoch: 13, requires subset selection. \n",
            "\u001b[2m\u001b[36m(func pid=36685)\u001b[0m Epoch: 14, requires subset selection. \n",
            "\u001b[2m\u001b[36m(func pid=36685)\u001b[0m Epoch: 15, requires subset selection. \n"
          ]
        },
        {
          "output_type": "stream",
          "name": "stderr",
          "text": [
            "\u001b[2m\u001b[36m(func pid=37246)\u001b[0m WARNING:datasets.builder:Found cached dataset trec (/root/.cache/huggingface/datasets/trec/default/2.0.0/f2469cab1b5fceec7249fda55360dfdbd92a7a5b545e91ea0f78ad108ffac1c2)\n",
            "100%|██████████| 2/2 [00:00<00:00, 612.17it/s]\n",
            "\u001b[2m\u001b[36m(func pid=37461)\u001b[0m WARNING:datasets.builder:Found cached dataset trec (/root/.cache/huggingface/datasets/trec/default/2.0.0/f2469cab1b5fceec7249fda55360dfdbd92a7a5b545e91ea0f78ad108ffac1c2)\n",
            "100%|██████████| 2/2 [00:00<00:00, 565.80it/s]\n",
            "\u001b[2m\u001b[36m(func pid=37731)\u001b[0m WARNING:datasets.builder:Found cached dataset trec (/root/.cache/huggingface/datasets/trec/default/2.0.0/f2469cab1b5fceec7249fda55360dfdbd92a7a5b545e91ea0f78ad108ffac1c2)\n",
            "100%|██████████| 2/2 [00:00<00:00, 591.50it/s]\n",
            "\u001b[2m\u001b[36m(func pid=37951)\u001b[0m WARNING:datasets.builder:Found cached dataset trec (/root/.cache/huggingface/datasets/trec/default/2.0.0/f2469cab1b5fceec7249fda55360dfdbd92a7a5b545e91ea0f78ad108ffac1c2)\n",
            "100%|██████████| 2/2 [00:00<00:00, 656.85it/s]\n",
            "\u001b[2m\u001b[36m(func pid=38206)\u001b[0m WARNING:datasets.builder:Found cached dataset trec (/root/.cache/huggingface/datasets/trec/default/2.0.0/f2469cab1b5fceec7249fda55360dfdbd92a7a5b545e91ea0f78ad108ffac1c2)\n",
            "100%|██████████| 2/2 [00:00<00:00, 606.03it/s]\n",
            "\u001b[2m\u001b[36m(func pid=38430)\u001b[0m WARNING:datasets.builder:Found cached dataset trec (/root/.cache/huggingface/datasets/trec/default/2.0.0/f2469cab1b5fceec7249fda55360dfdbd92a7a5b545e91ea0f78ad108ffac1c2)\n",
            "100%|██████████| 2/2 [00:00<00:00, 583.31it/s]\n",
            "\u001b[2m\u001b[36m(func pid=38692)\u001b[0m WARNING:datasets.builder:Found cached dataset trec (/root/.cache/huggingface/datasets/trec/default/2.0.0/f2469cab1b5fceec7249fda55360dfdbd92a7a5b545e91ea0f78ad108ffac1c2)\n",
            "100%|██████████| 2/2 [00:00<00:00, 580.00it/s]\n",
            "\u001b[2m\u001b[36m(func pid=38910)\u001b[0m WARNING:datasets.builder:Found cached dataset trec (/root/.cache/huggingface/datasets/trec/default/2.0.0/f2469cab1b5fceec7249fda55360dfdbd92a7a5b545e91ea0f78ad108ffac1c2)\n",
            "100%|██████████| 2/2 [00:00<00:00, 625.78it/s]\n",
            "\u001b[2m\u001b[36m(func pid=39167)\u001b[0m WARNING:datasets.builder:Found cached dataset trec (/root/.cache/huggingface/datasets/trec/default/2.0.0/f2469cab1b5fceec7249fda55360dfdbd92a7a5b545e91ea0f78ad108ffac1c2)\n",
            "100%|██████████| 2/2 [00:00<00:00, 527.65it/s]\n",
            "\u001b[2m\u001b[36m(func pid=39391)\u001b[0m WARNING:datasets.builder:Found cached dataset trec (/root/.cache/huggingface/datasets/trec/default/2.0.0/f2469cab1b5fceec7249fda55360dfdbd92a7a5b545e91ea0f78ad108ffac1c2)\n",
            "100%|██████████| 2/2 [00:00<00:00, 621.29it/s]\n",
            "\u001b[2m\u001b[36m(func pid=39647)\u001b[0m WARNING:datasets.builder:Found cached dataset trec (/root/.cache/huggingface/datasets/trec/default/2.0.0/f2469cab1b5fceec7249fda55360dfdbd92a7a5b545e91ea0f78ad108ffac1c2)\n",
            "100%|██████████| 2/2 [00:00<00:00, 519.71it/s]\n",
            "\u001b[2m\u001b[36m(func pid=39867)\u001b[0m WARNING:datasets.builder:Found cached dataset trec (/root/.cache/huggingface/datasets/trec/default/2.0.0/f2469cab1b5fceec7249fda55360dfdbd92a7a5b545e91ea0f78ad108ffac1c2)\n",
            "100%|██████████| 2/2 [00:00<00:00, 607.69it/s]\n"
          ]
        },
        {
          "output_type": "stream",
          "name": "stdout",
          "text": [
            "\u001b[2m\u001b[36m(func pid=39647)\u001b[0m Epoch: 2, requires subset selection. \n",
            "\u001b[2m\u001b[36m(func pid=39647)\u001b[0m Epoch: 3, requires subset selection. \n"
          ]
        },
        {
          "output_type": "stream",
          "name": "stderr",
          "text": [
            "\u001b[2m\u001b[36m(func pid=40130)\u001b[0m WARNING:datasets.builder:Found cached dataset trec (/root/.cache/huggingface/datasets/trec/default/2.0.0/f2469cab1b5fceec7249fda55360dfdbd92a7a5b545e91ea0f78ad108ffac1c2)\n",
            "\u001b[2m\u001b[36m(func pid=40130)\u001b[0m \r  0%|          | 0/2 [00:00<?, ?it/s]\r100%|██████████| 2/2 [00:00<00:00, 590.00it/s]\n"
          ]
        },
        {
          "output_type": "stream",
          "name": "stdout",
          "text": [
            "\u001b[2m\u001b[36m(func pid=39867)\u001b[0m Epoch: 2, requires subset selection. \n",
            "\u001b[2m\u001b[36m(func pid=39867)\u001b[0m Epoch: 3, requires subset selection. \n"
          ]
        },
        {
          "output_type": "stream",
          "name": "stderr",
          "text": [
            "\u001b[2m\u001b[36m(func pid=40358)\u001b[0m WARNING:datasets.builder:Found cached dataset trec (/root/.cache/huggingface/datasets/trec/default/2.0.0/f2469cab1b5fceec7249fda55360dfdbd92a7a5b545e91ea0f78ad108ffac1c2)\n",
            "100%|██████████| 2/2 [00:00<00:00, 630.96it/s]\n",
            "\u001b[2m\u001b[36m(func pid=40614)\u001b[0m WARNING:datasets.builder:Found cached dataset trec (/root/.cache/huggingface/datasets/trec/default/2.0.0/f2469cab1b5fceec7249fda55360dfdbd92a7a5b545e91ea0f78ad108ffac1c2)\n",
            "100%|██████████| 2/2 [00:00<00:00, 564.89it/s]\n",
            "\u001b[2m\u001b[36m(func pid=40842)\u001b[0m WARNING:datasets.builder:Found cached dataset trec (/root/.cache/huggingface/datasets/trec/default/2.0.0/f2469cab1b5fceec7249fda55360dfdbd92a7a5b545e91ea0f78ad108ffac1c2)\n",
            "100%|██████████| 2/2 [00:00<00:00, 614.64it/s]\n",
            "\u001b[2m\u001b[36m(func pid=41107)\u001b[0m WARNING:datasets.builder:Found cached dataset trec (/root/.cache/huggingface/datasets/trec/default/2.0.0/f2469cab1b5fceec7249fda55360dfdbd92a7a5b545e91ea0f78ad108ffac1c2)\n",
            "100%|██████████| 2/2 [00:00<00:00, 580.89it/s]\n"
          ]
        },
        {
          "output_type": "stream",
          "name": "stdout",
          "text": [
            "\u001b[2m\u001b[36m(func pid=40842)\u001b[0m Epoch: 2, requires subset selection. \n",
            "\u001b[2m\u001b[36m(func pid=40842)\u001b[0m Epoch: 3, requires subset selection. \n"
          ]
        },
        {
          "output_type": "stream",
          "name": "stderr",
          "text": [
            "\u001b[2m\u001b[36m(func pid=41339)\u001b[0m WARNING:datasets.builder:Found cached dataset trec (/root/.cache/huggingface/datasets/trec/default/2.0.0/f2469cab1b5fceec7249fda55360dfdbd92a7a5b545e91ea0f78ad108ffac1c2)\n",
            "\u001b[2m\u001b[36m(func pid=41339)\u001b[0m \r  0%|          | 0/2 [00:00<?, ?it/s]\r100%|██████████| 2/2 [00:00<00:00, 549.78it/s]\n"
          ]
        },
        {
          "output_type": "stream",
          "name": "stdout",
          "text": [
            "\u001b[2m\u001b[36m(func pid=41107)\u001b[0m Epoch: 2, requires subset selection. \n",
            "\u001b[2m\u001b[36m(func pid=41107)\u001b[0m Epoch: 3, requires subset selection. \n"
          ]
        },
        {
          "output_type": "stream",
          "name": "stderr",
          "text": [
            "\u001b[2m\u001b[36m(func pid=41611)\u001b[0m WARNING:datasets.builder:Found cached dataset trec (/root/.cache/huggingface/datasets/trec/default/2.0.0/f2469cab1b5fceec7249fda55360dfdbd92a7a5b545e91ea0f78ad108ffac1c2)\n",
            "\u001b[2m\u001b[36m(func pid=41611)\u001b[0m \r  0%|          | 0/2 [00:00<?, ?it/s]\r100%|██████████| 2/2 [00:00<00:00, 548.35it/s]\n"
          ]
        },
        {
          "output_type": "stream",
          "name": "stdout",
          "text": [
            "\u001b[2m\u001b[36m(func pid=41339)\u001b[0m Epoch: 2, requires subset selection. \n",
            "\u001b[2m\u001b[36m(func pid=41339)\u001b[0m Epoch: 3, requires subset selection. \n"
          ]
        },
        {
          "output_type": "stream",
          "name": "stderr",
          "text": [
            "\u001b[2m\u001b[36m(func pid=41841)\u001b[0m WARNING:datasets.builder:Found cached dataset trec (/root/.cache/huggingface/datasets/trec/default/2.0.0/f2469cab1b5fceec7249fda55360dfdbd92a7a5b545e91ea0f78ad108ffac1c2)\n",
            "\u001b[2m\u001b[36m(func pid=41841)\u001b[0m \r  0%|          | 0/2 [00:00<?, ?it/s]\r100%|██████████| 2/2 [00:00<00:00, 621.65it/s]\n",
            "2023-02-08 13:55:44,927\tINFO tune.py:762 -- Total run time: 538.29 seconds (538.16 seconds for the tuning loop).\n"
          ]
        }
      ],
      "source": [
        "analysis = tune.run(\n",
        "          partial(param_tune, train_cfg=train_cfg),\n",
        "          num_samples=param_tuning_cfg.num_evals,\n",
        "          search_alg=search,\n",
        "          scheduler=scheduler,\n",
        "          resources_per_trial={'gpu': 0.5, 'cpu': 4},\n",
        "          local_dir=param_tuning_cfg.log_dir+train_cfg.dss_args.type+'/',\n",
        "          log_to_file=True,\n",
        "          name=param_tuning_cfg.name,\n",
        "          resume=param_tuning_cfg.resume)"
      ]
    },
    {
      "cell_type": "markdown",
      "metadata": {
        "id": "pGae8uBLu588"
      },
      "source": [
        "### Get best hyper-parameter configuration"
      ]
    },
    {
      "cell_type": "code",
      "execution_count": 68,
      "metadata": {
        "id": "kLFc7plxu9fl",
        "colab": {
          "base_uri": "https://localhost:8080/"
        },
        "outputId": "3fc4469b-4226-4b38-c01c-82ce96ebb438"
      },
      "outputs": [
        {
          "output_type": "stream",
          "name": "stdout",
          "text": [
            "Best Config:  {'hidden_size': 256, 'learning_rate': 0.008139721964940762, 'num_layers': 1, 'trn_batch_size': 16}\n"
          ]
        }
      ],
      "source": [
        "best_config = analysis.get_best_config(metric=\"mean_accuracy\", mode=\"max\")\n",
        "print(\"Best Config: \", best_config)"
      ]
    }
  ],
  "metadata": {
    "accelerator": "GPU",
    "colab": {
      "machine_shape": "hm",
      "provenance": []
    },
    "gpuClass": "premium",
    "kernelspec": {
      "display_name": "Python 3",
      "name": "python3"
    },
    "language_info": {
      "name": "python"
    }
  },
  "nbformat": 4,
  "nbformat_minor": 0
}